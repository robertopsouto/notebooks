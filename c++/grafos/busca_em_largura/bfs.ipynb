{
 "cells": [
  {
   "cell_type": "markdown",
   "metadata": {},
   "source": [
    "# Busca em Largura"
   ]
  },
  {
   "cell_type": "markdown",
   "metadata": {},
   "source": [
    "### Código original de https://www.geeksforgeeks.org/breadth-first-search-or-bfs-for-a-graph/"
   ]
  },
  {
   "cell_type": "code",
   "execution_count": null,
   "metadata": {},
   "outputs": [],
   "source": [
    "// Program to print BFS traversal from a given \n",
    "// source vertex. BFS(int s) traverses vertices  \n",
    "// reachable from s. \n",
    "#include<iostream> \n",
    "#include <list> \n",
    "  \n",
    "using namespace std; \n",
    "  \n",
    "// This class represents a directed graph using \n",
    "// adjacency list representation \n",
    "class Graph \n",
    "{ \n",
    "    int V;    // No. of vertices \n",
    "  \n",
    "    // Pointer to an array containing adjacency \n",
    "    // lists \n",
    "    list<int> *adj;    \n",
    "public: \n",
    "    Graph(int V);  // Constructor \n",
    "  \n",
    "    // function to add an edge to graph \n",
    "    void addEdge(int v, int w);  \n",
    "  \n",
    "    // prints BFS traversal from a given source s \n",
    "    void BFS(int s);   \n",
    "}; \n",
    "  "
   ]
  },
  {
   "cell_type": "code",
   "execution_count": null,
   "metadata": {},
   "outputs": [],
   "source": [
    "Graph::Graph(int V) \n",
    "{ \n",
    "    this->V = V; \n",
    "    adj = new list<int>[V]; \n",
    "} \n",
    "  \n"
   ]
  },
  {
   "cell_type": "code",
   "execution_count": null,
   "metadata": {},
   "outputs": [],
   "source": [
    "void Graph::addEdge(int v, int w) \n",
    "{ \n",
    "    adj[v].push_back(w); // Add w to v’s list. \n",
    "} \n",
    "  "
   ]
  },
  {
   "cell_type": "code",
   "execution_count": null,
   "metadata": {},
   "outputs": [],
   "source": [
    "void Graph::BFS(int s) \n",
    "{ \n",
    "    // Mark all the vertices as not visited \n",
    "    bool *visited = new bool[V]; \n",
    "    for(int i = 0; i < V; i++) \n",
    "        visited[i] = false; \n",
    "  \n",
    "    // Create a queue for BFS \n",
    "    list<int> queue; \n",
    "  \n",
    "    // Mark the current node as visited and enqueue it \n",
    "    visited[s] = true; \n",
    "    queue.push_back(s); \n",
    "  \n",
    "    // 'i' will be used to get all adjacent \n",
    "    // vertices of a vertex \n",
    "    list<int>::iterator i; \n",
    "  \n",
    "    while(!queue.empty()) \n",
    "    { \n",
    "        // Dequeue a vertex from queue and print it \n",
    "        s = queue.front(); \n",
    "        cout << s << \" \"; \n",
    "        queue.pop_front(); \n",
    "  \n",
    "        // Get all adjacent vertices of the dequeued \n",
    "        // vertex s. If a adjacent has not been visited,  \n",
    "        // then mark it visited and enqueue it \n",
    "        for (i = adj[s].begin(); i != adj[s].end(); ++i) \n",
    "        { \n",
    "            if (!visited[*i]) \n",
    "            { \n",
    "                visited[*i] = true; \n",
    "                queue.push_back(*i); \n",
    "            } \n",
    "        } \n",
    "    } \n",
    "} "
   ]
  },
  {
   "cell_type": "markdown",
   "metadata": {},
   "source": [
    "<img src=\"bfs.png\" width=\"300\">"
   ]
  },
  {
   "cell_type": "code",
   "execution_count": null,
   "metadata": {},
   "outputs": [],
   "source": [
    "// Driver code \n",
    "void exemplo(int v)\n",
    "{\n",
    "   // Create a graph given in the above diagram \n",
    "    Graph g(4); \n",
    "    g.addEdge(0, 1); \n",
    "    g.addEdge(0, 2); \n",
    "    g.addEdge(1, 2); \n",
    "    g.addEdge(2, 0); \n",
    "    g.addEdge(2, 3); \n",
    "    g.addEdge(3, 3); \n",
    "\n",
    "    cout << \"Following is Breadth First Traversal \"\n",
    "            \" starting from vertex \" << v <<\"\\n\";\n",
    "    g.BFS(v); \n",
    "}"
   ]
  },
  {
   "cell_type": "code",
   "execution_count": null,
   "metadata": {},
   "outputs": [],
   "source": [
    "exemplo(2)"
   ]
  },
  {
   "cell_type": "code",
   "execution_count": null,
   "metadata": {},
   "outputs": [],
   "source": []
  }
 ],
 "metadata": {
  "kernelspec": {
   "display_name": "C++17",
   "language": "C++17",
   "name": "xcpp17"
  },
  "language_info": {
   "codemirror_mode": "text/x-c++src",
   "file_extension": ".cpp",
   "mimetype": "text/x-c++src",
   "name": "c++",
   "version": "17"
  }
 },
 "nbformat": 4,
 "nbformat_minor": 4
}
