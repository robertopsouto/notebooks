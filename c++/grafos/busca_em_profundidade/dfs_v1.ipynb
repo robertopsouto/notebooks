{
 "cells": [
  {
   "cell_type": "markdown",
   "metadata": {},
   "source": [
    "# Busca em Profundidade"
   ]
  },
  {
   "cell_type": "markdown",
   "metadata": {},
   "source": [
    "### Código original de https://www.geeksforgeeks.org/depth-first-search-or-dfs-for-a-graph/"
   ]
  },
  {
   "cell_type": "code",
   "execution_count": null,
   "metadata": {},
   "outputs": [],
   "source": [
    "// C++ program to print DFS traversal from \n",
    "// a given vertex in a  given graph \n",
    "#include<bits/stdc++.h> \n",
    "using namespace std; \n",
    "  \n",
    "// Graph class represents a directed graph \n",
    "// using adjacency list representation \n",
    "class Graph \n",
    "{ \n",
    "    int V;    // No. of vertices \n",
    "  \n",
    "    // Pointer to an array containing \n",
    "    // adjacency lists \n",
    "    list<int> *adj; \n",
    "  \n",
    "    // A recursive function used by DFS \n",
    "    void DFSUtil(int v, bool visited[]); \n",
    "public: \n",
    "    Graph(int V);   // Constructor \n",
    "  \n",
    "    // function to add an edge to graph \n",
    "    void addEdge(int v, int w); \n",
    "  \n",
    "    // DFS traversal of the vertices \n",
    "    // reachable from v \n",
    "    void DFS(int v); \n",
    "}; \n",
    " "
   ]
  },
  {
   "cell_type": "code",
   "execution_count": null,
   "metadata": {},
   "outputs": [],
   "source": [
    "Graph::Graph(int V) \n",
    "{ \n",
    "    this->V = V; \n",
    "    adj = new list<int>[V]; \n",
    "} "
   ]
  },
  {
   "cell_type": "code",
   "execution_count": null,
   "metadata": {},
   "outputs": [],
   "source": [
    "void Graph::addEdge(int v, int w) \n",
    "{ \n",
    "    adj[v].push_back(w); // Add w to v’s list. \n",
    "} "
   ]
  },
  {
   "cell_type": "code",
   "execution_count": null,
   "metadata": {},
   "outputs": [],
   "source": [
    "void Graph::DFSUtil(int v, bool visited[]) \n",
    "{ \n",
    "    // Mark the current node as visited and \n",
    "    // print it \n",
    "    visited[v] = true; \n",
    "    cout << v << \" \"; \n",
    "  \n",
    "    // Recur for all the vertices adjacent \n",
    "    // to this vertex \n",
    "    list<int>::iterator i; \n",
    "    for (i = adj[v].begin(); i != adj[v].end(); ++i) \n",
    "        if (!visited[*i]) \n",
    "            DFSUtil(*i, visited); \n",
    "} "
   ]
  },
  {
   "cell_type": "code",
   "execution_count": null,
   "metadata": {},
   "outputs": [],
   "source": [
    "// DFS traversal of the vertices reachable from v. \n",
    "// It uses recursive DFSUtil() \n",
    "void Graph::DFS(int v) \n",
    "{ \n",
    "    // Mark all the vertices as not visited \n",
    "    bool *visited = new bool[V]; \n",
    "    for (int i = 0; i < V; i++) \n",
    "        visited[i] = false; \n",
    "  \n",
    "    // Call the recursive helper function \n",
    "    // to print DFS traversal \n",
    "    DFSUtil(v, visited); \n",
    "} \n",
    " "
   ]
  },
  {
   "cell_type": "markdown",
   "metadata": {},
   "source": [
    "## Exemplo"
   ]
  },
  {
   "cell_type": "markdown",
   "metadata": {},
   "source": [
    "<img src=\"bfs.png\" width=\"300\">"
   ]
  },
  {
   "cell_type": "code",
   "execution_count": null,
   "metadata": {},
   "outputs": [],
   "source": [
    "// Driver code \n",
    "void exemplo(int v)\n",
    "{\n",
    "    // Create a graph given in the above diagram \n",
    "    Graph g(4);\n",
    "    g.addEdge(0, 1);\n",
    "    g.addEdge(0, 2);\n",
    "    g.addEdge(1, 2);\n",
    "    g.addEdge(2, 0);\n",
    "    g.addEdge(2, 3);\n",
    "    g.addEdge(3, 3);\n",
    "\n",
    "    cout << \"Following is Depth First Traversal\"\n",
    "            \" starting from vertex \" << v <<\"\\n\";\n",
    "    g.DFS(v);\n",
    "\n",
    "}"
   ]
  },
  {
   "cell_type": "code",
   "execution_count": null,
   "metadata": {},
   "outputs": [],
   "source": [
    "exemplo(2)"
   ]
  },
  {
   "cell_type": "markdown",
   "metadata": {},
   "source": [
    "## Exemplo dos slides"
   ]
  },
  {
   "cell_type": "markdown",
   "metadata": {},
   "source": [
    "<img src=\"dag-demo.png\" width=\"360\">"
   ]
  },
  {
   "cell_type": "code",
   "execution_count": null,
   "metadata": {},
   "outputs": [],
   "source": [
    "// Driver code \n",
    "void exemplo_slides(int v)\n",
    "{\n",
    "    // Create a graph given in the above diagram \n",
    "    Graph g(7);\n",
    "    g.addEdge(0, 1); \n",
    "    g.addEdge(0, 2);\n",
    "    g.addEdge(0, 5); \n",
    "    g.addEdge(1, 4); \n",
    "    g.addEdge(3, 2); \n",
    "    g.addEdge(3, 4); \n",
    "    g.addEdge(3, 5); \n",
    "    g.addEdge(3, 6); \n",
    "    g.addEdge(5, 2);\n",
    "    g.addEdge(6, 0);\n",
    "    g.addEdge(6, 4);\n",
    "\n",
    "    cout << \"Following is Depth First Traversal\"\n",
    "            \" starting from vertex \" << v <<\"\\n\";\n",
    "    g.DFS(v);\n",
    "\n",
    "}\n"
   ]
  },
  {
   "cell_type": "code",
   "execution_count": null,
   "metadata": {},
   "outputs": [],
   "source": [
    "exemplo_slides(4)"
   ]
  },
  {
   "cell_type": "code",
   "execution_count": null,
   "metadata": {},
   "outputs": [],
   "source": []
  }
 ],
 "metadata": {
  "kernelspec": {
   "display_name": "C++17",
   "language": "C++17",
   "name": "xcpp17"
  },
  "language_info": {
   "codemirror_mode": "text/x-c++src",
   "file_extension": ".cpp",
   "mimetype": "text/x-c++src",
   "name": "c++",
   "version": "17"
  }
 },
 "nbformat": 4,
 "nbformat_minor": 4
}
