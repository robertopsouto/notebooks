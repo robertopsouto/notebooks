{
 "cells": [
  {
   "cell_type": "markdown",
   "metadata": {},
   "source": [
    "# Busca em Profundidade"
   ]
  },
  {
   "cell_type": "markdown",
   "metadata": {},
   "source": [
    "### Código original de https://www.geeksforgeeks.org/topological-sorting/"
   ]
  },
  {
   "cell_type": "code",
   "execution_count": 1,
   "metadata": {},
   "outputs": [],
   "source": [
    "// A C++ program to print topological  \n",
    "// sorting of a DAG \n",
    "#include<iostream> \n",
    "#include <list> \n",
    "#include <stack> \n",
    "using namespace std; \n",
    "  \n",
    "// Class to represent a graph \n",
    "class Graph \n",
    "{ \n",
    "// No. of vertices' \n",
    "    int V;     \n",
    "  \n",
    "    // Pointer to an array containing adjacency listsList \n",
    "    list<int> *adj; \n",
    "  \n",
    "    // A function used by topologicalSort \n",
    "    void topologicalSortUtil(int v, bool visited[], \n",
    " stack<int> &Stack); \n",
    "public: \n",
    "// Constructor \n",
    "    Graph(int V);    \n",
    "  \n",
    "     // function to add an edge to graph \n",
    "    void addEdge(int v, int w); \n",
    "  \n",
    "    // prints a Topological Sort of  \n",
    "// the complete graph \n",
    "    void topologicalSort(); \n",
    "}; \n",
    "  "
   ]
  },
  {
   "cell_type": "code",
   "execution_count": 2,
   "metadata": {},
   "outputs": [],
   "source": [
    "Graph::Graph(int V) \n",
    "{ \n",
    "    this->V = V; \n",
    "    adj = new list<int>[V]; \n",
    "} \n",
    "  "
   ]
  },
  {
   "cell_type": "code",
   "execution_count": 3,
   "metadata": {},
   "outputs": [],
   "source": [
    "void Graph::addEdge(int v, int w) \n",
    "{ \n",
    "// Add w to v’s list. \n",
    "    adj[v].push_back(w);  \n",
    "} \n",
    "  "
   ]
  },
  {
   "cell_type": "code",
   "execution_count": 4,
   "metadata": {},
   "outputs": [],
   "source": [
    "// A recursive function used by topologicalSort \n",
    "void Graph::topologicalSortUtil( \n",
    "int v, bool visited[],  \n",
    "                                stack<int> &Stack) \n",
    "{ \n",
    "    // Mark the current node as visited. \n",
    "    visited[v] = true; \n",
    "  \n",
    "    // Recur for all the vertices  \n",
    "// adjacent to this vertex \n",
    "    list<int>::iterator i; \n",
    "    for (i = adj[v].begin(); i != adj[v].end(); ++i) \n",
    "        if (!visited[*i]) \n",
    "            topologicalSortUtil(*i, visited, Stack); \n",
    "  \n",
    "    // Push current vertex to stack  \n",
    "// which stores result \n",
    "    Stack.push(v); \n",
    "} \n",
    "  "
   ]
  },
  {
   "cell_type": "code",
   "execution_count": 5,
   "metadata": {},
   "outputs": [],
   "source": [
    "// The function to do Topological Sort. \n",
    "// It uses recursive topologicalSortUtil() \n",
    "void Graph::topologicalSort() \n",
    "{ \n",
    "    stack<int> Stack; \n",
    "  \n",
    "    // Mark all the vertices as not visited \n",
    "    bool *visited = new bool[V]; \n",
    "    for (int i = 0; i < V; i++) \n",
    "        visited[i] = false; \n",
    "  \n",
    "    // Call the recursive helper function \n",
    "// to store Topological \n",
    "    // Sort starting from all  \n",
    "// vertices one by one \n",
    "    for (int i = 0; i < V; i++) \n",
    "      if (visited[i] == false) \n",
    "        topologicalSortUtil(i, visited, Stack); \n",
    "  \n",
    "    // Print contents of stack \n",
    "    while (Stack.empty() == false) \n",
    "    { \n",
    "        cout << Stack.top() << \" \"; \n",
    "        Stack.pop(); \n",
    "    } \n",
    "} "
   ]
  },
  {
   "cell_type": "markdown",
   "metadata": {},
   "source": [
    "## Exemplo dos slides"
   ]
  },
  {
   "cell_type": "markdown",
   "metadata": {},
   "source": [
    "<img src=\"topoordem.png\" width=\"360\">"
   ]
  },
  {
   "cell_type": "code",
   "execution_count": 6,
   "metadata": {},
   "outputs": [],
   "source": [
    "// Driver code \n",
    "void exemplo_slides()\n",
    "{\n",
    "    // Create a graph given in the above diagram \n",
    "    Graph g(7);  \n",
    "    g.addEdge(0, 1); \n",
    "    g.addEdge(0, 2);\n",
    "    g.addEdge(0, 5); \n",
    "    g.addEdge(1, 4); \n",
    "    g.addEdge(3, 2); \n",
    "    g.addEdge(3, 4); \n",
    "    g.addEdge(3, 5); \n",
    "    g.addEdge(3, 6); \n",
    "    g.addEdge(5, 2);\n",
    "    g.addEdge(6, 0);\n",
    "    g.addEdge(6, 4);\n",
    "  \n",
    "    cout << \"Following is a Topological Sort of the given graph \\n\"; \n",
    "    g.topologicalSort();\n",
    "                         \n",
    "}"
   ]
  },
  {
   "cell_type": "code",
   "execution_count": 7,
   "metadata": {},
   "outputs": [
    {
     "name": "stdout",
     "output_type": "stream",
     "text": [
      "Following is a Topological Sort of the given graph \n",
      "3 6 0 5 2 1 4 "
     ]
    }
   ],
   "source": [
    "exemplo_slides()"
   ]
  },
  {
   "cell_type": "code",
   "execution_count": 8,
   "metadata": {},
   "outputs": [],
   "source": [
    "// Driver code \n",
    "void exemplo_slides1()\n",
    "{\n",
    "   // Create a graph given in the above diagram \n",
    "    Graph g(13); \n",
    "    g.addEdge(0, 2);\n",
    "    g.addEdge(0, 6);\n",
    "    g.addEdge(1, 0);\n",
    "    g.addEdge(2, 3); \n",
    "    g.addEdge(2, 4);\n",
    "    g.addEdge(3, 2); \n",
    "    g.addEdge(3, 4);\n",
    "    g.addEdge(4, 5);\n",
    "    g.addEdge(4, 6);\n",
    "    g.addEdge(4, 11); \n",
    "    g.addEdge(5, 0);  \n",
    "    g.addEdge(5, 3);  \n",
    "    g.addEdge(6, 7);\n",
    "    g.addEdge(6, 8);    \n",
    "    g.addEdge(8, 6);\n",
    "    g.addEdge(9, 6);\n",
    "    g.addEdge(9, 7);\n",
    "    g.addEdge(9, 12);\n",
    "    g.addEdge(10, 9);\n",
    "    g.addEdge(11, 9);\n",
    "    g.addEdge(12,10);\n",
    "    g.addEdge(12,11);\n",
    "    \n",
    "  \n",
    "    cout << \"Following is a Topological Sort of the given graph \\n\";\n",
    "    g.topologicalSort();     \n",
    "}\n"
   ]
  },
  {
   "cell_type": "code",
   "execution_count": 9,
   "metadata": {},
   "outputs": [
    {
     "name": "stdout",
     "output_type": "stream",
     "text": [
      "Following is a Topological Sort of the given graph \n",
      "1 0 2 3 4 11 9 12 10 6 8 7 5 "
     ]
    }
   ],
   "source": [
    "exemplo_slides1()"
   ]
  },
  {
   "cell_type": "code",
   "execution_count": null,
   "metadata": {},
   "outputs": [],
   "source": []
  }
 ],
 "metadata": {
  "kernelspec": {
   "display_name": "C++17",
   "language": "C++17",
   "name": "xcpp17"
  },
  "language_info": {
   "codemirror_mode": "text/x-c++src",
   "file_extension": ".cpp",
   "mimetype": "text/x-c++src",
   "name": "c++",
   "version": "17"
  }
 },
 "nbformat": 4,
 "nbformat_minor": 4
}
