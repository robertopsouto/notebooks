{
 "cells": [
  {
   "cell_type": "markdown",
   "metadata": {},
   "source": [
    "# Busca em Profundidade: detecção de ciclos"
   ]
  },
  {
   "cell_type": "markdown",
   "metadata": {},
   "source": [
    "### Código original de https://www.geeksforgeeks.org/detect-cycle-in-a-graph/"
   ]
  },
  {
   "cell_type": "code",
   "execution_count": null,
   "metadata": {},
   "outputs": [],
   "source": [
    "// A C++ Program to detect cycle in a graph \n",
    "#include<bits/stdc++.h> \n",
    "  \n",
    "using namespace std; \n",
    "  \n",
    "class Graph \n",
    "{ \n",
    "    int V;    // No. of vertices \n",
    "    list<int> *adj;    // Pointer to an array containing adjacency lists \n",
    "    bool isCyclicUtil(int v, bool visited[], bool *rs);  // used by isCyclic() \n",
    "public: \n",
    "    Graph(int V);   // Constructor \n",
    "    void addEdge(int v, int w);   // to add an edge to graph \n",
    "    bool isCyclic();    // returns true if there is a cycle in this graph \n",
    "}; \n",
    "  "
   ]
  },
  {
   "cell_type": "code",
   "execution_count": null,
   "metadata": {},
   "outputs": [],
   "source": [
    "Graph::Graph(int V) \n",
    "{ \n",
    "    this->V = V; \n",
    "    adj = new list<int>[V]; \n",
    "} \n",
    "  "
   ]
  },
  {
   "cell_type": "code",
   "execution_count": null,
   "metadata": {},
   "outputs": [],
   "source": [
    "void Graph::addEdge(int v, int w) \n",
    "{ \n",
    "    adj[v].push_back(w); // Add w to v’s list. \n",
    "} \n",
    "  "
   ]
  },
  {
   "cell_type": "code",
   "execution_count": null,
   "metadata": {},
   "outputs": [],
   "source": [
    "// This function is a variation of DFSUtil() in https://www.geeksforgeeks.org/archives/18212 \n",
    "bool Graph::isCyclicUtil(int v, bool visited[], bool *recStack) \n",
    "{ \n",
    "    if(visited[v] == false) \n",
    "    { \n",
    "        // Mark the current node as visited and part of recursion stack \n",
    "        visited[v] = true; \n",
    "        recStack[v] = true; \n",
    "  \n",
    "        // Recur for all the vertices adjacent to this vertex \n",
    "        list<int>::iterator i; \n",
    "        for(i = adj[v].begin(); i != adj[v].end(); ++i) \n",
    "        { \n",
    "            if ( !visited[*i] && isCyclicUtil(*i, visited, recStack) ) \n",
    "                return true; \n",
    "            else if (recStack[*i]) \n",
    "                return true; \n",
    "        } \n",
    "  \n",
    "    } \n",
    "    recStack[v] = false;  // remove the vertex from recursion stack \n",
    "    return false; \n",
    "} \n",
    "  "
   ]
  },
  {
   "cell_type": "code",
   "execution_count": null,
   "metadata": {},
   "outputs": [],
   "source": [
    "// Returns true if the graph contains a cycle, else false. \n",
    "// This function is a variation of DFS() in https://www.geeksforgeeks.org/archives/18212 \n",
    "bool Graph::isCyclic() \n",
    "{ \n",
    "    // Mark all the vertices as not visited and not part of recursion \n",
    "    // stack \n",
    "    bool *visited = new bool[V]; \n",
    "    bool *recStack = new bool[V]; \n",
    "    for(int i = 0; i < V; i++) \n",
    "    { \n",
    "        visited[i] = false; \n",
    "        recStack[i] = false; \n",
    "    } \n",
    "  \n",
    "    // Call the recursive helper function to detect cycle in different \n",
    "    // DFS trees \n",
    "    for(int i = 0; i < V; i++) \n",
    "        if (isCyclicUtil(i, visited, recStack)) \n",
    "            return true; \n",
    "  \n",
    "    return false; \n",
    "} "
   ]
  },
  {
   "cell_type": "markdown",
   "metadata": {},
   "source": [
    "## Exemplo"
   ]
  },
  {
   "cell_type": "markdown",
   "metadata": {},
   "source": [
    "<img src=\"cycle.png\" width=\"480\">"
   ]
  },
  {
   "cell_type": "code",
   "execution_count": null,
   "metadata": {},
   "outputs": [],
   "source": [
    "// Driver code \n",
    "void exemplo()\n",
    "{\n",
    "    // Create a graph given in the above diagram \n",
    "    Graph g(4);\n",
    "    g.addEdge(0, 1);\n",
    "    g.addEdge(0, 2);\n",
    "    g.addEdge(1, 2);\n",
    "    g.addEdge(2, 0);\n",
    "    g.addEdge(2, 3);\n",
    "    g.addEdge(3, 3);\n",
    "  \n",
    "    if(g.isCyclic()) \n",
    "        cout << \"Graph contains cycle\"; \n",
    "    else\n",
    "        cout << \"Graph doesn't contain cycle\"; \n",
    "}"
   ]
  },
  {
   "cell_type": "code",
   "execution_count": null,
   "metadata": {},
   "outputs": [],
   "source": [
    "exemplo()"
   ]
  },
  {
   "cell_type": "markdown",
   "metadata": {},
   "source": [
    "## Exemplo dos slides"
   ]
  },
  {
   "cell_type": "markdown",
   "metadata": {},
   "source": [
    "<img src=\"dag-demo.png\" width=\"360\">"
   ]
  },
  {
   "cell_type": "code",
   "execution_count": null,
   "metadata": {},
   "outputs": [],
   "source": [
    "// Driver code \n",
    "void exemplo_slides()\n",
    "{\n",
    "    // Create a graph given in the above diagram \n",
    "    Graph g(7);\n",
    "    g.addEdge(0, 1); \n",
    "    g.addEdge(0, 2);\n",
    "    g.addEdge(0, 5); \n",
    "    g.addEdge(1, 4); \n",
    "    g.addEdge(3, 2); \n",
    "    g.addEdge(3, 4); \n",
    "    g.addEdge(3, 5); \n",
    "    g.addEdge(3, 6); \n",
    "    g.addEdge(5, 2);\n",
    "    g.addEdge(6, 0);\n",
    "    g.addEdge(6, 4);\n",
    "  \n",
    "    if(g.isCyclic()) \n",
    "        cout << \"Graph contains cycle\"; \n",
    "    else\n",
    "        cout << \"Graph doesn't contain cycle\"; \n",
    "}"
   ]
  },
  {
   "cell_type": "code",
   "execution_count": null,
   "metadata": {},
   "outputs": [],
   "source": [
    "exemplo_slides()"
   ]
  },
  {
   "cell_type": "code",
   "execution_count": null,
   "metadata": {},
   "outputs": [],
   "source": [
    "// Driver code \n",
    "void exemplo_slides_ciclo()\n",
    "{\n",
    "    // Create a graph given in the above diagram \n",
    "    Graph g(7);\n",
    "    g.addEdge(0, 1); \n",
    "    g.addEdge(0, 2);\n",
    "    g.addEdge(0, 5); \n",
    "    g.addEdge(1, 4); \n",
    "    g.addEdge(2, 3); \n",
    "    g.addEdge(3, 4); \n",
    "    g.addEdge(3, 5); \n",
    "    g.addEdge(3, 6); \n",
    "    g.addEdge(5, 2);\n",
    "    g.addEdge(6, 0);\n",
    "    g.addEdge(6, 4);\n",
    "  \n",
    "    if(g.isCyclic()) \n",
    "        cout << \"Graph contains cycle\"; \n",
    "    else\n",
    "        cout << \"Graph doesn't contain cycle\"; \n",
    "}"
   ]
  },
  {
   "cell_type": "code",
   "execution_count": null,
   "metadata": {},
   "outputs": [],
   "source": [
    "exemplo_slides_ciclo()"
   ]
  },
  {
   "cell_type": "code",
   "execution_count": null,
   "metadata": {},
   "outputs": [],
   "source": []
  }
 ],
 "metadata": {
  "kernelspec": {
   "display_name": "C++17",
   "language": "C++17",
   "name": "xcpp17"
  },
  "language_info": {
   "codemirror_mode": "text/x-c++src",
   "file_extension": ".cpp",
   "mimetype": "text/x-c++src",
   "name": "c++",
   "version": "17"
  }
 },
 "nbformat": 4,
 "nbformat_minor": 4
}
