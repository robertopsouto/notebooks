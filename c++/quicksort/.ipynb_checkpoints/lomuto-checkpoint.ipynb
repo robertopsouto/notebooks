{
 "cells": [
  {
   "cell_type": "code",
   "execution_count": 1,
   "metadata": {},
   "outputs": [],
   "source": [
    "#include <cassert>\n",
    "#include <ctime>\n",
    "#include <cstdio>\n",
    "#include <cstdlib>\n",
    "#include <cstddef>\n",
    "#include <vector>\n",
    "#include <random>\n",
    "#include <algorithm>\n",
    "\n",
    "using std::swap;\n",
    "\n",
    "using TYPE = long;\n",
    "static const size_t SORT_THRESHOLD = 16;"
   ]
  },
  {
   "cell_type": "code",
   "execution_count": 2,
   "metadata": {},
   "outputs": [],
   "source": [
    "/**\n",
    "Partitions the range [first, last) around a pivot chosen as the minimum of\n",
    "first[0] and last[-1]. Uses the Hoare partition algorithm.\n",
    "Returns: a pointer to the new position of the pivot.\n",
    "*/\n",
    "long* hoare_partition(long* first, long* last) {\n",
    "    assert(first <= last);\n",
    "    if (last - first < 2)\n",
    "        return first; // nothing interesting to do\n",
    "    --last;\n",
    "    if (*first > *last)\n",
    "        swap(*first, *last);\n",
    "    auto pivot_pos = first;\n",
    "    auto pivot = *pivot_pos;\n",
    "    for (;;) {\n",
    "        ++first;\n",
    "        auto f = *first;\n",
    "        while (f < pivot)\n",
    "            f = *++first;\n",
    "        auto l = *last;\n",
    "        while (pivot < l)\n",
    "            l = *--last;\n",
    "        if (first >= last)\n",
    "            break;\n",
    "        *first = l;\n",
    "        *last = f;\n",
    "        --last;\n",
    "    }\n",
    "    --first;\n",
    "    swap(*first, *pivot_pos);\n",
    "    return first;\n",
    "}"
   ]
  },
  {
   "cell_type": "code",
   "execution_count": null,
   "metadata": {},
   "outputs": [],
   "source": []
  }
 ],
 "metadata": {
  "kernelspec": {
   "display_name": "C++17",
   "language": "C++17",
   "name": "xcpp17"
  },
  "language_info": {
   "codemirror_mode": "text/x-c++src",
   "file_extension": ".cpp",
   "mimetype": "text/x-c++src",
   "name": "c++",
   "version": "17"
  }
 },
 "nbformat": 4,
 "nbformat_minor": 4
}
