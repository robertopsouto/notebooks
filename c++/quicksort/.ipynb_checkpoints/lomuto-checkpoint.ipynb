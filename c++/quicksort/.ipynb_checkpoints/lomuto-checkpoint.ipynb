{
 "cells": [
  {
   "cell_type": "code",
   "execution_count": null,
   "metadata": {},
   "outputs": [],
   "source": [
    "#include <cassert>\n",
    "#include <ctime>\n",
    "#include <cstdio>\n",
    "#include <cstdlib>\n",
    "#include <cstddef>\n",
    "#include <vector>\n",
    "#include <random>\n",
    "#include <algorithm>\n",
    "\n",
    "using std::swap;\n",
    "\n",
    "using TYPE = long;\n",
    "static const size_t SORT_THRESHOLD = 16;"
   ]
  },
  {
   "cell_type": "code",
   "execution_count": null,
   "metadata": {},
   "outputs": [],
   "source": [
    "/**\n",
    "Partitions the range [first, last) around a pivot chosen as the minimum of\n",
    "first[0] and last[-1]. Uses the Hoare partition algorithm.\n",
    "Returns: a pointer to the new position of the pivot.\n",
    "*/\n",
    "long* hoare_partition(long* first, long* last) {\n",
    "    assert(first <= last);\n",
    "    if (last - first < 2)\n",
    "        return first; // nothing interesting to do\n",
    "    --last;\n",
    "    if (*first > *last)\n",
    "        swap(*first, *last);\n",
    "    auto pivot_pos = first;\n",
    "    auto pivot = *pivot_pos;\n",
    "    for (;;) {\n",
    "        ++first;\n",
    "        auto f = *first;\n",
    "        while (f < pivot)\n",
    "            f = *++first;\n",
    "        auto l = *last;\n",
    "        while (pivot < l)\n",
    "            l = *--last;\n",
    "        if (first >= last)\n",
    "            break;\n",
    "        *first = l;\n",
    "        *last = f;\n",
    "        --last;\n",
    "    }\n",
    "    --first;\n",
    "    swap(*first, *pivot_pos);\n",
    "    return first;\n",
    "}"
   ]
  },
  {
   "cell_type": "code",
   "execution_count": null,
   "metadata": {},
   "outputs": [],
   "source": [
    "/**\n",
    "Partitions the range [first, last) around a pivot chosen as the minimum of\n",
    "first[0] and last[-1]. Uses the Lomuto partition algorithm.\n",
    "Returns: a pointer to the new position of the pivot.\n",
    "*/\n",
    "long* lomuto_partition(long* first, long* last) {\n",
    "    assert(first <= last);\n",
    "    if (last - first < 2)\n",
    "        return first; // nothing interesting to do\n",
    "    // Choose pivot.\n",
    "    --last;\n",
    "    if (*first > *last)\n",
    "        swap(*first, *last);\n",
    "    auto pivot_pos = first;\n",
    "    auto pivot = *first;\n",
    "    // Prelude: position first (aka the write head) right on the first larger element.\n",
    "    do {\n",
    "        ++first;\n",
    "    } while (*first < pivot);\n",
    "    assert(first <= last);\n",
    "    // Main loop.\n",
    "    for (auto read = first + 1; read < last; ++read) {\n",
    "        auto x = *read;\n",
    "        if (x < pivot) {\n",
    "            *read = *first;\n",
    "            *first = x;\n",
    "            ++first;\n",
    "        }\n",
    "    }\n",
    "    // Move the pivot to its final slot.\n",
    "    assert(*first >= pivot);\n",
    "    --first;\n",
    "    *pivot_pos = *first;\n",
    "    *first = pivot;\n",
    "    return first;\n",
    "}"
   ]
  },
  {
   "cell_type": "code",
   "execution_count": null,
   "metadata": {},
   "outputs": [],
   "source": [
    "/**\n",
    "Partitions the range [first, last) around a pivot chosen as the minimum of\n",
    "first[0] and last[-1]. Uses the Lomuto partition algorithm, branch-free.\n",
    "Returns: a pointer to the new position of the pivot.\n",
    "*/\n",
    "long* lomuto_partition_branchfree(long* first, long* last) {\n",
    "    assert(first <= last);\n",
    "    if (last - first < 2)\n",
    "        return first; // nothing interesting to do\n",
    "    // Choose pivot.\n",
    "    --last;\n",
    "    if (*first > *last)\n",
    "        swap(*first, *last);\n",
    "    auto pivot_pos = first;\n",
    "    auto pivot = *first;\n",
    "    // Prelude.\n",
    "    do {\n",
    "        ++first;\n",
    "        assert(first <= last);\n",
    "    } while (*first < pivot);\n",
    "    // Main loop.\n",
    "    for (auto read = first + 1; read < last; ++read) {\n",
    "        auto x = *read;\n",
    "        auto less = -int(x < pivot);\n",
    "        auto delta = less & (read - first);\n",
    "        first[delta] = *first;\n",
    "        read[-delta] = x;\n",
    "        first -= less;\n",
    "    }\n",
    "    // Move the pivot to its final slot.\n",
    "    assert(*first >= pivot);\n",
    "    --first;\n",
    "    *pivot_pos = *first;\n",
    "    *first = pivot;\n",
    "    return first;\n",
    "}"
   ]
  },
  {
   "cell_type": "code",
   "execution_count": null,
   "metadata": {},
   "outputs": [],
   "source": [
    "/**\n",
    "Inserts *last into the range to its left, assumed to be sorted and have at\n",
    "least one element smaller than *last.\n",
    "*/\n",
    "template<typename It>\n",
    "void unguarded_linear_insert(It last) {\n",
    "    auto val = *last;\n",
    "    --last;\n",
    "    auto x = *last;\n",
    "    if (val >= x)\n",
    "        return;\n",
    "    for (;;) {\n",
    "        last[1] = x;\n",
    "        --last;\n",
    "        x = *last;\n",
    "        if (val >= x)\n",
    "            break;\n",
    "    }\n",
    "    last[1] = val;\n",
    "}"
   ]
  },
  {
   "cell_type": "code",
   "execution_count": null,
   "metadata": {},
   "outputs": [],
   "source": [
    "/**\n",
    "Sorts [first, last) using insertion sort.\n",
    "*/\n",
    "template<typename It>\n",
    "void insertion_sort(It first, It last) {\n",
    "    assert(first <= last);\n",
    "    for (auto i = first + 1; i < last; ++i) {\n",
    "        auto val = *i;\n",
    "            if (val < *first) {\n",
    "            size_t n = i - first - 1;\n",
    "            do {\n",
    "                first[n + 1] = first[n];\n",
    "            }\n",
    "            while (n--);\n",
    "                *first = val;\n",
    "            }\n",
    "            else\n",
    "                unguarded_linear_insert(i);\n",
    "        }\n",
    "}"
   ]
  },
  {
   "cell_type": "code",
   "execution_count": null,
   "metadata": {},
   "outputs": [],
   "source": [
    "/**\n",
    "Sorts [first, last) using quicksort and insertion sort for short subarrays.\n",
    "*/\n",
    "template <class It>\n",
    "void sort(It first, It last) {\n",
    "    while (last - first > size_t(SORT_THRESHOLD)) {\n",
    "#if defined(LOMUTO_BRANCHY)\n",
    "            auto cut = lomuto_partition(first, last);\n",
    "#elif defined(LOMUTO)\n",
    "            auto cut = lomuto_partition_branchfree(first, last);\n",
    "#else\n",
    "            auto cut = hoare_partition(first, last);\n",
    "#endif\n",
    "        assert(cut >= first);\n",
    "        assert(cut < last);\n",
    "            sort(cut + 1, last);\n",
    "            last = cut;\n",
    "        }\n",
    "    insertion_sort(first, last);\n",
    "}"
   ]
  },
  {
   "cell_type": "code",
   "execution_count": null,
   "metadata": {},
   "outputs": [],
   "source": [
    "/**\n",
    "Returns the difference between two timespecs, in milliseconds.\n",
    "*/\n",
    "double timediff(const timespec& start, const timespec& end) {\n",
    "    return (end.tv_nsec - start.tv_nsec) / double(1e6)\n",
    "        + (end.tv_sec - start.tv_sec) * double(1e3);\n",
    "}"
   ]
  },
  {
   "cell_type": "code",
   "execution_count": null,
   "metadata": {},
   "outputs": [],
   "source": [
    "/**\n",
    "Verifies that an array has v[i]==i for all i.\n",
    "*/\n",
    "void checkData(std::vector<TYPE>& v) {\n",
    "    for (size_t i = 0; i < v.size(); ++i) {\n",
    "        if (v[i] == i) continue;\n",
    "        fprintf(stderr, \"Array has been corrupted at position %zu.\\n\", i);\n",
    "        abort();\n",
    "    }\n",
    "}"
   ]
  },
  {
   "cell_type": "code",
   "execution_count": null,
   "metadata": {},
   "outputs": [],
   "source": [
    "    size_t length =  500;\n",
    "    size_t repeats = 5000 / length;\n",
    "    std::vector<double> times(repeats);\n",
    "    timespec start, end;\n",
    "    double totalTime = 0, minTime = std::numeric_limits<double>::max();\n",
    "    std::mt19937 g(1942);\n",
    "    std::vector<TYPE> v(length);"
   ]
  },
  {
   "cell_type": "code",
   "execution_count": null,
   "metadata": {},
   "outputs": [],
   "source": [
    "    length =  500;\n",
    "    repeats = 50000 / length;"
   ]
  },
  {
   "cell_type": "code",
   "execution_count": null,
   "metadata": {},
   "outputs": [],
   "source": [
    "    for (size_t i = 0; i < v.size(); ++i) v[i] = i;\n",
    "\n",
    "    for (size_t i = 0; i < repeats; ++i) {\n",
    "        std::shuffle(v.begin(), v.end(), g);\n",
    "        clock_gettime(CLOCK_PROCESS_CPUTIME_ID, &start);\n",
    "#if defined(STDSORT)\n",
    "        std::sort(&v.front(), 1 + &v.back());\n",
    "#else\n",
    "        sort(&v.front(), 1 + &v.back());\n",
    "#endif\n",
    "        clock_gettime(CLOCK_PROCESS_CPUTIME_ID, &end);\n",
    "        // Make sure everything is correct\n",
    "        checkData(v);\n",
    "        // Bookkeeping\n",
    "        auto t = timediff(start, end);\n",
    "        times[i] = t;\n",
    "        if (t < minTime) {\n",
    "            minTime = t;\n",
    "        }\n",
    "        totalTime += t;\n",
    "    }\n",
    "    std::sort(times.begin(), times.end());\n",
    "    printf(\"min_milliseconds=%.4f\\n\", minTime);\n",
    "    printf(\"median_milliseconds=%.4f\\n\", times[times.size() / 2]);\n"
   ]
  },
  {
   "cell_type": "markdown",
   "metadata": {},
   "source": [
    "### std::sort baseline"
   ]
  },
  {
   "cell_type": "code",
   "execution_count": 2,
   "metadata": {},
   "outputs": [],
   "source": [
    "!g++ -std=c++17 -O3 -DNDEBUG -DSTDSORT lomuto.cpp -o qsort_std"
   ]
  },
  {
   "cell_type": "code",
   "execution_count": 3,
   "metadata": {},
   "outputs": [
    {
     "name": "stdout",
     "output_type": "stream",
     "text": [
      "min_milliseconds=0.4239\n",
      "median_milliseconds=0.4602\n"
     ]
    }
   ],
   "source": [
    "!./qsort_std 10000"
   ]
  },
  {
   "cell_type": "markdown",
   "metadata": {},
   "source": [
    "### Hoare partition"
   ]
  },
  {
   "cell_type": "code",
   "execution_count": null,
   "metadata": {},
   "outputs": [],
   "source": [
    "!g++ -std=c++17 -O3 -DNDEBUG lomuto.cpp -o qsort_hoare"
   ]
  },
  {
   "cell_type": "code",
   "execution_count": 4,
   "metadata": {},
   "outputs": [
    {
     "name": "stdout",
     "output_type": "stream",
     "text": [
      "min_milliseconds=0.3676\n",
      "median_milliseconds=0.3907\n"
     ]
    }
   ],
   "source": [
    "!./qsort_hoare 10000"
   ]
  },
  {
   "cell_type": "markdown",
   "metadata": {},
   "source": [
    "### Lomuto partition, traditional implementation"
   ]
  },
  {
   "cell_type": "code",
   "execution_count": 5,
   "metadata": {},
   "outputs": [],
   "source": [
    "!g++ -std=c++17 -O3 -DNDEBUG -DLOMUTO_BRANCHY lomuto.cpp -o qsort_lomuto"
   ]
  },
  {
   "cell_type": "code",
   "execution_count": 6,
   "metadata": {},
   "outputs": [
    {
     "name": "stdout",
     "output_type": "stream",
     "text": [
      "min_milliseconds=0.3835\n",
      "median_milliseconds=0.4173\n"
     ]
    }
   ],
   "source": [
    "!./qsort_lomuto 10000"
   ]
  },
  {
   "cell_type": "markdown",
   "metadata": {},
   "source": [
    "### Lomuto partition, branch-free implementation"
   ]
  },
  {
   "cell_type": "code",
   "execution_count": 7,
   "metadata": {},
   "outputs": [],
   "source": [
    "!g++ -std=c++17 -O3 -DNDEBUG -DLOMUTO lomuto.cpp -o qsort_lomuto_branchfree"
   ]
  },
  {
   "cell_type": "code",
   "execution_count": 8,
   "metadata": {},
   "outputs": [
    {
     "name": "stdout",
     "output_type": "stream",
     "text": [
      "min_milliseconds=0.2272\n",
      "median_milliseconds=0.2545\n"
     ]
    }
   ],
   "source": [
    "!./qsort_lomuto_branchfree 10000"
   ]
  },
  {
   "cell_type": "code",
   "execution_count": null,
   "metadata": {},
   "outputs": [],
   "source": []
  }
 ],
 "metadata": {
  "kernelspec": {
   "display_name": "C++17",
   "language": "C++17",
   "name": "xcpp17"
  },
  "language_info": {
   "codemirror_mode": "text/x-c++src",
   "file_extension": ".cpp",
   "mimetype": "text/x-c++src",
   "name": "c++",
   "version": "17"
  }
 },
 "nbformat": 4,
 "nbformat_minor": 4
}
