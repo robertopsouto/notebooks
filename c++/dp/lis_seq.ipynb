{
 "cells": [
  {
   "cell_type": "markdown",
   "metadata": {},
   "source": [
    "# Programação Dinâmica: problema de subsequência mais longa"
   ]
  },
  {
   "cell_type": "markdown",
   "metadata": {},
   "source": [
    "### Código original de https://www.geeksforgeeks.org/construction-of-longest-increasing-subsequence-using-dynamic-programming/"
   ]
  },
  {
   "cell_type": "code",
   "execution_count": null,
   "metadata": {},
   "outputs": [],
   "source": [
    "/* Dynamic Programming solution to construct Longest \n",
    "   Increasing Subsequence */\n",
    "#include <iostream> \n",
    "#include <vector> \n",
    "using namespace std; \n",
    "  "
   ]
  },
  {
   "cell_type": "code",
   "execution_count": null,
   "metadata": {},
   "outputs": [],
   "source": [
    "// Utility function to print LIS \n",
    "void printLIS(vector<int>& arr) \n",
    "{ \n",
    "    for (int x : arr) \n",
    "        cout << x << \" \"; \n",
    "    cout << endl; \n",
    "} \n",
    "  "
   ]
  },
  {
   "cell_type": "code",
   "execution_count": null,
   "metadata": {},
   "outputs": [],
   "source": [
    "// Function to construct and print Longest Increasing \n",
    "// Subsequence \n",
    "void constructPrintLIS(int arr[], int n) \n",
    "{ \n",
    "    // L[i] - The longest increasing sub-sequence  \n",
    "    // ends with arr[i] \n",
    "    vector<vector<int> > L(n); \n",
    "  \n",
    "    // L[0] is equal to arr[0] \n",
    "    L[0].push_back(arr[0]); \n",
    "  \n",
    "    // start from index 1 \n",
    "    for (int i = 1; i < n; i++) \n",
    "    { \n",
    "        // do for every j less than i \n",
    "        for (int j = 0; j < i; j++) \n",
    "        { \n",
    "            /* L[i] = {Max(L[j])} + arr[i] \n",
    "            where j < i and arr[j] < arr[i] */\n",
    "            if ((arr[i] > arr[j]) && \n",
    "                    (L[i].size() < L[j].size() + 1)) \n",
    "                L[i] = L[j]; \n",
    "        } \n",
    "  \n",
    "        // L[i] ends with arr[i] \n",
    "        L[i].push_back(arr[i]); \n",
    "    } \n",
    "  \n",
    "    // L[i] now stores increasing sub-sequence of \n",
    "    // arr[0..i] that ends with arr[i] \n",
    "    vector<int> max = L[0]; \n",
    "  \n",
    "    // LIS will be max of all increasing sub- \n",
    "    // sequences of arr \n",
    "    for (vector<int> x : L) \n",
    "        if (x.size() > max.size()) \n",
    "            max = x; \n",
    "  \n",
    "    // max will contain LIS \n",
    "    printLIS(max); \n",
    "} "
   ]
  },
  {
   "cell_type": "code",
   "execution_count": null,
   "metadata": {},
   "outputs": [],
   "source": [
    "  \n",
    "// Driver function \n",
    "void exemplo_1() \n",
    "{ \n",
    "    int arr[] = { 3, 2, 6, 4, 5, 1 }; \n",
    "    int n = sizeof(arr) / sizeof(arr[0]); \n",
    "  \n",
    "    // construct and print LIS of arr \n",
    "    constructPrintLIS(arr, n); \n",
    "   \n",
    "} "
   ]
  },
  {
   "cell_type": "code",
   "execution_count": null,
   "metadata": {},
   "outputs": [],
   "source": [
    "exemplo_1()"
   ]
  },
  {
   "cell_type": "code",
   "execution_count": null,
   "metadata": {},
   "outputs": [],
   "source": [
    "/* Driver program to test above function */\n",
    "void exemplo_2()  \n",
    "{  \n",
    "    int arr[] = { 10, 22, 9, 33, 21, 50, 41, 60 };  \n",
    "    int n = sizeof(arr)/sizeof(arr[0]);\n",
    "    \n",
    "    // construct and print LIS of arr \n",
    "    constructPrintLIS(arr, n); \n",
    "  \n",
    "} "
   ]
  },
  {
   "cell_type": "code",
   "execution_count": null,
   "metadata": {},
   "outputs": [],
   "source": [
    "exemplo_2()"
   ]
  },
  {
   "cell_type": "code",
   "execution_count": null,
   "metadata": {},
   "outputs": [],
   "source": [
    "/* Driver program to test above function */\n",
    "void exemplo_slides()  \n",
    "{  \n",
    "    int arr[] = { 5, 2, 8, 6, 3, 6, 9, 7 };  \n",
    "    int n = sizeof(arr)/sizeof(arr[0]);\n",
    "    \n",
    "    // construct and print LIS of arr \n",
    "    constructPrintLIS(arr, n); \n",
    "  \n",
    "} "
   ]
  },
  {
   "cell_type": "code",
   "execution_count": null,
   "metadata": {},
   "outputs": [],
   "source": [
    "exemplo_slides()"
   ]
  },
  {
   "cell_type": "code",
   "execution_count": null,
   "metadata": {},
   "outputs": [],
   "source": []
  }
 ],
 "metadata": {
  "kernelspec": {
   "display_name": "C++17",
   "language": "C++17",
   "name": "xcpp17"
  },
  "language_info": {
   "codemirror_mode": "text/x-c++src",
   "file_extension": ".cpp",
   "mimetype": "text/x-c++src",
   "name": "c++",
   "version": "17"
  }
 },
 "nbformat": 4,
 "nbformat_minor": 4
}
