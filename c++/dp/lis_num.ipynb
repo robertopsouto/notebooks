{
 "cells": [
  {
   "cell_type": "markdown",
   "metadata": {},
   "source": [
    "# Programação Dinâmica: problema de subsequência mais longa"
   ]
  },
  {
   "cell_type": "markdown",
   "metadata": {},
   "source": [
    "### Código original de https://www.geeksforgeeks.org/longest-increasing-subsequence-dp-3/"
   ]
  },
  {
   "cell_type": "code",
   "execution_count": 1,
   "metadata": {},
   "outputs": [],
   "source": [
    "/* Dynamic Programming C++ implementation  \n",
    "   of LIS problem */\n",
    "#include<bits/stdc++.h>  \n",
    "using namespace std; \n",
    "    "
   ]
  },
  {
   "cell_type": "code",
   "execution_count": 2,
   "metadata": {},
   "outputs": [],
   "source": [
    "/* lis() returns the length of the longest   \n",
    "  increasing subsequence in arr[] of size n */\n",
    "int lis( int arr[], int n )  \n",
    "{  \n",
    "    int lis[n]; \n",
    "   \n",
    "    lis[0] = 1;    \n",
    "  \n",
    "    /* Compute optimized LIS values in  \n",
    "       bottom up manner */\n",
    "    for (int i = 1; i < n; i++ )  \n",
    "    { \n",
    "        lis[i] = 1; \n",
    "        for (int j = 0; j < i; j++ )   \n",
    "            if ( arr[i] > arr[j] && lis[i] < lis[j] + 1)  \n",
    "                lis[i] = lis[j] + 1;  \n",
    "    } \n",
    "  \n",
    "    // Return maximum value in lis[] \n",
    "    return *max_element(lis, lis+n); \n",
    "}"
   ]
  },
  {
   "cell_type": "code",
   "execution_count": 3,
   "metadata": {},
   "outputs": [],
   "source": [
    "/* Driver program to test above function */\n",
    "void exemplo()  \n",
    "{  \n",
    "    int arr[] = { 10, 22, 9, 33, 21, 50, 41, 60 };  \n",
    "    int n = sizeof(arr)/sizeof(arr[0]);  \n",
    "    printf(\"Length of lis is %d\\n\", lis( arr, n ) );  \n",
    "  \n",
    "} "
   ]
  },
  {
   "cell_type": "code",
   "execution_count": 4,
   "metadata": {},
   "outputs": [
    {
     "name": "stdout",
     "output_type": "stream",
     "text": [
      "Length of lis is 5\n"
     ]
    }
   ],
   "source": [
    "exemplo()"
   ]
  },
  {
   "cell_type": "code",
   "execution_count": 5,
   "metadata": {},
   "outputs": [],
   "source": [
    "/* Driver program to test above function */\n",
    "void exemplo_slides()  \n",
    "{  \n",
    "    int arr[] = { 5, 2, 8, 6, 3, 6, 9, 7 };  \n",
    "    int n = sizeof(arr)/sizeof(arr[0]);  \n",
    "    printf(\"Length of lis is %d\\n\", lis( arr, n ) );  \n",
    "  \n",
    "} "
   ]
  },
  {
   "cell_type": "code",
   "execution_count": 6,
   "metadata": {},
   "outputs": [
    {
     "name": "stdout",
     "output_type": "stream",
     "text": [
      "Length of lis is 4\n"
     ]
    }
   ],
   "source": [
    "exemplo_slides()"
   ]
  },
  {
   "cell_type": "code",
   "execution_count": null,
   "metadata": {},
   "outputs": [],
   "source": []
  }
 ],
 "metadata": {
  "kernelspec": {
   "display_name": "C++17",
   "language": "C++17",
   "name": "xcpp17"
  },
  "language_info": {
   "codemirror_mode": "text/x-c++src",
   "file_extension": ".cpp",
   "mimetype": "text/x-c++src",
   "name": "c++",
   "version": "17"
  }
 },
 "nbformat": 4,
 "nbformat_minor": 4
}
