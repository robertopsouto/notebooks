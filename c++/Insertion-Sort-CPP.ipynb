{
 "cells": [
  {
   "cell_type": "markdown",
   "metadata": {},
   "source": [
    "# GA-026: Algoritmos"
   ]
  },
  {
   "cell_type": "markdown",
   "metadata": {
    "tags": []
   },
   "source": [
    "## Ordenação por Inserção (Insertion Sort)"
   ]
  },
  {
   "cell_type": "code",
   "execution_count": 9,
   "metadata": {},
   "outputs": [],
   "source": [
    "// C++ program for insertion sort  \n",
    "#include <bits/stdc++.h> \n",
    "using namespace std; "
   ]
  },
  {
   "cell_type": "code",
   "execution_count": 10,
   "metadata": {
    "tags": []
   },
   "outputs": [
    {
     "name": "stderr",
     "output_type": "stream",
     "text": [
      "\u001b[1minput_line_22:2:6: \u001b[0m\u001b[0;1;31merror: \u001b[0m\u001b[1mredefinition of 'insertionSort'\u001b[0m\n",
      "void insertionSort(int arr[], int n)  \n",
      "\u001b[0;1;32m     ^\n",
      "\u001b[0m\u001b[1minput_line_10:2:6: \u001b[0m\u001b[0;1;30mnote: \u001b[0mprevious definition is here\u001b[0m\n",
      "void insertionSort(int arr[], int n)  \n",
      "\u001b[0;1;32m     ^\n",
      "\u001b[0m"
     ]
    },
    {
     "ename": "Interpreter Error",
     "evalue": "",
     "output_type": "error",
     "traceback": [
      "Interpreter Error: "
     ]
    }
   ],
   "source": [
    "\n",
    "/* Function to sort an array using insertion sort*/\n",
    "void insertionSort(int arr[], int n)  \n",
    "{  \n",
    "    int i, key, j;  \n",
    "    for (i = 1; i < n; i++) \n",
    "    {  \n",
    "        key = arr[i];  \n",
    "        j = i - 1;  \n",
    "  \n",
    "        /* Move elements of arr[0..i-1], that are  \n",
    "        greater than key, to one position ahead  \n",
    "        of their current position */\n",
    "        while (j >= 0 && arr[j] > key) \n",
    "        {  \n",
    "            arr[j + 1] = arr[j];  \n",
    "            j = j - 1;  \n",
    "        }  \n",
    "        arr[j + 1] = key;  \n",
    "    }  \n",
    "}  "
   ]
  },
  {
   "cell_type": "code",
   "execution_count": null,
   "metadata": {},
   "outputs": [],
   "source": [
    "// A utility function to print an array of size n  \n",
    "void printArray(int arr[], int n)  \n",
    "{  \n",
    "    int i;  \n",
    "    for (i = 0; i < n; i++)  \n",
    "        cout << arr[i] << \" \";  \n",
    "    cout << endl; \n",
    "}  "
   ]
  },
  {
   "cell_type": "code",
   "execution_count": null,
   "metadata": {
    "tags": []
   },
   "outputs": [],
   "source": [
    "    int arr[] = { 12, 11, 13, 5, 6 };  \n",
    "    int n = sizeof(arr) / sizeof(arr[0]);  "
   ]
  },
  {
   "cell_type": "code",
   "execution_count": 11,
   "metadata": {},
   "outputs": [
    {
     "name": "stdout",
     "output_type": "stream",
     "text": [
      "5 6 11 12 13 \n"
     ]
    }
   ],
   "source": [
    "insertionSort(arr, n);  \n",
    "printArray(arr, n);  "
   ]
  },
  {
   "cell_type": "code",
   "execution_count": null,
   "metadata": {},
   "outputs": [],
   "source": []
  }
 ],
 "metadata": {
  "kernelspec": {
   "display_name": "C++14",
   "language": "C++14",
   "name": "xcpp14"
  },
  "language_info": {
   "codemirror_mode": "text/x-c++src",
   "file_extension": ".cpp",
   "mimetype": "text/x-c++src",
   "name": "c++",
   "version": "14"
  }
 },
 "nbformat": 4,
 "nbformat_minor": 4
}
