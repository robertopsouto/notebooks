{
 "cells": [
  {
   "cell_type": "markdown",
   "metadata": {},
   "source": [
    "# Lecture 9: graphs!\n",
    "\n",
    "In this notebook we will implement a few classes (CS161Vertex, CS161Graph) that we'll use repeatedly.\n",
    "\n",
    "We'll also implement BFS and DFS, alsong with a few applications"
   ]
  },
  {
   "cell_type": "code",
   "execution_count": 1,
   "metadata": {},
   "outputs": [],
   "source": [
    "# First, Vertex and Graph classes for directed graphs\n",
    "\n",
    "class CS161Vertex:\n",
    "    def __init__(self, v):\n",
    "        self.inNeighbors = []\n",
    "        self.outNeighbors = []\n",
    "        self.value = v\n",
    "        # useful for DFS\n",
    "        self.inTime = None\n",
    "        self.outTime = None\n",
    "        self.status = \"unvisited\"\n",
    "        \n",
    "    def hasOutNeighbor(self,v):\n",
    "        if v in self.outNeighbors:\n",
    "            return True\n",
    "        return False\n",
    "        \n",
    "    def hasInNeighbor(self,v):\n",
    "        if v in self.inNeighbors:\n",
    "            return True\n",
    "        return False\n",
    "    \n",
    "    def hasNeighbor(self,v):\n",
    "        if v in self.inNeighbors or v in self.outNeighbors:\n",
    "            return True\n",
    "        return False\n",
    "    \n",
    "    def getOutNeighbors(self):\n",
    "        return self.outNeighbors\n",
    "    \n",
    "    def getInNeighbors(self):\n",
    "        return self.inNeighbors\n",
    "        \n",
    "    def addOutNeighbor(self,v):\n",
    "        self.outNeighbors.append(v)\n",
    "    \n",
    "    def addInNeighbor(self,v):\n",
    "        self.inNeighbors.append(v)\n",
    "    \n",
    "    def __str__(self):\n",
    "        return str(self.value) \n",
    "        \n",
    "# This is a directed graph class for use in CS161.\n",
    "# It can also be used as an undirected graph by adding edges in both directions.\n",
    "class CS161Graph:\n",
    "    def __init__(self):\n",
    "        self.vertices = []\n",
    "\n",
    "    def addVertex(self,n):\n",
    "        self.vertices.append(n)\n",
    "        \n",
    "    # add a directed edge from CS161Node u to CS161Node v\n",
    "    def addDiEdge(self,u,v):\n",
    "        u.addOutNeighbor(v)\n",
    "        v.addInNeighbor(u)\n",
    "        \n",
    "    # add edges in both directions between u and v\n",
    "    def addBiEdge(self,u,v):\n",
    "        self.addDiEdge(u,v)\n",
    "        self.addDiEdge(v,u)\n",
    "        \n",
    "    # get a list of all the directed edges\n",
    "    # directed edges are a list of two vertices\n",
    "    def getDirEdges(self):\n",
    "        ret = []\n",
    "        for v in self.vertices:\n",
    "            ret += [ [v, u] for u in v.outNeighbors ]\n",
    "        return ret\n",
    "    \n",
    "    def __str__(self):\n",
    "        ret = \"CS161Graph with:\\n\"\n",
    "        ret += \"\\t Vertices:\\n\\t\"\n",
    "        for v in self.vertices:\n",
    "            ret += str(v) + \",\"\n",
    "        ret += \"\\n\"\n",
    "        ret += \"\\t Edges:\\n\\t\"\n",
    "        for a,b in self.getDirEdges():\n",
    "            ret += \"(\" + str(a) + \",\" + str(b) + \") \"\n",
    "        ret += \"\\n\"\n",
    "        return ret"
   ]
  },
  {
   "cell_type": "code",
   "execution_count": 2,
   "metadata": {},
   "outputs": [
    {
     "name": "stdout",
     "output_type": "stream",
     "text": [
      "CS161Graph with:\n",
      "\t Vertices:\n",
      "\t0,1,2,3,4,5,6,7,8,9,\n",
      "\t Edges:\n",
      "\t(0,1) (1,2) (2,3) (3,4) (4,5) (5,6) (6,7) (7,8) (8,9) \n",
      "\n"
     ]
    }
   ],
   "source": [
    "# Quick sanity-check\n",
    "G = CS161Graph()\n",
    "for i in range(10):\n",
    "    G.addVertex( CS161Vertex(i) )\n",
    "V = G.vertices\n",
    "for i in range(9):\n",
    "    G.addDiEdge( V[i], V[i+1] )\n",
    "print(G)"
   ]
  },
  {
   "cell_type": "markdown",
   "metadata": {
    "collapsed": true
   },
   "source": [
    "## Depth-first search"
   ]
  },
  {
   "cell_type": "code",
   "execution_count": 3,
   "metadata": {},
   "outputs": [],
   "source": [
    "def DFS_helper( w, currentTime, verbose ):\n",
    "    if verbose:\n",
    "        print(\"Time\", currentTime, \":\\t entering\", w)\n",
    "    w.inTime = currentTime\n",
    "    currentTime += 1\n",
    "    w.status = \"inprogress\"\n",
    "    for v in w.getOutNeighbors():\n",
    "        if v.status == \"unvisited\":\n",
    "            currentTime = DFS_helper(v, currentTime, verbose)\n",
    "            currentTime += 1\n",
    "    w.outTime = currentTime\n",
    "    w.status = \"done\"\n",
    "    if verbose:\n",
    "        print(\"Time\", currentTime, \":\\t leaving\", w)\n",
    "    return currentTime\n",
    "        \n",
    "def DFS( w, G, verbose=False ):\n",
    "    for v in G.vertices:\n",
    "        v.status = \"unvisited\"\n",
    "        v.inTime = None\n",
    "        v.outTime = None\n",
    "    return DFS_helper( w, 0, verbose )"
   ]
  },
  {
   "cell_type": "raw",
   "metadata": {},
   "source": [
    "V=DFS( 3, G, True )"
   ]
  },
  {
   "cell_type": "code",
   "execution_count": 4,
   "metadata": {},
   "outputs": [
    {
     "name": "stdout",
     "output_type": "stream",
     "text": [
      "0\n",
      "1\n",
      "2\n",
      "3\n",
      "4\n",
      "5\n",
      "6\n",
      "7\n",
      "8\n",
      "9\n"
     ]
    }
   ],
   "source": [
    "for v in V:\n",
    "    print(v)"
   ]
  },
  {
   "cell_type": "markdown",
   "metadata": {},
   "source": [
    "## BFS"
   ]
  },
  {
   "cell_type": "code",
   "execution_count": 5,
   "metadata": {},
   "outputs": [],
   "source": [
    "def BFS(w, G):\n",
    "    for v in G.vertices:\n",
    "        v.status = \"unvisited\"\n",
    "    n = len(G.vertices)\n",
    "    Ls = [ [] for i in range(n) ]\n",
    "    Ls[0] = [w]\n",
    "    w.status = \"visited\"\n",
    "    for i in range(n):\n",
    "        for u in Ls[i]:\n",
    "            for v in u.getOutNeighbors():\n",
    "                if v.status == \"unvisited\":\n",
    "                    v.status = \"visited\"\n",
    "                    Ls[i+1].append(v)\n",
    "    return Ls"
   ]
  },
  {
   "cell_type": "markdown",
   "metadata": {},
   "source": [
    "### Application: distance"
   ]
  },
  {
   "cell_type": "code",
   "execution_count": 6,
   "metadata": {},
   "outputs": [
    {
     "name": "stdout",
     "output_type": "stream",
     "text": [
      "CS161Graph with:\n",
      "\t Vertices:\n",
      "\t0,1,2,3,4,5,6,\n",
      "\t Edges:\n",
      "\t(0,2) (0,4) (0,6) (1,3) (1,4) (2,0) (2,3) (2,6) (3,1) (3,2) (4,0) (4,1) (4,5) (5,4) (5,6) (6,0) (6,2) (6,5) \n",
      "\n"
     ]
    }
   ],
   "source": [
    "# This is the graph that was on the slides in class (vertex 1 was Kevin Bacon)\n",
    "G = CS161Graph()\n",
    "for i in range(7):\n",
    "    G.addVertex( CS161Vertex( i ) ) \n",
    "V = G.vertices\n",
    "for pairs in [ (0,2), (0,4), (0, 6), (1, 3), (1, 4), (2, 3), (2, 6), (4, 5), (5,6) ]:\n",
    "    G.addBiEdge( V[pairs[0]], V[pairs[1]] )\n",
    "print(G)"
   ]
  },
  {
   "cell_type": "code",
   "execution_count": 7,
   "metadata": {},
   "outputs": [
    {
     "name": "stdout",
     "output_type": "stream",
     "text": [
      "Level 0 :\n",
      "\t 1\n",
      "Level 1 :\n",
      "\t 3\n",
      "\t 4\n",
      "Level 2 :\n",
      "\t 2\n",
      "\t 0\n",
      "\t 5\n",
      "Level 3 :\n",
      "\t 6\n",
      "Level 4 :\n",
      "Level 5 :\n",
      "Level 6 :\n",
      "distance from 1 to 6 is 3\n"
     ]
    }
   ],
   "source": [
    "levels = BFS(G.vertices[1], G)\n",
    "for i in range(len(levels)):\n",
    "    print(\"Level\", i, \":\")\n",
    "    for j in levels[i]:\n",
    "        print(\"\\t\", j)\n",
    "    \n",
    "# now what's the distance from node 0 to node 6?\n",
    "for i in range(len(levels)):\n",
    "    if G.vertices[6] in levels[i]:\n",
    "        print(\"distance from 1 to 6 is\", i)\n",
    "        break"
   ]
  }
 ],
 "metadata": {
  "kernelspec": {
   "display_name": "Python 3",
   "language": "python",
   "name": "python3"
  },
  "language_info": {
   "codemirror_mode": {
    "name": "ipython",
    "version": 3
   },
   "file_extension": ".py",
   "mimetype": "text/x-python",
   "name": "python",
   "nbconvert_exporter": "python",
   "pygments_lexer": "ipython3",
   "version": "3.7.7"
  }
 },
 "nbformat": 4,
 "nbformat_minor": 2
}
