{
 "cells": [
  {
   "cell_type": "markdown",
   "metadata": {},
   "source": [
    "# Busca em Profundidade"
   ]
  },
  {
   "cell_type": "markdown",
   "metadata": {},
   "source": [
    "### Código original de https://www.geeksforgeeks.org/depth-first-search-or-dfs-for-a-graph/"
   ]
  },
  {
   "cell_type": "code",
   "execution_count": null,
   "metadata": {},
   "outputs": [],
   "source": [
    "// C++ program to print DFS traversal for a given given graph \n",
    "#include<bits/stdc++.h> \n",
    "using namespace std; \n",
    "  \n",
    "class Graph \n",
    "{ \n",
    "    int V;    // No. of vertices \n",
    "    list<int> *adj;    // Pointer to an array containing adjacency lists \n",
    "    void DFSUtil(int v, bool visited[]);  // A function used by DFS \n",
    "public: \n",
    "    Graph(int V);   // Constructor \n",
    "    void addEdge(int v, int w);   // function to add an edge to graph \n",
    "    void DFS();    // prints DFS traversal of the complete graph \n",
    "}; \n",
    "  "
   ]
  },
  {
   "cell_type": "code",
   "execution_count": null,
   "metadata": {},
   "outputs": [],
   "source": [
    "Graph::Graph(int V) \n",
    "{ \n",
    "    this->V = V; \n",
    "    adj = new list<int>[V]; \n",
    "} \n",
    "  "
   ]
  },
  {
   "cell_type": "code",
   "execution_count": null,
   "metadata": {},
   "outputs": [],
   "source": [
    "void Graph::addEdge(int v, int w) \n",
    "{ \n",
    "    adj[v].push_back(w); // Add w to v’s list. \n",
    "} \n",
    "  "
   ]
  },
  {
   "cell_type": "code",
   "execution_count": null,
   "metadata": {},
   "outputs": [],
   "source": [
    "void Graph::DFSUtil(int v, bool visited[]) \n",
    "{ \n",
    "    // Mark the current node as visited and print it \n",
    "    visited[v] = true; \n",
    "    cout << v << \" \"; \n",
    "  \n",
    "    // Recur for all the vertices adjacent to this vertex \n",
    "    list<int>::iterator i; \n",
    "    for(i = adj[v].begin(); i != adj[v].end(); ++i) \n",
    "        if(!visited[*i]) \n",
    "            DFSUtil(*i, visited); \n",
    "} \n",
    "  "
   ]
  },
  {
   "cell_type": "code",
   "execution_count": null,
   "metadata": {},
   "outputs": [],
   "source": [
    "// The function to do DFS traversal. It uses recursive DFSUtil() \n",
    "void Graph::DFS() \n",
    "{ \n",
    "    // Mark all the vertices as not visited \n",
    "    bool *visited = new bool[V]; \n",
    "    for (int i = 0; i < V; i++) \n",
    "        visited[i] = false; \n",
    "  \n",
    "    // Call the recursive helper function to print DFS traversal \n",
    "    // starting from all vertices one by one \n",
    "    for (int i = 0; i < V; i++) \n",
    "        if (visited[i] == false) \n",
    "            DFSUtil(i, visited); \n",
    "} "
   ]
  },
  {
   "cell_type": "markdown",
   "metadata": {},
   "source": [
    "## Exemplo"
   ]
  },
  {
   "cell_type": "markdown",
   "metadata": {},
   "source": [
    "<img src=\"bfs.png\" width=\"300\">"
   ]
  },
  {
   "cell_type": "code",
   "execution_count": null,
   "metadata": {},
   "outputs": [],
   "source": [
    "// Driver code \n",
    "void exemplo()\n",
    "{\n",
    "    // Create a graph given in the above diagram \n",
    "    Graph g(4);\n",
    "    g.addEdge(0, 1); \n",
    "    g.addEdge(0, 2); \n",
    "    g.addEdge(1, 2); \n",
    "    g.addEdge(2, 0); \n",
    "    g.addEdge(2, 3); \n",
    "    g.addEdge(3, 3); \n",
    "\n",
    "    cout << \"Following is Depth First Traversal\\n\";\n",
    "    g.DFS();\n",
    "\n",
    "}"
   ]
  },
  {
   "cell_type": "code",
   "execution_count": null,
   "metadata": {},
   "outputs": [],
   "source": [
    "exemplo()"
   ]
  },
  {
   "cell_type": "markdown",
   "metadata": {},
   "source": [
    "## Exemplo dos slides"
   ]
  },
  {
   "cell_type": "markdown",
   "metadata": {},
   "source": [
    "<img src=\"dag-demo.png\" width=\"360\">"
   ]
  },
  {
   "cell_type": "code",
   "execution_count": null,
   "metadata": {},
   "outputs": [],
   "source": [
    "// Driver code \n",
    "void exemplo_slides()\n",
    "{\n",
    "    // Create a graph given in the above diagram \n",
    "    Graph g(7);\n",
    "    g.addEdge(0, 1); \n",
    "    g.addEdge(0, 2);\n",
    "    g.addEdge(0, 5); \n",
    "    g.addEdge(1, 4); \n",
    "    g.addEdge(3, 2); \n",
    "    g.addEdge(3, 4); \n",
    "    g.addEdge(3, 5); \n",
    "    g.addEdge(3, 6); \n",
    "    g.addEdge(5, 2);\n",
    "    g.addEdge(6, 0);\n",
    "    g.addEdge(6, 4);\n",
    "\n",
    "    cout << \"Following is Depth First Traversal\\n\";\n",
    "    g.DFS();\n",
    "\n",
    "}\n"
   ]
  },
  {
   "cell_type": "code",
   "execution_count": null,
   "metadata": {},
   "outputs": [],
   "source": [
    "exemplo_slides()"
   ]
  },
  {
   "cell_type": "code",
   "execution_count": null,
   "metadata": {},
   "outputs": [],
   "source": []
  }
 ],
 "metadata": {
  "kernelspec": {
   "display_name": "C++17",
   "language": "C++17",
   "name": "xcpp17"
  },
  "language_info": {
   "codemirror_mode": "text/x-c++src",
   "file_extension": ".cpp",
   "mimetype": "text/x-c++src",
   "name": "c++",
   "version": "17"
  }
 },
 "nbformat": 4,
 "nbformat_minor": 4
}
