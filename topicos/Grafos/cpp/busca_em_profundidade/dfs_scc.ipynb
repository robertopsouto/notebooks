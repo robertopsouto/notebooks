{
 "cells": [
  {
   "cell_type": "markdown",
   "metadata": {},
   "source": [
    "# Busca em Profundidade: Componentes Fortemente Conexas"
   ]
  },
  {
   "cell_type": "markdown",
   "metadata": {},
   "source": [
    "### Código original de https://www.geeksforgeeks.org/strongly-connected-components/"
   ]
  },
  {
   "cell_type": "code",
   "execution_count": 1,
   "metadata": {},
   "outputs": [],
   "source": [
    "// C++ Implementation of Kosaraju's algorithm to print all SCCs \n",
    "#include <iostream> \n",
    "#include <list> \n",
    "#include <stack> \n",
    "using namespace std; \n",
    "  \n",
    "class Graph \n",
    "{ \n",
    "    int V;    // No. of vertices \n",
    "    list<int> *adj;    // An array of adjacency lists \n",
    "  \n",
    "    // Fills Stack with vertices (in increasing order of finishing \n",
    "    // times). The top element of stack has the maximum finishing  \n",
    "    // time \n",
    "    void fillOrder(int v, bool visited[], stack<int> &Stack); \n",
    "  \n",
    "    // A recursive function to print DFS starting from v \n",
    "    void DFSUtil(int v, bool visited[]); \n",
    "public: \n",
    "    Graph(int V); \n",
    "    void addEdge(int v, int w); \n",
    "  \n",
    "    // The main function that finds and prints strongly connected \n",
    "    // components \n",
    "    void printSCCs(); \n",
    "  \n",
    "    // Function that returns reverse (or transpose) of this graph \n",
    "    Graph getTranspose(); \n",
    "}; \n",
    "  "
   ]
  },
  {
   "cell_type": "code",
   "execution_count": 2,
   "metadata": {},
   "outputs": [],
   "source": [
    "Graph::Graph(int V) \n",
    "{ \n",
    "    this->V = V; \n",
    "    adj = new list<int>[V]; \n",
    "} \n",
    "  "
   ]
  },
  {
   "cell_type": "code",
   "execution_count": 3,
   "metadata": {},
   "outputs": [],
   "source": [
    "// A recursive function to print DFS starting from v \n",
    "void Graph::DFSUtil(int v, bool visited[]) \n",
    "{ \n",
    "    // Mark the current node as visited and print it \n",
    "    visited[v] = true; \n",
    "    cout << v << \" \"; \n",
    "  \n",
    "    // Recur for all the vertices adjacent to this vertex \n",
    "    list<int>::iterator i; \n",
    "    for (i = adj[v].begin(); i != adj[v].end(); ++i) \n",
    "        if (!visited[*i]) \n",
    "            DFSUtil(*i, visited); \n",
    "} \n",
    "  "
   ]
  },
  {
   "cell_type": "code",
   "execution_count": 4,
   "metadata": {},
   "outputs": [],
   "source": [
    "Graph Graph::getTranspose() \n",
    "{ \n",
    "    Graph g(V); \n",
    "    for (int v = 0; v < V; v++) \n",
    "    { \n",
    "        // Recur for all the vertices adjacent to this vertex \n",
    "        list<int>::iterator i; \n",
    "        for(i = adj[v].begin(); i != adj[v].end(); ++i) \n",
    "        { \n",
    "            g.adj[*i].push_back(v); \n",
    "        } \n",
    "    } \n",
    "    return g; \n",
    "} \n",
    "  "
   ]
  },
  {
   "cell_type": "code",
   "execution_count": 5,
   "metadata": {},
   "outputs": [],
   "source": [
    "void Graph::addEdge(int v, int w) \n",
    "{ \n",
    "    adj[v].push_back(w); // Add w to v’s list. \n",
    "} \n",
    "  "
   ]
  },
  {
   "cell_type": "code",
   "execution_count": 6,
   "metadata": {},
   "outputs": [],
   "source": [
    "void Graph::fillOrder(int v, bool visited[], stack<int> &Stack) \n",
    "{ \n",
    "    // Mark the current node as visited and print it \n",
    "    visited[v] = true; \n",
    "  \n",
    "    // Recur for all the vertices adjacent to this vertex \n",
    "    list<int>::iterator i; \n",
    "    for(i = adj[v].begin(); i != adj[v].end(); ++i) \n",
    "        if(!visited[*i]) \n",
    "            fillOrder(*i, visited, Stack); \n",
    "  \n",
    "    // All vertices reachable from v are processed by now, push v  \n",
    "    Stack.push(v); \n",
    "} \n",
    "  "
   ]
  },
  {
   "cell_type": "code",
   "execution_count": 7,
   "metadata": {},
   "outputs": [],
   "source": [
    "// The main function that finds and prints all strongly connected  \n",
    "// components \n",
    "void Graph::printSCCs() \n",
    "{ \n",
    "    stack<int> Stack; \n",
    "  \n",
    "    // Mark all the vertices as not visited (For first DFS) \n",
    "    bool *visited = new bool[V]; \n",
    "    for(int i = 0; i < V; i++) \n",
    "        visited[i] = false; \n",
    "  \n",
    "    // Fill vertices in stack according to their finishing times \n",
    "    for(int i = 0; i < V; i++) \n",
    "        if(visited[i] == false) \n",
    "            fillOrder(i, visited, Stack); \n",
    "  \n",
    "    // Create a reversed graph \n",
    "    Graph gr = getTranspose(); \n",
    "  \n",
    "    // Mark all the vertices as not visited (For second DFS) \n",
    "    for(int i = 0; i < V; i++) \n",
    "        visited[i] = false; \n",
    "  \n",
    "    // Now process all vertices in order defined by Stack \n",
    "    while (Stack.empty() == false) \n",
    "    { \n",
    "        // Pop a vertex from stack \n",
    "        int v = Stack.top(); \n",
    "        Stack.pop(); \n",
    "  \n",
    "        // Print Strongly connected component of the popped vertex \n",
    "        if (visited[v] == false) \n",
    "        { \n",
    "            gr.DFSUtil(v, visited); \n",
    "            cout << endl; \n",
    "        } \n",
    "    } \n",
    "} "
   ]
  },
  {
   "cell_type": "markdown",
   "metadata": {},
   "source": [
    "## Exemplo"
   ]
  },
  {
   "cell_type": "markdown",
   "metadata": {},
   "source": [
    "<img src=\"SCC.png\" width=\"360\">"
   ]
  },
  {
   "cell_type": "markdown",
   "metadata": {},
   "source": [
    "<img src=\"SCCGraph2.png\" width=\"360\">"
   ]
  },
  {
   "cell_type": "code",
   "execution_count": 8,
   "metadata": {},
   "outputs": [],
   "source": [
    "// Driver code \n",
    "void exemplo()\n",
    "{\n",
    "   // Create a graph given in the above diagram \n",
    "    Graph g(5); \n",
    "    g.addEdge(1, 0); \n",
    "    g.addEdge(0, 2); \n",
    "    g.addEdge(2, 1); \n",
    "    g.addEdge(0, 3); \n",
    "    g.addEdge(3, 4); \n",
    "  \n",
    "    cout << \"Following are strongly connected components in \"\n",
    "            \"given graph \\n\"; \n",
    "    //t0...\n",
    "    g.printSCCs();     \n",
    "    //tf...\n",
    "}\n"
   ]
  },
  {
   "cell_type": "code",
   "execution_count": 9,
   "metadata": {},
   "outputs": [
    {
     "name": "stdout",
     "output_type": "stream",
     "text": [
      "Following are strongly connected components in given graph \n",
      "0 1 2 \n",
      "3 \n",
      "4 \n"
     ]
    }
   ],
   "source": [
    "exemplo()"
   ]
  },
  {
   "cell_type": "markdown",
   "metadata": {},
   "source": [
    "## Exemplo dos Slides"
   ]
  },
  {
   "cell_type": "markdown",
   "metadata": {},
   "source": [
    "<img src=\"scc-graph.png\" width=\"480\">"
   ]
  },
  {
   "cell_type": "code",
   "execution_count": 10,
   "metadata": {},
   "outputs": [],
   "source": [
    "// Driver code \n",
    "void exemplo_slides()\n",
    "{\n",
    "   // Create a graph given in the above diagram \n",
    "    Graph g(13); \n",
    "    g.addEdge(0, 1); \n",
    "    g.addEdge(0, 5); \n",
    "    g.addEdge(2, 0); \n",
    "    g.addEdge(2, 3); \n",
    "    g.addEdge(3, 2); \n",
    "    g.addEdge(3, 5);\n",
    "    g.addEdge(4, 2);\n",
    "    g.addEdge(4, 3);\n",
    "    g.addEdge(5, 4);\n",
    "    g.addEdge(6, 0);\n",
    "    g.addEdge(6, 4);\n",
    "    g.addEdge(6, 8);\n",
    "    g.addEdge(6, 9);\n",
    "    g.addEdge(7, 6);\n",
    "    g.addEdge(7, 9);\n",
    "    g.addEdge(8, 6);\n",
    "    g.addEdge(9, 10);\n",
    "    g.addEdge(9, 11);\n",
    "    g.addEdge(10,12);\n",
    "    g.addEdge(11, 4);\n",
    "    g.addEdge(11,12);\n",
    "    g.addEdge(12, 9);\n",
    "    \n",
    "  \n",
    "    cout << \"Following are strongly connected components in \"\n",
    "            \"given graph \\n\"; \n",
    "    g.printSCCs();     \n",
    "}\n"
   ]
  },
  {
   "cell_type": "code",
   "execution_count": 11,
   "metadata": {},
   "outputs": [
    {
     "name": "stdout",
     "output_type": "stream",
     "text": [
      "Following are strongly connected components in given graph \n",
      "7 \n",
      "6 8 \n",
      "9 12 10 11 \n",
      "0 2 3 4 5 \n",
      "1 \n"
     ]
    }
   ],
   "source": [
    "exemplo_slides()"
   ]
  },
  {
   "cell_type": "code",
   "execution_count": null,
   "metadata": {},
   "outputs": [],
   "source": [
    "0 1 2 3 4 5 6 7 8 9\n",
    "A B C D E F G H I J\n"
   ]
  },
  {
   "cell_type": "code",
   "execution_count": 8,
   "metadata": {},
   "outputs": [],
   "source": [
    "// Driver code \n",
    "void exemplo_slides2()\n",
    "{\n",
    "   // Create a graph given in the above diagram \n",
    "    Graph g(10); \n",
    "    g.addEdge(0, 2); \n",
    "    g.addEdge(0, 7); \n",
    "    g.addEdge(1, 0); \n",
    "    g.addEdge(1, 6); \n",
    "    g.addEdge(2, 3); \n",
    "    g.addEdge(3, 5);\n",
    "    g.addEdge(4, 0);\n",
    "    g.addEdge(4, 8);\n",
    "    g.addEdge(5, 9);\n",
    "    g.addEdge(6, 8);\n",
    "    g.addEdge(7, 5);\n",
    "    g.addEdge(7, 6);\n",
    "    g.addEdge(8, 7);\n",
    "    g.addEdge(9, 2);    \n",
    "  \n",
    "    cout << \"Following are strongly connected components in \"\n",
    "            \"given graph \\n\"; \n",
    "    g.printSCCs();     \n",
    "}\n"
   ]
  },
  {
   "cell_type": "code",
   "execution_count": 9,
   "metadata": {},
   "outputs": [
    {
     "name": "stdout",
     "output_type": "stream",
     "text": [
      "Following are strongly connected components in given graph \n",
      "4 \n",
      "1 \n",
      "0 \n",
      "7 8 6 \n",
      "2 9 5 3 \n"
     ]
    }
   ],
   "source": [
    "exemplo_slides2()"
   ]
  },
  {
   "cell_type": "code",
   "execution_count": null,
   "metadata": {},
   "outputs": [],
   "source": []
  }
 ],
 "metadata": {
  "kernelspec": {
   "display_name": "C++17",
   "language": "C++17",
   "name": "xcpp17"
  },
  "language_info": {
   "codemirror_mode": "text/x-c++src",
   "file_extension": ".cpp",
   "mimetype": "text/x-c++src",
   "name": "c++",
   "version": "17"
  }
 },
 "nbformat": 4,
 "nbformat_minor": 4
}
