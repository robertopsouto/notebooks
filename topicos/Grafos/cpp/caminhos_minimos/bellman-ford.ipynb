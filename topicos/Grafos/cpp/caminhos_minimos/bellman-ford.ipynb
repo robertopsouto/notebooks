{
 "cells": [
  {
   "cell_type": "markdown",
   "metadata": {},
   "source": [
    "# Algoritmo de Bellman-Ford"
   ]
  },
  {
   "cell_type": "markdown",
   "metadata": {},
   "source": [
    "### Código original de https://www.geeksforgeeks.org/bellman-ford-algorithm-dp-23/"
   ]
  },
  {
   "cell_type": "code",
   "execution_count": null,
   "metadata": {},
   "outputs": [],
   "source": [
    "// A C++ program for Bellman-Ford's single source \n",
    "// shortest path algorithm. \n",
    "#include <bits/stdc++.h> \n",
    "  \n",
    "// a structure to represent a weighted edge in graph \n",
    "struct Edge { \n",
    "    int src, dest, weight; \n",
    "}; \n",
    "  "
   ]
  },
  {
   "cell_type": "code",
   "execution_count": null,
   "metadata": {},
   "outputs": [],
   "source": [
    "// a structure to represent a connected, directed and \n",
    "// weighted graph \n",
    "struct Graph { \n",
    "    // V-> Number of vertices, E-> Number of edges \n",
    "    int V, E; \n",
    "  \n",
    "    // graph is represented as an array of edges. \n",
    "    struct Edge* edge; \n",
    "}; \n",
    "  "
   ]
  },
  {
   "cell_type": "code",
   "execution_count": null,
   "metadata": {},
   "outputs": [],
   "source": [
    "// Creates a graph with V vertices and E edges \n",
    "struct Graph* createGraph(int V, int E) \n",
    "{ \n",
    "    struct Graph* graph = new Graph; \n",
    "    graph->V = V; \n",
    "    graph->E = E; \n",
    "    graph->edge = new Edge[E]; \n",
    "    return graph; \n",
    "} \n",
    "  "
   ]
  },
  {
   "cell_type": "code",
   "execution_count": null,
   "metadata": {},
   "outputs": [],
   "source": [
    "// A utility function used to print the solution \n",
    "void printArr(int dist[], int n) \n",
    "{ \n",
    "    printf(\"Vertex   Distance from Source\\n\"); \n",
    "    for (int i = 0; i < n; ++i) \n",
    "        printf(\"%d \\t\\t %d\\n\", i, dist[i]); \n",
    "} \n",
    "  "
   ]
  },
  {
   "cell_type": "code",
   "execution_count": null,
   "metadata": {},
   "outputs": [],
   "source": [
    "// The main function that finds shortest distances from src to \n",
    "// all other vertices using Bellman-Ford algorithm.  The function \n",
    "// also detects negative weight cycle \n",
    "void BellmanFord(struct Graph* graph, int src) \n",
    "{ \n",
    "    int V = graph->V; \n",
    "    int E = graph->E; \n",
    "    int dist[V]; \n",
    "  \n",
    "    // Step 1: Initialize distances from src to all other vertices \n",
    "    // as INFINITE \n",
    "    for (int i = 0; i < V; i++) \n",
    "        dist[i] = INT_MAX; \n",
    "    dist[src] = 0; \n",
    "  \n",
    "    // Step 2: Relax all edges |V| - 1 times. A simple shortest \n",
    "    // path from src to any other vertex can have at-most |V| - 1 \n",
    "    // edges \n",
    "    for (int i = 1; i <= V - 1; i++) { \n",
    "        for (int j = 0; j < E; j++) { \n",
    "            int u = graph->edge[j].src; \n",
    "            int v = graph->edge[j].dest; \n",
    "            int weight = graph->edge[j].weight; \n",
    "            if (dist[u] != INT_MAX && dist[u] + weight < dist[v]) \n",
    "                dist[v] = dist[u] + weight; \n",
    "        } \n",
    "    } \n",
    "  \n",
    "    // Step 3: check for negative-weight cycles.  The above step \n",
    "    // guarantees shortest distances if graph doesn't contain \n",
    "    // negative weight cycle.  If we get a shorter path, then there \n",
    "    // is a cycle. \n",
    "    for (int i = 0; i < E; i++) { \n",
    "        int u = graph->edge[i].src; \n",
    "        int v = graph->edge[i].dest; \n",
    "        int weight = graph->edge[i].weight; \n",
    "        if (dist[u] != INT_MAX && dist[u] + weight < dist[v]) { \n",
    "            printf(\"Graph contains negative weight cycle\"); \n",
    "            return; // If negative cycle is detected, simply return \n",
    "        } \n",
    "    } \n",
    "  \n",
    "    printArr(dist, V); \n",
    "  \n",
    "    return; \n",
    "} "
   ]
  },
  {
   "cell_type": "markdown",
   "metadata": {},
   "source": [
    "## Exemplo"
   ]
  },
  {
   "cell_type": "markdown",
   "metadata": {},
   "source": [
    "<img src=\"bellmanford1.png\" width=\"480\">"
   ]
  },
  {
   "cell_type": "markdown",
   "metadata": {},
   "source": [
    "<img src=\"bellmanford2.png\" width=\"480\">"
   ]
  },
  {
   "cell_type": "markdown",
   "metadata": {},
   "source": [
    "<img src=\"bellmanford3.png\" width=\"480\">"
   ]
  },
  {
   "cell_type": "code",
   "execution_count": null,
   "metadata": {},
   "outputs": [],
   "source": [
    "// Driver code \n",
    "void exemplo()\n",
    "{\n",
    "\n",
    "    /* Let us create the graph given in above example */\n",
    "    int V = 5; // Number of vertices in graph \n",
    "    int E = 8; // Number of edges in graph \n",
    "    struct Graph* graph = createGraph(V, E); \n",
    "  \n",
    "    // add edge 0-1 (or A-B in above figure) \n",
    "    graph->edge[0].src = 0; \n",
    "    graph->edge[0].dest = 1; \n",
    "    graph->edge[0].weight = -1; \n",
    "  \n",
    "    // add edge 0-2 (or A-C in above figure) \n",
    "    graph->edge[1].src = 0; \n",
    "    graph->edge[1].dest = 2; \n",
    "    graph->edge[1].weight = 4; \n",
    "  \n",
    "    // add edge 1-2 (or B-C in above figure) \n",
    "    graph->edge[2].src = 1; \n",
    "    graph->edge[2].dest = 2; \n",
    "    graph->edge[2].weight = 3; \n",
    "  \n",
    "    // add edge 1-3 (or B-D in above figure) \n",
    "    graph->edge[3].src = 1; \n",
    "    graph->edge[3].dest = 3; \n",
    "    graph->edge[3].weight = 2; \n",
    "  \n",
    "    // add edge 1-4 (or A-E in above figure) \n",
    "    graph->edge[4].src = 1; \n",
    "    graph->edge[4].dest = 4; \n",
    "    graph->edge[4].weight = 2; \n",
    "  \n",
    "    // add edge 3-2 (or D-C in above figure) \n",
    "    graph->edge[5].src = 3; \n",
    "    graph->edge[5].dest = 2; \n",
    "    graph->edge[5].weight = 5; \n",
    "  \n",
    "    // add edge 3-1 (or D-B in above figure) \n",
    "    graph->edge[6].src = 3; \n",
    "    graph->edge[6].dest = 1; \n",
    "    graph->edge[6].weight = 1; \n",
    "  \n",
    "    // add edge 4-3 (or E-D in above figure) \n",
    "    graph->edge[7].src = 4; \n",
    "    graph->edge[7].dest = 3; \n",
    "    graph->edge[7].weight = -3; \n",
    "  \n",
    "    BellmanFord(graph, 0); \n",
    "\n",
    "}"
   ]
  },
  {
   "cell_type": "code",
   "execution_count": null,
   "metadata": {},
   "outputs": [],
   "source": [
    "exemplo()"
   ]
  },
  {
   "cell_type": "code",
   "execution_count": null,
   "metadata": {},
   "outputs": [],
   "source": []
  }
 ],
 "metadata": {
  "kernelspec": {
   "display_name": "C++17",
   "language": "C++17",
   "name": "xcpp17"
  },
  "language_info": {
   "codemirror_mode": "text/x-c++src",
   "file_extension": ".cpp",
   "mimetype": "text/x-c++src",
   "name": "c++",
   "version": "17"
  }
 },
 "nbformat": 4,
 "nbformat_minor": 4
}
