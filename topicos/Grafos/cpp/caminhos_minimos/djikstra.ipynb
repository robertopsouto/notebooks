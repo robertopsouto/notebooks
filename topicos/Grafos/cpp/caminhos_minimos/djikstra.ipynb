{
 "cells": [
  {
   "cell_type": "markdown",
   "metadata": {},
   "source": [
    "# Algoritmo de Djikstra"
   ]
  },
  {
   "cell_type": "markdown",
   "metadata": {},
   "source": [
    "### Código original de\n",
    "### https://www.geeksforgeeks.org/dijkstras-algorithm-for-adjacency-list-representation-greedy-algo-8/"
   ]
  },
  {
   "cell_type": "code",
   "execution_count": 1,
   "metadata": {},
   "outputs": [],
   "source": [
    "// C / C++ program for Dijkstra's shortest path algorithm for adjacency \n",
    "// list representation of graph \n",
    "  \n",
    "#include <stdio.h> \n",
    "#include <stdlib.h> \n",
    "#include <limits.h> \n",
    "  \n",
    "// A structure to represent a node in adjacency list \n",
    "struct AdjListNode \n",
    "{ \n",
    "    int dest; \n",
    "    int weight; \n",
    "    struct AdjListNode* next; \n",
    "}; \n",
    "  "
   ]
  },
  {
   "cell_type": "code",
   "execution_count": 2,
   "metadata": {},
   "outputs": [],
   "source": [
    "// A structure to represent an adjacency list \n",
    "struct AdjList \n",
    "{ \n",
    "    struct AdjListNode *head;  // pointer to head node of list \n",
    "}; \n",
    "  "
   ]
  },
  {
   "cell_type": "code",
   "execution_count": 3,
   "metadata": {},
   "outputs": [],
   "source": [
    "// A structure to represent a graph. A graph is an array of adjacency lists. \n",
    "// Size of array will be V (number of vertices in graph) \n",
    "struct Graph \n",
    "{ \n",
    "    int V; \n",
    "    struct AdjList* array; \n",
    "}; \n",
    "  "
   ]
  },
  {
   "cell_type": "code",
   "execution_count": 4,
   "metadata": {},
   "outputs": [],
   "source": [
    "// A utility function to create a new adjacency list node \n",
    "struct AdjListNode* newAdjListNode(int dest, int weight) \n",
    "{ \n",
    "    struct AdjListNode* newNode = \n",
    "            (struct AdjListNode*) malloc(sizeof(struct AdjListNode)); \n",
    "    newNode->dest = dest; \n",
    "    newNode->weight = weight; \n",
    "    newNode->next = NULL; \n",
    "    return newNode; \n",
    "} \n",
    "  "
   ]
  },
  {
   "cell_type": "code",
   "execution_count": 5,
   "metadata": {},
   "outputs": [],
   "source": [
    "// A utility function that creates a graph of V vertices \n",
    "struct Graph* createGraph(int V) \n",
    "{ \n",
    "    struct Graph* graph = (struct Graph*) malloc(sizeof(struct Graph)); \n",
    "    graph->V = V; \n",
    "  \n",
    "    // Create an array of adjacency lists.  Size of array will be V \n",
    "    graph->array = (struct AdjList*) malloc(V * sizeof(struct AdjList)); \n",
    "  \n",
    "     // Initialize each adjacency list as empty by making head as NULL \n",
    "    for (int i = 0; i < V; ++i) \n",
    "        graph->array[i].head = NULL; \n",
    "  \n",
    "    return graph; \n",
    "} \n",
    "  "
   ]
  },
  {
   "cell_type": "code",
   "execution_count": 6,
   "metadata": {},
   "outputs": [],
   "source": [
    "// Adds an edge to an undirected graph \n",
    "void addEdge(struct Graph* graph, int src, int dest, int weight) \n",
    "{ \n",
    "    // Add an edge from src to dest.  A new node is added to the adjacency \n",
    "    // list of src.  The node is added at the beginning \n",
    "    struct AdjListNode* newNode = newAdjListNode(dest, weight); \n",
    "    newNode->next = graph->array[src].head; \n",
    "    graph->array[src].head = newNode; \n",
    "  \n",
    "    // Since graph is undirected, add an edge from dest to src also \n",
    "    newNode = newAdjListNode(src, weight); \n",
    "    newNode->next = graph->array[dest].head; \n",
    "    graph->array[dest].head = newNode; \n",
    "} \n",
    "  "
   ]
  },
  {
   "cell_type": "code",
   "execution_count": 7,
   "metadata": {},
   "outputs": [],
   "source": [
    "// Structure to represent a min heap node \n",
    "struct MinHeapNode \n",
    "{ \n",
    "    int  v; \n",
    "    int dist; \n",
    "}; \n",
    "  "
   ]
  },
  {
   "cell_type": "code",
   "execution_count": 8,
   "metadata": {},
   "outputs": [],
   "source": [
    "// Structure to represent a min heap \n",
    "struct MinHeap \n",
    "{ \n",
    "    int size;      // Number of heap nodes present currently \n",
    "    int capacity;  // Capacity of min heap \n",
    "    int *pos;     // This is needed for decreaseKey() \n",
    "    struct MinHeapNode **array; \n",
    "}; \n",
    "  "
   ]
  },
  {
   "cell_type": "code",
   "execution_count": 9,
   "metadata": {},
   "outputs": [],
   "source": [
    "// A utility function to create a new Min Heap Node \n",
    "struct MinHeapNode* newMinHeapNode(int v, int dist) \n",
    "{ \n",
    "    struct MinHeapNode* minHeapNode = \n",
    "           (struct MinHeapNode*) malloc(sizeof(struct MinHeapNode)); \n",
    "    minHeapNode->v = v; \n",
    "    minHeapNode->dist = dist; \n",
    "    return minHeapNode; \n",
    "} \n",
    "  "
   ]
  },
  {
   "cell_type": "code",
   "execution_count": 10,
   "metadata": {},
   "outputs": [],
   "source": [
    "// A utility function to create a Min Heap \n",
    "struct MinHeap* createMinHeap(int capacity) \n",
    "{ \n",
    "    struct MinHeap* minHeap = \n",
    "         (struct MinHeap*) malloc(sizeof(struct MinHeap)); \n",
    "    minHeap->pos = (int *)malloc(capacity * sizeof(int)); \n",
    "    minHeap->size = 0; \n",
    "    minHeap->capacity = capacity; \n",
    "    minHeap->array = \n",
    "         (struct MinHeapNode**) malloc(capacity * sizeof(struct MinHeapNode*)); \n",
    "    return minHeap; \n",
    "} \n",
    "  "
   ]
  },
  {
   "cell_type": "code",
   "execution_count": 11,
   "metadata": {},
   "outputs": [],
   "source": [
    "// A utility function to swap two nodes of min heap. Needed for min heapify \n",
    "void swapMinHeapNode(struct MinHeapNode** a, struct MinHeapNode** b) \n",
    "{ \n",
    "    struct MinHeapNode* t = *a; \n",
    "    *a = *b; \n",
    "    *b = t; \n",
    "} \n",
    "  "
   ]
  },
  {
   "cell_type": "code",
   "execution_count": 12,
   "metadata": {},
   "outputs": [],
   "source": [
    "// A standard function to heapify at given idx \n",
    "// This function also updates position of nodes when they are swapped. \n",
    "// Position is needed for decreaseKey() \n",
    "void minHeapify(struct MinHeap* minHeap, int idx) \n",
    "{ \n",
    "    int smallest, left, right; \n",
    "    smallest = idx; \n",
    "    left = 2 * idx + 1; \n",
    "    right = 2 * idx + 2; \n",
    "  \n",
    "    if (left < minHeap->size && \n",
    "        minHeap->array[left]->dist < minHeap->array[smallest]->dist ) \n",
    "      smallest = left; \n",
    "  \n",
    "    if (right < minHeap->size && \n",
    "        minHeap->array[right]->dist < minHeap->array[smallest]->dist ) \n",
    "      smallest = right; \n",
    "  \n",
    "    if (smallest != idx) \n",
    "    { \n",
    "        // The nodes to be swapped in min heap \n",
    "        MinHeapNode *smallestNode = minHeap->array[smallest]; \n",
    "        MinHeapNode *idxNode = minHeap->array[idx]; \n",
    "  \n",
    "        // Swap positions \n",
    "        minHeap->pos[smallestNode->v] = idx; \n",
    "        minHeap->pos[idxNode->v] = smallest; \n",
    "  \n",
    "        // Swap nodes \n",
    "        swapMinHeapNode(&minHeap->array[smallest], &minHeap->array[idx]); \n",
    "  \n",
    "        minHeapify(minHeap, smallest); \n",
    "    } \n",
    "} \n",
    "  "
   ]
  },
  {
   "cell_type": "code",
   "execution_count": 13,
   "metadata": {},
   "outputs": [],
   "source": [
    "// A utility function to check if the given minHeap is ampty or not \n",
    "int isEmpty(struct MinHeap* minHeap) \n",
    "{ \n",
    "    return minHeap->size == 0; \n",
    "} \n",
    "  "
   ]
  },
  {
   "cell_type": "code",
   "execution_count": 14,
   "metadata": {},
   "outputs": [],
   "source": [
    "// Standard function to extract minimum node from heap \n",
    "struct MinHeapNode* extractMin(struct MinHeap* minHeap) \n",
    "{ \n",
    "    if (isEmpty(minHeap)) \n",
    "        return NULL; \n",
    "  \n",
    "    // Store the root node \n",
    "    struct MinHeapNode* root = minHeap->array[0]; \n",
    "  \n",
    "    // Replace root node with last node \n",
    "    struct MinHeapNode* lastNode = minHeap->array[minHeap->size - 1]; \n",
    "    minHeap->array[0] = lastNode; \n",
    "  \n",
    "    // Update position of last node \n",
    "    minHeap->pos[root->v] = minHeap->size-1; \n",
    "    minHeap->pos[lastNode->v] = 0; \n",
    "  \n",
    "    // Reduce heap size and heapify root \n",
    "    --minHeap->size; \n",
    "    minHeapify(minHeap, 0); \n",
    "  \n",
    "    return root; \n",
    "} \n",
    "  "
   ]
  },
  {
   "cell_type": "code",
   "execution_count": 15,
   "metadata": {},
   "outputs": [],
   "source": [
    "// Function to decreasy dist value of a given vertex v. This function \n",
    "// uses pos[] of min heap to get the current index of node in min heap \n",
    "void decreaseKey(struct MinHeap* minHeap, int v, int dist) \n",
    "{ \n",
    "    // Get the index of v in  heap array \n",
    "    int i = minHeap->pos[v]; \n",
    "  \n",
    "    // Get the node and update its dist value \n",
    "    minHeap->array[i]->dist = dist; \n",
    "  \n",
    "    // Travel up while the complete tree is not hepified. \n",
    "    // This is a O(Logn) loop \n",
    "    while (i && minHeap->array[i]->dist < minHeap->array[(i - 1) / 2]->dist) \n",
    "    { \n",
    "        // Swap this node with its parent \n",
    "        minHeap->pos[minHeap->array[i]->v] = (i-1)/2; \n",
    "        minHeap->pos[minHeap->array[(i-1)/2]->v] = i; \n",
    "        swapMinHeapNode(&minHeap->array[i],  &minHeap->array[(i - 1) / 2]); \n",
    "  \n",
    "        // move to parent index \n",
    "        i = (i - 1) / 2; \n",
    "    } \n",
    "} \n",
    "  "
   ]
  },
  {
   "cell_type": "code",
   "execution_count": 16,
   "metadata": {},
   "outputs": [],
   "source": [
    "// A utility function to check if a given vertex \n",
    "// 'v' is in min heap or not \n",
    "bool isInMinHeap(struct MinHeap *minHeap, int v) \n",
    "{ \n",
    "   if (minHeap->pos[v] < minHeap->size) \n",
    "     return true; \n",
    "   return false; \n",
    "} \n",
    "  "
   ]
  },
  {
   "cell_type": "code",
   "execution_count": 17,
   "metadata": {},
   "outputs": [],
   "source": [
    "// A utility function used to print the solution \n",
    "void printArr(int dist[], int n) \n",
    "{ \n",
    "    printf(\"Vertex   Distance from Source\\n\"); \n",
    "    for (int i = 0; i < n; ++i) \n",
    "        printf(\"%d \\t\\t %d\\n\", i, dist[i]); \n",
    "} \n",
    "  "
   ]
  },
  {
   "cell_type": "code",
   "execution_count": 18,
   "metadata": {},
   "outputs": [],
   "source": [
    "// The main function that calulates distances of shortest paths from src to all \n",
    "// vertices. It is a O(ELogV) function \n",
    "void dijkstra(struct Graph* graph, int src) \n",
    "{ \n",
    "    int V = graph->V;// Get the number of vertices in graph \n",
    "    int dist[V];      // dist values used to pick minimum weight edge in cut \n",
    "  \n",
    "    // minHeap represents set E \n",
    "    struct MinHeap* minHeap = createMinHeap(V); \n",
    "  \n",
    "    // Initialize min heap with all vertices. dist value of all vertices  \n",
    "    for (int v = 0; v < V; ++v) \n",
    "    { \n",
    "        dist[v] = INT_MAX; \n",
    "        minHeap->array[v] = newMinHeapNode(v, dist[v]); \n",
    "        minHeap->pos[v] = v; \n",
    "    } \n",
    "  \n",
    "    // Make dist value of src vertex as 0 so that it is extracted first \n",
    "    minHeap->array[src] = newMinHeapNode(src, dist[src]); \n",
    "    minHeap->pos[src]   = src; \n",
    "    dist[src] = 0; \n",
    "    decreaseKey(minHeap, src, dist[src]); \n",
    "  \n",
    "    // Initially size of min heap is equal to V \n",
    "    minHeap->size = V; \n",
    "  \n",
    "    // In the followin loop, min heap contains all nodes \n",
    "    // whose shortest distance is not yet finalized. \n",
    "    while (!isEmpty(minHeap)) \n",
    "    { \n",
    "        // Extract the vertex with minimum distance value \n",
    "        struct MinHeapNode* minHeapNode = extractMin(minHeap); \n",
    "        int u = minHeapNode->v; // Store the extracted vertex number \n",
    "  \n",
    "        // Traverse through all adjacent vertices of u (the extracted \n",
    "        // vertex) and update their distance values \n",
    "        struct AdjListNode* pCrawl = graph->array[u].head; \n",
    "        while (pCrawl != NULL) \n",
    "        { \n",
    "            int v = pCrawl->dest; \n",
    "  \n",
    "            // If shortest distance to v is not finalized yet, and distance to v \n",
    "            // through u is less than its previously calculated distance \n",
    "            if (isInMinHeap(minHeap, v) && dist[u] != INT_MAX &&  \n",
    "                                          pCrawl->weight + dist[u] < dist[v]) \n",
    "            { \n",
    "                dist[v] = dist[u] + pCrawl->weight; \n",
    "  \n",
    "                // update distance value in min heap also \n",
    "                decreaseKey(minHeap, v, dist[v]); \n",
    "            } \n",
    "            pCrawl = pCrawl->next; \n",
    "        } \n",
    "    } \n",
    "  \n",
    "    // print the calculated shortest distances \n",
    "    printArr(dist, V); \n",
    "}"
   ]
  },
  {
   "cell_type": "markdown",
   "metadata": {},
   "source": [
    "## Exemplo"
   ]
  },
  {
   "cell_type": "markdown",
   "metadata": {},
   "source": [
    "<img src=\"graph.jpg\" width=\"480\">"
   ]
  },
  {
   "cell_type": "code",
   "execution_count": 19,
   "metadata": {},
   "outputs": [],
   "source": [
    "// Driver code \n",
    "void exemplo()\n",
    "{\n",
    "    // create the graph given in above figure \n",
    "    int V = 9; \n",
    "    struct Graph* graph = createGraph(V); \n",
    "    addEdge(graph, 0, 1, 4); \n",
    "    addEdge(graph, 0, 7, 8); \n",
    "    addEdge(graph, 1, 2, 8); \n",
    "    addEdge(graph, 1, 7, 11); \n",
    "    addEdge(graph, 2, 3, 7); \n",
    "    addEdge(graph, 2, 8, 2); \n",
    "    addEdge(graph, 2, 5, 4); \n",
    "    addEdge(graph, 3, 4, 9); \n",
    "    addEdge(graph, 3, 5, 14); \n",
    "    addEdge(graph, 4, 5, 10); \n",
    "    addEdge(graph, 5, 6, 2); \n",
    "    addEdge(graph, 6, 7, 1); \n",
    "    addEdge(graph, 6, 8, 6); \n",
    "    addEdge(graph, 7, 8, 7); \n",
    "  \n",
    "    dijkstra(graph, 0); \n",
    "}"
   ]
  },
  {
   "cell_type": "code",
   "execution_count": 20,
   "metadata": {},
   "outputs": [
    {
     "name": "stdout",
     "output_type": "stream",
     "text": [
      "Vertex   Distance from Source\n",
      "0 \t\t 0\n",
      "1 \t\t 4\n",
      "2 \t\t 12\n",
      "3 \t\t 19\n",
      "4 \t\t 21\n",
      "5 \t\t 11\n",
      "6 \t\t 9\n",
      "7 \t\t 8\n",
      "8 \t\t 14\n"
     ]
    }
   ],
   "source": [
    "exemplo()"
   ]
  },
  {
   "cell_type": "code",
   "execution_count": null,
   "metadata": {},
   "outputs": [],
   "source": []
  }
 ],
 "metadata": {
  "kernelspec": {
   "display_name": "C++17",
   "language": "C++17",
   "name": "xcpp17"
  },
  "language_info": {
   "codemirror_mode": "text/x-c++src",
   "file_extension": ".cpp",
   "mimetype": "text/x-c++src",
   "name": "c++",
   "version": "17"
  }
 },
 "nbformat": 4,
 "nbformat_minor": 4
}
