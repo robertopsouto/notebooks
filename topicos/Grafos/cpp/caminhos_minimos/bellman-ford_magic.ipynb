{
  "nbformat": 4,
  "nbformat_minor": 0,
  "metadata": {
    "kernelspec": {
      "name": "python3",
      "display_name": "Python 3"
    },
    "colab": {
      "name": "bellman-ford.ipynb",
      "provenance": [],
      "include_colab_link": true
    },
    "language_info": {
      "name": "python"
    }
  },
  "cells": [
    {
      "cell_type": "markdown",
      "metadata": {
        "id": "view-in-github",
        "colab_type": "text"
      },
      "source": [
        "<a href=\"https://colab.research.google.com/github/robertopsouto/notebooks/blob/ga-026_2021-4/topicos/Grafos/cpp/caminhos_minimos/bellman-ford_magic.ipynb\" target=\"_parent\"><img src=\"https://colab.research.google.com/assets/colab-badge.svg\" alt=\"Open In Colab\"/></a>"
      ]
    },
    {
      "cell_type": "markdown",
      "metadata": {
        "id": "zbcqUdERduk9"
      },
      "source": [
        "# Algoritmo de Bellman-Ford"
      ]
    },
    {
      "cell_type": "markdown",
      "metadata": {
        "id": "vnv71dL1dulB"
      },
      "source": [
        "### Código original de https://www.geeksforgeeks.org/bellman-ford-algorithm-dp-23/"
      ]
    },
    {
      "cell_type": "code",
      "metadata": {
        "id": "iBSYXU12d_uu",
        "outputId": "f75913b4-5bd8-4cc2-f905-f972f552d81f",
        "colab": {
          "base_uri": "https://localhost:8080/"
        }
      },
      "source": [
        "%%writefile bellmanford.cpp\n",
        "\n",
        "// A C++ program for Bellman-Ford's single source\n",
        "// shortest path algorithm.\n",
        "#include <bits/stdc++.h>\n",
        "\n",
        "// a structure to represent a weighted edge in graph\n",
        "struct Edge {\n",
        "\tint src, dest, weight;\n",
        "};\n",
        "\n",
        "// a structure to represent a connected, directed and\n",
        "// weighted graph\n",
        "struct Graph {\n",
        "\t// V-> Number of vertices, E-> Number of edges\n",
        "\tint V, E;\n",
        "\n",
        "\t// graph is represented as an array of edges.\n",
        "\tstruct Edge* edge;\n",
        "};\n",
        "\n",
        "// Creates a graph with V vertices and E edges\n",
        "struct Graph* createGraph(int V, int E)\n",
        "{\n",
        "\tstruct Graph* graph = new Graph;\n",
        "\tgraph->V = V;\n",
        "\tgraph->E = E;\n",
        "\tgraph->edge = new Edge[E];\n",
        "\treturn graph;\n",
        "}\n",
        "\n",
        "// A utility function used to print the solution\n",
        "void printArr(int dist[], int n)\n",
        "{\n",
        "\tprintf(\"Vertex Distance from Source\\n\");\n",
        "\tfor (int i = 0; i < n; ++i)\n",
        "\t\tprintf(\"%d \\t\\t %d\\n\", i, dist[i]);\n",
        "}\n",
        "\n",
        "// The main function that finds shortest distances from src to\n",
        "// all other vertices using Bellman-Ford algorithm. The function\n",
        "// also detects negative weight cycle\n",
        "void BellmanFord(struct Graph* graph, int src)\n",
        "{\n",
        "\tint V = graph->V;\n",
        "\tint E = graph->E;\n",
        "\tint dist[V];\n",
        "\n",
        "\t// Step 1: Initialize distances from src to all other vertices\n",
        "\t// as INFINITE\n",
        "\tfor (int i = 0; i < V; i++)\n",
        "\t\tdist[i] = INT_MAX;\n",
        "\tdist[src] = 0;\n",
        "\n",
        "\t// Step 2: Relax all edges |V| - 1 times. A simple shortest\n",
        "\t// path from src to any other vertex can have at-most |V| - 1\n",
        "\t// edges\n",
        "\tfor (int i = 1; i <= V - 1; i++) {\n",
        "\t\tfor (int j = 0; j < E; j++) {\n",
        "\t\t\tint u = graph->edge[j].src;\n",
        "\t\t\tint v = graph->edge[j].dest;\n",
        "\t\t\tint weight = graph->edge[j].weight;\n",
        "\t\t\tif (dist[u] != INT_MAX && dist[u] + weight < dist[v])\n",
        "\t\t\t\tdist[v] = dist[u] + weight;\n",
        "\t\t}\n",
        "\t}\n",
        "\n",
        "\t// Step 3: check for negative-weight cycles. The above step\n",
        "\t// guarantees shortest distances if graph doesn't contain\n",
        "\t// negative weight cycle. If we get a shorter path, then there\n",
        "\t// is a cycle.\n",
        "\tfor (int i = 0; i < E; i++) {\n",
        "\t\tint u = graph->edge[i].src;\n",
        "\t\tint v = graph->edge[i].dest;\n",
        "\t\tint weight = graph->edge[i].weight;\n",
        "\t\tif (dist[u] != INT_MAX && dist[u] + weight < dist[v]) {\n",
        "\t\t\tprintf(\"Graph contains negative weight cycle\");\n",
        "\t\t\treturn; // If negative cycle is detected, simply return\n",
        "\t\t}\n",
        "\t}\n",
        "\n",
        "\tprintArr(dist, V);\n",
        "\n",
        "\treturn;\n",
        "}\n",
        "\n",
        "// Driver program to test above functions\n",
        "int main()\n",
        "{\n",
        "\t/* Let us create the graph given in above example */\n",
        "\tint V = 5; // Number of vertices in graph\n",
        "\tint E = 8; // Number of edges in graph\n",
        "\tstruct Graph* graph = createGraph(V, E);\n",
        "\n",
        "\t// add edge 0-1 (or A-B in above figure)\n",
        "\tgraph->edge[0].src = 0;\n",
        "\tgraph->edge[0].dest = 1;\n",
        "\tgraph->edge[0].weight = -1;\n",
        "\n",
        "\t// add edge 0-2 (or A-C in above figure)\n",
        "\tgraph->edge[1].src = 0;\n",
        "\tgraph->edge[1].dest = 2;\n",
        "\tgraph->edge[1].weight = 4;\n",
        "\n",
        "\t// add edge 1-2 (or B-C in above figure)\n",
        "\tgraph->edge[2].src = 1;\n",
        "\tgraph->edge[2].dest = 2;\n",
        "\tgraph->edge[2].weight = 3;\n",
        "\n",
        "\t// add edge 1-3 (or B-D in above figure)\n",
        "\tgraph->edge[3].src = 1;\n",
        "\tgraph->edge[3].dest = 3;\n",
        "\tgraph->edge[3].weight = 2;\n",
        "\n",
        "\t// add edge 1-4 (or A-E in above figure)\n",
        "\tgraph->edge[4].src = 1;\n",
        "\tgraph->edge[4].dest = 4;\n",
        "\tgraph->edge[4].weight = 2;\n",
        "\n",
        "\t// add edge 3-2 (or D-C in above figure)\n",
        "\tgraph->edge[5].src = 3;\n",
        "\tgraph->edge[5].dest = 2;\n",
        "\tgraph->edge[5].weight = 5;\n",
        "\n",
        "\t// add edge 3-1 (or D-B in above figure)\n",
        "\tgraph->edge[6].src = 3;\n",
        "\tgraph->edge[6].dest = 1;\n",
        "\tgraph->edge[6].weight = 1;\n",
        "\n",
        "\t// add edge 4-3 (or E-D in above figure)\n",
        "\tgraph->edge[7].src = 4;\n",
        "\tgraph->edge[7].dest = 3;\n",
        "\tgraph->edge[7].weight = -3;\n",
        "\n",
        "\tBellmanFord(graph, 0);\n",
        "\n",
        "\treturn 0;\n",
        "}\n"
      ],
      "execution_count": 1,
      "outputs": [
        {
          "output_type": "stream",
          "name": "stdout",
          "text": [
            "Writing bellmanford.cpp\n"
          ]
        }
      ]
    },
    {
      "cell_type": "markdown",
      "metadata": {
        "id": "h1WShQlKdulK"
      },
      "source": [
        "## Exemplo"
      ]
    },
    {
      "cell_type": "markdown",
      "metadata": {
        "id": "677WKqqCdulL"
      },
      "source": [
        "<img src=\"https://github.com/robertopsouto/notebooks/blob/ga-026_2021-4/topicos/Grafos/cpp/caminhos_minimos/bellmanford1.png?raw=1\" width=\"480\">"
      ]
    },
    {
      "cell_type": "markdown",
      "metadata": {
        "id": "NZuU3xaRdulO"
      },
      "source": [
        "<img src=\"https://github.com/robertopsouto/notebooks/blob/ga-026_2021-4/topicos/Grafos/cpp/caminhos_minimos/bellmanford2.png?raw=1\" width=\"480\">"
      ]
    },
    {
      "cell_type": "markdown",
      "metadata": {
        "id": "Ci4ZEUwPdulP"
      },
      "source": [
        "<img src=\"https://github.com/robertopsouto/notebooks/blob/ga-026_2021-4/topicos/Grafos/cpp/caminhos_minimos/bellmanford3.png?raw=1\" width=\"480\">"
      ]
    },
    {
      "cell_type": "code",
      "metadata": {
        "id": "QzbMTQ5Ge9Et",
        "outputId": "978fcd97-c1a3-4290-fcff-d38203405c87",
        "colab": {
          "base_uri": "https://localhost:8080/"
        }
      },
      "source": [
        "%%sh\n",
        "g++ bellmanford.cpp -o bellmanford\n",
        "./bellmanford"
      ],
      "execution_count": 2,
      "outputs": [
        {
          "output_type": "stream",
          "name": "stdout",
          "text": [
            "Vertex Distance from Source\n",
            "0 \t\t 0\n",
            "1 \t\t -1\n",
            "2 \t\t 2\n",
            "3 \t\t -2\n",
            "4 \t\t 1\n"
          ]
        }
      ]
    }
  ]
}