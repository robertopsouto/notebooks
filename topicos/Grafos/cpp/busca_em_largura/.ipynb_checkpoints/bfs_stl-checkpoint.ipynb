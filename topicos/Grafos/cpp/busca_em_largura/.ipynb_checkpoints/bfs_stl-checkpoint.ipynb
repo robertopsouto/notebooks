{
 "cells": [
  {
   "cell_type": "code",
   "execution_count": null,
   "metadata": {},
   "outputs": [],
   "source": [
    "// A Quick implementation of BFS using \n",
    "// vectors and queue \n",
    "#include <bits/stdc++.h> \n",
    "#define pb push_back \n",
    "  \n",
    "using namespace std; \n",
    "  \n",
    "vector<bool> v; \n",
    "vector<vector<int> > g; \n",
    "  "
   ]
  },
  {
   "cell_type": "code",
   "execution_count": null,
   "metadata": {},
   "outputs": [],
   "source": [
    "void edge(int a, int b) \n",
    "{ \n",
    "    g[a].pb(b); \n",
    "  \n",
    "    // for undirected graph add this line \n",
    "    // g[b].pb(a); \n",
    "} \n",
    "  "
   ]
  },
  {
   "cell_type": "code",
   "execution_count": null,
   "metadata": {},
   "outputs": [],
   "source": [
    "void bfs(int u) \n",
    "{ \n",
    "    queue<int> q; \n",
    "  \n",
    "    q.push(u); \n",
    "    v[u] = true; \n",
    "  \n",
    "    while (!q.empty()) { \n",
    "  \n",
    "        int f = q.front(); \n",
    "        q.pop(); \n",
    "  \n",
    "        cout << f << \" \"; \n",
    "  \n",
    "        // Enqueue all adjacent of f and mark them visited  \n",
    "        for (auto i = g[f].begin(); i != g[f].end(); i++) { \n",
    "            if (!v[*i]) { \n",
    "                q.push(*i); \n",
    "                v[*i] = true; \n",
    "            } \n",
    "        } \n",
    "    } \n",
    "} "
   ]
  },
  {
   "cell_type": "code",
   "execution_count": null,
   "metadata": {},
   "outputs": [],
   "source": [
    "// Driver code \n",
    "void exemplo() \n",
    "{ \n",
    "    int n, e; \n",
    "    cin >> n >> e; \n",
    "  \n",
    "    v.assign(n, false); \n",
    "    g.assign(n, vector<int>()); \n",
    "  \n",
    "    int a, b; \n",
    "    for (int i = 0; i < e; i++) { \n",
    "        cin >> a >> b; \n",
    "        edge(a, b); \n",
    "    } \n",
    "  \n",
    "    for (int i = 0; i < n; i++) { \n",
    "        if (!v[i]) \n",
    "            bfs(i); \n",
    "    }   \n",
    "} \n"
   ]
  },
  {
   "cell_type": "code",
   "execution_count": null,
   "metadata": {},
   "outputs": [],
   "source": [
    "exemplo()"
   ]
  },
  {
   "cell_type": "code",
   "execution_count": null,
   "metadata": {},
   "outputs": [],
   "source": []
  }
 ],
 "metadata": {
  "kernelspec": {
   "display_name": "C++17",
   "language": "C++17",
   "name": "xcpp17"
  },
  "language_info": {
   "codemirror_mode": "text/x-c++src",
   "file_extension": ".cpp",
   "mimetype": "text/x-c++src",
   "name": "c++",
   "version": "17"
  }
 },
 "nbformat": 4,
 "nbformat_minor": 4
}
