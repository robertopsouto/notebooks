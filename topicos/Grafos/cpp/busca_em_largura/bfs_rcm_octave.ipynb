{
 "cells": [
  {
   "cell_type": "markdown",
   "metadata": {},
   "source": [
    "# Busca em Largura: Reverse Cuthill-Mckee"
   ]
  },
  {
   "cell_type": "code",
   "execution_count": null,
   "metadata": {},
   "outputs": [],
   "source": [
    "clear;\n",
    "close all;\n",
    "format short e;"
   ]
  },
  {
   "cell_type": "code",
   "execution_count": null,
   "metadata": {},
   "outputs": [],
   "source": [
    "n=8;\n",
    "\n",
    "disp(['Creating sparse A poisson matrix...']);\n",
    "tic;\n",
    "A=gallery ('poisson', n);\n",
    "tElapsed=toc();\n",
    "disp(['Elapsed time of Creating sparse A poisson matrix:', num2str(tElapsed)]);\n",
    "disp(' ');\n",
    "disp(' ');\n",
    "nzA=nnz(A);\n",
    "disp(' ');\n",
    "disp(['non-zeros of A: ',num2str(nzA) ]);\n",
    "disp(' ');"
   ]
  },
  {
   "cell_type": "code",
   "execution_count": null,
   "metadata": {
    "scrolled": true
   },
   "outputs": [],
   "source": [
    "f1=figure();\n",
    "spy(A,'.');\n",
    "filepng=['matrix_A.png'];\n",
    "print(f1,'-dpng',filepng);"
   ]
  },
  {
   "cell_type": "markdown",
   "metadata": {},
   "source": [
    "<img src=\"matrix_A.png\" width=\"480\">"
   ]
  },
  {
   "cell_type": "code",
   "execution_count": null,
   "metadata": {},
   "outputs": [],
   "source": [
    "disp(['Performing Cholesky in sparse A...']);\n",
    "tic;\n",
    "[L] = chol(A,'lower');\n",
    "tElapsed=toc();\n",
    "disp(['Elapsed Time of Cholesky in sparse A:', num2str(tElapsed)]);\n",
    "nzL=nnz(L);\n",
    "disp(['non-zeros of L: ',num2str(nzL) ]);\n",
    "%disp(['Float point operations: ',num2str(flops(L)) ]);\n",
    "disp(' ');\n",
    "disp(' ');"
   ]
  },
  {
   "cell_type": "code",
   "execution_count": null,
   "metadata": {},
   "outputs": [],
   "source": [
    "f2=figure();\n",
    "spy(L,'.');\n",
    "filepng=['matrix_L.png'];\n",
    "print(f2,'-dpng',filepng);"
   ]
  },
  {
   "cell_type": "code",
   "execution_count": null,
   "metadata": {},
   "outputs": [],
   "source": [
    "disp(' ');\n",
    "disp(['Symmetric reverse Cuthill-McKee permutation...']);\n",
    "p = symrcm (A) ;\n",
    "AP=A (p,p);"
   ]
  },
  {
   "cell_type": "code",
   "execution_count": null,
   "metadata": {},
   "outputs": [],
   "source": [
    "f3=figure();\n",
    "spy(AP,'.');\n",
    "filepng=['matrix_A_rcm.png'];\n",
    "print(f3,'-dpng',filepng);"
   ]
  },
  {
   "cell_type": "code",
   "execution_count": null,
   "metadata": {},
   "outputs": [],
   "source": [
    "disp(['Performing Cholesky in C=PAP^T...']);\n",
    "tic;\n",
    "[L] = chol(AP,'lower');\n",
    "tElapsed=toc();\n",
    "disp(['Elapsed Time of Cholesky in C=PAP^T:', num2str(tElapsed)]);\n",
    "nzL=nnz(L);\n",
    "disp(['non-zeros of L: ',num2str(nzL) ]);"
   ]
  },
  {
   "cell_type": "code",
   "execution_count": null,
   "metadata": {},
   "outputs": [],
   "source": [
    "f4=figure();\n",
    "spy(L,'.');\n",
    "filepng=['matrix_L_rcm.png'];\n",
    "print(f4,'-dpng',filepng);"
   ]
  },
  {
   "cell_type": "code",
   "execution_count": null,
   "metadata": {},
   "outputs": [],
   "source": []
  }
 ],
 "metadata": {
  "kernelspec": {
   "display_name": "Octave",
   "language": "octave",
   "name": "octave"
  },
  "language_info": {
   "file_extension": ".m",
   "help_links": [
    {
     "text": "GNU Octave",
     "url": "https://www.gnu.org/software/octave/support.html"
    },
    {
     "text": "Octave Kernel",
     "url": "https://github.com/Calysto/octave_kernel"
    },
    {
     "text": "MetaKernel Magics",
     "url": "https://metakernel.readthedocs.io/en/latest/source/README.html"
    }
   ],
   "mimetype": "text/x-octave",
   "name": "octave",
   "version": "4.2.2"
  }
 },
 "nbformat": 4,
 "nbformat_minor": 4
}
