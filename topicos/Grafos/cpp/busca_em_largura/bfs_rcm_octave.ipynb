{
 "cells": [
  {
   "cell_type": "markdown",
   "metadata": {},
   "source": [
    "# Busca em Largura: Reverse Cuthill-Mckee"
   ]
  },
  {
   "cell_type": "code",
   "execution_count": 8,
   "metadata": {},
   "outputs": [
    {
     "name": "stdout",
     "output_type": "stream",
     "text": [
      "Creating sparse A poisson matrix...\n",
      "Elapsed time of Creating sparse A poisson matrix:0.005012\n",
      " \n",
      " \n"
     ]
    }
   ],
   "source": [
    "clear;\n",
    "close all;\n",
    "format short e;\n",
    "\n",
    "n=8;\n",
    "\n",
    "disp(['Creating sparse A poisson matrix...']);\n",
    "tic;\n",
    "A=gallery ('poisson', n);\n",
    "tElapsed=toc();\n",
    "disp(['Elapsed time of Creating sparse A poisson matrix:', num2str(tElapsed)]);\n",
    "disp(' ');\n",
    "disp(' ');\n"
   ]
  },
  {
   "cell_type": "code",
   "execution_count": 10,
   "metadata": {
    "scrolled": true
   },
   "outputs": [
    {
     "data": {
      "image/png": "[encoded data removed]",
      "text/plain": [
       "<IPython.core.display.Image object>"
      ]
     },
     "metadata": {},
     "output_type": "display_data"
    }
   ],
   "source": [
    "f1=figure('visible','off');\n",
    "spy(A,'.');\n",
    "filepng=['matrix_A.png'];\n",
    "print(f1,'-dpng',filepng);"
   ]
  },
  {
   "cell_type": "markdown",
   "metadata": {},
   "source": [
    "<img src=\"matrix_A.png\" width=\"480\">"
   ]
  },
  {
   "cell_type": "code",
   "execution_count": 3,
   "metadata": {},
   "outputs": [
    {
     "name": "stdout",
     "output_type": "stream",
     "text": [
      " \n",
      "non-zeros of A: 4992\n",
      " \n",
      "Performing Cholesky in sparse A...\n",
      "Elapsed Time of Cholesky in sparse A:0.0065589\n",
      "non-zeros of L: 32799\n",
      " \n",
      " \n"
     ]
    }
   ],
   "source": [
    "nzA=nnz(A);\n",
    "disp(' ');\n",
    "disp(['non-zeros of A: ',num2str(nzA) ]);\n",
    "disp(' ');\n",
    "\n",
    "disp(['Performing Cholesky in sparse A...']);\n",
    "tic;\n",
    "[L] = chol(A,'lower');\n",
    "tElapsed=toc();\n",
    "disp(['Elapsed Time of Cholesky in sparse A:', num2str(tElapsed)]);\n",
    "nzL=nnz(L);\n",
    "disp(['non-zeros of L: ',num2str(nzL) ]);\n",
    "%disp(['Float point operations: ',num2str(flops(L)) ]);\n",
    "disp(' ');\n",
    "disp(' ');"
   ]
  },
  {
   "cell_type": "code",
   "execution_count": 4,
   "metadata": {},
   "outputs": [
    {
     "name": "stdout",
     "output_type": "stream",
     "text": [
      " \n",
      "Symmetric reverse Cuthill-McKee permutation...\n",
      "Performing Cholesky in C=PAP^T...\n",
      "Elapsed Time of Cholesky in C=PAP^T:0.0036209\n",
      "non-zeros of L: 23344\n"
     ]
    }
   ],
   "source": [
    "disp(' ');\n",
    "disp(['Symmetric reverse Cuthill-McKee permutation...']);\n",
    "p = symrcm (A) ;\n",
    "AP=A (p,p);\n",
    "disp(['Performing Cholesky in C=PAP^T...']);\n",
    "tic;\n",
    "[L] = chol(AP,'lower');\n",
    "tElapsed=toc();\n",
    "disp(['Elapsed Time of Cholesky in C=PAP^T:', num2str(tElapsed)]);\n",
    "nzL=nnz(L);\n",
    "disp(['non-zeros of L: ',num2str(nzL) ]);\n"
   ]
  },
  {
   "cell_type": "code",
   "execution_count": null,
   "metadata": {},
   "outputs": [],
   "source": []
  }
 ],
 "metadata": {
  "kernelspec": {
   "display_name": "Octave",
   "language": "octave",
   "name": "octave"
  },
  "language_info": {
   "file_extension": ".m",
   "help_links": [
    {
     "text": "GNU Octave",
     "url": "https://www.gnu.org/software/octave/support.html"
    },
    {
     "text": "Octave Kernel",
     "url": "https://github.com/Calysto/octave_kernel"
    },
    {
     "text": "MetaKernel Magics",
     "url": "https://metakernel.readthedocs.io/en/latest/source/README.html"
    }
   ],
   "mimetype": "text/x-octave",
   "name": "octave",
   "version": "4.2.2"
  }
 },
 "nbformat": 4,
 "nbformat_minor": 4
}
