{
  "nbformat": 4,
  "nbformat_minor": 0,
  "metadata": {
    "kernelspec": {
      "display_name": "Octave",
      "language": "octave",
      "name": "octave"
    },
    "language_info": {
      "file_extension": ".m",
      "help_links": [
        {
          "text": "GNU Octave",
          "url": "https://www.gnu.org/software/octave/support.html"
        },
        {
          "text": "Octave Kernel",
          "url": "https://github.com/Calysto/octave_kernel"
        },
        {
          "text": "MetaKernel Magics",
          "url": "https://metakernel.readthedocs.io/en/latest/source/README.html"
        }
      ],
      "mimetype": "text/x-octave",
      "name": "octave",
      "version": "4.2.2"
    },
    "colab": {
      "name": "bfs_rcm_octave.ipynb",
      "provenance": [],
      "include_colab_link": true
    }
  },
  "cells": [
    {
      "cell_type": "markdown",
      "metadata": {
        "id": "view-in-github",
        "colab_type": "text"
      },
      "source": [
        "<a href=\"https://colab.research.google.com/github/robertopsouto/notebooks/blob/ga-026_2021-4/topicos/Grafos/cpp/busca_em_largura/bfs_rcm_octave_magic.ipynb\" target=\"_parent\"><img src=\"https://colab.research.google.com/assets/colab-badge.svg\" alt=\"Open In Colab\"/></a>"
      ]
    },
    {
      "cell_type": "markdown",
      "metadata": {
        "id": "mLBNjVP1qdJ1"
      },
      "source": [
        "# Busca em Largura: Reverse Cuthill-Mckee"
      ]
    },
    {
      "cell_type": "code",
      "metadata": {
        "id": "nkNOq40NqlNW"
      },
      "source": [
        "!apt install octave"
      ],
      "execution_count": null,
      "outputs": []
    },
    {
      "cell_type": "code",
      "metadata": {
        "id": "yt1vzIYgqmnw"
      },
      "source": [
        ""
      ],
      "execution_count": null,
      "outputs": []
    },
    {
      "cell_type": "code",
      "metadata": {
        "id": "e3QK1bqqqdJ8"
      },
      "source": [
        "clear;\n",
        "close all;\n",
        "format short e;"
      ],
      "execution_count": null,
      "outputs": []
    },
    {
      "cell_type": "code",
      "metadata": {
        "id": "ahfuhx2kqdJ-",
        "outputId": "55c74e8b-be38-4ca3-e658-2f370a5dc9e2"
      },
      "source": [
        "n=8;\n",
        "\n",
        "disp(['Creating sparse A poisson matrix...']);\n",
        "tic;\n",
        "A=gallery ('poisson', n);\n",
        "tElapsed=toc();\n",
        "disp(['Elapsed time of Creating sparse A poisson matrix:', num2str(tElapsed)]);\n",
        "disp(' ');\n",
        "disp(' ');\n",
        "nzA=nnz(A);\n",
        "disp(' ');\n",
        "disp(['non-zeros of A: ',num2str(nzA) ]);\n",
        "disp(' ');"
      ],
      "execution_count": null,
      "outputs": [
        {
          "name": "stdout",
          "output_type": "stream",
          "text": [
            "Creating sparse A poisson matrix...\n",
            "Elapsed time of Creating sparse A poisson matrix:0.004714\n",
            " \n",
            " \n",
            " \n",
            "non-zeros of A: 288\n",
            " \n"
          ]
        }
      ]
    },
    {
      "cell_type": "code",
      "metadata": {
        "scrolled": true,
        "id": "A9urU9jZqdKA",
        "outputId": "a5072b3a-6b75-4c2f-d3f7-4b80ece1919c"
      },
      "source": [
        "f1=figure();\n",
        "spy(A,'.');\n",
        "filepng=['matrix_A.png'];\n",
        "print(f1,'-dpng',filepng);"
      ],
      "execution_count": null,
      "outputs": [
        {
          "data": {
            "image/png": "[encoded data removed]",
            "text/plain": [
              "<IPython.core.display.Image object>"
            ]
          },
          "metadata": {},
          "output_type": "display_data"
        }
      ]
    },
    {
      "cell_type": "markdown",
      "metadata": {
        "id": "NUAypbCMqdKB"
      },
      "source": [
        "<img src=\"https://github.com/robertopsouto/notebooks/blob/ga-026_2021-4/topicos/Grafos/cpp/busca_em_largura/matrix_A.png?raw=1\" width=\"480\">"
      ]
    },
    {
      "cell_type": "code",
      "metadata": {
        "id": "rn3h5IsfqdKC",
        "outputId": "55706f10-c88e-4d4d-c815-917a4feff836"
      },
      "source": [
        "disp(['Performing Cholesky in sparse A...']);\n",
        "tic;\n",
        "[L] = chol(A,'lower');\n",
        "tElapsed=toc();\n",
        "disp(['Elapsed Time of Cholesky in sparse A:', num2str(tElapsed)]);\n",
        "nzL=nnz(L);\n",
        "disp(['non-zeros of L: ',num2str(nzL) ]);\n",
        "%disp(['Float point operations: ',num2str(flops(L)) ]);\n",
        "disp(' ');\n",
        "disp(' ');"
      ],
      "execution_count": null,
      "outputs": [
        {
          "name": "stdout",
          "output_type": "stream",
          "text": [
            "Performing Cholesky in sparse A...\n",
            "Elapsed Time of Cholesky in sparse A:0.0042939\n",
            "non-zeros of L: 519\n",
            " \n",
            " \n"
          ]
        }
      ]
    },
    {
      "cell_type": "code",
      "metadata": {
        "id": "KZm7utSlqdKC",
        "outputId": "8b846b71-32f4-482f-d6b0-2f27792e1df1"
      },
      "source": [
        "f2=figure();\n",
        "spy(L,'.');\n",
        "filepng=['matrix_L.png'];\n",
        "print(f2,'-dpng',filepng);"
      ],
      "execution_count": null,
      "outputs": [
        {
          "data": {
            "image/png": "[encoded data removed]",
            "text/plain": [
              "<IPython.core.display.Image object>"
            ]
          },
          "metadata": {},
          "output_type": "display_data"
        }
      ]
    },
    {
      "cell_type": "code",
      "metadata": {
        "id": "p6KipYP5qdKD",
        "outputId": "65745547-d127-48b1-e818-b19aa2db5d41"
      },
      "source": [
        "disp(' ');\n",
        "disp(['Symmetric reverse Cuthill-McKee permutation...']);\n",
        "p = symrcm (A) ;\n",
        "AP=A (p,p);"
      ],
      "execution_count": null,
      "outputs": [
        {
          "name": "stdout",
          "output_type": "stream",
          "text": [
            " \n",
            "Symmetric reverse Cuthill-McKee permutation...\n"
          ]
        }
      ]
    },
    {
      "cell_type": "code",
      "metadata": {
        "id": "KRxw2gP4qdKE",
        "outputId": "b5f8adcb-9a4f-4de8-8a26-c06ff14b788e"
      },
      "source": [
        "f3=figure();\n",
        "spy(AP,'.');\n",
        "filepng=['matrix_A_rcm.png'];\n",
        "print(f3,'-dpng',filepng);"
      ],
      "execution_count": null,
      "outputs": [
        {
          "data": {
            "image/png": "[encoded data removed]",
            "text/plain": [
              "<IPython.core.display.Image object>"
            ]
          },
          "metadata": {},
          "output_type": "display_data"
        }
      ]
    },
    {
      "cell_type": "code",
      "metadata": {
        "id": "hdgXoWOjqdKF",
        "outputId": "951933ed-6e72-4ce2-cf82-39ef23183f67"
      },
      "source": [
        "disp(['Performing Cholesky in C=PAP^T...']);\n",
        "tic;\n",
        "[L] = chol(AP,'lower');\n",
        "tElapsed=toc();\n",
        "disp(['Elapsed Time of Cholesky in C=PAP^T:', num2str(tElapsed)]);\n",
        "nzL=nnz(L);\n",
        "disp(['non-zeros of L: ',num2str(nzL) ]);"
      ],
      "execution_count": null,
      "outputs": [
        {
          "name": "stdout",
          "output_type": "stream",
          "text": [
            "Performing Cholesky in C=PAP^T...\n",
            "Elapsed Time of Cholesky in C=PAP^T:0.004549\n",
            "non-zeros of L: 428\n"
          ]
        }
      ]
    },
    {
      "cell_type": "code",
      "metadata": {
        "id": "VOCQylZtqdKF",
        "outputId": "83c3a4a6-e073-48f4-d58e-ed37aaae6cd5"
      },
      "source": [
        "f4=figure();\n",
        "spy(L,'.');\n",
        "filepng=['matrix_L_rcm.png'];\n",
        "print(f4,'-dpng',filepng);"
      ],
      "execution_count": null,
      "outputs": [
        {
          "data": {
            "image/png": "[encoded data removed]",
            "text/plain": [
              "<IPython.core.display.Image object>"
            ]
          },
          "metadata": {},
          "output_type": "display_data"
        }
      ]
    },
    {
      "cell_type": "code",
      "metadata": {
        "id": "E_HF9F0MqdKG"
      },
      "source": [
        ""
      ],
      "execution_count": null,
      "outputs": []
    }
  ]
}