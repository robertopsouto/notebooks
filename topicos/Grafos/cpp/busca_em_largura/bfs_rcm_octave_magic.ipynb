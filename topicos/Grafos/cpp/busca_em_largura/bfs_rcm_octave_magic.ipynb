{
  "nbformat": 4,
  "nbformat_minor": 0,
  "metadata": {
    "kernelspec": {
      "name": "python3",
      "display_name": "Python 3"
    },
    "colab": {
      "name": "bfs_rcm_octave.ipynb",
      "provenance": [],
      "include_colab_link": true
    },
    "language_info": {
      "name": "python"
    }
  },
  "cells": [
    {
      "cell_type": "markdown",
      "metadata": {
        "id": "view-in-github",
        "colab_type": "text"
      },
      "source": [
        "<a href=\"https://colab.research.google.com/github/robertopsouto/notebooks/blob/ga-026_2021-4/topicos/Grafos/cpp/busca_em_largura/bfs_rcm_octave_magic.ipynb\" target=\"_parent\"><img src=\"https://colab.research.google.com/assets/colab-badge.svg\" alt=\"Open In Colab\"/></a>"
      ]
    },
    {
      "cell_type": "markdown",
      "metadata": {
        "id": "mLBNjVP1qdJ1"
      },
      "source": [
        "# Busca em Largura: Reverse Cuthill-Mckee"
      ]
    },
    {
      "cell_type": "code",
      "metadata": {
        "id": "nkNOq40NqlNW"
      },
      "source": [
        "!apt install octave"
      ],
      "execution_count": null,
      "outputs": []
    },
    {
      "cell_type": "code",
      "metadata": {
        "id": "yt1vzIYgqmnw"
      },
      "source": [
        "!pip install oct2py"
      ],
      "execution_count": null,
      "outputs": []
    },
    {
      "cell_type": "code",
      "metadata": {
        "id": "k9GGKQsCq12k"
      },
      "source": [
        "%load_ext oct2py.ipython"
      ],
      "execution_count": null,
      "outputs": []
    },
    {
      "cell_type": "code",
      "metadata": {
        "id": "e3QK1bqqqdJ8"
      },
      "source": [
        "%%octave\n",
        "\n",
        "clear;\n",
        "close all;\n",
        "format short e;"
      ],
      "execution_count": null,
      "outputs": []
    },
    {
      "cell_type": "code",
      "metadata": {
        "id": "ahfuhx2kqdJ-"
      },
      "source": [
        "%%octave\n",
        "\n",
        "n=8;\n",
        "\n",
        "disp(['Creating sparse A poisson matrix...']);\n",
        "tic;\n",
        "A=gallery ('poisson', n);\n",
        "tElapsed=toc();\n",
        "disp(['Elapsed time of Creating sparse A poisson matrix:', num2str(tElapsed)]);\n",
        "disp(' ');\n",
        "disp(' ');\n",
        "nzA=nnz(A);\n",
        "disp(' ');\n",
        "disp(['non-zeros of A: ',num2str(nzA) ]);\n",
        "disp(' ');"
      ],
      "execution_count": null,
      "outputs": []
    },
    {
      "cell_type": "code",
      "metadata": {
        "scrolled": true,
        "id": "A9urU9jZqdKA"
      },
      "source": [
        "%%octave\n",
        "\n",
        "f1=figure();\n",
        "spy(A,'.');\n",
        "filepng=['matrix_A.png'];\n",
        "print(f1,'-dpng',filepng);"
      ],
      "execution_count": null,
      "outputs": []
    },
    {
      "cell_type": "markdown",
      "metadata": {
        "id": "NUAypbCMqdKB"
      },
      "source": [
        "<img src=\"https://github.com/robertopsouto/notebooks/blob/ga-026_2021-4/topicos/Grafos/cpp/busca_em_largura/matrix_A.png?raw=1\" width=\"480\">"
      ]
    },
    {
      "cell_type": "code",
      "metadata": {
        "id": "rn3h5IsfqdKC"
      },
      "source": [
        "%%octave\n",
        "\n",
        "disp(['Performing Cholesky in sparse A...']);\n",
        "tic;\n",
        "[L] = chol(A,'lower');\n",
        "tElapsed=toc();\n",
        "disp(['Elapsed Time of Cholesky in sparse A:', num2str(tElapsed)]);\n",
        "nzL=nnz(L);\n",
        "disp(['non-zeros of L: ',num2str(nzL) ]);\n",
        "%disp(['Float point operations: ',num2str(flops(L)) ]);\n",
        "disp(' ');\n",
        "disp(' ');"
      ],
      "execution_count": null,
      "outputs": []
    },
    {
      "cell_type": "code",
      "metadata": {
        "id": "KZm7utSlqdKC"
      },
      "source": [
        "%%octave\n",
        "\n",
        "f2=figure();\n",
        "spy(L,'.');\n",
        "filepng=['matrix_L.png'];\n",
        "print(f2,'-dpng',filepng);"
      ],
      "execution_count": null,
      "outputs": []
    },
    {
      "cell_type": "code",
      "metadata": {
        "id": "p6KipYP5qdKD"
      },
      "source": [
        "%%octave\n",
        "\n",
        "disp(' ');\n",
        "disp(['Symmetric reverse Cuthill-McKee permutation...']);\n",
        "p = symrcm (A) ;\n",
        "AP=A (p,p);"
      ],
      "execution_count": null,
      "outputs": []
    },
    {
      "cell_type": "code",
      "metadata": {
        "id": "KRxw2gP4qdKE"
      },
      "source": [
        "%%octave\n",
        "\n",
        "f3=figure();\n",
        "spy(AP,'.');\n",
        "filepng=['matrix_A_rcm.png'];\n",
        "print(f3,'-dpng',filepng);"
      ],
      "execution_count": null,
      "outputs": []
    },
    {
      "cell_type": "code",
      "metadata": {
        "id": "hdgXoWOjqdKF"
      },
      "source": [
        "%%octave\n",
        "\n",
        "disp(['Performing Cholesky in C=PAP^T...']);\n",
        "tic;\n",
        "[L] = chol(AP,'lower');\n",
        "tElapsed=toc();\n",
        "disp(['Elapsed Time of Cholesky in C=PAP^T:', num2str(tElapsed)]);\n",
        "nzL=nnz(L);\n",
        "disp(['non-zeros of L: ',num2str(nzL) ]);"
      ],
      "execution_count": null,
      "outputs": []
    },
    {
      "cell_type": "code",
      "metadata": {
        "id": "VOCQylZtqdKF"
      },
      "source": [
        "%%octave\n",
        "\n",
        "f4=figure();\n",
        "spy(L,'.');\n",
        "filepng=['matrix_L_rcm.png'];\n",
        "print(f4,'-dpng',filepng);"
      ],
      "execution_count": null,
      "outputs": []
    },
    {
      "cell_type": "code",
      "metadata": {
        "id": "E_HF9F0MqdKG"
      },
      "source": [
        ""
      ],
      "execution_count": null,
      "outputs": []
    }
  ]
}