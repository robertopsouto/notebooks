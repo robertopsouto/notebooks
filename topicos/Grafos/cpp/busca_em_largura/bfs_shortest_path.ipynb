{
 "cells": [
  {
   "cell_type": "markdown",
   "metadata": {},
   "source": [
    "# Busca em Largura: caminho mínimo"
   ]
  },
  {
   "cell_type": "markdown",
   "metadata": {},
   "source": [
    "### Código original de\n",
    "### https://www.geeksforgeeks.org/shortest-path-unweighted-graph/"
   ]
  },
  {
   "cell_type": "code",
   "execution_count": null,
   "metadata": {},
   "outputs": [],
   "source": [
    "// CPP code for printing shortest path between \n",
    "// two vertices of unweighted graph \n",
    "#include <bits/stdc++.h> \n",
    "using namespace std; \n",
    "  "
   ]
  },
  {
   "cell_type": "code",
   "execution_count": null,
   "metadata": {},
   "outputs": [],
   "source": [
    "// utility function to form edge between two vertices \n",
    "// source and dest \n",
    "void add_edge(vector<int> adj[], int src, int dest) \n",
    "{ \n",
    "    adj[src].push_back(dest); \n",
    "    adj[dest].push_back(src); \n",
    "} \n",
    "  "
   ]
  },
  {
   "cell_type": "code",
   "execution_count": null,
   "metadata": {},
   "outputs": [],
   "source": [
    "// a modified version of BFS that stores predecessor \n",
    "// of each vertex in array p \n",
    "// and its distance from source in array d \n",
    "bool BFS(vector<int> adj[], int src, int dest, int v, \n",
    "         int pred[], int dist[]) \n",
    "{ \n",
    "    // a queue to maintain queue of vertices whose \n",
    "    // adjacency list is to be scanned as per normal \n",
    "    // DFS algorithm \n",
    "    list<int> queue; \n",
    "  \n",
    "    // boolean array visited[] which stores the \n",
    "    // information whether ith vertex is reached \n",
    "    // at least once in the Breadth first search \n",
    "    bool visited[v]; \n",
    "  \n",
    "    // initially all vertices are unvisited \n",
    "    // so v[i] for all i is false \n",
    "    // and as no path is yet constructed \n",
    "    // dist[i] for all i set to infinity \n",
    "    for (int i = 0; i < v; i++) { \n",
    "        visited[i] = false; \n",
    "        dist[i] = INT_MAX; \n",
    "        pred[i] = -1; \n",
    "    } \n",
    "  \n",
    "    // now source is first to be visited and \n",
    "    // distance from source to itself should be 0 \n",
    "    visited[src] = true; \n",
    "    dist[src] = 0; \n",
    "    queue.push_back(src); \n",
    "  \n",
    "    // standard BFS algorithm \n",
    "    while (!queue.empty()) { \n",
    "        int u = queue.front(); \n",
    "        queue.pop_front(); \n",
    "        for (int i = 0; i < adj[u].size(); i++) { \n",
    "            if (visited[adj[u][i]] == false) { \n",
    "                visited[adj[u][i]] = true; \n",
    "                dist[adj[u][i]] = dist[u] + 1; \n",
    "                pred[adj[u][i]] = u; \n",
    "                queue.push_back(adj[u][i]); \n",
    "  \n",
    "                // We stop BFS when we find \n",
    "                // destination. \n",
    "                if (adj[u][i] == dest) \n",
    "                    return true; \n",
    "            } \n",
    "        } \n",
    "    } \n",
    "  \n",
    "    return false; \n",
    "}"
   ]
  },
  {
   "cell_type": "code",
   "execution_count": null,
   "metadata": {},
   "outputs": [],
   "source": [
    "// utility function to print the shortest distance \n",
    "// between source vertex and destination vertex \n",
    "void printShortestDistance(vector<int> adj[], int s, \n",
    "                           int dest, int v) \n",
    "{ \n",
    "    // predecessor[i] array stores predecessor of \n",
    "    // i and distance array stores distance of i \n",
    "    // from s \n",
    "    int pred[v], dist[v]; \n",
    "  \n",
    "    if (BFS(adj, s, dest, v, pred, dist) == false) { \n",
    "        cout << \"Given source and destination\"\n",
    "             << \" are not connected\"; \n",
    "        return; \n",
    "    } \n",
    "  \n",
    "    // vector path stores the shortest path \n",
    "    vector<int> path; \n",
    "    int crawl = dest; \n",
    "    path.push_back(crawl); \n",
    "    while (pred[crawl] != -1) { \n",
    "        path.push_back(pred[crawl]); \n",
    "        crawl = pred[crawl]; \n",
    "    } \n",
    "  \n",
    "    // distance from source is in distance array \n",
    "    cout << \"Shortest path length is : \"\n",
    "         << dist[dest]; \n",
    "  \n",
    "    // printing path from source to destination \n",
    "    cout << \"\\nPath is::\\n\"; \n",
    "    for (int i = path.size() - 1; i >= 0; i--) \n",
    "        cout << path[i] << \" \"; \n",
    "}"
   ]
  },
  {
   "cell_type": "code",
   "execution_count": null,
   "metadata": {},
   "outputs": [],
   "source": [
    "// Driver program to test above functions \n",
    "void exemplo() \n",
    "{ \n",
    "    // no. of vertices \n",
    "    int v = 8; \n",
    "  \n",
    "    // array of vectors is used to store the graph \n",
    "    // in the form of an adjacency list \n",
    "    vector<int> adj[v]; \n",
    "  \n",
    "    // Creating graph given in the above diagram. \n",
    "    // add_edge function takes adjacency list, source \n",
    "    // and destination vertex as argument and forms \n",
    "    // an edge between them. \n",
    "    add_edge(adj, 0, 1); \n",
    "    add_edge(adj, 0, 3); \n",
    "    add_edge(adj, 1, 2); \n",
    "    add_edge(adj, 3, 4); \n",
    "    add_edge(adj, 3, 7); \n",
    "    add_edge(adj, 4, 5); \n",
    "    add_edge(adj, 4, 6); \n",
    "    add_edge(adj, 4, 7); \n",
    "    add_edge(adj, 5, 6); \n",
    "    add_edge(adj, 6, 7); \n",
    "    int source = 0, dest = 7; \n",
    "    printShortestDistance(adj, source, dest, v); \n",
    "} "
   ]
  },
  {
   "cell_type": "markdown",
   "metadata": {},
   "source": [
    "<img src=\"exampleFigure-1.png\" width=\"480\">"
   ]
  },
  {
   "cell_type": "code",
   "execution_count": null,
   "metadata": {},
   "outputs": [],
   "source": [
    "exemplo()"
   ]
  },
  {
   "cell_type": "code",
   "execution_count": null,
   "metadata": {},
   "outputs": [],
   "source": []
  }
 ],
 "metadata": {
  "kernelspec": {
   "display_name": "C++17",
   "language": "C++17",
   "name": "xcpp17"
  },
  "language_info": {
   "codemirror_mode": "text/x-c++src",
   "file_extension": ".cpp",
   "mimetype": "text/x-c++src",
   "name": "c++",
   "version": "17"
  }
 },
 "nbformat": 4,
 "nbformat_minor": 4
}
