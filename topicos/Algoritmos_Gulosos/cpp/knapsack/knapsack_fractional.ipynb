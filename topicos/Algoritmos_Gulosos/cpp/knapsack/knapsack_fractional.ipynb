{
 "cells": [
  {
   "cell_type": "markdown",
   "metadata": {},
   "source": [
    "# Problema da Mochila: versão fracionária (Algoritmo Gulso)"
   ]
  },
  {
   "cell_type": "markdown",
   "metadata": {},
   "source": [
    "### Código original de\n",
    "### https://www.geeksforgeeks.org/fractional-knapsack-problem/"
   ]
  },
  {
   "cell_type": "code",
   "execution_count": 1,
   "metadata": {},
   "outputs": [],
   "source": [
    "// C/C++ program to solve fractional Knapsack Problem \n",
    "#include <bits/stdc++.h> \n",
    "  \n",
    "using namespace std; \n",
    "  "
   ]
  },
  {
   "cell_type": "code",
   "execution_count": 2,
   "metadata": {},
   "outputs": [],
   "source": [
    "// Structure for an item which stores weight and corresponding \n",
    "// value of Item \n",
    "struct Item \n",
    "{ \n",
    "    int value, weight; \n",
    "  \n",
    "    // Constructor \n",
    "    Item(int value, int weight) : value(value), weight(weight) \n",
    "    {} \n",
    "}; \n",
    "  "
   ]
  },
  {
   "cell_type": "code",
   "execution_count": 3,
   "metadata": {},
   "outputs": [],
   "source": [
    "// Comparison function to sort Item according to val/weight ratio \n",
    "bool cmp(struct Item a, struct Item b) \n",
    "{ \n",
    "    double r1 = (double)a.value / a.weight; \n",
    "    double r2 = (double)b.value / b.weight; \n",
    "    return r1 > r2; \n",
    "} \n",
    "  "
   ]
  },
  {
   "cell_type": "code",
   "execution_count": 4,
   "metadata": {},
   "outputs": [],
   "source": [
    "// Main greedy function to solve problem \n",
    "double fractionalKnapsack(int W, struct Item arr[], int n) \n",
    "{ \n",
    "    //    sorting Item on basis of ratio \n",
    "    sort(arr, arr + n, cmp); \n",
    "  \n",
    "    //    Uncomment to see new order of Items with their ratio \n",
    "    /* \n",
    "    for (int i = 0; i < n; i++) \n",
    "    { \n",
    "        cout << arr[i].value << \"  \" << arr[i].weight << \" : \" \n",
    "             << ((double)arr[i].value / arr[i].weight) << endl; \n",
    "    } \n",
    "    */\n",
    "  \n",
    "    int curWeight = 0;  // Current weight in knapsack \n",
    "    double finalvalue = 0.0; // Result (value in Knapsack) \n",
    "  \n",
    "    // Looping through all Items \n",
    "    for (int i = 0; i < n; i++) \n",
    "    { \n",
    "        // If adding Item won't overflow, add it completely \n",
    "        if (curWeight + arr[i].weight <= W) \n",
    "        { \n",
    "            curWeight += arr[i].weight; \n",
    "            finalvalue += arr[i].value; \n",
    "        } \n",
    "  \n",
    "        // If we can't add current Item, add fractional part of it \n",
    "        else\n",
    "        { \n",
    "            int remain = W - curWeight; \n",
    "            finalvalue += arr[i].value * ((double) remain / arr[i].weight); \n",
    "            break; \n",
    "        } \n",
    "    } \n",
    "  \n",
    "    // Returning final value \n",
    "    return finalvalue; \n",
    "}"
   ]
  },
  {
   "cell_type": "code",
   "execution_count": 5,
   "metadata": {},
   "outputs": [],
   "source": [
    "// driver program to test above function \n",
    "void exemplo() \n",
    "{ \n",
    "    int W = 50;   //    Weight of knapsack \n",
    "    Item arr[] = {{60, 10}, {100, 20}, {120, 30}}; \n",
    "  \n",
    "    int n = sizeof(arr) / sizeof(arr[0]); \n",
    "  \n",
    "    cout << \"Maximum value we can obtain = \"\n",
    "         << fractionalKnapsack(W, arr, n); \n",
    "}"
   ]
  },
  {
   "cell_type": "code",
   "execution_count": 6,
   "metadata": {},
   "outputs": [
    {
     "name": "stdout",
     "output_type": "stream",
     "text": [
      "Maximum value we can obtain = 240"
     ]
    }
   ],
   "source": [
    "exemplo()"
   ]
  },
  {
   "cell_type": "code",
   "execution_count": null,
   "metadata": {},
   "outputs": [],
   "source": []
  }
 ],
 "metadata": {
  "kernelspec": {
   "display_name": "C++11",
   "language": "C++11",
   "name": "xcpp11"
  },
  "language_info": {
   "codemirror_mode": "text/x-c++src",
   "file_extension": ".cpp",
   "mimetype": "text/x-c++src",
   "name": "c++",
   "version": "11"
  }
 },
 "nbformat": 4,
 "nbformat_minor": 4
}
