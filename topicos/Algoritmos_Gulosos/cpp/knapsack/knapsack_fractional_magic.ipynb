{
  "nbformat": 4,
  "nbformat_minor": 0,
  "metadata": {
    "kernelspec": {
      "name": "python3",
      "display_name": "Python 3"
    },
    "colab": {
      "name": "knapsack_fractional_magic.ipynb",
      "provenance": [],
      "include_colab_link": true
    },
    "language_info": {
      "name": "python"
    }
  },
  "cells": [
    {
      "cell_type": "markdown",
      "metadata": {
        "id": "view-in-github",
        "colab_type": "text"
      },
      "source": [
        "<a href=\"https://colab.research.google.com/github/robertopsouto/notebooks/blob/ga-026_2021-4/topicos/Algoritmos_Gulosos/cpp/knapsack/knapsack_fractional_magic.ipynb\" target=\"_parent\"><img src=\"https://colab.research.google.com/assets/colab-badge.svg\" alt=\"Open In Colab\"/></a>"
      ]
    },
    {
      "cell_type": "markdown",
      "metadata": {
        "id": "ngFYlSKu5Epy"
      },
      "source": [
        "# Problema da Mochila: versão fracionária (Algoritmo Gulso)"
      ]
    },
    {
      "cell_type": "markdown",
      "metadata": {
        "id": "FXzr6ipt5Ep2"
      },
      "source": [
        "### Código original de\n",
        "### https://www.geeksforgeeks.org/fractional-knapsack-problem/"
      ]
    },
    {
      "cell_type": "code",
      "metadata": {
        "id": "ZpF-R0rt5K17"
      },
      "source": [
        "%%writefile knapsack_fractional.cpp\n",
        "\n",
        "// C/C++ program to solve fractional Knapsack Problem\n",
        "#include <bits/stdc++.h>\n",
        "\n",
        "using namespace std;\n",
        "\n",
        "// Structure for an item which stores weight and\n",
        "// corresponding value of Item\n",
        "struct Item {\n",
        "\tint value, weight;\n",
        "\n",
        "\t// Constructor\n",
        "\tItem(int value, int weight)\n",
        "\t{\n",
        "\tthis->value=value;\n",
        "\tthis->weight=weight;\n",
        "\t}\n",
        "};\n",
        "\n",
        "// Comparison function to sort Item according to val/weight\n",
        "// ratio\n",
        "bool cmp(struct Item a, struct Item b)\n",
        "{\n",
        "\tdouble r1 = (double)a.value / (double)a.weight;\n",
        "\tdouble r2 = (double)b.value / (double)b.weight;\n",
        "\treturn r1 > r2;\n",
        "}\n",
        "\n",
        "// Main greedy function to solve problem\n",
        "double fractionalKnapsack(int W, struct Item arr[], int n)\n",
        "{\n",
        "\t// sorting Item on basis of ratio\n",
        "\tsort(arr, arr + n, cmp);\n",
        "\n",
        "\t// Uncomment to see new order of Items with their\n",
        "\t// ratio\n",
        "\t/*\n",
        "\tfor (int i = 0; i < n; i++)\n",
        "\t{\n",
        "\t\tcout << arr[i].value << \" \" << arr[i].weight << \" :\n",
        "\t\"\n",
        "\t\t\t<< ((double)arr[i].value / arr[i].weight) <<\n",
        "\tendl;\n",
        "\t}\n",
        "\t*/\n",
        "\n",
        "\tint curWeight = 0; // Current weight in knapsack\n",
        "\tdouble finalvalue = 0.0; // Result (value in Knapsack)\n",
        "\n",
        "\t// Looping through all Items\n",
        "\tfor (int i = 0; i < n; i++) {\n",
        "\t\t// If adding Item won't overflow, add it completely\n",
        "\t\tif (curWeight + arr[i].weight <= W) {\n",
        "\t\t\tcurWeight += arr[i].weight;\n",
        "\t\t\tfinalvalue += arr[i].value;\n",
        "\t\t}\n",
        "\n",
        "\t\t// If we can't add current Item, add fractional part\n",
        "\t\t// of it\n",
        "\t\telse {\n",
        "\t\t\tint remain = W - curWeight;\n",
        "\t\t\tfinalvalue += arr[i].value\n",
        "\t\t\t\t\t\t* ((double)remain\n",
        "\t\t\t\t\t\t\t/ (double)arr[i].weight);\n",
        "\t\t\tbreak;\n",
        "\t\t}\n",
        "\t}\n",
        "\n",
        "\t// Returning final value\n",
        "\treturn finalvalue;\n",
        "}\n",
        "\n",
        "// Driver code\n",
        "int main()\n",
        "{\n",
        "\tint W = 50; // Weight of knapsack\n",
        "\tItem arr[] = { { 60, 10 }, { 100, 20 }, { 120, 30 } };\n",
        "\n",
        "\tint n = sizeof(arr) / sizeof(arr[0]);\n",
        "\n",
        "\t// Function call\n",
        "\tcout << \"Maximum value we can obtain = \"\n",
        "\t\t<< fractionalKnapsack(W, arr, n);\n",
        "\treturn 0;\n",
        "}\n"
      ],
      "execution_count": null,
      "outputs": []
    },
    {
      "cell_type": "code",
      "metadata": {
        "id": "tJ-DpZW15osy"
      },
      "source": [
        "%%sh\n",
        "g++ knapsack_fractional.cpp -o knapsack_fractional\n",
        "./knapsack_fractional"
      ],
      "execution_count": null,
      "outputs": []
    }
  ]
}