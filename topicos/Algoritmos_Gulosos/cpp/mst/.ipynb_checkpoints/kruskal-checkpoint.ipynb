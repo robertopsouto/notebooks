{
 "cells": [
  {
   "cell_type": "markdown",
   "metadata": {},
   "source": [
    "# Algoritmo de Kruskal"
   ]
  },
  {
   "cell_type": "markdown",
   "metadata": {},
   "source": [
    "### Código original de\n",
    "### https://www.geeksforgeeks.org/kruskals-minimum-spanning-tree-algorithm-greedy-algo-2/"
   ]
  },
  {
   "cell_type": "code",
   "execution_count": null,
   "metadata": {},
   "outputs": [],
   "source": [
    "// C++ program for Kruskal's algorithm to find Minimum Spanning Tree  \n",
    "// of a given connected, undirected and weighted graph  \n",
    "#include <bits/stdc++.h> \n",
    "using namespace std; \n",
    "  "
   ]
  },
  {
   "cell_type": "code",
   "execution_count": null,
   "metadata": {},
   "outputs": [],
   "source": [
    "// a structure to represent a weighted edge in graph  \n",
    "class Edge  \n",
    "{  \n",
    "    public: \n",
    "    int src, dest, weight;  \n",
    "};  "
   ]
  },
  {
   "cell_type": "code",
   "execution_count": null,
   "metadata": {},
   "outputs": [],
   "source": [
    "// a structure to represent a connected, undirected  \n",
    "// and weighted graph  \n",
    "class Graph  \n",
    "{  \n",
    "    public: \n",
    "    // V-> Number of vertices, E-> Number of edges  \n",
    "    int V, E;  \n",
    "  \n",
    "    // graph is represented as an array of edges.  \n",
    "    // Since the graph is undirected, the edge  \n",
    "    // from src to dest is also edge from dest  \n",
    "    // to src. Both are counted as 1 edge here.  \n",
    "    Edge* edge;  \n",
    "};  \n",
    "  "
   ]
  },
  {
   "cell_type": "code",
   "execution_count": null,
   "metadata": {},
   "outputs": [],
   "source": [
    "// Creates a graph with V vertices and E edges  \n",
    "Graph* createGraph(int V, int E)  \n",
    "{  \n",
    "    Graph* graph = new Graph;  \n",
    "    graph->V = V;  \n",
    "    graph->E = E;  \n",
    "  \n",
    "    graph->edge = new Edge[E];  \n",
    "  \n",
    "    return graph;  \n",
    "}  \n",
    "  "
   ]
  },
  {
   "cell_type": "code",
   "execution_count": null,
   "metadata": {},
   "outputs": [],
   "source": [
    "// A structure to represent a subset for union-find  \n",
    "class subset  \n",
    "{  \n",
    "    public: \n",
    "    int parent;  \n",
    "    int rank;  \n",
    "};  \n",
    "  "
   ]
  },
  {
   "cell_type": "code",
   "execution_count": null,
   "metadata": {},
   "outputs": [],
   "source": [
    "// A utility function to find set of an element i  \n",
    "// (uses path compression technique)  \n",
    "int find(subset subsets[], int i)  \n",
    "{  \n",
    "    // find root and make root as parent of i  \n",
    "    // (path compression)  \n",
    "    if (subsets[i].parent != i)  \n",
    "        subsets[i].parent = find(subsets, subsets[i].parent);  \n",
    "  \n",
    "    return subsets[i].parent;  \n",
    "}  \n",
    "  "
   ]
  },
  {
   "cell_type": "code",
   "execution_count": null,
   "metadata": {},
   "outputs": [],
   "source": [
    "// A function that does union of two sets of x and y  \n",
    "// (uses union by rank)  \n",
    "void Union(subset subsets[], int x, int y)  \n",
    "{  \n",
    "    int xroot = find(subsets, x);  \n",
    "    int yroot = find(subsets, y);  \n",
    "  \n",
    "    // Attach smaller rank tree under root of high  \n",
    "    // rank tree (Union by Rank)  \n",
    "    if (subsets[xroot].rank < subsets[yroot].rank)  \n",
    "        subsets[xroot].parent = yroot;  \n",
    "    else if (subsets[xroot].rank > subsets[yroot].rank)  \n",
    "        subsets[yroot].parent = xroot;  \n",
    "  \n",
    "    // If ranks are same, then make one as root and  \n",
    "    // increment its rank by one  \n",
    "    else\n",
    "    {  \n",
    "        subsets[yroot].parent = xroot;  \n",
    "        subsets[xroot].rank++;  \n",
    "    }  \n",
    "}  \n",
    "  "
   ]
  },
  {
   "cell_type": "code",
   "execution_count": null,
   "metadata": {},
   "outputs": [],
   "source": [
    "// Compare two edges according to their weights.  \n",
    "// Used in qsort() for sorting an array of edges  \n",
    "int myComp(const void* a, const void* b)  \n",
    "{  \n",
    "    Edge* a1 = (Edge*)a;  \n",
    "    Edge* b1 = (Edge*)b;  \n",
    "    return a1->weight > b1->weight;  \n",
    "}  \n",
    "  "
   ]
  },
  {
   "cell_type": "code",
   "execution_count": null,
   "metadata": {},
   "outputs": [],
   "source": [
    "// The main function to construct MST using Kruskal's algorithm  \n",
    "void KruskalMST(Graph* graph)  \n",
    "{  \n",
    "    int V = graph->V;  \n",
    "    Edge result[V]; // Tnis will store the resultant MST  \n",
    "    int e = 0; // An index variable, used for result[]  \n",
    "    int i = 0; // An index variable, used for sorted edges  \n",
    "  \n",
    "    // Step 1: Sort all the edges in non-decreasing  \n",
    "    // order of their weight. If we are not allowed to  \n",
    "    // change the given graph, we can create a copy of  \n",
    "    // array of edges  \n",
    "    qsort(graph->edge, graph->E, sizeof(graph->edge[0]), myComp);  \n",
    "  \n",
    "    // Allocate memory for creating V ssubsets  \n",
    "    subset *subsets = new subset[( V * sizeof(subset) )];  \n",
    "  \n",
    "    // Create V subsets with single elements  \n",
    "    for (int v = 0; v < V; ++v)  \n",
    "    {  \n",
    "        subsets[v].parent = v;  \n",
    "        subsets[v].rank = 0;  \n",
    "    }  \n",
    "  \n",
    "    // Number of edges to be taken is equal to V-1  \n",
    "    while (e < V - 1 && i < graph->E)  \n",
    "    {  \n",
    "        // Step 2: Pick the smallest edge. And increment  \n",
    "        // the index for next iteration  \n",
    "        Edge next_edge = graph->edge[i++];  \n",
    "  \n",
    "        int x = find(subsets, next_edge.src);  \n",
    "        int y = find(subsets, next_edge.dest);  \n",
    "  \n",
    "        // If including this edge does't cause cycle,  \n",
    "        // include it in result and increment the index  \n",
    "        // of result for next edge  \n",
    "        if (x != y)  \n",
    "        {  \n",
    "            result[e++] = next_edge;  \n",
    "            Union(subsets, x, y);  \n",
    "        }  \n",
    "        // Else discard the next_edge  \n",
    "    }  \n",
    "  \n",
    "    // print the contents of result[] to display the  \n",
    "    // built MST  \n",
    "    cout<<\"Following are the edges in the constructed MST\\n\";  \n",
    "    for (i = 0; i < e; ++i)  \n",
    "        cout<<result[i].src<<\" -- \"<<result[i].dest<<\" == \"<<result[i].weight<<endl;  \n",
    "    return;  \n",
    "}  "
   ]
  },
  {
   "cell_type": "code",
   "execution_count": null,
   "metadata": {},
   "outputs": [],
   "source": [
    "// Driver code \n",
    "void example()  \n",
    "{  \n",
    "    /* Let us create following weighted graph  \n",
    "            10  \n",
    "        0--------1  \n",
    "        | \\ |  \n",
    "    6| 5\\ |15  \n",
    "        | \\ |  \n",
    "        2--------3  \n",
    "            4 */\n",
    "    int V = 4; // Number of vertices in graph  \n",
    "    int E = 5; // Number of edges in graph  \n",
    "    Graph* graph = createGraph(V, E);  \n",
    "  \n",
    "  \n",
    "    // add edge 0-1  \n",
    "    graph->edge[0].src = 0;  \n",
    "    graph->edge[0].dest = 1;  \n",
    "    graph->edge[0].weight = 10;  \n",
    "  \n",
    "    // add edge 0-2  \n",
    "    graph->edge[1].src = 0;  \n",
    "    graph->edge[1].dest = 2;  \n",
    "    graph->edge[1].weight = 6;  \n",
    "  \n",
    "    // add edge 0-3  \n",
    "    graph->edge[2].src = 0;  \n",
    "    graph->edge[2].dest = 3;  \n",
    "    graph->edge[2].weight = 5;  \n",
    "  \n",
    "    // add edge 1-3  \n",
    "    graph->edge[3].src = 1;  \n",
    "    graph->edge[3].dest = 3;  \n",
    "    graph->edge[3].weight = 15;  \n",
    "  \n",
    "    // add edge 2-3  \n",
    "    graph->edge[4].src = 2;  \n",
    "    graph->edge[4].dest = 3;  \n",
    "    graph->edge[4].weight = 4;  \n",
    "  \n",
    "    KruskalMST(graph);  \n",
    "  \n",
    "}"
   ]
  },
  {
   "cell_type": "code",
   "execution_count": null,
   "metadata": {},
   "outputs": [],
   "source": []
  }
 ],
 "metadata": {
  "kernelspec": {
   "display_name": "C++11",
   "language": "C++11",
   "name": "xcpp11"
  },
  "language_info": {
   "codemirror_mode": "text/x-c++src",
   "file_extension": ".cpp",
   "mimetype": "text/x-c++src",
   "name": "c++",
   "version": "11"
  }
 },
 "nbformat": 4,
 "nbformat_minor": 4
}
