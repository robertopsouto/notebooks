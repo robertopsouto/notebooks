{
 "cells": [
  {
   "cell_type": "markdown",
   "metadata": {},
   "source": [
    "# Algoritmo de Prim"
   ]
  },
  {
   "cell_type": "markdown",
   "metadata": {},
   "source": [
    "### Código original de\n",
    "### https://www.geeksforgeeks.org/kruskals-minimum-spanning-tree-algorithm-greedy-algo-2/"
   ]
  },
  {
   "cell_type": "code",
   "execution_count": 13,
   "metadata": {},
   "outputs": [],
   "source": [
    "// C / C++ program for Prim's MST for adjacency list representation of graph \n",
    "  \n",
    "#include <limits.h> \n",
    "#include <stdio.h> \n",
    "#include <stdlib.h> \n",
    "  "
   ]
  },
  {
   "cell_type": "code",
   "execution_count": 14,
   "metadata": {},
   "outputs": [],
   "source": [
    "// A structure to represent a node in adjacency list \n",
    "struct AdjListNode { \n",
    "    int dest; \n",
    "    int weight; \n",
    "    struct AdjListNode* next; \n",
    "}; \n",
    "  "
   ]
  },
  {
   "cell_type": "code",
   "execution_count": 15,
   "metadata": {},
   "outputs": [],
   "source": [
    "// A structure to represent an adjacency list \n",
    "struct AdjList { \n",
    "    struct AdjListNode* head; // pointer to head node of list \n",
    "}; \n",
    "  "
   ]
  },
  {
   "cell_type": "code",
   "execution_count": 16,
   "metadata": {},
   "outputs": [
    {
     "name": "stderr",
     "output_type": "stream",
     "text": [
      "\u001b[1minput_line_28:3:8: \u001b[0m\u001b[0;1;31merror: \u001b[0m\u001b[1mredefinition of 'Graph'\u001b[0m\n",
      "struct Graph { \n",
      "\u001b[0;1;32m       ^\n",
      "\u001b[0m\u001b[1minput_line_14:3:7: \u001b[0m\u001b[0;1;30mnote: \u001b[0mprevious definition is here\u001b[0m\n",
      "class Graph  \n",
      "\u001b[0;1;32m      ^\n",
      "\u001b[0m"
     ]
    },
    {
     "ename": "Interpreter Error",
     "evalue": "",
     "output_type": "error",
     "traceback": [
      "Interpreter Error: "
     ]
    }
   ],
   "source": [
    "// A structure to represent a graph. A graph is an array of adjacency lists. \n",
    "// Size of array will be V (number of vertices in graph) \n",
    "struct Graph { \n",
    "    int V; \n",
    "    struct AdjList* array; \n",
    "}; \n",
    "  "
   ]
  },
  {
   "cell_type": "code",
   "execution_count": 17,
   "metadata": {},
   "outputs": [],
   "source": [
    "// A utility function to create a new adjacency list node \n",
    "struct AdjListNode* newAdjListNode(int dest, int weight) \n",
    "{ \n",
    "    struct AdjListNode* newNode = (struct AdjListNode*)malloc(sizeof(struct AdjListNode)); \n",
    "    newNode->dest = dest; \n",
    "    newNode->weight = weight; \n",
    "    newNode->next = NULL; \n",
    "    return newNode; \n",
    "} \n",
    "  "
   ]
  },
  {
   "cell_type": "code",
   "execution_count": null,
   "metadata": {},
   "outputs": [],
   "source": [
    "// A utility function that creates a graph of V vertices \n",
    "struct Graph* createGraph(int V) \n",
    "{ \n",
    "    struct Graph* graph = (struct Graph*)malloc(sizeof(struct Graph)); \n",
    "    graph->V = V; \n",
    "  \n",
    "    // Create an array of adjacency lists.  Size of array will be V \n",
    "    graph->array = (struct AdjList*)malloc(V * sizeof(struct AdjList)); \n",
    "  \n",
    "    // Initialize each adjacency list as empty by making head as NULL \n",
    "    for (int i = 0; i < V; ++i) \n",
    "        graph->array[i].head = NULL; \n",
    "  \n",
    "    return graph; \n",
    "} \n",
    "  "
   ]
  },
  {
   "cell_type": "code",
   "execution_count": null,
   "metadata": {},
   "outputs": [],
   "source": [
    "// Adds an edge to an undirected graph \n",
    "void addEdge(struct Graph* graph, int src, int dest, int weight) \n",
    "{ \n",
    "    // Add an edge from src to dest.  A new node is added to the adjacency \n",
    "    // list of src.  The node is added at the beginning \n",
    "    struct AdjListNode* newNode = newAdjListNode(dest, weight); \n",
    "    newNode->next = graph->array[src].head; \n",
    "    graph->array[src].head = newNode; \n",
    "  \n",
    "    // Since graph is undirected, add an edge from dest to src also \n",
    "    newNode = newAdjListNode(src, weight); \n",
    "    newNode->next = graph->array[dest].head; \n",
    "    graph->array[dest].head = newNode; \n",
    "} \n",
    "  "
   ]
  },
  {
   "cell_type": "code",
   "execution_count": null,
   "metadata": {},
   "outputs": [],
   "source": [
    "// Structure to represent a min heap node \n",
    "struct MinHeapNode { \n",
    "    int v; \n",
    "    int key; \n",
    "}; \n",
    "  "
   ]
  },
  {
   "cell_type": "code",
   "execution_count": null,
   "metadata": {},
   "outputs": [],
   "source": [
    "// Structure to represent a min heap \n",
    "struct MinHeap { \n",
    "    int size; // Number of heap nodes present currently \n",
    "    int capacity; // Capacity of min heap \n",
    "    int* pos; // This is needed for decreaseKey() \n",
    "    struct MinHeapNode** array; \n",
    "}; \n",
    "  "
   ]
  },
  {
   "cell_type": "code",
   "execution_count": null,
   "metadata": {},
   "outputs": [],
   "source": [
    "// A utility function to create a new Min Heap Node \n",
    "struct MinHeapNode* newMinHeapNode(int v, int key) \n",
    "{ \n",
    "    struct MinHeapNode* minHeapNode = (struct MinHeapNode*)malloc(sizeof(struct MinHeapNode)); \n",
    "    minHeapNode->v = v; \n",
    "    minHeapNode->key = key; \n",
    "    return minHeapNode; \n",
    "} \n",
    "  "
   ]
  },
  {
   "cell_type": "code",
   "execution_count": null,
   "metadata": {},
   "outputs": [],
   "source": [
    "// A utilit function to create a Min Heap \n",
    "struct MinHeap* createMinHeap(int capacity) \n",
    "{ \n",
    "    struct MinHeap* minHeap = (struct MinHeap*)malloc(sizeof(struct MinHeap)); \n",
    "    minHeap->pos = (int*)malloc(capacity * sizeof(int)); \n",
    "    minHeap->size = 0; \n",
    "    minHeap->capacity = capacity; \n",
    "    minHeap->array = (struct MinHeapNode**)malloc(capacity * sizeof(struct MinHeapNode*)); \n",
    "    return minHeap; \n",
    "} \n",
    "  "
   ]
  },
  {
   "cell_type": "code",
   "execution_count": null,
   "metadata": {},
   "outputs": [],
   "source": [
    "// A utility function to swap two nodes of min heap. Needed for min heapify \n",
    "void swapMinHeapNode(struct MinHeapNode** a, struct MinHeapNode** b) \n",
    "{ \n",
    "    struct MinHeapNode* t = *a; \n",
    "    *a = *b; \n",
    "    *b = t; \n",
    "} \n",
    "  "
   ]
  },
  {
   "cell_type": "code",
   "execution_count": null,
   "metadata": {},
   "outputs": [],
   "source": [
    "// A standard function to heapify at given idx \n",
    "// This function also updates position of nodes when they are swapped. \n",
    "// Position is needed for decreaseKey() \n",
    "void minHeapify(struct MinHeap* minHeap, int idx) \n",
    "{ \n",
    "    int smallest, left, right; \n",
    "    smallest = idx; \n",
    "    left = 2 * idx + 1; \n",
    "    right = 2 * idx + 2; \n",
    "  \n",
    "    if (left < minHeap->size && minHeap->array[left]->key < minHeap->array[smallest]->key) \n",
    "        smallest = left; \n",
    "  \n",
    "    if (right < minHeap->size && minHeap->array[right]->key < minHeap->array[smallest]->key) \n",
    "        smallest = right; \n",
    "  \n",
    "    if (smallest != idx) { \n",
    "        // The nodes to be swapped in min heap \n",
    "        MinHeapNode* smallestNode = minHeap->array[smallest]; \n",
    "        MinHeapNode* idxNode = minHeap->array[idx]; \n",
    "  \n",
    "        // Swap positions \n",
    "        minHeap->pos[smallestNode->v] = idx; \n",
    "        minHeap->pos[idxNode->v] = smallest; \n",
    "  \n",
    "        // Swap nodes \n",
    "        swapMinHeapNode(&minHeap->array[smallest], &minHeap->array[idx]); \n",
    "  \n",
    "        minHeapify(minHeap, smallest); \n",
    "    } \n",
    "} \n",
    "  "
   ]
  },
  {
   "cell_type": "code",
   "execution_count": null,
   "metadata": {},
   "outputs": [],
   "source": [
    "// A utility function to check if the given minHeap is ampty or not \n",
    "int isEmpty(struct MinHeap* minHeap) \n",
    "{ \n",
    "    return minHeap->size == 0; \n",
    "} \n",
    "  "
   ]
  },
  {
   "cell_type": "code",
   "execution_count": null,
   "metadata": {},
   "outputs": [],
   "source": [
    "// Standard function to extract minimum node from heap \n",
    "struct MinHeapNode* extractMin(struct MinHeap* minHeap) \n",
    "{ \n",
    "    if (isEmpty(minHeap)) \n",
    "        return NULL; \n",
    "  \n",
    "    // Store the root node \n",
    "    struct MinHeapNode* root = minHeap->array[0]; \n",
    "  \n",
    "    // Replace root node with last node \n",
    "    struct MinHeapNode* lastNode = minHeap->array[minHeap->size - 1]; \n",
    "    minHeap->array[0] = lastNode; \n",
    "  \n",
    "    // Update position of last node \n",
    "    minHeap->pos[root->v] = minHeap->size - 1; \n",
    "    minHeap->pos[lastNode->v] = 0; \n",
    "  \n",
    "    // Reduce heap size and heapify root \n",
    "    --minHeap->size; \n",
    "    minHeapify(minHeap, 0); \n",
    "  \n",
    "    return root; \n",
    "} \n",
    "  "
   ]
  },
  {
   "cell_type": "code",
   "execution_count": null,
   "metadata": {},
   "outputs": [],
   "source": [
    "// Function to decrease key value of a given vertex v. This function \n",
    "// uses pos[] of min heap to get the current index of node in min heap \n",
    "void decreaseKey(struct MinHeap* minHeap, int v, int key) \n",
    "{ \n",
    "    // Get the index of v in  heap array \n",
    "    int i = minHeap->pos[v]; \n",
    "  \n",
    "    // Get the node and update its key value \n",
    "    minHeap->array[i]->key = key; \n",
    "  \n",
    "    // Travel up while the complete tree is not hepified. \n",
    "    // This is a O(Logn) loop \n",
    "    while (i && minHeap->array[i]->key < minHeap->array[(i - 1) / 2]->key) { \n",
    "        // Swap this node with its parent \n",
    "        minHeap->pos[minHeap->array[i]->v] = (i - 1) / 2; \n",
    "        minHeap->pos[minHeap->array[(i - 1) / 2]->v] = i; \n",
    "        swapMinHeapNode(&minHeap->array[i], &minHeap->array[(i - 1) / 2]); \n",
    "  \n",
    "        // move to parent index \n",
    "        i = (i - 1) / 2; \n",
    "    } \n",
    "} \n",
    "  "
   ]
  },
  {
   "cell_type": "code",
   "execution_count": null,
   "metadata": {},
   "outputs": [],
   "source": [
    "// A utility function to check if a given vertex \n",
    "// 'v' is in min heap or not \n",
    "bool isInMinHeap(struct MinHeap* minHeap, int v) \n",
    "{ \n",
    "    if (minHeap->pos[v] < minHeap->size) \n",
    "        return true; \n",
    "    return false; \n",
    "} \n",
    "  "
   ]
  },
  {
   "cell_type": "code",
   "execution_count": null,
   "metadata": {},
   "outputs": [],
   "source": [
    "// A utility function used to print the constructed MST \n",
    "void printArr(int arr[], int n) \n",
    "{ \n",
    "    for (int i = 1; i < n; ++i) \n",
    "        printf(\"%d - %d\\n\", arr[i], i); \n",
    "} \n",
    "  "
   ]
  },
  {
   "cell_type": "code",
   "execution_count": null,
   "metadata": {},
   "outputs": [],
   "source": [
    "// The main function that constructs Minimum Spanning Tree (MST) \n",
    "// using Prim's algorithm \n",
    "void PrimMST(struct Graph* graph) \n",
    "{ \n",
    "    int V = graph->V; // Get the number of vertices in graph \n",
    "    int parent[V]; // Array to store constructed MST \n",
    "    int key[V]; // Key values used to pick minimum weight edge in cut \n",
    "  \n",
    "    // minHeap represents set E \n",
    "    struct MinHeap* minHeap = createMinHeap(V); \n",
    "  \n",
    "    // Initialize min heap with all vertices. Key value of \n",
    "    // all vertices (except 0th vertex) is initially infinite \n",
    "    for (int v = 1; v < V; ++v) { \n",
    "        parent[v] = -1; \n",
    "        key[v] = INT_MAX; \n",
    "        minHeap->array[v] = newMinHeapNode(v, key[v]); \n",
    "        minHeap->pos[v] = v; \n",
    "    } \n",
    "  \n",
    "    // Make key value of 0th vertex as 0 so that it \n",
    "    // is extracted first \n",
    "    key[0] = 0; \n",
    "    minHeap->array[0] = newMinHeapNode(0, key[0]); \n",
    "    minHeap->pos[0] = 0; \n",
    "  \n",
    "    // Initially size of min heap is equal to V \n",
    "    minHeap->size = V; \n",
    "  \n",
    "    // In the following loop, min heap contains all nodes \n",
    "    // not yet added to MST. \n",
    "    while (!isEmpty(minHeap)) { \n",
    "        // Extract the vertex with minimum key value \n",
    "        struct MinHeapNode* minHeapNode = extractMin(minHeap); \n",
    "        int u = minHeapNode->v; // Store the extracted vertex number \n",
    "  \n",
    "        // Traverse through all adjacent vertices of u (the extracted \n",
    "        // vertex) and update their key values \n",
    "        struct AdjListNode* pCrawl = graph->array[u].head; \n",
    "        while (pCrawl != NULL) { \n",
    "            int v = pCrawl->dest; \n",
    "  \n",
    "            // If v is not yet included in MST and weight of u-v is \n",
    "            // less than key value of v, then update key value and \n",
    "            // parent of v \n",
    "            if (isInMinHeap(minHeap, v) && pCrawl->weight < key[v]) { \n",
    "                key[v] = pCrawl->weight; \n",
    "                parent[v] = u; \n",
    "                decreaseKey(minHeap, v, key[v]); \n",
    "            } \n",
    "            pCrawl = pCrawl->next; \n",
    "        } \n",
    "    } \n",
    "  \n",
    "    // print edges of MST \n",
    "    printArr(parent, V); \n",
    "} "
   ]
  },
  {
   "cell_type": "code",
   "execution_count": 11,
   "metadata": {},
   "outputs": [],
   "source": [
    "// Driver code \n",
    "void example()  \n",
    "{  \n",
    "    // Let us create the graph given in above fugure \n",
    "    int V = 9; \n",
    "    struct Graph* graph = createGraph(V); \n",
    "    addEdge(graph, 0, 1, 4); \n",
    "    addEdge(graph, 0, 7, 8); \n",
    "    addEdge(graph, 1, 2, 8); \n",
    "    addEdge(graph, 1, 7, 11); \n",
    "    addEdge(graph, 2, 3, 7); \n",
    "    addEdge(graph, 2, 8, 2); \n",
    "    addEdge(graph, 2, 5, 4); \n",
    "    addEdge(graph, 3, 4, 9); \n",
    "    addEdge(graph, 3, 5, 14); \n",
    "    addEdge(graph, 4, 5, 10); \n",
    "    addEdge(graph, 5, 6, 2); \n",
    "    addEdge(graph, 6, 7, 1); \n",
    "    addEdge(graph, 6, 8, 6); \n",
    "    addEdge(graph, 7, 8, 7); \n",
    "  \n",
    "    PrimMST(graph);   \n",
    "}"
   ]
  },
  {
   "cell_type": "code",
   "execution_count": 12,
   "metadata": {},
   "outputs": [
    {
     "name": "stdout",
     "output_type": "stream",
     "text": [
      "Following are the edges in the constructed MST\n",
      "2 -- 3 == 4\n",
      "0 -- 3 == 5\n",
      "0 -- 1 == 10\n"
     ]
    }
   ],
   "source": [
    "example()"
   ]
  },
  {
   "cell_type": "code",
   "execution_count": null,
   "metadata": {},
   "outputs": [],
   "source": []
  }
 ],
 "metadata": {
  "kernelspec": {
   "display_name": "C++11",
   "language": "C++11",
   "name": "xcpp11"
  },
  "language_info": {
   "codemirror_mode": "text/x-c++src",
   "file_extension": ".cpp",
   "mimetype": "text/x-c++src",
   "name": "c++",
   "version": "11"
  }
 },
 "nbformat": 4,
 "nbformat_minor": 4
}
