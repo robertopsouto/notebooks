{
  "cells": [
    {
      "cell_type": "markdown",
      "metadata": {
        "id": "view-in-github",
        "colab_type": "text"
      },
      "source": [
        "<a href=\"https://colab.research.google.com/github/robertopsouto/notebooks/blob/ga-026_2021-4/topicos/Sistemas_Lineares_Esparsos/octave/chol_up.ipynb\" target=\"_parent\"><img src=\"https://colab.research.google.com/assets/colab-badge.svg\" alt=\"Open In Colab\"/></a>"
      ]
    },
    {
      "cell_type": "code",
      "execution_count": null,
      "metadata": {
        "id": "aE9D44WssL9b"
      },
      "outputs": [],
      "source": [
        "!apt install octave"
      ]
    },
    {
      "cell_type": "code",
      "execution_count": null,
      "metadata": {
        "id": "pXcpJb5tsphv"
      },
      "outputs": [],
      "source": [
        "!pip install oct2py"
      ]
    },
    {
      "cell_type": "code",
      "execution_count": null,
      "metadata": {
        "id": "sJqdi1Srts35"
      },
      "outputs": [],
      "source": [
        "%load_ext oct2py.ipython"
      ]
    },
    {
      "cell_type": "markdown",
      "metadata": {
        "id": "mrIjG73MlgF1"
      },
      "source": [
        "# Fatoração Cholesky Up-looking"
      ]
    },
    {
      "cell_type": "code",
      "execution_count": 1,
      "metadata": {
        "id": "i-4AQYWFlgF5",
        "outputId": "ad81b58d-abb1-4969-e1d3-710cf36123b0",
        "colab": {
          "base_uri": "https://localhost:8080/",
          "height": 141
        }
      },
      "outputs": [
        {
          "output_type": "error",
          "ename": "SyntaxError",
          "evalue": "ignored",
          "traceback": [
            "\u001b[0;36m  File \u001b[0;32m\"<ipython-input-1-b570dc0e6179>\"\u001b[0;36m, line \u001b[0;32m2\u001b[0m\n\u001b[0;31m    close all;\u001b[0m\n\u001b[0m          ^\u001b[0m\n\u001b[0;31mSyntaxError\u001b[0m\u001b[0;31m:\u001b[0m invalid syntax\n"
          ]
        }
      ],
      "source": [
        "%%octave\n",
        "clear;\n",
        "close all;\n",
        "format short e;"
      ]
    },
    {
      "cell_type": "code",
      "execution_count": null,
      "metadata": {
        "id": "HjYOO8eTlgF6"
      },
      "outputs": [],
      "source": [
        "%%octave\n",
        "n=8;\n",
        "\n",
        "disp(['Creating sparse A poisson matrix...']);\n",
        "tic;\n",
        "A=gallery ('poisson', n);\n",
        "tElapsed=toc();\n",
        "disp(['Elapsed time of Creating sparse A poisson matrix:', num2str(tElapsed)]);\n",
        "disp(' ');\n",
        "disp(' ');\n",
        "nzA=nnz(A);\n",
        "disp(' ');\n",
        "disp(['non-zeros of A: ',num2str(nzA) ]);\n",
        "disp(' ');"
      ]
    },
    {
      "cell_type": "code",
      "execution_count": null,
      "metadata": {
        "id": "oYmFNmY2lgF7"
      },
      "outputs": [],
      "source": [
        "%%octave\n",
        "spy(A,'.');"
      ]
    },
    {
      "cell_type": "code",
      "execution_count": null,
      "metadata": {
        "id": "Mmlp229FlgF7"
      },
      "outputs": [],
      "source": [
        "%%octave\n",
        "disp(['Performing Cholesky in sparse A...']);\n",
        "tic;\n",
        "[L] = chol(A,'lower');\n",
        "tElapsed=toc();\n",
        "disp(['Elapsed Time of Cholesky in sparse A:', num2str(tElapsed)]);\n",
        "nzL=nnz(L);\n",
        "disp(['non-zeros of L: ',num2str(nzL) ]);\n",
        "%disp(['Float point operations: ',num2str(flops(L)) ]);\n",
        "disp(' ');\n",
        "disp(' ');"
      ]
    },
    {
      "cell_type": "code",
      "execution_count": null,
      "metadata": {
        "id": "zPkh0xg4lgF7"
      },
      "outputs": [],
      "source": [
        "%%octave\n",
        "spy(L,'.');"
      ]
    },
    {
      "cell_type": "code",
      "execution_count": null,
      "metadata": {
        "id": "nbnk6kUolgF8"
      },
      "outputs": [],
      "source": [
        "function L = chol_up (A)\n",
        "%CHOL_UP up-looking Cholesky factorization.\n",
        "% Example:\n",
        "%   L = chol_up (A)\n",
        "% Copyright 2006-2012, Timothy A. Davis, http://www.suitesparse.com\n",
        "\n",
        "n = size (A);\n",
        "L = zeros (n);\n",
        "for k = 1:n\n",
        "    L (k,1:k-1) = (L (1:k-1,1:k-1) \\ A (1:k-1,k))';\n",
        "    L (k,k) = sqrt (A (k,k) - L (k,1:k-1) * L (k,1:k-1)');\n",
        "end\n",
        "endfunction"
      ]
    },
    {
      "cell_type": "code",
      "execution_count": null,
      "metadata": {
        "id": "yH2ZRXorlgF8"
      },
      "outputs": [],
      "source": [
        "disp(['Performing up-looking Cholesky in dense A...']);\n",
        "Adense=full(A);\n",
        "tic;\n",
        "[Ldense] = chol_up(Adense);\n",
        "tElapsed=toc();\n",
        "disp(['Elapsed time of up-looking Cholesky in dense A:', num2str(tElapsed)]);\n",
        " disp(' ');\n",
        "disp(' ');\n"
      ]
    },
    {
      "cell_type": "code",
      "execution_count": null,
      "metadata": {
        "id": "WAjTAdpjlgF9"
      },
      "outputs": [],
      "source": [
        "spy(Ldense,'.')"
      ]
    },
    {
      "cell_type": "code",
      "execution_count": null,
      "metadata": {
        "id": "VR_ZenqClgF9"
      },
      "outputs": [],
      "source": []
    }
  ],
  "metadata": {
    "kernelspec": {
      "display_name": "Octave",
      "language": "octave",
      "name": "octave"
    },
    "language_info": {
      "file_extension": ".m",
      "help_links": [
        {
          "text": "GNU Octave",
          "url": "https://www.gnu.org/software/octave/support.html"
        },
        {
          "text": "Octave Kernel",
          "url": "https://github.com/Calysto/octave_kernel"
        },
        {
          "text": "MetaKernel Magics",
          "url": "https://metakernel.readthedocs.io/en/latest/source/README.html"
        }
      ],
      "mimetype": "text/x-octave",
      "name": "octave",
      "version": "5.2.0"
    },
    "colab": {
      "provenance": [],
      "include_colab_link": true
    }
  },
  "nbformat": 4,
  "nbformat_minor": 0
}