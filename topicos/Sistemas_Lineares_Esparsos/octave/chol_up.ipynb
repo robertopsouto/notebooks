{
 "cells": [
  {
   "cell_type": "markdown",
   "metadata": {},
   "source": [
    "# Fatoração Cholesky Up-looking"
   ]
  },
  {
   "cell_type": "code",
   "execution_count": null,
   "metadata": {},
   "outputs": [],
   "source": [
    "clear;\n",
    "close all;\n",
    "format short e;"
   ]
  },
  {
   "cell_type": "code",
   "execution_count": null,
   "metadata": {},
   "outputs": [],
   "source": [
    "n=8;\n",
    "\n",
    "disp(['Creating sparse A poisson matrix...']);\n",
    "tic;\n",
    "A=gallery ('poisson', n);\n",
    "tElapsed=toc();\n",
    "disp(['Elapsed time of Creating sparse A poisson matrix:', num2str(tElapsed)]);\n",
    "disp(' ');\n",
    "disp(' ');\n",
    "nzA=nnz(A);\n",
    "disp(' ');\n",
    "disp(['non-zeros of A: ',num2str(nzA) ]);\n",
    "disp(' ');"
   ]
  },
  {
   "cell_type": "code",
   "execution_count": null,
   "metadata": {},
   "outputs": [],
   "source": [
    "spy(A,'.');"
   ]
  },
  {
   "cell_type": "code",
   "execution_count": null,
   "metadata": {},
   "outputs": [],
   "source": [
    "disp(['Performing Cholesky in sparse A...']);\n",
    "tic;\n",
    "[L] = chol(A,'lower');\n",
    "tElapsed=toc();\n",
    "disp(['Elapsed Time of Cholesky in sparse A:', num2str(tElapsed)]);\n",
    "nzL=nnz(L);\n",
    "disp(['non-zeros of L: ',num2str(nzL) ]);\n",
    "%disp(['Float point operations: ',num2str(flops(L)) ]);\n",
    "disp(' ');\n",
    "disp(' ');"
   ]
  },
  {
   "cell_type": "code",
   "execution_count": null,
   "metadata": {},
   "outputs": [],
   "source": [
    "spy(L,'.');"
   ]
  },
  {
   "cell_type": "code",
   "execution_count": null,
   "metadata": {},
   "outputs": [],
   "source": [
    "function L = chol_up (A)\n",
    "%CHOL_UP up-looking Cholesky factorization.\n",
    "% Example:\n",
    "%   L = chol_up (A)\n",
    "% Copyright 2006-2012, Timothy A. Davis, http://www.suitesparse.com\n",
    "\n",
    "n = size (A);\n",
    "L = zeros (n);\n",
    "for k = 1:n\n",
    "    L (k,1:k-1) = (L (1:k-1,1:k-1) \\ A (1:k-1,k))';\n",
    "    L (k,k) = sqrt (A (k,k) - L (k,1:k-1) * L (k,1:k-1)');\n",
    "end\n",
    "endfunction"
   ]
  },
  {
   "cell_type": "code",
   "execution_count": null,
   "metadata": {},
   "outputs": [],
   "source": [
    "disp(['Performing up-looking Cholesky in dense A...']);\n",
    "Adense=full(A);\n",
    "tic;\n",
    "[Ldense] = chol_up(Adense);\n",
    "tElapsed=toc();\n",
    "disp(['Elapsed time of up-looking Cholesky in dense A:', num2str(tElapsed)]);\n",
    " disp(' ');\n",
    "disp(' ');\n"
   ]
  },
  {
   "cell_type": "code",
   "execution_count": null,
   "metadata": {},
   "outputs": [],
   "source": [
    "spy(Ldense,'.')"
   ]
  },
  {
   "cell_type": "code",
   "execution_count": null,
   "metadata": {},
   "outputs": [],
   "source": []
  }
 ],
 "metadata": {
  "kernelspec": {
   "display_name": "Octave",
   "language": "octave",
   "name": "octave"
  },
  "language_info": {
   "file_extension": ".m",
   "help_links": [
    {
     "text": "GNU Octave",
     "url": "https://www.gnu.org/software/octave/support.html"
    },
    {
     "text": "Octave Kernel",
     "url": "https://github.com/Calysto/octave_kernel"
    },
    {
     "text": "MetaKernel Magics",
     "url": "https://metakernel.readthedocs.io/en/latest/source/README.html"
    }
   ],
   "mimetype": "text/x-octave",
   "name": "octave",
   "version": "5.2.0"
  }
 },
 "nbformat": 4,
 "nbformat_minor": 4
}
