{
  "nbformat": 4,
  "nbformat_minor": 0,
  "metadata": {
    "kernelspec": {
      "name": "python3",
      "display_name": "Python 3"
    },
    "colab": {
      "name": "etree.ipynb",
      "provenance": [],
      "include_colab_link": true
    },
    "language_info": {
      "name": "python"
    }
  },
  "cells": [
    {
      "cell_type": "markdown",
      "metadata": {
        "id": "view-in-github",
        "colab_type": "text"
      },
      "source": [
        "<a href=\"https://colab.research.google.com/github/robertopsouto/notebooks/blob/ga-026_2021-4/topicos/Sistemas_Lineares_Esparsos/octave/etree_magic.ipynb\" target=\"_parent\"><img src=\"https://colab.research.google.com/assets/colab-badge.svg\" alt=\"Open In Colab\"/></a>"
      ]
    },
    {
      "cell_type": "markdown",
      "metadata": {
        "id": "dqCb-fBjW1HI"
      },
      "source": [
        "# Árvore de Eliminação (etree)"
      ]
    },
    {
      "cell_type": "code",
      "metadata": {
        "id": "7ZIowoETXFQ_"
      },
      "source": [
        "!apt install octave"
      ],
      "execution_count": null,
      "outputs": []
    },
    {
      "cell_type": "code",
      "metadata": {
        "id": "Z2f3jqeOXIuX"
      },
      "source": [
        "!pip install oct2py"
      ],
      "execution_count": null,
      "outputs": []
    },
    {
      "cell_type": "code",
      "metadata": {
        "id": "Dmx42_cIXJZJ"
      },
      "source": [
        "%load_ext oct2py.ipython"
      ],
      "execution_count": null,
      "outputs": []
    },
    {
      "cell_type": "code",
      "metadata": {
        "id": "EYsPVA0SW1HM"
      },
      "source": [
        "%%octave\n",
        "\n",
        "version"
      ],
      "execution_count": null,
      "outputs": []
    },
    {
      "cell_type": "code",
      "metadata": {
        "id": "0M5dbae6W1HN"
      },
      "source": [
        "%%octave\n",
        "\n",
        "clear;\n",
        "close all;\n",
        "format short e;"
      ],
      "execution_count": null,
      "outputs": []
    },
    {
      "cell_type": "code",
      "metadata": {
        "id": "FQcFIedoW1HO"
      },
      "source": [
        "%%octave\n",
        "\n",
        "n=256;\n",
        "\n",
        "disp(['Creating sparse A poisson matrix...']);\n",
        "tic;\n",
        "A=gallery ('poisson', n);\n",
        "tElapsed=toc();\n",
        "disp(['Elapsed time of Creating sparse A poisson matrix:', num2str(tElapsed)]);\n",
        "disp(' ');\n",
        "disp(' ');\n",
        "nzA=nnz(A);\n",
        "disp(' ');\n",
        "disp(['non-zeros of A: ',num2str(nzA) ]);\n",
        "disp(' ');"
      ],
      "execution_count": null,
      "outputs": []
    },
    {
      "cell_type": "code",
      "metadata": {
        "id": "C_YQBgczW1HP"
      },
      "source": [
        "%%octave\n",
        "\n",
        "disp(['Post ordering A...']);\n",
        "disp(['Elimination tree...']);\n",
        "[parent,post]=etree(A);\n",
        "Apost=A(post,post);"
      ],
      "execution_count": null,
      "outputs": []
    },
    {
      "cell_type": "code",
      "metadata": {
        "id": "c_gWQzm-W1HP"
      },
      "source": [
        "%%octave\n",
        "\n",
        "disp(['Performing Cholesky in sparse A...']);\n",
        "tic;\n",
        "[L] = chol(A,'lower');\n",
        "tElapsed=toc();\n",
        "disp(['Elapsed Time of Cholesky in sparse A:', num2str(tElapsed)]);\n",
        "nzL=nnz(L);\n",
        "disp(['non-zeros of L: ',num2str(nzL) ]);"
      ],
      "execution_count": null,
      "outputs": []
    },
    {
      "cell_type": "code",
      "metadata": {
        "id": "FE_66EpSW1HP"
      },
      "source": [
        "%%octave\n",
        "\n",
        "disp(['Performing Cholesky in post ordered A...']);\n",
        "tStart=tic;\n",
        "[L] = chol(Apost,'lower');\n",
        "tElapsed=toc(tStart);\n",
        "disp(['Elapsed Time of Cholesky in post ordered A:', num2str(tElapsed)]);\n",
        "nzL=nnz(L);\n",
        "disp(['non-zeros of L: ',num2str(nzL) ]);"
      ],
      "execution_count": null,
      "outputs": []
    },
    {
      "cell_type": "code",
      "metadata": {
        "id": "3VHf-JcJW1HQ"
      },
      "source": [],
      "execution_count": null,
      "outputs": []
    }
  ]
}