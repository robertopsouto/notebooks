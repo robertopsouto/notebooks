{
  "nbformat": 4,
  "nbformat_minor": 0,
  "metadata": {
    "kernelspec": {
      "name": "python3",
      "display_name": "Python 3"
    },
    "colab": {
      "name": "etree.ipynb",
      "provenance": [],
      "include_colab_link": true
    },
    "language_info": {
      "name": "python"
    }
  },
  "cells": [
    {
      "cell_type": "markdown",
      "metadata": {
        "id": "view-in-github",
        "colab_type": "text"
      },
      "source": [
        "<a href=\"https://colab.research.google.com/github/robertopsouto/notebooks/blob/ga-026_2021-4/topicos/Sistemas_Lineares_Esparsos/octave/etree_magic.ipynb\" target=\"_parent\"><img src=\"https://colab.research.google.com/assets/colab-badge.svg\" alt=\"Open In Colab\"/></a>"
      ]
    },
    {
      "cell_type": "markdown",
      "metadata": {
        "id": "dqCb-fBjW1HI"
      },
      "source": [
        "# Árvore de Eliminação (etree)"
      ]
    },
    {
      "cell_type": "code",
      "metadata": {
        "id": "7ZIowoETXFQ_"
      },
      "source": [
        "!apt install octave"
      ],
      "execution_count": null,
      "outputs": []
    },
    {
      "cell_type": "code",
      "metadata": {
        "id": "Z2f3jqeOXIuX"
      },
      "source": [
        "!pip install oct2py"
      ],
      "execution_count": null,
      "outputs": []
    },
    {
      "cell_type": "code",
      "metadata": {
        "id": "Dmx42_cIXJZJ"
      },
      "source": [
        "%load_ext oct2py.ipython"
      ],
      "execution_count": null,
      "outputs": []
    },
    {
      "cell_type": "code",
      "metadata": {
        "id": "EYsPVA0SW1HM",
        "outputId": "b482aff0-bd29-4e25-d888-29fe326995b1"
      },
      "source": [
        "version"
      ],
      "execution_count": null,
      "outputs": [
        {
          "name": "stdout",
          "output_type": "stream",
          "text": [
            "ans = 5.2.0\r\n"
          ]
        }
      ]
    },
    {
      "cell_type": "code",
      "metadata": {
        "id": "0M5dbae6W1HN"
      },
      "source": [
        "clear;\n",
        "close all;\n",
        "format short e;"
      ],
      "execution_count": null,
      "outputs": []
    },
    {
      "cell_type": "code",
      "metadata": {
        "id": "FQcFIedoW1HO",
        "outputId": "68cb7a89-d4ef-4a3f-b8f4-d8af7880d195"
      },
      "source": [
        "n=8;\n",
        "\n",
        "disp(['Creating sparse A poisson matrix...']);\n",
        "tic;\n",
        "A=gallery ('poisson', n);\n",
        "tElapsed=toc();\n",
        "disp(['Elapsed time of Creating sparse A poisson matrix:', num2str(tElapsed)]);\n",
        "disp(' ');\n",
        "disp(' ');\n",
        "nzA=nnz(A);\n",
        "disp(' ');\n",
        "disp(['non-zeros of A: ',num2str(nzA) ]);\n",
        "disp(' ');"
      ],
      "execution_count": null,
      "outputs": [
        {
          "name": "stdout",
          "output_type": "stream",
          "text": [
            "Creating sparse A poisson matrix...\n",
            "Elapsed time of Creating sparse A poisson matrix:0.018276\n",
            " \n",
            " \n",
            " \n",
            "non-zeros of A: 288\n",
            " \n"
          ]
        }
      ]
    },
    {
      "cell_type": "code",
      "metadata": {
        "id": "C_YQBgczW1HP",
        "outputId": "c99f9924-ec52-4ca6-e9cd-dab5ebde800c"
      },
      "source": [
        "disp(['Post ordering A...']);\n",
        "disp(['Elimination tree...']);\n",
        "[parent,post]=etree(A);\n",
        "Apost=A(post,post);"
      ],
      "execution_count": null,
      "outputs": [
        {
          "name": "stdout",
          "output_type": "stream",
          "text": [
            "Post ordering A...\n",
            "Elimination tree...\n"
          ]
        }
      ]
    },
    {
      "cell_type": "code",
      "metadata": {
        "id": "c_gWQzm-W1HP",
        "outputId": "7a0a8671-7b43-4337-ac46-0870bdb7baee"
      },
      "source": [
        "disp(['Performing Cholesky in sparse A...']);\n",
        "tic;\n",
        "[L] = chol(A,'lower');\n",
        "tElapsed=toc();\n",
        "disp(['Elapsed Time of Cholesky in sparse A:', num2str(tElapsed)]);\n",
        "nzL=nnz(L);\n",
        "disp(['non-zeros of L: ',num2str(nzL) ]);"
      ],
      "execution_count": null,
      "outputs": [
        {
          "name": "stdout",
          "output_type": "stream",
          "text": [
            "Performing Cholesky in sparse A...\n",
            "Elapsed Time of Cholesky in sparse A:0.014837\n",
            "non-zeros of L: 519\n"
          ]
        }
      ]
    },
    {
      "cell_type": "code",
      "metadata": {
        "id": "FE_66EpSW1HP",
        "outputId": "83470dc8-b27d-4f6e-dfdc-f5123ac8760d"
      },
      "source": [
        "disp(['Performing Cholesky in post ordered A...']);\n",
        "tStart=tic;\n",
        "[L] = chol(Apost,'lower');\n",
        "tElapsed=toc(tStart);\n",
        "disp(['Elapsed Time of Cholesky in post ordered A:', num2str(tElapsed)]);\n",
        "nzL=nnz(L);\n",
        "disp(['non-zeros of L: ',num2str(nzL) ]);"
      ],
      "execution_count": null,
      "outputs": [
        {
          "name": "stdout",
          "output_type": "stream",
          "text": [
            "Performing Cholesky in post ordered A...\n",
            "Elapsed Time of Cholesky in post ordered A:0.012664\n",
            "non-zeros of L: 519\n"
          ]
        }
      ]
    },
    {
      "cell_type": "code",
      "metadata": {
        "id": "3VHf-JcJW1HQ"
      },
      "source": [
        ""
      ],
      "execution_count": null,
      "outputs": []
    }
  ]
}