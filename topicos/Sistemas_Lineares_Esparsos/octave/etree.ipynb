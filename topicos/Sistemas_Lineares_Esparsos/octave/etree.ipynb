{
 "cells": [
  {
   "cell_type": "markdown",
   "metadata": {},
   "source": [
    "# Árvore de Eliminação (etree)"
   ]
  },
  {
   "cell_type": "code",
   "execution_count": null,
   "metadata": {},
   "outputs": [],
   "source": [
    "version"
   ]
  },
  {
   "cell_type": "code",
   "execution_count": null,
   "metadata": {},
   "outputs": [],
   "source": [
    "clear;\n",
    "close all;\n",
    "format short e;"
   ]
  },
  {
   "cell_type": "code",
   "execution_count": null,
   "metadata": {},
   "outputs": [],
   "source": [
    "n=8;\n",
    "\n",
    "disp(['Creating sparse A poisson matrix...']);\n",
    "tic;\n",
    "A=gallery ('poisson', n);\n",
    "tElapsed=toc();\n",
    "disp(['Elapsed time of Creating sparse A poisson matrix:', num2str(tElapsed)]);\n",
    "disp(' ');\n",
    "disp(' ');\n",
    "nzA=nnz(A);\n",
    "disp(' ');\n",
    "disp(['non-zeros of A: ',num2str(nzA) ]);\n",
    "disp(' ');"
   ]
  },
  {
   "cell_type": "code",
   "execution_count": null,
   "metadata": {},
   "outputs": [],
   "source": [
    "disp(['Post ordering A...']);\n",
    "disp(['Elimination tree...']);\n",
    "[parent,post]=etree(A);\n",
    "Apost=A(post,post);"
   ]
  },
  {
   "cell_type": "code",
   "execution_count": null,
   "metadata": {},
   "outputs": [],
   "source": [
    "disp(['Performing Cholesky in sparse A...']);\n",
    "tic;\n",
    "[L] = chol(A,'lower');\n",
    "tElapsed=toc();\n",
    "disp(['Elapsed Time of Cholesky in sparse A:', num2str(tElapsed)]);\n",
    "nzL=nnz(L);\n",
    "disp(['non-zeros of L: ',num2str(nzL) ]);"
   ]
  },
  {
   "cell_type": "code",
   "execution_count": null,
   "metadata": {},
   "outputs": [],
   "source": [
    "disp(['Performing Cholesky in post ordered A...']);\n",
    "tStart=tic;\n",
    "[L] = chol(Apost,'lower');\n",
    "tElapsed=toc(tStart);\n",
    "disp(['Elapsed Time of Cholesky in post ordered A:', num2str(tElapsed)]);\n",
    "nzL=nnz(L);\n",
    "disp(['non-zeros of L: ',num2str(nzL) ]);"
   ]
  }
 ],
 "metadata": {
  "kernelspec": {
   "display_name": "Octave",
   "language": "octave",
   "name": "octave"
  },
  "language_info": {
   "file_extension": ".m",
   "help_links": [
    {
     "text": "GNU Octave",
     "url": "https://www.gnu.org/software/octave/support.html"
    },
    {
     "text": "Octave Kernel",
     "url": "https://github.com/Calysto/octave_kernel"
    },
    {
     "text": "MetaKernel Magics",
     "url": "https://metakernel.readthedocs.io/en/latest/source/README.html"
    }
   ],
   "mimetype": "text/x-octave",
   "name": "octave",
   "version": "5.2.0"
  }
 },
 "nbformat": 4,
 "nbformat_minor": 4
}
