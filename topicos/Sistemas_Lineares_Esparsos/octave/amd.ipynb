{
 "cells": [
  {
   "cell_type": "markdown",
   "metadata": {
    "kernel": "SoS"
   },
   "source": [
    "# Approximate Minimum Degree (AMD) Reordering"
   ]
  },
  {
   "cell_type": "code",
   "execution_count": 2,
   "metadata": {
    "kernel": "Octave"
   },
   "outputs": [],
   "source": [
    "clear;\n",
    "close all;\n",
    "format short e;"
   ]
  },
  {
   "cell_type": "code",
   "execution_count": 4,
   "metadata": {
    "kernel": "Octave"
   },
   "outputs": [
    {
     "name": "stdout",
     "output_type": "stream",
     "text": [
      "Creating sparse A poisson matrix...\n",
      "Elapsed time of Creating sparse A poisson matrix:0.024593\n",
      " \n",
      " \n",
      " \n",
      "non-zeros of A: 288\n",
      " \n"
     ]
    }
   ],
   "source": [
    "n=8;\n",
    "\n",
    "disp(['Creating sparse A poisson matrix...']);\n",
    "tic;\n",
    "A=gallery ('poisson', n);\n",
    "tElapsed=toc();\n",
    "disp(['Elapsed time of Creating sparse A poisson matrix:', num2str(tElapsed)]);\n",
    "disp(' ');\n",
    "disp(' ');\n",
    "nzA=nnz(A);\n",
    "disp(' ');\n",
    "disp(['non-zeros of A: ',num2str(nzA) ]);\n",
    "disp(' ');"
   ]
  },
  {
   "cell_type": "code",
   "execution_count": 5,
   "metadata": {
    "kernel": "SoS"
   },
   "outputs": [],
   "source": [
    "%get A --from Octave"
   ]
  },
  {
   "cell_type": "code",
   "execution_count": 6,
   "metadata": {
    "kernel": "SoS"
   },
   "outputs": [
    {
     "data": {
      "text/plain": [
       "matrix([[<64x64 sparse matrix of type '<class 'numpy.float64'>'\n",
       "         \twith 288 stored elements in Compressed Sparse Column format>]],\n",
       "       dtype=object)"
      ]
     },
     "execution_count": 6,
     "metadata": {},
     "output_type": "execute_result"
    }
   ],
   "source": [
    "A"
   ]
  },
  {
   "cell_type": "code",
   "execution_count": 3,
   "metadata": {
    "kernel": "SoS"
   },
   "outputs": [
    {
     "name": "stdout",
     "output_type": "stream",
     "text": [
      "Performing Cholesky in sparse A...\n",
      "Elapsed Time of Cholesky in sparse A:0.00618\n",
      "non-zeros of L: 519\n"
     ]
    }
   ],
   "source": [
    "disp(['Performing Cholesky in sparse A...']);\n",
    "tic;\n",
    "[L] = chol(A,'lower');\n",
    "tElapsed=toc();\n",
    "disp(['Elapsed Time of Cholesky in sparse A:', num2str(tElapsed)]);\n",
    "nzL=nnz(L);\n",
    "disp(['non-zeros of L: ',num2str(nzL) ]);"
   ]
  },
  {
   "cell_type": "code",
   "execution_count": null,
   "metadata": {
    "kernel": "SoS"
   },
   "outputs": [],
   "source": [
    "disp(['Performing Approximate Minimum Degree (AMD) permutation...']);\n",
    "p = amd (A) ;\n",
    "Aamd=A (p,p);\n",
    "disp(['Performing Cholesky in C=PAP^T...']);\n",
    "tic;\n",
    "[L] = chol(Aamd,'lower');\n",
    "tElapsed=toc();\n",
    "disp(['Elapsed Time of Cholesky in C=PAP^T:', num2str(tElapsed)]);\n",
    "nzL=nnz(L);\n",
    "disp(['non-zeros of L: ',num2str(nzL) ]);"
   ]
  },
  {
   "cell_type": "code",
   "execution_count": null,
   "metadata": {
    "kernel": "SoS"
   },
   "outputs": [],
   "source": []
  }
 ],
 "metadata": {
  "kernelspec": {
   "display_name": "SoS",
   "language": "sos",
   "name": "sos"
  },
  "language_info": {
   "codemirror_mode": "sos",
   "file_extension": ".sos",
   "mimetype": "text/x-sos",
   "name": "sos",
   "nbconvert_exporter": "sos_notebook.converter.SoS_Exporter",
   "pygments_lexer": "sos"
  },
  "sos": {
   "kernels": [
    [
     "Octave",
     "octave",
     "Octave",
     "#dff8fb",
     ""
    ],
    [
     "SoS",
     "sos",
     "",
     "",
     "sos"
    ]
   ],
   "panel": {
    "displayed": true,
    "height": 0
   },
   "version": "0.22.3"
  }
 },
 "nbformat": 4,
 "nbformat_minor": 4
}
