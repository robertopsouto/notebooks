{
  "nbformat": 4,
  "nbformat_minor": 0,
  "metadata": {
    "kernelspec": {
      "display_name": "Octave",
      "language": "octave",
      "name": "octave"
    },
    "language_info": {
      "file_extension": ".m",
      "help_links": [
        {
          "text": "GNU Octave",
          "url": "https://www.gnu.org/software/octave/support.html"
        },
        {
          "text": "Octave Kernel",
          "url": "https://github.com/Calysto/octave_kernel"
        },
        {
          "text": "MetaKernel Magics",
          "url": "https://metakernel.readthedocs.io/en/latest/source/README.html"
        }
      ],
      "mimetype": "text/x-octave",
      "name": "octave",
      "version": "5.2.0"
    },
    "colab": {
      "name": "chol_up.ipynb",
      "provenance": [],
      "include_colab_link": true
    }
  },
  "cells": [
    {
      "cell_type": "markdown",
      "metadata": {
        "id": "view-in-github",
        "colab_type": "text"
      },
      "source": [
        "<a href=\"https://colab.research.google.com/github/robertopsouto/notebooks/blob/ga-026_2021-4/topicos/Sistemas_Lineares_Esparsos/octave/chol_up_magic.ipynb\" target=\"_parent\"><img src=\"https://colab.research.google.com/assets/colab-badge.svg\" alt=\"Open In Colab\"/></a>"
      ]
    },
    {
      "cell_type": "markdown",
      "metadata": {
        "id": "7RsXtTbzSPe1"
      },
      "source": [
        "# Fatoração Cholesky Up-looking"
      ]
    },
    {
      "cell_type": "code",
      "metadata": {
        "id": "tshiIkxOSbMn"
      },
      "source": [
        "!apt install octave"
      ],
      "execution_count": null,
      "outputs": []
    },
    {
      "cell_type": "code",
      "metadata": {
        "id": "TSUUKRePScrx"
      },
      "source": [
        "!pip install oct2py"
      ],
      "execution_count": null,
      "outputs": []
    },
    {
      "cell_type": "code",
      "metadata": {
        "id": "lEDgQX9hSdR0"
      },
      "source": [
        "%load_ext oct2py.ipython"
      ],
      "execution_count": null,
      "outputs": []
    },
    {
      "cell_type": "code",
      "metadata": {
        "id": "SExVKqHgSPe5"
      },
      "source": [
        "%%octave\n",
        "\n",
        "clear;\n",
        "close all;\n",
        "format short e;"
      ],
      "execution_count": null,
      "outputs": []
    },
    {
      "cell_type": "code",
      "metadata": {
        "id": "7AxgbBalSPe7"
      },
      "source": [
        "n=8;\n",
        "\n",
        "disp(['Creating sparse A poisson matrix...']);\n",
        "tic;\n",
        "A=gallery ('poisson', n);\n",
        "tElapsed=toc();\n",
        "disp(['Elapsed time of Creating sparse A poisson matrix:', num2str(tElapsed)]);\n",
        "disp(' ');\n",
        "disp(' ');\n",
        "nzA=nnz(A);\n",
        "disp(' ');\n",
        "disp(['non-zeros of A: ',num2str(nzA) ]);\n",
        "disp(' ');"
      ],
      "execution_count": null,
      "outputs": []
    },
    {
      "cell_type": "code",
      "metadata": {
        "id": "FjhtUM9eSPe8"
      },
      "source": [
        "spy(A,'.');"
      ],
      "execution_count": null,
      "outputs": []
    },
    {
      "cell_type": "code",
      "metadata": {
        "id": "CBgQIibQSPe8"
      },
      "source": [
        "disp(['Performing Cholesky in sparse A...']);\n",
        "tic;\n",
        "[L] = chol(A,'lower');\n",
        "tElapsed=toc();\n",
        "disp(['Elapsed Time of Cholesky in sparse A:', num2str(tElapsed)]);\n",
        "nzL=nnz(L);\n",
        "disp(['non-zeros of L: ',num2str(nzL) ]);\n",
        "%disp(['Float point operations: ',num2str(flops(L)) ]);\n",
        "disp(' ');\n",
        "disp(' ');"
      ],
      "execution_count": null,
      "outputs": []
    },
    {
      "cell_type": "code",
      "metadata": {
        "id": "hCvLS5ydSPe9"
      },
      "source": [
        "spy(L,'.');"
      ],
      "execution_count": null,
      "outputs": []
    },
    {
      "cell_type": "code",
      "metadata": {
        "id": "93p0VFA4SPe9"
      },
      "source": [
        "function L = chol_up (A)\n",
        "%CHOL_UP up-looking Cholesky factorization.\n",
        "% Example:\n",
        "%   L = chol_up (A)\n",
        "% Copyright 2006-2012, Timothy A. Davis, http://www.suitesparse.com\n",
        "\n",
        "n = size (A);\n",
        "L = zeros (n);\n",
        "for k = 1:n\n",
        "    L (k,1:k-1) = (L (1:k-1,1:k-1) \\ A (1:k-1,k))';\n",
        "    L (k,k) = sqrt (A (k,k) - L (k,1:k-1) * L (k,1:k-1)');\n",
        "end\n",
        "endfunction"
      ],
      "execution_count": null,
      "outputs": []
    },
    {
      "cell_type": "code",
      "metadata": {
        "id": "Uv0WGwv1SPe-"
      },
      "source": [
        "disp(['Performing up-looking Cholesky in dense A...']);\n",
        "Adense=full(A);\n",
        "tic;\n",
        "[Ldense] = chol_up(Adense);\n",
        "tElapsed=toc();\n",
        "disp(['Elapsed time of up-looking Cholesky in dense A:', num2str(tElapsed)]);\n",
        " disp(' ');\n",
        "disp(' ');\n"
      ],
      "execution_count": null,
      "outputs": []
    },
    {
      "cell_type": "code",
      "metadata": {
        "id": "d6kFhkZbSPe_"
      },
      "source": [
        "spy(Ldense,'.')"
      ],
      "execution_count": null,
      "outputs": []
    },
    {
      "cell_type": "code",
      "metadata": {
        "id": "PrWDELNdSPfA"
      },
      "source": [
        ""
      ],
      "execution_count": null,
      "outputs": []
    }
  ]
}