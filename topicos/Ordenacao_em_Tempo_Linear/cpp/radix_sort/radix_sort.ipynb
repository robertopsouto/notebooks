{
 "cells": [
  {
   "cell_type": "markdown",
   "metadata": {},
   "source": [
    "# Radix Sort"
   ]
  },
  {
   "cell_type": "markdown",
   "metadata": {},
   "source": [
    "### Código original de\n",
    "### https://www.geeksforgeeks.org/radix-sort/"
   ]
  },
  {
   "cell_type": "code",
   "execution_count": 1,
   "metadata": {},
   "outputs": [],
   "source": [
    "// C++ implementation of Radix Sort \n",
    "#include<iostream> \n",
    "using namespace std; \n",
    "  "
   ]
  },
  {
   "cell_type": "code",
   "execution_count": 2,
   "metadata": {},
   "outputs": [],
   "source": [
    "// A utility function to get maximum value in arr[] \n",
    "int getMax(int arr[], int n) \n",
    "{ \n",
    "    int mx = arr[0]; \n",
    "    for (int i = 1; i < n; i++) \n",
    "        if (arr[i] > mx) \n",
    "            mx = arr[i]; \n",
    "    return mx; \n",
    "} \n",
    "  "
   ]
  },
  {
   "cell_type": "code",
   "execution_count": 3,
   "metadata": {},
   "outputs": [],
   "source": [
    "// A function to do counting sort of arr[] according to \n",
    "// the digit represented by exp. \n",
    "void countSort(int arr[], int n, int exp) \n",
    "{ \n",
    "    int output[n]; // output array \n",
    "    int i, count[10] = {0}; \n",
    "  \n",
    "    // Store count of occurrences in count[] \n",
    "    for (i = 0; i < n; i++) \n",
    "        count[ (arr[i]/exp)%10 ]++; \n",
    "  \n",
    "    // Change count[i] so that count[i] now contains actual \n",
    "    //  position of this digit in output[] \n",
    "    for (i = 1; i < 10; i++) \n",
    "        count[i] += count[i - 1]; \n",
    "  \n",
    "    // Build the output array \n",
    "    for (i = n - 1; i >= 0; i--) \n",
    "    { \n",
    "        output[count[ (arr[i]/exp)%10 ] - 1] = arr[i]; \n",
    "        count[ (arr[i]/exp)%10 ]--; \n",
    "    } \n",
    "  \n",
    "    // Copy the output array to arr[], so that arr[] now \n",
    "    // contains sorted numbers according to current digit \n",
    "    for (i = 0; i < n; i++) \n",
    "        arr[i] = output[i]; \n",
    "} \n",
    "  "
   ]
  },
  {
   "cell_type": "code",
   "execution_count": 4,
   "metadata": {},
   "outputs": [],
   "source": [
    "// The main function to that sorts arr[] of size n using  \n",
    "// Radix Sort \n",
    "void radixsort(int arr[], int n) \n",
    "{ \n",
    "    // Find the maximum number to know number of digits \n",
    "    int m = getMax(arr, n); \n",
    "  \n",
    "    // Do counting sort for every digit. Note that instead \n",
    "    // of passing digit number, exp is passed. exp is 10^i \n",
    "    // where i is current digit number \n",
    "    for (int exp = 1; m/exp > 0; exp *= 10) \n",
    "        countSort(arr, n, exp); \n",
    "} \n",
    "  "
   ]
  },
  {
   "cell_type": "code",
   "execution_count": 5,
   "metadata": {},
   "outputs": [],
   "source": [
    "// A utility function to print an array \n",
    "void print(int arr[], int n) \n",
    "{ \n",
    "    for (int i = 0; i < n; i++) \n",
    "        cout << arr[i] << \" \"; \n",
    "} \n",
    "  "
   ]
  },
  {
   "cell_type": "code",
   "execution_count": 6,
   "metadata": {},
   "outputs": [],
   "source": [
    "// Driver program to test above functions \n",
    "void exemplo() \n",
    "{ \n",
    "    int arr[] = {170, 45, 75, 90, 802, 24, 2, 66}; \n",
    "    int n = sizeof(arr)/sizeof(arr[0]); \n",
    "    radixsort(arr, n); \n",
    "    print(arr, n); \n",
    "}"
   ]
  },
  {
   "cell_type": "code",
   "execution_count": 7,
   "metadata": {},
   "outputs": [
    {
     "name": "stdout",
     "output_type": "stream",
     "text": [
      "2 24 45 66 75 90 170 802 "
     ]
    }
   ],
   "source": [
    "exemplo()"
   ]
  },
  {
   "cell_type": "code",
   "execution_count": null,
   "metadata": {},
   "outputs": [],
   "source": []
  }
 ],
 "metadata": {
  "kernelspec": {
   "display_name": "C++17",
   "language": "C++17",
   "name": "xcpp17"
  },
  "language_info": {
   "codemirror_mode": "text/x-c++src",
   "file_extension": ".cpp",
   "mimetype": "text/x-c++src",
   "name": "c++",
   "version": "17"
  }
 },
 "nbformat": 4,
 "nbformat_minor": 4
}
