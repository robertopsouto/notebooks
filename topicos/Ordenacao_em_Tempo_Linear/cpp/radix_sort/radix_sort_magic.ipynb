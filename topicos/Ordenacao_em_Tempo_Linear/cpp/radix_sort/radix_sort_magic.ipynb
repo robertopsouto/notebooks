{
  "nbformat": 4,
  "nbformat_minor": 0,
  "metadata": {
    "kernelspec": {
      "name": "python3",
      "display_name": "Python 3"
    },
    "colab": {
      "name": "radix_sort_magic.ipynb",
      "provenance": [],
      "include_colab_link": true
    },
    "language_info": {
      "name": "python"
    }
  },
  "cells": [
    {
      "cell_type": "markdown",
      "metadata": {
        "id": "view-in-github",
        "colab_type": "text"
      },
      "source": [
        "<a href=\"https://colab.research.google.com/github/robertopsouto/notebooks/blob/ga-026_2021-4/topicos/Ordenacao_em_Tempo_Linear/cpp/radix_sort/radix_sort_magic.ipynb\" target=\"_parent\"><img src=\"https://colab.research.google.com/assets/colab-badge.svg\" alt=\"Open In Colab\"/></a>"
      ]
    },
    {
      "cell_type": "markdown",
      "metadata": {
        "id": "qOuBeMb0eBzh"
      },
      "source": [
        "# Radix Sort"
      ]
    },
    {
      "cell_type": "markdown",
      "metadata": {
        "id": "I6mnIUJZeBzl"
      },
      "source": [
        "### Código original de\n",
        "### https://www.geeksforgeeks.org/radix-sort/"
      ]
    },
    {
      "cell_type": "code",
      "metadata": {
        "id": "rKn7eb8reBzm"
      },
      "source": [
        "%%writefile radix_sort.cpp\n",
        "\n",
        "// C++ implementation of Radix Sort\n",
        "#include <iostream>\n",
        "using namespace std;\n",
        "\n",
        "// A utility function to get maximum value in arr[]\n",
        "int getMax(int arr[], int n)\n",
        "{\n",
        "\tint mx = arr[0];\n",
        "\tfor (int i = 1; i < n; i++)\n",
        "\t\tif (arr[i] > mx)\n",
        "\t\t\tmx = arr[i];\n",
        "\treturn mx;\n",
        "}\n",
        "\n",
        "// A function to do counting sort of arr[] according to\n",
        "// the digit represented by exp.\n",
        "void countSort(int arr[], int n, int exp)\n",
        "{\n",
        "\tint output[n]; // output array\n",
        "\tint i, count[10] = { 0 };\n",
        "\n",
        "\t// Store count of occurrences in count[]\n",
        "\tfor (i = 0; i < n; i++)\n",
        "\t\tcount[(arr[i] / exp) % 10]++;\n",
        "\n",
        "\t// Change count[i] so that count[i] now contains actual\n",
        "\t// position of this digit in output[]\n",
        "\tfor (i = 1; i < 10; i++)\n",
        "\t\tcount[i] += count[i - 1];\n",
        "\n",
        "\t// Build the output array\n",
        "\tfor (i = n - 1; i >= 0; i--) {\n",
        "\t\toutput[count[(arr[i] / exp) % 10] - 1] = arr[i];\n",
        "\t\tcount[(arr[i] / exp) % 10]--;\n",
        "\t}\n",
        "\n",
        "\t// Copy the output array to arr[], so that arr[] now\n",
        "\t// contains sorted numbers according to current digit\n",
        "\tfor (i = 0; i < n; i++)\n",
        "\t\tarr[i] = output[i];\n",
        "}\n",
        "\n",
        "// The main function to that sorts arr[] of size n using\n",
        "// Radix Sort\n",
        "void radixsort(int arr[], int n)\n",
        "{\n",
        "\t// Find the maximum number to know number of digits\n",
        "\tint m = getMax(arr, n);\n",
        "\n",
        "\t// Do counting sort for every digit. Note that instead\n",
        "\t// of passing digit number, exp is passed. exp is 10^i\n",
        "\t// where i is current digit number\n",
        "\tfor (int exp = 1; m / exp > 0; exp *= 10)\n",
        "\t\tcountSort(arr, n, exp);\n",
        "}\n",
        "\n",
        "// A utility function to print an array\n",
        "void print(int arr[], int n)\n",
        "{\n",
        "\tfor (int i = 0; i < n; i++)\n",
        "\t\tcout << arr[i] << \" \";\n",
        "}\n",
        "\n",
        "// Driver Code\n",
        "int main()\n",
        "{\n",
        "\tint arr[] = { 170, 45, 75, 90, 802, 24, 2, 66 };\n",
        "\tint n = sizeof(arr) / sizeof(arr[0]);\n",
        "\t\n",
        "\t// Function Call\n",
        "\tradixsort(arr, n);\n",
        "\tprint(arr, n);\n",
        "\treturn 0;\n",
        "}\n",
        "  "
      ],
      "execution_count": null,
      "outputs": []
    },
    {
      "cell_type": "code",
      "metadata": {
        "id": "4SIIWpRCeBzn"
      },
      "source": [
        "%%sh\n",
        "g++ radix_sort.cpp -o radix_sort\n",
        "./radix_sort "
      ],
      "execution_count": null,
      "outputs": []
    }
  ]
}
