{
  "nbformat": 4,
  "nbformat_minor": 0,
  "metadata": {
    "kernelspec": {
      "name": "python3",
      "display_name": "Python 3"
    },
    "colab": {
      "name": "floyd-warshall.ipynb",
      "provenance": [],
      "include_colab_link": true
    },
    "language_info": {
      "name": "python"
    }
  },
  "cells": [
    {
      "cell_type": "markdown",
      "metadata": {
        "id": "view-in-github",
        "colab_type": "text"
      },
      "source": [
        "<a href=\"https://colab.research.google.com/github/robertopsouto/notebooks/blob/ga-026_2021-4/topicos/Programacao_Dinamica/cpp/floyd-warshall/floyd-warshall.ipynb\" target=\"_parent\"><img src=\"https://colab.research.google.com/assets/colab-badge.svg\" alt=\"Open In Colab\"/></a>"
      ]
    },
    {
      "cell_type": "markdown",
      "metadata": {
        "id": "sp9hmXAeRLfC"
      },
      "source": [
        "# Programação Dinâmica\n",
        "##Caminhos confiáveis mı́nimos para todos os pares"
      ]
    },
    {
      "cell_type": "markdown",
      "metadata": {
        "id": "goUHmAAWRLfG"
      },
      "source": [
        "### Código original de https://www.geeksforgeeks.org/floyd-warshall-algorithm-dp-16/"
      ]
    },
    {
      "cell_type": "code",
      "metadata": {
        "id": "f1m8G_pjRLfM"
      },
      "source": [
        "%%writefile floyd-warshall.cpp\n",
        "\n",
        "// C++ Program for Floyd Warshall Algorithm\n",
        "#include <bits/stdc++.h>\n",
        "using namespace std;\n",
        "\n",
        "// Number of vertices in the graph\n",
        "#define V 4\n",
        "\n",
        "/* Define Infinite as a large enough\n",
        "value.This value will be used for\n",
        "vertices not connected to each other */\n",
        "#define INF 99999\n",
        "\n",
        "// A function to print the solution matrix\n",
        "void printSolution(int dist[][V]);\n",
        "\n",
        "// Solves the all-pairs shortest path\n",
        "// problem using Floyd Warshall algorithm\n",
        "void floydWarshall(int graph[][V])\n",
        "{\n",
        "\t/* dist[][] will be the output matrix\n",
        "\tthat will finally have the shortest\n",
        "\tdistances between every pair of vertices */\n",
        "\tint dist[V][V], i, j, k;\n",
        "\n",
        "\t/* Initialize the solution matrix same\n",
        "\tas input graph matrix. Or we can say\n",
        "\tthe initial values of shortest distances\n",
        "\tare based on shortest paths considering\n",
        "\tno intermediate vertex. */\n",
        "\tfor (i = 0; i < V; i++)\n",
        "\t\tfor (j = 0; j < V; j++)\n",
        "\t\t\tdist[i][j] = graph[i][j];\n",
        "\n",
        "\t/* Add all vertices one by one to\n",
        "\tthe set of intermediate vertices.\n",
        "\t---> Before start of an iteration,\n",
        "\twe have shortest distances between all\n",
        "\tpairs of vertices such that the\n",
        "\tshortest distances consider only the\n",
        "\tvertices in set {0, 1, 2, .. k-1} as\n",
        "\tintermediate vertices.\n",
        "\t----> After the end of an iteration,\n",
        "\tvertex no. k is added to the set of\n",
        "\tintermediate vertices and the set becomes {0, 1, 2, ..\n",
        "\tk} */\n",
        "\tfor (k = 0; k < V; k++) {\n",
        "\t\t// Pick all vertices as source one by one\n",
        "\t\tfor (i = 0; i < V; i++) {\n",
        "\t\t\t// Pick all vertices as destination for the\n",
        "\t\t\t// above picked source\n",
        "\t\t\tfor (j = 0; j < V; j++) {\n",
        "\t\t\t\t// If vertex k is on the shortest path from\n",
        "\t\t\t\t// i to j, then update the value of\n",
        "\t\t\t\t// dist[i][j]\n",
        "\t\t\t\tif (dist[i][j] > (dist[i][k] + dist[k][j])\n",
        "\t\t\t\t\t&& (dist[k][j] != INF\n",
        "\t\t\t\t\t\t&& dist[i][k] != INF))\n",
        "\t\t\t\t\tdist[i][j] = dist[i][k] + dist[k][j];\n",
        "\t\t\t}\n",
        "\t\t}\n",
        "\t}\n",
        "\n",
        "\t// Print the shortest distance matrix\n",
        "\tprintSolution(dist);\n",
        "}\n",
        "\n",
        "/* A utility function to print solution */\n",
        "void printSolution(int dist[][V])\n",
        "{\n",
        "\tcout << \"The following matrix shows the shortest \"\n",
        "\t\t\t\"distances\"\n",
        "\t\t\t\" between every pair of vertices \\n\";\n",
        "\tfor (int i = 0; i < V; i++) {\n",
        "\t\tfor (int j = 0; j < V; j++) {\n",
        "\t\t\tif (dist[i][j] == INF)\n",
        "\t\t\t\tcout << \"INF\"\n",
        "\t\t\t\t\t<< \"\t \";\n",
        "\t\t\telse\n",
        "\t\t\t\tcout << dist[i][j] << \"\t \";\n",
        "\t\t}\n",
        "\t\tcout << endl;\n",
        "\t}\n",
        "}\n",
        "\n",
        "// Driver code\n",
        "int main()\n",
        "{\n",
        "\t/* Let us create the following weighted graph\n",
        "\t\t\t10\n",
        "\t(0)------->(3)\n",
        "\t\t|\t /|\\\n",
        "\t5 |\t |\n",
        "\t\t|\t | 1\n",
        "\t\\|/\t |\n",
        "\t(1)------->(2)\n",
        "\t\t\t3\t */\n",
        "\tint graph[V][V] = { { 0, 5, INF, 10 },\n",
        "\t\t\t\t\t\t{ INF, 0, 3, INF },\n",
        "\t\t\t\t\t\t{ INF, INF, 0, 1 },\n",
        "\t\t\t\t\t\t{ INF, INF, INF, 0 } };\n",
        "\n",
        "\t// Print the solution\n",
        "\tfloydWarshall(graph);\n",
        "\treturn 0;\n",
        "}\n",
        "\n",
        "// This code is contributed by Mythri J L\n"
      ],
      "execution_count": null,
      "outputs": []
    },
    {
      "cell_type": "code",
      "metadata": {
        "id": "wWXWGmg9RwEF"
      },
      "source": [
        "%%sh\n",
        "g++ floyd-warshall.cpp -o floyd-warshall\n",
        "./floyd-warshall"
      ],
      "execution_count": null,
      "outputs": []
    }
  ]
}