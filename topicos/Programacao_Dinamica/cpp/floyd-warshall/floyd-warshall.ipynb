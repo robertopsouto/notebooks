{
  "nbformat": 4,
  "nbformat_minor": 0,
  "metadata": {
    "kernelspec": {
      "name": "python3",
      "display_name": "Python 3"
    },
    "colab": {
      "name": "floyd-warshall.ipynb",
      "provenance": []
    },
    "language_info": {
      "name": "python"
    }
  },
  "cells": [
    {
      "cell_type": "markdown",
      "metadata": {
        "id": "sp9hmXAeRLfC"
      },
      "source": [
        "# Programação Dinâmica: problema de subsequência mais longa"
      ]
    },
    {
      "cell_type": "markdown",
      "metadata": {
        "id": "goUHmAAWRLfG"
      },
      "source": [
        "### Código original de https://www.geeksforgeeks.org/longest-increasing-subsequence-dp-3/"
      ]
    },
    {
      "cell_type": "code",
      "metadata": {
        "id": "f1m8G_pjRLfM"
      },
      "source": [
        "%%writefile lis_num.cpp\n",
        "\n",
        "/* Dynamic Programming C++ implementation\n",
        "of LIS problem */\n",
        "#include <bits/stdc++.h>\n",
        "using namespace std;\n",
        "\n",
        "/* lis() returns the length of the longest\n",
        "increasing subsequence in arr[] of size n */\n",
        "int lis(int arr[], int n)\n",
        "{\n",
        "\tint lis[n];\n",
        "\n",
        "\tlis[0] = 1;\n",
        "\n",
        "\t/* Compute optimized LIS values in\n",
        "\tbottom up manner */\n",
        "\tfor (int i = 1; i < n; i++) {\n",
        "\t\tlis[i] = 1;\n",
        "\t\tfor (int j = 0; j < i; j++)\n",
        "\t\t\tif (arr[i] > arr[j] && lis[i] < lis[j] + 1)\n",
        "\t\t\t\tlis[i] = lis[j] + 1;\n",
        "\t}\n",
        "\n",
        "\t// Return maximum value in lis[]\n",
        "\treturn *max_element(lis, lis + n);\n",
        "}\n",
        "\n",
        "/* Driver program to test above function */\n",
        "int main()\n",
        "{\n",
        "\tint arr[] = { 10, 22, 9, 33, 21, 50, 41, 60 };\n",
        "  //int arr[] = { 5, 2, 8, 6, 3, 6, 9, 7 };\n",
        "\tint n = sizeof(arr) / sizeof(arr[0]);\n",
        "\tprintf(\"Length of lis is %d\\n\", lis(arr, n));\n",
        "\n",
        "\treturn 0;\n",
        "}\n"
      ],
      "execution_count": null,
      "outputs": []
    },
    {
      "cell_type": "code",
      "metadata": {
        "id": "wWXWGmg9RwEF"
      },
      "source": [
        "%%sh\n",
        "g++ lis_num.cpp -o lis_num\n",
        "./lis_num"
      ],
      "execution_count": null,
      "outputs": []
    }
  ]
}
