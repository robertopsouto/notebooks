{
  "nbformat": 4,
  "nbformat_minor": 0,
  "metadata": {
    "kernelspec": {
      "name": "python3",
      "display_name": "Python 3"
    },
    "colab": {
      "name": "matrix_chain_mult.ipynb",
      "provenance": [],
      "include_colab_link": true
    },
    "language_info": {
      "name": "python"
    }
  },
  "cells": [
    {
      "cell_type": "markdown",
      "metadata": {
        "id": "view-in-github",
        "colab_type": "text"
      },
      "source": [
        "<a href=\"https://colab.research.google.com/github/robertopsouto/notebooks/blob/ga-026_2021-4/topicos/Programacao_Dinamica/cpp/matrix_chain_mult/matrix_chain_mult_magic.ipynb\" target=\"_parent\"><img src=\"https://colab.research.google.com/assets/colab-badge.svg\" alt=\"Open In Colab\"/></a>"
      ]
    },
    {
      "cell_type": "markdown",
      "metadata": {
        "id": "OZk6XDcKKDNw"
      },
      "source": [
        "# Multiplicação de Cadeia de Matrizes"
      ]
    },
    {
      "cell_type": "markdown",
      "metadata": {
        "id": "02CvxI1BKDN5"
      },
      "source": [
        "### https://www.geeksforgeeks.org/c-program-for-matrix-chain-multiplication-dp-8/"
      ]
    },
    {
      "cell_type": "markdown",
      "metadata": {
        "id": "Ip5ADkezKe4h"
      },
      "source": [
        ""
      ]
    },
    {
      "cell_type": "code",
      "metadata": {
        "id": "6JpQWhYYKDOA"
      },
      "source": [
        "%%writefile matrix_chain_mult.c\n",
        "\n",
        "// See the Cormen book for details of the following algorithm\n",
        "#include <limits.h>\n",
        "#include <stdio.h>\n",
        "\n",
        "// Matrix Ai has dimension p[i-1] x p[i] for i = 1..n\n",
        "int MatrixChainOrder(int p[], int n)\n",
        "{\n",
        "\n",
        "\t/* For simplicity of the program, one extra row and one\n",
        "\textra column are allocated in m[][]. 0th row and 0th\n",
        "\tcolumn of m[][] are not used */\n",
        "\tint m[n][n];\n",
        "\n",
        "\tint i, j, k, L, q;\n",
        "\n",
        "\t/* m[i, j] = Minimum number of scalar multiplications needed\n",
        "\tto compute the matrix A[i]A[i+1]...A[j] = A[i..j] where\n",
        "\tdimension of A[i] is p[i-1] x p[i] */\n",
        "\n",
        "\t// cost is zero when multiplying one matrix.\n",
        "\tfor (i = 1; i < n; i++)\n",
        "\t\tm[i][i] = 0;\n",
        "\n",
        "\t// L is chain length.\n",
        "\tfor (L = 2; L < n; L++) {\n",
        "\t\tfor (i = 1; i < n - L + 1; i++) {\n",
        "\t\t\tj = i + L - 1;\n",
        "\t\t\tm[i][j] = INT_MAX;\n",
        "\t\t\tfor (k = i; k <= j - 1; k++) {\n",
        "\t\t\t\t// q = cost/scalar multiplications\n",
        "\t\t\t\tq = m[i][k] + m[k + 1][j] + p[i - 1] * p[k] * p[j];\n",
        "\t\t\t\tif (q < m[i][j])\n",
        "\t\t\t\t\tm[i][j] = q;\n",
        "\t\t\t}\n",
        "\t\t}\n",
        "\t}\n",
        "\n",
        "\treturn m[1][n - 1];\n",
        "}\n",
        "\n",
        "int main()\n",
        "{\n",
        "\tint arr[] = { 1, 2, 3, 4 };\n",
        "\tint size = sizeof(arr) / sizeof(arr[0]);\n",
        "\n",
        "\tprintf(\"Minimum number of multiplications is %d \",\n",
        "\t\tMatrixChainOrder(arr, size));\n",
        "\n",
        "\tgetchar();\n",
        "\treturn 0;\n",
        "}\n"
      ],
      "execution_count": null,
      "outputs": []
    },
    {
      "cell_type": "code",
      "metadata": {
        "id": "gtim73x0MTlv"
      },
      "source": [
        "%%sh\n",
        "gcc matrix_chain_mult.c -o matrix_chain_mult\n",
        "./matrix_chain_mult"
      ],
      "execution_count": null,
      "outputs": []
    }
  ]
}