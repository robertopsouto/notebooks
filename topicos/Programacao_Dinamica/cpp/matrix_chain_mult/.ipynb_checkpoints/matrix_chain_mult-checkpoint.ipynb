{
 "cells": [
  {
   "cell_type": "markdown",
   "metadata": {},
   "source": [
    "# Multiplicação de Cadeia de Matrizes"
   ]
  },
  {
   "cell_type": "markdown",
   "metadata": {},
   "source": [
    "### https://www.geeksforgeeks.org/c-program-for-matrix-chain-multiplication-dp-8/"
   ]
  },
  {
   "cell_type": "code",
   "execution_count": 1,
   "metadata": {},
   "outputs": [],
   "source": [
    "// See the Cormen book for details of the following algorithm \n",
    "#include <limits.h> \n",
    "#include <stdio.h> \n",
    "  "
   ]
  },
  {
   "cell_type": "code",
   "execution_count": 2,
   "metadata": {},
   "outputs": [],
   "source": [
    "// Matrix Ai has dimension p[i-1] x p[i] for i = 1..n \n",
    "int MatrixChainOrder(int p[], int n) \n",
    "{ \n",
    "    \n",
    "  \n",
    "    /* For simplicity of the program, one extra row and one \n",
    "       extra column are allocated in m[][].  0th row and 0th \n",
    "       column of m[][] are not used */\n",
    "    int m[n][n]; \n",
    "  \n",
    "    int i, j, k, L, q; \n",
    "  \n",
    "    /* m[i, j] = Minimum number of scalar multiplications needed \n",
    "       to compute the matrix A[i]A[i+1]...A[j] = A[i..j] where \n",
    "       dimension of A[i] is p[i-1] x p[i] */\n",
    "  \n",
    "    // cost is zero when multiplying one matrix. \n",
    "    for (i = 1; i < n; i++) \n",
    "        m[i][i] = 0; \n",
    "  \n",
    "    // L is chain length. \n",
    "    for (L = 2; L < n; L++) { \n",
    "        for (i = 1; i < n - L + 1; i++) { \n",
    "            j = i + L - 1; \n",
    "            m[i][j] = INT_MAX; \n",
    "            for (k = i; k <= j - 1; k++) { \n",
    "                // q = cost/scalar multiplications \n",
    "                q = m[i][k] + m[k + 1][j] + p[i - 1] * p[k] * p[j]; \n",
    "                if (q < m[i][j]) \n",
    "                    m[i][j] = q; \n",
    "            } \n",
    "        } \n",
    "    } \n",
    "  \n",
    "    return m[1][n - 1]; \n",
    "} "
   ]
  },
  {
   "cell_type": "code",
   "execution_count": 5,
   "metadata": {},
   "outputs": [],
   "source": [
    "// Driver program to test above function \n",
    "void exemplo() \n",
    "{ \n",
    "    int arr[] = { 1, 2, 3, 4, 3 }; \n",
    "    int n = sizeof(arr) / sizeof(arr[0]); \n",
    "  \n",
    "    printf(\"Minimum number of multiplications is %d \", \n",
    "           MatrixChainOrder(arr, n) ); \n",
    "  \n",
    "    getchar();  \n",
    "} "
   ]
  },
  {
   "cell_type": "code",
   "execution_count": 6,
   "metadata": {},
   "outputs": [
    {
     "name": "stdout",
     "output_type": "stream",
     "text": [
      "Minimum number of multiplications is 30 "
     ]
    }
   ],
   "source": [
    "exemplo()"
   ]
  },
  {
   "cell_type": "code",
   "execution_count": null,
   "metadata": {},
   "outputs": [],
   "source": []
  }
 ],
 "metadata": {
  "kernelspec": {
   "display_name": "C++17",
   "language": "C++17",
   "name": "xcpp17"
  },
  "language_info": {
   "codemirror_mode": "text/x-c++src",
   "file_extension": ".cpp",
   "mimetype": "text/x-c++src",
   "name": "c++",
   "version": "17"
  }
 },
 "nbformat": 4,
 "nbformat_minor": 4
}
