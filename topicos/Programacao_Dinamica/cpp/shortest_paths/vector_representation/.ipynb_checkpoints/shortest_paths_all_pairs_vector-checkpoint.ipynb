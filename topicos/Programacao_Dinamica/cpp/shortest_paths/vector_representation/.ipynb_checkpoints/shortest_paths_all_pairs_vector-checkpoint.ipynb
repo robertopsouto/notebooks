{
 "cells": [
  {
   "cell_type": "markdown",
   "metadata": {},
   "source": [
    "# Caminhos confiáveis mínimos (vetor)"
   ]
  },
  {
   "cell_type": "markdown",
   "metadata": {},
   "source": [
    "### https://www.geeksforgeeks.org/shortest-path-with-exactly-k-edges-in-a-directed-and-weighted-graph-set-2/"
   ]
  },
  {
   "cell_type": "code",
   "execution_count": 1,
   "metadata": {},
   "outputs": [],
   "source": [
    "// C++ implementation of the above approach \n",
    "#include <bits/stdc++.h> \n",
    "#define inf 100000000 \n",
    "using namespace std; \n",
    "  "
   ]
  },
  {
   "cell_type": "code",
   "execution_count": 2,
   "metadata": {},
   "outputs": [],
   "source": [
    "// Function to find the smallest path \n",
    "// with exactly K edges \n",
    "double smPath(int s, int d, \n",
    "              vector<pair<pair<int, int>, int> > ed, \n",
    "              int n, int k) \n",
    "{ \n",
    "    // Array to store dp \n",
    "    int dis[n + 1]; \n",
    "  \n",
    "    // Initialising the array \n",
    "    for (int i = 0; i <= n; i++) \n",
    "        dis[i] = inf; \n",
    "    dis[s] = 0; \n",
    "  \n",
    "    // Loop to solve DP \n",
    "    for (int i = 0; i < k; i++) { \n",
    "  \n",
    "        // Initialising next state \n",
    "        int dis1[n + 1]; \n",
    "        for (int j = 0; j <= n; j++) \n",
    "            dis1[j] = inf; \n",
    "  \n",
    "        // Recurrence relation \n",
    "        for (auto it : ed) \n",
    "            dis1[it.first.second] = min(dis1[it.first.second], \n",
    "                                        dis[it.first.first] \n",
    "                                            + it.second); \n",
    "        for (int i = 0; i <= n; i++) \n",
    "            dis[i] = dis1[i]; \n",
    "    } \n",
    "  \n",
    "    // Returning final answer \n",
    "    if (dis[d] == inf) \n",
    "        return -1; \n",
    "    else\n",
    "        return dis[d]; \n",
    "}"
   ]
  },
  {
   "cell_type": "code",
   "execution_count": 3,
   "metadata": {},
   "outputs": [],
   "source": [
    "// Driver code \n",
    "void exemplo() \n",
    "{ \n",
    "  \n",
    "    int n = 4; \n",
    "    vector<pair<pair<int, int>, int> > ed; \n",
    "  \n",
    "    // Input edges \n",
    "    ed = { { { 0, 1 }, 10 }, \n",
    "           { { 0, 2 }, 3 }, \n",
    "           { { 0, 3 }, 2 }, \n",
    "           { { 1, 3 }, 7 }, \n",
    "           { { 2, 3 }, 7 } }; \n",
    "  \n",
    "    // Source and Destination \n",
    "    int s = 0, d = 3; \n",
    "  \n",
    "    // Number of edges in path \n",
    "    int k = 2; \n",
    "  \n",
    "    // Calling the function \n",
    "    cout << smPath(s, d, ed, n, k); \n",
    "}"
   ]
  },
  {
   "cell_type": "code",
   "execution_count": 4,
   "metadata": {},
   "outputs": [
    {
     "name": "stdout",
     "output_type": "stream",
     "text": [
      "10"
     ]
    }
   ],
   "source": [
    "exemplo()"
   ]
  },
  {
   "cell_type": "code",
   "execution_count": null,
   "metadata": {},
   "outputs": [],
   "source": []
  }
 ],
 "metadata": {
  "kernelspec": {
   "display_name": "C++17",
   "language": "C++17",
   "name": "xcpp17"
  },
  "language_info": {
   "codemirror_mode": "text/x-c++src",
   "file_extension": ".cpp",
   "mimetype": "text/x-c++src",
   "name": "c++",
   "version": "17"
  }
 },
 "nbformat": 4,
 "nbformat_minor": 4
}
