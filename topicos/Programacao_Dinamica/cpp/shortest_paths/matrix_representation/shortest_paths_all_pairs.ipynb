{
 "cells": [
  {
   "cell_type": "markdown",
   "metadata": {},
   "source": [
    "# Caminhos confiáveis mínimos (matriz)"
   ]
  },
  {
   "cell_type": "markdown",
   "metadata": {},
   "source": [
    "### Código original de \n",
    "### https://www.geeksforgeeks.org/shortest-path-exactly-k-edges-directed-weighted-graph/"
   ]
  },
  {
   "cell_type": "code",
   "execution_count": 1,
   "metadata": {},
   "outputs": [],
   "source": [
    "// Dynamic Programming based C++ program to find shortest path with \n",
    "// exactly k edges \n",
    "#include <iostream> \n",
    "#include <climits> \n",
    "using namespace std; \n",
    "  "
   ]
  },
  {
   "cell_type": "code",
   "execution_count": 2,
   "metadata": {},
   "outputs": [],
   "source": [
    "// Define number of vertices in the graph and inifinite value \n",
    "#define V 4 \n",
    "#define INF INT_MAX \n",
    "  "
   ]
  },
  {
   "cell_type": "code",
   "execution_count": 3,
   "metadata": {},
   "outputs": [],
   "source": [
    "// A Dynamic programming based function to find the shortest path from \n",
    "// u to v with exactly k edges. \n",
    "int shortestPath(int graph[][V], int u, int v, int k) \n",
    "{ \n",
    "    // Table to be filled up using DP. The value sp[i][j][e] will store \n",
    "    // weight of the shortest path from i to j with exactly k edges \n",
    "    int sp[V][V][k+1]; \n",
    "  \n",
    "    // Loop for number of edges from 0 to k \n",
    "    for (int e = 0; e <= k; e++) \n",
    "    { \n",
    "        for (int i = 0; i < V; i++)  // for source \n",
    "        { \n",
    "            for (int j = 0; j < V; j++) // for destination \n",
    "            { \n",
    "                // initialize value \n",
    "                sp[i][j][e] = INF; \n",
    "  \n",
    "                // from base cases \n",
    "                if (e == 0 && i == j) \n",
    "                    sp[i][j][e] = 0; \n",
    "                if (e == 1 && graph[i][j] != INF) \n",
    "                    sp[i][j][e] = graph[i][j]; \n",
    "  \n",
    "                //go to adjacent only when number of edges is more than 1 \n",
    "                if (e > 1) \n",
    "                { \n",
    "                    for (int a = 0; a < V; a++) \n",
    "                    { \n",
    "                        // There should be an edge from i to a and a  \n",
    "                        // should not be same as either i or j \n",
    "                        if (graph[i][a] != INF && i != a && \n",
    "                            j!= a && sp[a][j][e-1] != INF) \n",
    "                          sp[i][j][e] = min(sp[i][j][e], graph[i][a] + \n",
    "                                                       sp[a][j][e-1]); \n",
    "                    } \n",
    "                } \n",
    "           } \n",
    "        } \n",
    "    } \n",
    "    return sp[u][v][k]; \n",
    "}"
   ]
  },
  {
   "cell_type": "code",
   "execution_count": 4,
   "metadata": {},
   "outputs": [],
   "source": [
    "// driver program to test above function \n",
    "void exemplo() \n",
    "{ \n",
    "    /* Let us create the graph shown in above diagram*/\n",
    "     int graph[V][V] = { {0, 10, 3, 2}, \n",
    "                        {INF, 0, INF, 7}, \n",
    "                        {INF, INF, 0, 6}, \n",
    "                        {INF, INF, INF, 0} \n",
    "                      }; \n",
    "    int u = 0, v = 3, k = 2; \n",
    "    cout << shortestPath(graph, u, v, k);  \n",
    "} "
   ]
  },
  {
   "cell_type": "markdown",
   "metadata": {},
   "source": [
    "<img src=\"graph11.png\" width=\"480\">"
   ]
  },
  {
   "cell_type": "code",
   "execution_count": 5,
   "metadata": {},
   "outputs": [
    {
     "name": "stdout",
     "output_type": "stream",
     "text": [
      "9"
     ]
    }
   ],
   "source": [
    "exemplo()"
   ]
  },
  {
   "cell_type": "code",
   "execution_count": null,
   "metadata": {},
   "outputs": [],
   "source": []
  }
 ],
 "metadata": {
  "kernelspec": {
   "display_name": "C++17",
   "language": "C++17",
   "name": "xcpp17"
  },
  "language_info": {
   "codemirror_mode": "text/x-c++src",
   "file_extension": ".cpp",
   "mimetype": "text/x-c++src",
   "name": "c++",
   "version": "17"
  }
 },
 "nbformat": 4,
 "nbformat_minor": 4
}
