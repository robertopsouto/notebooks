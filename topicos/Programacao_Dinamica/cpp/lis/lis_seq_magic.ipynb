{
  "nbformat": 4,
  "nbformat_minor": 0,
  "metadata": {
    "kernelspec": {
      "name": "python3",
      "display_name": "Python 3"
    },
    "colab": {
      "name": "lis_seq.ipynb",
      "provenance": [],
      "include_colab_link": true
    },
    "language_info": {
      "name": "python"
    }
  },
  "cells": [
    {
      "cell_type": "markdown",
      "metadata": {
        "id": "view-in-github",
        "colab_type": "text"
      },
      "source": [
        "<a href=\"https://colab.research.google.com/github/robertopsouto/notebooks/blob/ga-026_2021-4/topicos/Programacao_Dinamica/cpp/lis/lis_seq_magic.ipynb\" target=\"_parent\"><img src=\"https://colab.research.google.com/assets/colab-badge.svg\" alt=\"Open In Colab\"/></a>"
      ]
    },
    {
      "cell_type": "markdown",
      "metadata": {
        "id": "t2_1eQ0GTHf8"
      },
      "source": [
        "# Programação Dinâmica: problema de subsequência mais longa"
      ]
    },
    {
      "cell_type": "markdown",
      "metadata": {
        "id": "HDg7nIKATHgD"
      },
      "source": [
        "### Código original de https://www.geeksforgeeks.org/construction-of-longest-increasing-subsequence-using-dynamic-programming/"
      ]
    },
    {
      "cell_type": "code",
      "metadata": {
        "id": "qFMzoK8mTHgL"
      },
      "source": [
        "%%writefile lis_seq.cpp\n",
        "\n",
        "/* Dynamic Programming solution to construct Longest\n",
        "Increasing Subsequence */\n",
        "#include <iostream>\n",
        "#include <vector>\n",
        "using namespace std;\n",
        "\n",
        "// Utility function to print LIS\n",
        "void printLIS(vector<int>& arr)\n",
        "{\n",
        "\tfor (int x : arr)\n",
        "\t\tcout << x << \" \";\n",
        "\tcout << endl;\n",
        "}\n",
        "\n",
        "// Function to construct and print Longest Increasing\n",
        "// Subsequence\n",
        "void constructPrintLIS(int arr[], int n)\n",
        "{\n",
        "\t// L[i] - The longest increasing sub-sequence\n",
        "\t// ends with arr[i]\n",
        "\tvector<vector<int> > L(n);\n",
        "\n",
        "\t// L[0] is equal to arr[0]\n",
        "\tL[0].push_back(arr[0]);\n",
        "\n",
        "\t// start from index 1\n",
        "\tfor (int i = 1; i < n; i++)\n",
        "\t{\n",
        "\t\t// do for every j less than i\n",
        "\t\tfor (int j = 0; j < i; j++)\n",
        "\t\t{\n",
        "\t\t\t/* L[i] = {Max(L[j])} + arr[i]\n",
        "\t\t\twhere j < i and arr[j] < arr[i] */\n",
        "\t\t\tif ((arr[i] > arr[j]) &&\n",
        "\t\t\t\t\t(L[i].size() < L[j].size() + 1))\n",
        "\t\t\t\tL[i] = L[j];\n",
        "\t\t}\n",
        "\n",
        "\t\t// L[i] ends with arr[i]\n",
        "\t\tL[i].push_back(arr[i]);\n",
        "\t}\n",
        "\n",
        "\t// L[i] now stores increasing sub-sequence of\n",
        "\t// arr[0..i] that ends with arr[i]\n",
        "\tvector<int> max = L[0];\n",
        "\n",
        "\t// LIS will be max of all increasing sub-\n",
        "\t// sequences of arr\n",
        "\tfor (vector<int> x : L)\n",
        "\t\tif (x.size() > max.size())\n",
        "\t\t\tmax = x;\n",
        "\n",
        "\t// max will contain LIS\n",
        "\tprintLIS(max);\n",
        "}\n",
        "\n",
        "// Driver function\n",
        "int main()\n",
        "{\n",
        "\tint arr[] = { 3, 2, 6, 4, 5, 1 };\n",
        "  //int arr[] = { 5, 2, 8, 6, 3, 6, 9, 7 };\n",
        "\tint n = sizeof(arr) / sizeof(arr[0]);\n",
        "\n",
        "\t// construct and print LIS of arr\n",
        "\tconstructPrintLIS(arr, n);\n",
        "\n",
        "\treturn 0;\n",
        "}\n"
      ],
      "execution_count": null,
      "outputs": []
    },
    {
      "cell_type": "code",
      "metadata": {
        "id": "VTNhf0zoTcdr"
      },
      "source": [
        "%%sh\n",
        "g++ lis_seq.cpp -o lis_seq\n",
        "./lis_seq"
      ],
      "execution_count": null,
      "outputs": []
    }
  ]
}