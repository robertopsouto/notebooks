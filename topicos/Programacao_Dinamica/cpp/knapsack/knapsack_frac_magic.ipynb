{
  "nbformat": 4,
  "nbformat_minor": 0,
  "metadata": {
    "kernelspec": {
      "name": "python3",
      "display_name": "Python 3"
    },
    "colab": {
      "name": "knapsack_01.ipynb",
      "provenance": [],
      "include_colab_link": true
    },
    "language_info": {
      "name": "python"
    }
  },
  "cells": [
    {
      "cell_type": "markdown",
      "metadata": {
        "id": "view-in-github",
        "colab_type": "text"
      },
      "source": [
        "<a href=\"https://colab.research.google.com/github/robertopsouto/notebooks/blob/ga-026_2021-4/topicos/Programacao_Dinamica/cpp/knapsack/knapsack_frac_magic.ipynb\" target=\"_parent\"><img src=\"https://colab.research.google.com/assets/colab-badge.svg\" alt=\"Open In Colab\"/></a>"
      ]
    },
    {
      "cell_type": "markdown",
      "metadata": {
        "id": "L9W-sekUNoaN"
      },
      "source": [
        "# Problema da Mochila: versão fracinária (Algoritmo Guloso)\n",
        "\n",
        "---\n",
        "\n"
      ]
    },
    {
      "cell_type": "markdown",
      "metadata": {
        "id": "YOgAAqAaNoaW"
      },
      "source": [
        "### Código original de\n",
        "### https://www.geeksforgeeks.org/0-1-knapsack-problem-dp-10/"
      ]
    },
    {
      "cell_type": "code",
      "metadata": {
        "id": "B19oSF0HNoae"
      },
      "source": [
        "%%writefile knapsack_01.cpp\n",
        "\n",
        "// A dynamic programming based\n",
        "// solution for 0-1 Knapsack problem\n",
        "#include <bits/stdc++.h>\n",
        "using namespace std;\n",
        "\n",
        "// A utility function that returns\n",
        "// maximum of two integers\n",
        "int max(int a, int b)\n",
        "{\n",
        "\treturn (a > b) ? a : b;\n",
        "}\n",
        "\n",
        "// Returns the maximum value that\n",
        "// can be put in a knapsack of capacity W\n",
        "int knapSack(int W, int wt[], int val[], int n)\n",
        "{\n",
        "\tint i, w;\n",
        "\tvector<vector<int>> K(n + 1, vector<int>(W + 1));\n",
        "\n",
        "\t// Build table K[][] in bottom up manner\n",
        "\tfor(i = 0; i <= n; i++)\n",
        "\t{\n",
        "\t\tfor(w = 0; w <= W; w++)\n",
        "\t\t{\n",
        "\t\t\tif (i == 0 || w == 0)\n",
        "\t\t\t\tK[i][w] = 0;\n",
        "\t\t\telse if (wt[i - 1] <= w)\n",
        "\t\t\t\tK[i][w] = max(val[i - 1] +\n",
        "\t\t\t\t\t\t\t\tK[i - 1][w - wt[i - 1]],\n",
        "\t\t\t\t\t\t\t\tK[i - 1][w]);\n",
        "\t\t\telse\n",
        "\t\t\t\tK[i][w] = K[i - 1][w];\n",
        "\t\t}\n",
        "\t}\n",
        "\treturn K[n][W];\n",
        "}\n",
        "\n",
        "// Driver Code\n",
        "int main()\n",
        "{\n",
        "\tint val[] = { 60, 100, 120 };\n",
        "\tint wt[] = { 10, 20, 30 };\n",
        "\tint W = 50;\n",
        "\tint n = sizeof(val) / sizeof(val[0]);\n",
        "\t\n",
        "\tcout << knapSack(W, wt, val, n);\n",
        "\t\n",
        "\treturn 0;\n",
        "}\n",
        "\n",
        "// This code is contributed by Debojyoti Mandal\n"
      ],
      "execution_count": null,
      "outputs": []
    },
    {
      "cell_type": "code",
      "metadata": {
        "id": "u3orY1JqOVPv"
      },
      "source": [
        "%%sh\n",
        "g++ knapsack_01.cpp -o knapsack_01\n",
        "./knapsack_01\n"
      ],
      "execution_count": null,
      "outputs": []
    }
  ]
}