{
 "cells": [
  {
   "cell_type": "markdown",
   "metadata": {},
   "source": [
    "# Problema da Mochila: versão 0-1 (Programação Dinâmica)"
   ]
  },
  {
   "cell_type": "markdown",
   "metadata": {},
   "source": [
    "### Código original de\n",
    "### https://www.geeksforgeeks.org/0-1-knapsack-problem-dp-10/"
   ]
  },
  {
   "cell_type": "code",
   "execution_count": 1,
   "metadata": {},
   "outputs": [],
   "source": [
    "// A Dynamic Programming based \n",
    "// solution for 0-1 Knapsack problem \n",
    "#include <stdio.h> \n",
    "  "
   ]
  },
  {
   "cell_type": "code",
   "execution_count": 2,
   "metadata": {},
   "outputs": [],
   "source": [
    "// A utility function that returns \n",
    "// maximum of two integers \n",
    "int max(int a, int b) \n",
    "{ \n",
    "    return (a > b) ? a : b; \n",
    "} \n",
    "  "
   ]
  },
  {
   "cell_type": "code",
   "execution_count": 3,
   "metadata": {},
   "outputs": [],
   "source": [
    "// Returns the maximum value that \n",
    "// can be put in a knapsack of capacity W \n",
    "int knapSack(int W, int wt[], int val[], int n) \n",
    "{ \n",
    "    int i, w; \n",
    "    int K[n + 1][W + 1]; \n",
    "  \n",
    "    // Build table K[][] in bottom up manner \n",
    "    for (i = 0; i <= n; i++) { \n",
    "        for (w = 0; w <= W; w++) { \n",
    "            if (i == 0 || w == 0) \n",
    "                K[i][w] = 0; \n",
    "            else if (wt[i - 1] <= w) \n",
    "                K[i][w] = max( \n",
    "                    val[i - 1] + K[i - 1][w - wt[i - 1]], \n",
    "                    K[i - 1][w]); \n",
    "            else\n",
    "                K[i][w] = K[i - 1][w]; \n",
    "        } \n",
    "    } \n",
    "  \n",
    "    return K[n][W]; \n",
    "} "
   ]
  },
  {
   "cell_type": "code",
   "execution_count": 4,
   "metadata": {},
   "outputs": [],
   "source": [
    "void exemplo() \n",
    "{ \n",
    "    int val[] = { 60, 100, 120 }; \n",
    "    int wt[] = { 10, 20, 30 }; \n",
    "    int W = 50; \n",
    "    int n = sizeof(val) / sizeof(val[0]); \n",
    "    printf(\"%d\", knapSack(W, wt, val, n));  \n",
    "} "
   ]
  },
  {
   "cell_type": "code",
   "execution_count": 5,
   "metadata": {},
   "outputs": [
    {
     "name": "stdout",
     "output_type": "stream",
     "text": [
      "220"
     ]
    }
   ],
   "source": [
    "exemplo()"
   ]
  },
  {
   "cell_type": "code",
   "execution_count": null,
   "metadata": {},
   "outputs": [],
   "source": []
  }
 ],
 "metadata": {
  "kernelspec": {
   "display_name": "C++17",
   "language": "C++17",
   "name": "xcpp17"
  },
  "language_info": {
   "codemirror_mode": "text/x-c++src",
   "file_extension": ".cpp",
   "mimetype": "text/x-c++src",
   "name": "c++",
   "version": "17"
  }
 },
 "nbformat": 4,
 "nbformat_minor": 4
}
