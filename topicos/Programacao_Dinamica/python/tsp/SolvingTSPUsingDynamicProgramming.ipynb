{
  "nbformat": 4,
  "nbformat_minor": 0,
  "metadata": {
    "anaconda-cloud": {},
    "kernelspec": {
      "name": "python3",
      "display_name": "Python 3"
    },
    "colab": {
      "name": "SolvingTSPUsingDynamicProgramming.ipynb",
      "provenance": [],
      "include_colab_link": true
    },
    "language_info": {
      "name": "python"
    }
  },
  "cells": [
    {
      "cell_type": "markdown",
      "metadata": {
        "id": "view-in-github",
        "colab_type": "text"
      },
      "source": [
        "<a href=\"https://colab.research.google.com/github/robertopsouto/notebooks/blob/ga-026_2021-4/topicos/Programacao_Dinamica/python/tsp/SolvingTSPUsingDynamicProgramming.ipynb\" target=\"_parent\"><img src=\"https://colab.research.google.com/assets/colab-badge.svg\" alt=\"Open In Colab\"/></a>"
      ]
    },
    {
      "cell_type": "markdown",
      "metadata": {
        "id": "faxpLAEBART2"
      },
      "source": [
        "# Solving TSP Using Dynamic Programming\n",
        "\n",
        "## This notebook was created to serve a [blog post](https://towardsdatascience.com/solving-tsp-using-dynamic-programming-2c77da86610d) by the same name."
      ]
    },
    {
      "cell_type": "code",
      "metadata": {
        "collapsed": true,
        "id": "6GRRoqzkART8"
      },
      "source": [
        "import time\n",
        "import numpy as np\n",
        "np.random.seed(42)\n",
        "\n",
        "import matplotlib.pyplot as plt\n",
        "%matplotlib inline"
      ],
      "execution_count": null,
      "outputs": []
    },
    {
      "cell_type": "code",
      "metadata": {
        "collapsed": true,
        "id": "UVFF1PRSART-"
      },
      "source": [
        "def DP_TSP(distances_array):\n",
        "    n = len(distances_array)\n",
        "    all_points_set = set(range(n))\n",
        "\n",
        "    # memo keys: tuple(sorted_points_in_path, last_point_in_path)\n",
        "    # memo values: tuple(cost_thus_far, next_to_last_point_in_path)\n",
        "    memo = {(tuple([i]), i): tuple([0, None]) for i in range(n)}\n",
        "    queue = [(tuple([i]), i) for i in range(n)]\n",
        "\n",
        "    while queue:\n",
        "        prev_visited, prev_last_point = queue.pop(0)\n",
        "        prev_dist, _ = memo[(prev_visited, prev_last_point)]\n",
        "\n",
        "        to_visit = all_points_set.difference(set(prev_visited))\n",
        "        for new_last_point in to_visit:\n",
        "            new_visited = tuple(sorted(list(prev_visited) + [new_last_point]))\n",
        "            new_dist = prev_dist + distances_array[prev_last_point][new_last_point]\n",
        "\n",
        "            if (new_visited, new_last_point) not in memo:\n",
        "                memo[(new_visited, new_last_point)] = (new_dist, prev_last_point)\n",
        "                queue += [(new_visited, new_last_point)]\n",
        "            else:\n",
        "                if new_dist < memo[(new_visited, new_last_point)][0]:\n",
        "                    memo[(new_visited, new_last_point)] = (new_dist, prev_last_point)\n",
        "\n",
        "    optimal_path, optimal_cost = retrace_optimal_path(memo, n)\n",
        "\n",
        "    return optimal_path, optimal_cost"
      ],
      "execution_count": null,
      "outputs": []
    },
    {
      "cell_type": "code",
      "metadata": {
        "collapsed": true,
        "id": "IbyyDVCVART_"
      },
      "source": [
        "def retrace_optimal_path(memo: dict, n: int) -> [[int], float]:\n",
        "    points_to_retrace = tuple(range(n))\n",
        "\n",
        "    full_path_memo = dict((k, v) for k, v in memo.items() if k[0] == points_to_retrace)\n",
        "    path_key = min(full_path_memo.keys(), key=lambda x: full_path_memo[x][0])\n",
        "\n",
        "    last_point = path_key[1]\n",
        "    optimal_cost, next_to_last_point = memo[path_key]\n",
        "\n",
        "    optimal_path = [last_point]\n",
        "    points_to_retrace = tuple(sorted(set(points_to_retrace).difference({last_point})))\n",
        "\n",
        "    while next_to_last_point is not None:\n",
        "        last_point = next_to_last_point\n",
        "        path_key = (points_to_retrace, last_point)\n",
        "        _, next_to_last_point = memo[path_key]\n",
        "\n",
        "        optimal_path = [last_point] + optimal_path\n",
        "        points_to_retrace = tuple(sorted(set(points_to_retrace).difference({last_point})))\n",
        "\n",
        "    return optimal_path, optimal_cost"
      ],
      "execution_count": null,
      "outputs": []
    },
    {
      "cell_type": "code",
      "metadata": {
        "collapsed": true,
        "id": "frxy-kGSARUA"
      },
      "source": [
        "def plot_route(X, optimal_path):\n",
        "    for p1, p2 in zip(optimal_path[:-1], optimal_path[1:]):\n",
        "        plt.plot([X[p1, 0], X[p2, 0]], [X[p1, 1], X[p2, 1]]);"
      ],
      "execution_count": null,
      "outputs": []
    },
    {
      "cell_type": "code",
      "metadata": {
        "collapsed": true,
        "id": "DXX8OmDxARUB"
      },
      "source": [
        "def generate_random_input(n_points):\n",
        "    X = np.random.rand(n_points, 2)\n",
        "    distances_array = np.array([[np.linalg.norm(X[i] - X[j])\n",
        "                                 for i in range(n_points)]\n",
        "                                for j in range(n_points)])\n",
        "    return X, distances_array"
      ],
      "execution_count": null,
      "outputs": []
    },
    {
      "cell_type": "code",
      "metadata": {
        "id": "B0q6fWKJARUC"
      },
      "source": [
        "input_size = 12\n",
        "X, distances_array = generate_random_input(input_size)\n",
        "\n",
        "t = time.time()\n",
        "optimal_path, optimal_cost = DP_TSP(distances_array)\n",
        "runtime = round(time.time() - t, 3)\n",
        "\n",
        "print(f\"Found optimal path in {runtime} seconds.\") \n",
        "print(f\"Optimal cost: {round(optimal_cost, 3)}, optimal path: {optimal_path}\") "
      ],
      "execution_count": null,
      "outputs": []
    },
    {
      "cell_type": "code",
      "metadata": {
        "id": "sIhGNBYMARUF"
      },
      "source": [
        "plt.figure(figsize=(10, 5));\n",
        "\n",
        "plt.subplot(1, 2, 1);\n",
        "plt.scatter(X[:, 0], X[:, 1]);\n",
        "\n",
        "plt.subplot(1, 2, 2);\n",
        "plot_route(X, optimal_path)\n",
        "\n",
        "plt.tight_layout(); "
      ],
      "execution_count": null,
      "outputs": []
    },
    {
      "cell_type": "markdown",
      "metadata": {
        "collapsed": true,
        "id": "iiuHiq7fARUF"
      },
      "source": [
        "# Compare with YATS\n",
        "\n",
        "### In a [previous post](https://medium.com/hackernoon/yats-yet-another-tsp-solution-6a71aeabe1f8), we solved TSP using a geometric trick + greedy local search.\n",
        "\n",
        "### Now let's compare these two solutions!"
      ]
    },
    {
      "cell_type": "code",
      "metadata": {
        "id": "7nWC0lzQARUG"
      },
      "source": [
        "import math\n",
        "import random\n",
        "random.seed(42)\n",
        "\n",
        "class YATS:\n",
        "    def __init__(self, n_iter: int = 100):\n",
        "        self.n_iter = n_iter\n",
        "        \n",
        "    def get_best_route(self, points: np.array, distances_array: np.array) -> [[int], float]:\n",
        "        optimal_path = self._get_angular_route(points)\n",
        "        optimal_path = self._optimize_route(distances_array, optimal_path)\n",
        "        optimal_cost = self._get_route_len(distances_array, optimal_path)\n",
        "        return optimal_path, optimal_cost\n",
        "    \n",
        "    def _get_angular_route(self, points: np.array) -> [int]:\n",
        "        center = np.mean(points, axis=0)\n",
        "        route_idxs = sorted(list(range(len(points))),\n",
        "                            key=lambda i:\n",
        "                            self._get_angle_from_reference_point_in_deg(center, points[i, :]),\n",
        "                            reverse=True)\n",
        "        return route_idxs\n",
        "\n",
        "    def _get_angle_from_reference_point_in_deg(self, reference_point: np.array, other_point: np.array) -> float:\n",
        "        x, y = other_point - reference_point\n",
        "        angle_from_reference_in_deg = math.degrees(math.atan2(y, x))\n",
        "        return angle_from_reference_in_deg\n",
        "    \n",
        "    def _optimize_route(self, distances_array: np.array, route_idxs: [int]) -> [int]:\n",
        "        prev_cost = self._get_route_len(distances_array, route_idxs)\n",
        "\n",
        "        all_idxs = list(range(len(route_idxs)))\n",
        "        for _ in range(self.n_iter):\n",
        "            i1, i2 = random.sample(all_idxs, 2)\n",
        "            route_idxs[i2], route_idxs[i1] = route_idxs[i1], route_idxs[i2]\n",
        "            new_cost = self._get_route_len(distances_array, route_idxs)\n",
        "            if new_cost < prev_cost:\n",
        "                prev_cost = new_cost\n",
        "            else:\n",
        "                route_idxs[i2], route_idxs[i1] = route_idxs[i1], route_idxs[i2]\n",
        "        return route_idxs\n",
        "\n",
        "    def _get_route_len(self, distances_array: np.array, route_idxs: [int]):\n",
        "        route_len = sum([distances_array[i1][i2]\n",
        "                         for i1, i2 in zip(route_idxs[:-1], route_idxs[1:])])\n",
        "        return route_len\n"
      ],
      "execution_count": null,
      "outputs": []
    },
    {
      "cell_type": "code",
      "metadata": {
        "id": "PN9j6_MPARUH"
      },
      "source": [
        "yats = YATS()\n",
        "\n",
        "t_yats = time.time()\n",
        "optimal_path_yats, optimal_cost_yats = yats.get_best_route(X, distances_array)\n",
        "runtime_yats = round(time.time() - t_yats, 3)\n",
        "\n",
        "print(f\"Found heuristic path in {runtime_yats} seconds.\") \n",
        "print(f\"Heuristic cost: {round(optimal_cost_yats, 3)}, heuristic optimal path: {optimal_path_yats}\") "
      ],
      "execution_count": null,
      "outputs": []
    },
    {
      "cell_type": "code",
      "metadata": {
        "id": "8gXLfg9_ARUI"
      },
      "source": [
        "plt.figure(figsize=(15, 5));\n",
        "\n",
        "plt.subplot(1, 3, 1);\n",
        "plot_route(X, optimal_path)\n",
        "plt.title(f\"Optimal solution, cost = {round(optimal_cost, 3)}, runtime = {runtime}\")\n",
        "\n",
        "plt.subplot(1, 3, 2);\n",
        "plot_route(X, optimal_path_yats)\n",
        "plt.title(f\"Heuristic solution, cost = {round(optimal_cost_yats, 3)}, runtime = {runtime_yats}\")\n",
        "\n",
        "plt.subplot(1, 3, 3);\n",
        "random_path = list(range(len(X)))\n",
        "random_cost = yats._get_route_len(distances_array, random_path)\n",
        "plot_route(X, random_path)\n",
        "plt.title(f\"Random solution, cost = {round(random_cost, 3)}\")\n",
        "\n",
        "plt.tight_layout(); "
      ],
      "execution_count": null,
      "outputs": []
    },
    {
      "cell_type": "markdown",
      "metadata": {
        "collapsed": true,
        "id": "CH2VbmhOARUI"
      },
      "source": [
        "## OK now lets compare for different values"
      ]
    },
    {
      "cell_type": "code",
      "metadata": {
        "id": "NKWE4k2hARUJ"
      },
      "source": [
        "input_sizes = list(range(8, 16))\n",
        "optimal_paths = []\n",
        "optimal_costs = []\n",
        "optimal_runtimes = []\n",
        "heuristic_paths = []\n",
        "heuristic_costs = []\n",
        "heuristic_runtimes = []\n",
        "random_paths = []\n",
        "random_costs = []\n",
        "\n",
        "for input_size in input_sizes:\n",
        "    print(f\"Finding paths for input of size {input_size}\")\n",
        "    X, distances_array = generate_random_input(input_size)\n",
        "\n",
        "    t = time.time()\n",
        "    optimal_path, optimal_cost = DP_TSP(distances_array)\n",
        "    optimal_runtime = round(time.time() - t, 3)\n",
        "    optimal_paths += [optimal_path]\n",
        "    optimal_costs += [optimal_cost]\n",
        "    optimal_runtimes += [optimal_runtime]\n",
        "\n",
        "    print(f\"Found optimal path in {optimal_runtime} seconds.\") \n",
        "    print(f\"Optimal cost: {round(optimal_cost, 3)}, optimal path: {optimal_path}\") \n",
        "    \n",
        "    yats = YATS()\n",
        "    t_yats = time.time()\n",
        "    heuristic_path, heuristic_cost = yats.get_best_route(X, distances_array)\n",
        "    heuristic_runtime = round(time.time() - t_yats, 3)\n",
        "    heuristic_paths += [heuristic_path]\n",
        "    heuristic_costs += [heuristic_cost]\n",
        "    heuristic_runtimes += [heuristic_runtime]\n",
        "\n",
        "    print(f\"Found heuristic path in {heuristic_runtime} seconds.\") \n",
        "    print(f\"Heuristic cost: {round(heuristic_cost, 3)}, heuristic optimal path: {heuristic_path}\")\n",
        "    \n",
        "    random_path = list(range(input_size))\n",
        "    random_cost = yats._get_route_len(distances_array, random_path)\n",
        "    random_paths += [random_path]\n",
        "    random_costs += [random_cost]\n",
        "    \n",
        "    print(f\"Random cost: {round(random_cost, 3)}\")\n",
        "    print()\n"
      ],
      "execution_count": null,
      "outputs": []
    },
    {
      "cell_type": "code",
      "metadata": {
        "id": "0mHKdwPBARUJ"
      },
      "source": [
        "plt.figure(figsize=(15, 5));\n",
        "\n",
        "plt.subplot(1, 3, 1);\n",
        "plot_route(X, optimal_paths[-1])\n",
        "plt.title(f\"Optimal solution, cost = {round(optimal_costs[-1], 3)}, runtime = {optimal_runtimes[-1]}\")\n",
        "\n",
        "plt.subplot(1, 3, 2);\n",
        "plot_route(X, heuristic_paths[-1])\n",
        "plt.title(f\"Heuristic solution, cost = {round(heuristic_costs[-1], 3)}, runtime = {heuristic_runtimes[-1]}\")\n",
        "\n",
        "plt.subplot(1, 3, 3);\n",
        "plot_route(X, random_paths[-1])\n",
        "plt.title(f\"Random solution, cost = {round(random_costs[-1], 3)}\")\n",
        "\n",
        "plt.tight_layout(); "
      ],
      "execution_count": null,
      "outputs": []
    },
    {
      "cell_type": "code",
      "metadata": {
        "id": "neJt70S_ARUK"
      },
      "source": [
        "plt.figure(figsize=(10, 5));\n",
        "\n",
        "plt.subplot(1, 2, 1);\n",
        "plt.plot(input_sizes, optimal_costs);\n",
        "plt.plot(input_sizes, heuristic_costs);\n",
        "plt.xlabel(\"Input size\");\n",
        "plt.ylabel(\"Cost\");\n",
        "plt.legend(labels=[\"optimal cost\", \"heuristic cost\"]);\n",
        "\n",
        "plt.subplot(1, 2, 2);\n",
        "plt.plot(input_sizes, optimal_runtimes);\n",
        "plt.plot(input_sizes, heuristic_runtimes);\n",
        "plt.xlabel(\"Input size\");\n",
        "plt.ylabel(\"Runtime (seconds)\");\n",
        "plt.legend(labels=[\"optimal runtime\", \"heuristic runtime\"]);\n",
        "\n",
        "plt.tight_layout(); "
      ],
      "execution_count": null,
      "outputs": []
    },
    {
      "cell_type": "code",
      "metadata": {
        "collapsed": true,
        "id": "k1qQgZqxARUK"
      },
      "source": [
        ""
      ],
      "execution_count": null,
      "outputs": []
    },
    {
      "cell_type": "code",
      "metadata": {
        "collapsed": true,
        "id": "BYycN2v2ARUK"
      },
      "source": [
        ""
      ],
      "execution_count": null,
      "outputs": []
    },
    {
      "cell_type": "code",
      "metadata": {
        "collapsed": true,
        "id": "gSOOgDDYARUK"
      },
      "source": [
        ""
      ],
      "execution_count": null,
      "outputs": []
    },
    {
      "cell_type": "code",
      "metadata": {
        "collapsed": true,
        "id": "XWBWYdq0ARUL"
      },
      "source": [
        ""
      ],
      "execution_count": null,
      "outputs": []
    }
  ]
}