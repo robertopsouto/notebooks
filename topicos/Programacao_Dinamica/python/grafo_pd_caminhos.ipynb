{
  "nbformat": 4,
  "nbformat_minor": 0,
  "metadata": {
    "kernelspec": {
      "display_name": "Python 3",
      "language": "python",
      "name": "python3"
    },
    "language_info": {
      "codemirror_mode": {
        "name": "ipython",
        "version": 3
      },
      "file_extension": ".py",
      "mimetype": "text/x-python",
      "name": "python",
      "nbconvert_exporter": "python",
      "pygments_lexer": "ipython3",
      "version": "3.7.7"
    },
    "colab": {
      "name": "grafo_pd_caminhos.ipynb",
      "provenance": [],
      "include_colab_link": true
    }
  },
  "cells": [
    {
      "cell_type": "markdown",
      "metadata": {
        "id": "view-in-github",
        "colab_type": "text"
      },
      "source": [
        "<a href=\"https://colab.research.google.com/github/robertopsouto/notebooks/blob/ga-026_2021-4/topicos/Programacao_Dinamica/python/grafo_pd_caminhos.ipynb\" target=\"_parent\"><img src=\"https://colab.research.google.com/assets/colab-badge.svg\" alt=\"Open In Colab\"/></a>"
      ]
    },
    {
      "cell_type": "markdown",
      "metadata": {
        "id": "hxb3eQe79KzC"
      },
      "source": [
        "# Programação Dinâmica\n",
        "## Caminhos confiáveis mínimos"
      ]
    },
    {
      "cell_type": "code",
      "metadata": {
        "id": "gVnacAs_9KzF"
      },
      "source": [
        "from graphviz import Digraph\n",
        "# Create Digraph object\n",
        "dot = Digraph()"
      ],
      "execution_count": null,
      "outputs": []
    },
    {
      "cell_type": "code",
      "metadata": {
        "id": "i2qk6yjf9KzH"
      },
      "source": [
        "# Add nodes 1 and 2\n",
        "dot.node('s')\n",
        "dot.node('2')\n",
        "dot.node('3')\n",
        "dot.node('4')\n",
        "dot.node('5')\n",
        "dot.node('6')\n",
        "dot.node('7')\n",
        "dot.node('v')\n",
        "\n",
        "# Add edge between 1 and 2\n",
        "dot.edges(['s2','23','34','45','56','67','7v'])"
      ],
      "execution_count": null,
      "outputs": []
    },
    {
      "cell_type": "code",
      "metadata": {
        "id": "7v-AuSKj9KzH"
      },
      "source": [
        "dotk1=dot"
      ],
      "execution_count": null,
      "outputs": []
    },
    {
      "cell_type": "code",
      "metadata": {
        "id": "6LHgNMXf9KzI"
      },
      "source": [
        "dotk1.edges(['sv'])"
      ],
      "execution_count": null,
      "outputs": []
    },
    {
      "cell_type": "code",
      "metadata": {
        "id": "qH5OrODK9KzI"
      },
      "source": [
        "# Visualize the graph\n",
        "dotk1"
      ],
      "execution_count": null,
      "outputs": []
    },
    {
      "cell_type": "markdown",
      "metadata": {
        "id": "L714-hl-9KzJ"
      },
      "source": [
        "## Caminho mı́nimo de $s$ até $v$ que use no máximo $k=1$ arestas"
      ]
    },
    {
      "cell_type": "markdown",
      "metadata": {
        "id": "DhnKAtNh9KzK"
      },
      "source": [
        "# $$\\operatorname{dist}(v, 1)=\\ell(s, v)$$"
      ]
    },
    {
      "cell_type": "code",
      "metadata": {
        "id": "auePQw8_9KzL"
      },
      "source": [
        "dotk2=dot"
      ],
      "execution_count": null,
      "outputs": []
    },
    {
      "cell_type": "code",
      "metadata": {
        "id": "E2xaQnCz9KzL"
      },
      "source": [
        "dotk2.edges(['2v','3v','4v','5v','6v'])"
      ],
      "execution_count": null,
      "outputs": []
    },
    {
      "cell_type": "code",
      "metadata": {
        "id": "DHZKhm729KzM"
      },
      "source": [
        "dotk2.edges(['s3','s4','s5','s6','s7'])"
      ],
      "execution_count": null,
      "outputs": []
    },
    {
      "cell_type": "code",
      "metadata": {
        "id": "iOqIjSq-9KzM"
      },
      "source": [
        "# Visualize the graph\n",
        "dotk2"
      ],
      "execution_count": null,
      "outputs": []
    },
    {
      "cell_type": "markdown",
      "metadata": {
        "id": "Dc2gO7AM9KzN"
      },
      "source": [
        "## Caminho mı́nimo de $s$ até $v$ que use no máximo $k=2$ arestas"
      ]
    },
    {
      "cell_type": "markdown",
      "metadata": {
        "id": "QAYMm6Eb9KzN"
      },
      "source": [
        "# $$\\operatorname{dist}(v, 2)=\\min _{(u, v) \\in E}\\{\\operatorname{dist}(u, 1)+\\ell(u, v)\\}$$"
      ]
    },
    {
      "cell_type": "markdown",
      "metadata": {
        "id": "gUhk2ity9KzN"
      },
      "source": [
        "## Caminho mı́nimo de $s$ até $v$ que use no máximo $k=i$ arestas"
      ]
    },
    {
      "cell_type": "markdown",
      "metadata": {
        "id": "8gpODeMY9KzO"
      },
      "source": [
        "# $$\\operatorname{dist}(v, i)=\\min _{(u, v) \\in E}\\{\\operatorname{dist}(u, i-1)+\\ell(u, v)\\}$$"
      ]
    }
  ]
}