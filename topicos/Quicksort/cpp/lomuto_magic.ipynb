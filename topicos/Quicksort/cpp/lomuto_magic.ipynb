{
  "nbformat": 4,
  "nbformat_minor": 0,
  "metadata": {
    "kernelspec": {
      "name": "python3",
      "display_name": "Python 3"
    },
    "colab": {
      "name": "lomuto.ipynb",
      "provenance": [],
      "include_colab_link": true
    },
    "language_info": {
      "name": "python"
    }
  },
  "cells": [
    {
      "cell_type": "markdown",
      "metadata": {
        "id": "view-in-github",
        "colab_type": "text"
      },
      "source": [
        "<a href=\"https://colab.research.google.com/github/robertopsouto/notebooks/blob/ga-026_2021-4/topicos/Quicksort/cpp/lomuto_magic.ipynb\" target=\"_parent\"><img src=\"https://colab.research.google.com/assets/colab-badge.svg\" alt=\"Open In Colab\"/></a>"
      ]
    },
    {
      "cell_type": "markdown",
      "metadata": {
        "id": "7e6aUYKqre4E"
      },
      "source": [
        "# GA-026 Algoritmo\n",
        "## Ordenação Quicksort\n",
        "## Particionamento Hoare vs. Lomuto\n",
        "FONTE: https://dlang.org/blog/2020/05/14/lomutos-comeback/"
      ]
    },
    {
      "cell_type": "code",
      "metadata": {
        "id": "7NNAss2IolcT"
      },
      "source": [
        "%lsmagic"
      ],
      "execution_count": null,
      "outputs": []
    },
    {
      "cell_type": "code",
      "metadata": {
        "id": "qdKrXv0gMQ9H"
      },
      "source": [
        "%%writefile lomuto.cpp\n",
        "\n",
        "#include <cassert>\n",
        "#include <ctime>\n",
        "#include <cstdio>\n",
        "#include <cstdlib>\n",
        "#include <cstddef>\n",
        "#include <vector>\n",
        "#include <random>\n",
        "#include <algorithm>\n",
        "\n",
        "using std::swap;\n",
        "\n",
        "using TYPE = long;\n",
        "static const size_t SORT_THRESHOLD = 16;\n",
        "\n",
        "/**\n",
        "Partitions the range [first, last) around a pivot chosen as the minimum of\n",
        "first[0] and last[-1]. Uses the Hoare partition algorithm.\n",
        "Returns: a pointer to the new position of the pivot.\n",
        "*/\n",
        "long* hoare_partition(long* first, long* last) {\n",
        "    assert(first <= last);\n",
        "    if (last - first < 2)\n",
        "        return first; // nothing interesting to do\n",
        "    --last;\n",
        "    if (*first > *last)\n",
        "        swap(*first, *last);\n",
        "    auto pivot_pos = first;\n",
        "    auto pivot = *pivot_pos;\n",
        "    for (;;) {\n",
        "        ++first;\n",
        "        auto f = *first;\n",
        "        while (f < pivot)\n",
        "            f = *++first;\n",
        "        auto l = *last;\n",
        "        while (pivot < l)\n",
        "            l = *--last;\n",
        "        if (first >= last)\n",
        "            break;\n",
        "        *first = l;\n",
        "        *last = f;\n",
        "        --last;\n",
        "    }\n",
        "    --first;\n",
        "    swap(*first, *pivot_pos);\n",
        "    return first;\n",
        "}\n",
        "\n",
        "/**\n",
        "Partitions the range [first, last) around a pivot chosen as the minimum of\n",
        "first[0] and last[-1]. Uses the Lomuto partition algorithm.\n",
        "Returns: a pointer to the new position of the pivot.\n",
        "*/\n",
        "long* lomuto_partition(long* first, long* last) {\n",
        "    assert(first <= last);\n",
        "    if (last - first < 2)\n",
        "        return first; // nothing interesting to do\n",
        "    // Choose pivot.\n",
        "    --last;\n",
        "    if (*first > *last)\n",
        "        swap(*first, *last);\n",
        "    auto pivot_pos = first;\n",
        "    auto pivot = *first;\n",
        "    // Prelude: position first (aka the write head) right on the first larger element.\n",
        "    do {\n",
        "        ++first;\n",
        "    } while (*first < pivot);\n",
        "    assert(first <= last);\n",
        "    // Main loop.\n",
        "    for (auto read = first + 1; read < last; ++read) {\n",
        "        auto x = *read;\n",
        "        if (x < pivot) {\n",
        "            *read = *first;\n",
        "            *first = x;\n",
        "            ++first;\n",
        "        }\n",
        "    }\n",
        "    // Move the pivot to its final slot.\n",
        "    assert(*first >= pivot);\n",
        "    --first;\n",
        "    *pivot_pos = *first;\n",
        "    *first = pivot;\n",
        "    return first;\n",
        "}\n",
        "\n",
        "/**\n",
        "Partitions the range [first, last) around a pivot chosen as the minimum of\n",
        "first[0] and last[-1]. Uses the Lomuto partition algorithm, branch-free.\n",
        "Returns: a pointer to the new position of the pivot.\n",
        "*/\n",
        "long* lomuto_partition_branchfree(long* first, long* last) {\n",
        "    assert(first <= last);\n",
        "    if (last - first < 2)\n",
        "        return first; // nothing interesting to do\n",
        "    // Choose pivot.\n",
        "    --last;\n",
        "    if (*first > *last)\n",
        "        swap(*first, *last);\n",
        "    auto pivot_pos = first;\n",
        "    auto pivot = *first;\n",
        "    // Prelude.\n",
        "    do {\n",
        "        ++first;\n",
        "        assert(first <= last);\n",
        "    } while (*first < pivot);\n",
        "    // Main loop.\n",
        "    for (auto read = first + 1; read < last; ++read) {\n",
        "        auto x = *read;\n",
        "        auto less = -int(x < pivot);\n",
        "        auto delta = less & (read - first);\n",
        "        first[delta] = *first;\n",
        "        read[-delta] = x;\n",
        "        first -= less;\n",
        "    }\n",
        "    // Move the pivot to its final slot.\n",
        "    assert(*first >= pivot);\n",
        "    --first;\n",
        "    *pivot_pos = *first;\n",
        "    *first = pivot;\n",
        "    return first;\n",
        "}\n",
        "\n",
        "/**\n",
        "Inserts *last into the range to its left, assumed to be sorted and have at\n",
        "least one element smaller than *last.\n",
        "*/\n",
        "template<typename It>\n",
        "void unguarded_linear_insert(It last) {\n",
        "    auto val = *last;\n",
        "    --last;\n",
        "    auto x = *last;\n",
        "    if (val >= x)\n",
        "        return;\n",
        "    for (;;) {\n",
        "        last[1] = x;\n",
        "        --last;\n",
        "        x = *last;\n",
        "        if (val >= x)\n",
        "            break;\n",
        "    }\n",
        "    last[1] = val;\n",
        "}\n",
        "\n",
        "/**\n",
        "Sorts [first, last) using insertion sort.\n",
        "*/\n",
        "template<typename It>\n",
        "void insertion_sort(It first, It last) {\n",
        "    assert(first <= last);\n",
        "    for (auto i = first + 1; i < last; ++i) {\n",
        "        auto val = *i;\n",
        "\t    if (val < *first) {\n",
        "            size_t n = i - first - 1;\n",
        "            do {\n",
        "                first[n + 1] = first[n];\n",
        "            }\n",
        "            while (n--);\n",
        "\t        *first = val;\n",
        "\t    }\n",
        "\t    else\n",
        "\t        unguarded_linear_insert(i);\n",
        "\t}\n",
        "}\n",
        "\n",
        "/**\n",
        "Sorts [first, last) using quicksort and insertion sort for short subarrays.\n",
        "*/\n",
        "template <class It>\n",
        "void sort(It first, It last) {\n",
        "    while (last - first > size_t(SORT_THRESHOLD)) {\n",
        "#if defined(LOMUTO_BRANCHY)\n",
        "\t    auto cut = lomuto_partition(first, last);\n",
        "#elif defined(LOMUTO)\n",
        "\t    auto cut = lomuto_partition_branchfree(first, last);\n",
        "#else\n",
        "\t    auto cut = hoare_partition(first, last);\n",
        "#endif\n",
        "        assert(cut >= first);\n",
        "        assert(cut < last);\n",
        "\t    sort(cut + 1, last);\n",
        "\t    last = cut;\n",
        "\t}\n",
        "    insertion_sort(first, last);\n",
        "}\n",
        "\n",
        "/**\n",
        "Returns the difference between two timespecs, in milliseconds.\n",
        "*/\n",
        "double timediff(const timespec& start, const timespec& end) {\n",
        "    return (end.tv_nsec - start.tv_nsec) / double(1e6)\n",
        "        + (end.tv_sec - start.tv_sec) * double(1e3);\n",
        "}\n",
        "\n",
        "/**\n",
        "Verifies that an array has v[i]==i for all i.\n",
        "*/\n",
        "void checkData(std::vector<TYPE>& v) {\n",
        "    for (size_t i = 0; i < v.size(); ++i) {\n",
        "        if (v[i] == i) continue;\n",
        "        fprintf(stderr, \"Array has been corrupted at position %zu.\\n\", i);\n",
        "        abort();\n",
        "    }\n",
        "}\n",
        "\n",
        "int main(int argc, char** argv) {\n",
        "    if (argc < 2) return 1;\n",
        "    const size_t length = atol(argv[1]);\n",
        "    if (length == 0) return 2;\n",
        "    const size_t repeats = 50000000 / length;\n",
        "    std::vector<double> times(repeats);\n",
        "    timespec start, end;\n",
        "    double totalTime = 0, minTime = std::numeric_limits<double>::max();\n",
        "    std::mt19937 g(1942);\n",
        "    std::vector<TYPE> v(length);\n",
        "    \n",
        "    for (size_t i = 0; i < v.size(); ++i) v[i] = i;\n",
        "\n",
        "    for (size_t i = 0; i < repeats; ++i) {\n",
        "        std::shuffle(v.begin(), v.end(), g);\n",
        "        clock_gettime(CLOCK_PROCESS_CPUTIME_ID, &start);\n",
        "#if defined(STDSORT)\n",
        "        std::sort(&v.front(), 1 + &v.back());\n",
        "#else\n",
        "        sort(&v.front(), 1 + &v.back());\n",
        "#endif\n",
        "        clock_gettime(CLOCK_PROCESS_CPUTIME_ID, &end);\n",
        "        // Make sure everything is correct\n",
        "        checkData(v);\n",
        "        // Bookkeeping\n",
        "        auto t = timediff(start, end);\n",
        "        times[i] = t;\n",
        "        if (t < minTime) {\n",
        "            minTime = t;\n",
        "        }\n",
        "        totalTime += t;\n",
        "    }\n",
        "\n",
        "    std::sort(times.begin(), times.end());\n",
        "    printf(\"min_milliseconds=%.4f\\n\", minTime);\n",
        "    printf(\"median_milliseconds=%.4f\\n\", times[times.size() / 2]);\n",
        "}"
      ],
      "execution_count": null,
      "outputs": []
    },
    {
      "cell_type": "code",
      "metadata": {
        "id": "qwngd-vfpIid"
      },
      "source": [
        "!ls"
      ],
      "execution_count": null,
      "outputs": []
    },
    {
      "cell_type": "markdown",
      "metadata": {
        "id": "JNYzpkgcMQ9H"
      },
      "source": [
        "### std::sort baseline"
      ]
    },
    {
      "cell_type": "code",
      "metadata": {
        "id": "R_dErf0Lprua"
      },
      "source": [
        "%%sh\n",
        "g++ -std=c++17 -O3 -DNDEBUG -DSTDSORT lomuto.cpp -o qsort_std\n",
        "./qsort_std 10000"
      ],
      "execution_count": null,
      "outputs": []
    },
    {
      "cell_type": "markdown",
      "metadata": {
        "id": "pnW0O7NKMQ9J"
      },
      "source": [
        "### Hoare partition"
      ]
    },
    {
      "cell_type": "code",
      "metadata": {
        "id": "K3t8NajMMQ9K"
      },
      "source": [
        "%%sh\n",
        "g++ -std=c++17 -O3 -DNDEBUG lomuto.cpp -o qsort_hoare\n",
        "./qsort_hoare 10000"
      ],
      "execution_count": null,
      "outputs": []
    },
    {
      "cell_type": "markdown",
      "metadata": {
        "id": "ocGjEzh-MQ9K"
      },
      "source": [
        "### Lomuto partition, traditional implementation"
      ]
    },
    {
      "cell_type": "code",
      "metadata": {
        "id": "76pCVRsVMQ9K"
      },
      "source": [
        "%%sh\n",
        "g++ -std=c++17 -O3 -DNDEBUG -DLOMUTO_BRANCHY lomuto.cpp -o qsort_lomuto\n",
        "./qsort_lomuto 10000"
      ],
      "execution_count": null,
      "outputs": []
    },
    {
      "cell_type": "markdown",
      "metadata": {
        "id": "W-JPBtW5MQ9L"
      },
      "source": [
        "### Lomuto partition, branch-free implementation"
      ]
    },
    {
      "cell_type": "code",
      "metadata": {
        "id": "Ok6j6hIeMQ9L"
      },
      "source": [
        "%%sh\n",
        "g++ -std=c++17 -O3 -DNDEBUG -DLOMUTO lomuto.cpp -o qsort_lomuto_branchfree\n",
        "./qsort_lomuto_branchfree 10000"
      ],
      "execution_count": null,
      "outputs": []
    }
  ]
}