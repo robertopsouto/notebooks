{
  "nbformat": 4,
  "nbformat_minor": 0,
  "metadata": {
    "kernelspec": {
      "name": "python3",
      "display_name": "Python 3"
    },
    "colab": {
      "name": "lomuto.ipynb",
      "provenance": [],
      "include_colab_link": true
    },
    "language_info": {
      "name": "python"
    }
  },
  "cells": [
    {
      "cell_type": "markdown",
      "metadata": {
        "id": "view-in-github",
        "colab_type": "text"
      },
      "source": [
        "<a href=\"https://colab.research.google.com/github/robertopsouto/notebooks/blob/ga-026_2021-4/topicos/Quicksort/cpp/lomuto_magic.ipynb\" target=\"_parent\"><img src=\"https://colab.research.google.com/assets/colab-badge.svg\" alt=\"Open In Colab\"/></a>"
      ]
    },
    {
      "cell_type": "code",
      "metadata": {
        "id": "7NNAss2IolcT",
        "outputId": "ff9abcaf-5dbe-4e39-fb8d-669b0e9a4b63",
        "colab": {
          "base_uri": "https://localhost:8080/",
          "height": 154
        }
      },
      "source": [
        "%lsmagic"
      ],
      "execution_count": 1,
      "outputs": [
        {
          "output_type": "execute_result",
          "data": {
            "application/json": {
              "cell": {
                "prun": "ExecutionMagics",
                "file": "Other",
                "!": "OSMagics",
                "capture": "ExecutionMagics",
                "timeit": "ExecutionMagics",
                "script": "ScriptMagics",
                "pypy": "Other",
                "system": "OSMagics",
                "perl": "Other",
                "html": "DisplayMagics",
                "bash": "Other",
                "shell": "Other",
                "HTML": "Other",
                "python": "Other",
                "SVG": "Other",
                "javascript": "DisplayMagics",
                "bigquery": "Other",
                "js": "DisplayMagics",
                "writefile": "OSMagics",
                "ruby": "Other",
                "python3": "Other",
                "python2": "Other",
                "latex": "DisplayMagics",
                "sx": "OSMagics",
                "svg": "DisplayMagics",
                "sh": "Other",
                "time": "ExecutionMagics",
                "debug": "ExecutionMagics"
              },
              "line": {
                "psource": "NamespaceMagics",
                "logstart": "LoggingMagics",
                "popd": "OSMagics",
                "tensorflow_version": "Other",
                "loadpy": "CodeMagics",
                "colors": "BasicMagics",
                "who_ls": "NamespaceMagics",
                "lf": "Other",
                "ll": "Other",
                "pprint": "BasicMagics",
                "lk": "Other",
                "ls": "Other",
                "save": "CodeMagics",
                "tb": "ExecutionMagics",
                "lx": "Other",
                "pylab": "PylabMagics",
                "killbgscripts": "ScriptMagics",
                "quickref": "BasicMagics",
                "magic": "BasicMagics",
                "dhist": "OSMagics",
                "edit": "KernelMagics",
                "logstop": "LoggingMagics",
                "gui": "BasicMagics",
                "prun": "ExecutionMagics",
                "debug": "ExecutionMagics",
                "page": "BasicMagics",
                "logstate": "LoggingMagics",
                "ed": "Other",
                "pushd": "OSMagics",
                "timeit": "ExecutionMagics",
                "set_env": "OSMagics",
                "rehashx": "OSMagics",
                "hist": "Other",
                "qtconsole": "KernelMagics",
                "rm": "Other",
                "dirs": "OSMagics",
                "run": "ExecutionMagics",
                "reset_selective": "NamespaceMagics",
                "pinfo2": "NamespaceMagics",
                "matplotlib": "PylabMagics",
                "unload_ext": "ExtensionMagics",
                "doctest_mode": "BasicMagics",
                "logoff": "LoggingMagics",
                "reload_ext": "ExtensionMagics",
                "pdb": "ExecutionMagics",
                "load": "CodeMagics",
                "lsmagic": "BasicMagics",
                "autosave": "KernelMagics",
                "cd": "OSMagics",
                "pastebin": "CodeMagics",
                "alias_magic": "BasicMagics",
                "cp": "Other",
                "autocall": "AutoMagics",
                "ldir": "Other",
                "bookmark": "OSMagics",
                "connect_info": "KernelMagics",
                "mkdir": "Other",
                "system": "OSMagics",
                "whos": "NamespaceMagics",
                "rmdir": "Other",
                "automagic": "AutoMagics",
                "store": "StoreMagics",
                "more": "KernelMagics",
                "shell": "Other",
                "pdef": "NamespaceMagics",
                "precision": "BasicMagics",
                "pinfo": "NamespaceMagics",
                "pwd": "OSMagics",
                "psearch": "NamespaceMagics",
                "reset": "NamespaceMagics",
                "recall": "HistoryMagics",
                "xdel": "NamespaceMagics",
                "xmode": "BasicMagics",
                "cat": "Other",
                "mv": "Other",
                "rerun": "HistoryMagics",
                "logon": "LoggingMagics",
                "history": "HistoryMagics",
                "pycat": "OSMagics",
                "pip": "Other",
                "unalias": "OSMagics",
                "env": "OSMagics",
                "load_ext": "ExtensionMagics",
                "config": "ConfigMagics",
                "profile": "BasicMagics",
                "pfile": "NamespaceMagics",
                "less": "KernelMagics",
                "who": "NamespaceMagics",
                "notebook": "BasicMagics",
                "man": "KernelMagics",
                "sx": "OSMagics",
                "macro": "ExecutionMagics",
                "clear": "KernelMagics",
                "alias": "OSMagics",
                "time": "ExecutionMagics",
                "sc": "OSMagics",
                "rep": "Other",
                "pdoc": "NamespaceMagics"
              }
            },
            "text/plain": [
              "Available line magics:\n",
              "%alias  %alias_magic  %autocall  %automagic  %autosave  %bookmark  %cat  %cd  %clear  %colors  %config  %connect_info  %cp  %debug  %dhist  %dirs  %doctest_mode  %ed  %edit  %env  %gui  %hist  %history  %killbgscripts  %ldir  %less  %lf  %lk  %ll  %load  %load_ext  %loadpy  %logoff  %logon  %logstart  %logstate  %logstop  %ls  %lsmagic  %lx  %macro  %magic  %man  %matplotlib  %mkdir  %more  %mv  %notebook  %page  %pastebin  %pdb  %pdef  %pdoc  %pfile  %pinfo  %pinfo2  %pip  %popd  %pprint  %precision  %profile  %prun  %psearch  %psource  %pushd  %pwd  %pycat  %pylab  %qtconsole  %quickref  %recall  %rehashx  %reload_ext  %rep  %rerun  %reset  %reset_selective  %rm  %rmdir  %run  %save  %sc  %set_env  %shell  %store  %sx  %system  %tb  %tensorflow_version  %time  %timeit  %unalias  %unload_ext  %who  %who_ls  %whos  %xdel  %xmode\n",
              "\n",
              "Available cell magics:\n",
              "%%!  %%HTML  %%SVG  %%bash  %%bigquery  %%capture  %%debug  %%file  %%html  %%javascript  %%js  %%latex  %%perl  %%prun  %%pypy  %%python  %%python2  %%python3  %%ruby  %%script  %%sh  %%shell  %%svg  %%sx  %%system  %%time  %%timeit  %%writefile\n",
              "\n",
              "Automagic is ON, % prefix IS NOT needed for line magics."
            ]
          },
          "metadata": {},
          "execution_count": 1
        }
      ]
    },
    {
      "cell_type": "code",
      "metadata": {
        "id": "qdKrXv0gMQ9H",
        "outputId": "75c3895f-2145-4437-b849-50b28972cfbd",
        "colab": {
          "base_uri": "https://localhost:8080/"
        }
      },
      "source": [
        "%%writefile lomuto.cpp\n",
        "\n",
        "#include <cassert>\n",
        "#include <ctime>\n",
        "#include <cstdio>\n",
        "#include <cstdlib>\n",
        "#include <cstddef>\n",
        "#include <vector>\n",
        "#include <random>\n",
        "#include <algorithm>\n",
        "\n",
        "using std::swap;\n",
        "\n",
        "using TYPE = long;\n",
        "static const size_t SORT_THRESHOLD = 16;\n",
        "\n",
        "/**\n",
        "Partitions the range [first, last) around a pivot chosen as the minimum of\n",
        "first[0] and last[-1]. Uses the Hoare partition algorithm.\n",
        "Returns: a pointer to the new position of the pivot.\n",
        "*/\n",
        "long* hoare_partition(long* first, long* last) {\n",
        "    assert(first <= last);\n",
        "    if (last - first < 2)\n",
        "        return first; // nothing interesting to do\n",
        "    --last;\n",
        "    if (*first > *last)\n",
        "        swap(*first, *last);\n",
        "    auto pivot_pos = first;\n",
        "    auto pivot = *pivot_pos;\n",
        "    for (;;) {\n",
        "        ++first;\n",
        "        auto f = *first;\n",
        "        while (f < pivot)\n",
        "            f = *++first;\n",
        "        auto l = *last;\n",
        "        while (pivot < l)\n",
        "            l = *--last;\n",
        "        if (first >= last)\n",
        "            break;\n",
        "        *first = l;\n",
        "        *last = f;\n",
        "        --last;\n",
        "    }\n",
        "    --first;\n",
        "    swap(*first, *pivot_pos);\n",
        "    return first;\n",
        "}\n",
        "\n",
        "/**\n",
        "Partitions the range [first, last) around a pivot chosen as the minimum of\n",
        "first[0] and last[-1]. Uses the Lomuto partition algorithm.\n",
        "Returns: a pointer to the new position of the pivot.\n",
        "*/\n",
        "long* lomuto_partition(long* first, long* last) {\n",
        "    assert(first <= last);\n",
        "    if (last - first < 2)\n",
        "        return first; // nothing interesting to do\n",
        "    // Choose pivot.\n",
        "    --last;\n",
        "    if (*first > *last)\n",
        "        swap(*first, *last);\n",
        "    auto pivot_pos = first;\n",
        "    auto pivot = *first;\n",
        "    // Prelude: position first (aka the write head) right on the first larger element.\n",
        "    do {\n",
        "        ++first;\n",
        "    } while (*first < pivot);\n",
        "    assert(first <= last);\n",
        "    // Main loop.\n",
        "    for (auto read = first + 1; read < last; ++read) {\n",
        "        auto x = *read;\n",
        "        if (x < pivot) {\n",
        "            *read = *first;\n",
        "            *first = x;\n",
        "            ++first;\n",
        "        }\n",
        "    }\n",
        "    // Move the pivot to its final slot.\n",
        "    assert(*first >= pivot);\n",
        "    --first;\n",
        "    *pivot_pos = *first;\n",
        "    *first = pivot;\n",
        "    return first;\n",
        "}\n",
        "\n",
        "/**\n",
        "Partitions the range [first, last) around a pivot chosen as the minimum of\n",
        "first[0] and last[-1]. Uses the Lomuto partition algorithm, branch-free.\n",
        "Returns: a pointer to the new position of the pivot.\n",
        "*/\n",
        "long* lomuto_partition_branchfree(long* first, long* last) {\n",
        "    assert(first <= last);\n",
        "    if (last - first < 2)\n",
        "        return first; // nothing interesting to do\n",
        "    // Choose pivot.\n",
        "    --last;\n",
        "    if (*first > *last)\n",
        "        swap(*first, *last);\n",
        "    auto pivot_pos = first;\n",
        "    auto pivot = *first;\n",
        "    // Prelude.\n",
        "    do {\n",
        "        ++first;\n",
        "        assert(first <= last);\n",
        "    } while (*first < pivot);\n",
        "    // Main loop.\n",
        "    for (auto read = first + 1; read < last; ++read) {\n",
        "        auto x = *read;\n",
        "        auto less = -int(x < pivot);\n",
        "        auto delta = less & (read - first);\n",
        "        first[delta] = *first;\n",
        "        read[-delta] = x;\n",
        "        first -= less;\n",
        "    }\n",
        "    // Move the pivot to its final slot.\n",
        "    assert(*first >= pivot);\n",
        "    --first;\n",
        "    *pivot_pos = *first;\n",
        "    *first = pivot;\n",
        "    return first;\n",
        "}\n",
        "\n",
        "/**\n",
        "Inserts *last into the range to its left, assumed to be sorted and have at\n",
        "least one element smaller than *last.\n",
        "*/\n",
        "template<typename It>\n",
        "void unguarded_linear_insert(It last) {\n",
        "    auto val = *last;\n",
        "    --last;\n",
        "    auto x = *last;\n",
        "    if (val >= x)\n",
        "        return;\n",
        "    for (;;) {\n",
        "        last[1] = x;\n",
        "        --last;\n",
        "        x = *last;\n",
        "        if (val >= x)\n",
        "            break;\n",
        "    }\n",
        "    last[1] = val;\n",
        "}\n",
        "\n",
        "/**\n",
        "Sorts [first, last) using insertion sort.\n",
        "*/\n",
        "template<typename It>\n",
        "void insertion_sort(It first, It last) {\n",
        "    assert(first <= last);\n",
        "    for (auto i = first + 1; i < last; ++i) {\n",
        "        auto val = *i;\n",
        "\t    if (val < *first) {\n",
        "            size_t n = i - first - 1;\n",
        "            do {\n",
        "                first[n + 1] = first[n];\n",
        "            }\n",
        "            while (n--);\n",
        "\t        *first = val;\n",
        "\t    }\n",
        "\t    else\n",
        "\t        unguarded_linear_insert(i);\n",
        "\t}\n",
        "}\n",
        "\n",
        "/**\n",
        "Sorts [first, last) using quicksort and insertion sort for short subarrays.\n",
        "*/\n",
        "template <class It>\n",
        "void sort(It first, It last) {\n",
        "    while (last - first > size_t(SORT_THRESHOLD)) {\n",
        "#if defined(LOMUTO_BRANCHY)\n",
        "\t    auto cut = lomuto_partition(first, last);\n",
        "#elif defined(LOMUTO)\n",
        "\t    auto cut = lomuto_partition_branchfree(first, last);\n",
        "#else\n",
        "\t    auto cut = hoare_partition(first, last);\n",
        "#endif\n",
        "        assert(cut >= first);\n",
        "        assert(cut < last);\n",
        "\t    sort(cut + 1, last);\n",
        "\t    last = cut;\n",
        "\t}\n",
        "    insertion_sort(first, last);\n",
        "}\n",
        "\n",
        "/**\n",
        "Returns the difference between two timespecs, in milliseconds.\n",
        "*/\n",
        "double timediff(const timespec& start, const timespec& end) {\n",
        "    return (end.tv_nsec - start.tv_nsec) / double(1e6)\n",
        "        + (end.tv_sec - start.tv_sec) * double(1e3);\n",
        "}\n",
        "\n",
        "/**\n",
        "Verifies that an array has v[i]==i for all i.\n",
        "*/\n",
        "void checkData(std::vector<TYPE>& v) {\n",
        "    for (size_t i = 0; i < v.size(); ++i) {\n",
        "        if (v[i] == i) continue;\n",
        "        fprintf(stderr, \"Array has been corrupted at position %zu.\\n\", i);\n",
        "        abort();\n",
        "    }\n",
        "}\n",
        "\n",
        "int main(int argc, char** argv) {\n",
        "    if (argc < 2) return 1;\n",
        "    const size_t length = atol(argv[1]);\n",
        "    if (length == 0) return 2;\n",
        "    const size_t repeats = 50000000 / length;\n",
        "    std::vector<double> times(repeats);\n",
        "    timespec start, end;\n",
        "    double totalTime = 0, minTime = std::numeric_limits<double>::max();\n",
        "    std::mt19937 g(1942);\n",
        "    std::vector<TYPE> v(length);\n",
        "    \n",
        "    for (size_t i = 0; i < v.size(); ++i) v[i] = i;\n",
        "\n",
        "    for (size_t i = 0; i < repeats; ++i) {\n",
        "        std::shuffle(v.begin(), v.end(), g);\n",
        "        clock_gettime(CLOCK_PROCESS_CPUTIME_ID, &start);\n",
        "#if defined(STDSORT)\n",
        "        std::sort(&v.front(), 1 + &v.back());\n",
        "#else\n",
        "        sort(&v.front(), 1 + &v.back());\n",
        "#endif\n",
        "        clock_gettime(CLOCK_PROCESS_CPUTIME_ID, &end);\n",
        "        // Make sure everything is correct\n",
        "        checkData(v);\n",
        "        // Bookkeeping\n",
        "        auto t = timediff(start, end);\n",
        "        times[i] = t;\n",
        "        if (t < minTime) {\n",
        "            minTime = t;\n",
        "        }\n",
        "        totalTime += t;\n",
        "    }\n",
        "\n",
        "    std::sort(times.begin(), times.end());\n",
        "    printf(\"min_milliseconds=%.4f\\n\", minTime);\n",
        "    printf(\"median_milliseconds=%.4f\\n\", times[times.size() / 2]);\n",
        "}"
      ],
      "execution_count": 3,
      "outputs": [
        {
          "output_type": "stream",
          "name": "stdout",
          "text": [
            "Writing lomuto.cpp\n"
          ]
        }
      ]
    },
    {
      "cell_type": "code",
      "metadata": {
        "id": "qwngd-vfpIid",
        "outputId": "d264085c-f7dd-4ad1-879c-446c08af47af",
        "colab": {
          "base_uri": "https://localhost:8080/"
        }
      },
      "source": [
        "!ls"
      ],
      "execution_count": 4,
      "outputs": [
        {
          "output_type": "stream",
          "name": "stdout",
          "text": [
            "lomuto.cpp  sample_data\n"
          ]
        }
      ]
    },
    {
      "cell_type": "markdown",
      "metadata": {
        "id": "JNYzpkgcMQ9H"
      },
      "source": [
        "### std::sort baseline"
      ]
    },
    {
      "cell_type": "code",
      "metadata": {
        "id": "6rbwf-wlMQ9I"
      },
      "source": [
        "!g++ -std=c++17 -O3 -DNDEBUG -DSTDSORT lomuto.cpp -o qsort_std"
      ],
      "execution_count": 5,
      "outputs": []
    },
    {
      "cell_type": "code",
      "metadata": {
        "id": "vMnR88Q0MQ9I",
        "outputId": "b6170388-a8a7-4ed0-da9a-65a7b15ef021",
        "colab": {
          "base_uri": "https://localhost:8080/"
        }
      },
      "source": [
        "!./qsort_std 10000"
      ],
      "execution_count": 6,
      "outputs": [
        {
          "output_type": "stream",
          "name": "stdout",
          "text": [
            "min_milliseconds=0.5139\n",
            "median_milliseconds=0.5390\n"
          ]
        }
      ]
    },
    {
      "cell_type": "markdown",
      "metadata": {
        "id": "pnW0O7NKMQ9J"
      },
      "source": [
        "### Hoare partition"
      ]
    },
    {
      "cell_type": "code",
      "metadata": {
        "id": "K3t8NajMMQ9K"
      },
      "source": [
        "!g++ -std=c++17 -O3 -DNDEBUG lomuto.cpp -o qsort_hoare"
      ],
      "execution_count": null,
      "outputs": []
    },
    {
      "cell_type": "code",
      "metadata": {
        "id": "X36-Xy5mMQ9K",
        "outputId": "fdd1e365-faa8-4797-e662-470750279c63"
      },
      "source": [
        "!./qsort_hoare 10000"
      ],
      "execution_count": null,
      "outputs": [
        {
          "name": "stdout",
          "output_type": "stream",
          "text": [
            "min_milliseconds=0.3676\n",
            "median_milliseconds=0.3907\n"
          ]
        }
      ]
    },
    {
      "cell_type": "markdown",
      "metadata": {
        "id": "ocGjEzh-MQ9K"
      },
      "source": [
        "### Lomuto partition, traditional implementation"
      ]
    },
    {
      "cell_type": "code",
      "metadata": {
        "id": "76pCVRsVMQ9K"
      },
      "source": [
        "!g++ -std=c++17 -O3 -DNDEBUG -DLOMUTO_BRANCHY lomuto.cpp -o qsort_lomuto"
      ],
      "execution_count": null,
      "outputs": []
    },
    {
      "cell_type": "code",
      "metadata": {
        "id": "3sbYRnIdMQ9L",
        "outputId": "6769ae5c-4b3e-4305-94d6-f71529b13e93"
      },
      "source": [
        "!./qsort_lomuto 10000"
      ],
      "execution_count": null,
      "outputs": [
        {
          "name": "stdout",
          "output_type": "stream",
          "text": [
            "min_milliseconds=0.3835\n",
            "median_milliseconds=0.4173\n"
          ]
        }
      ]
    },
    {
      "cell_type": "markdown",
      "metadata": {
        "id": "W-JPBtW5MQ9L"
      },
      "source": [
        "### Lomuto partition, branch-free implementation"
      ]
    },
    {
      "cell_type": "code",
      "metadata": {
        "id": "Ok6j6hIeMQ9L"
      },
      "source": [
        "!g++ -std=c++17 -O3 -DNDEBUG -DLOMUTO lomuto.cpp -o qsort_lomuto_branchfree"
      ],
      "execution_count": null,
      "outputs": []
    },
    {
      "cell_type": "code",
      "metadata": {
        "id": "kULDmF2tMQ9L",
        "outputId": "50005ee7-d5ee-4e3f-8b08-bfb09e6523dc"
      },
      "source": [
        "!./qsort_lomuto_branchfree 10000"
      ],
      "execution_count": null,
      "outputs": [
        {
          "name": "stdout",
          "output_type": "stream",
          "text": [
            "min_milliseconds=0.2272\n",
            "median_milliseconds=0.2545\n"
          ]
        }
      ]
    },
    {
      "cell_type": "code",
      "metadata": {
        "id": "rrz57apGMQ9L"
      },
      "source": [
        ""
      ],
      "execution_count": null,
      "outputs": []
    }
  ]
}