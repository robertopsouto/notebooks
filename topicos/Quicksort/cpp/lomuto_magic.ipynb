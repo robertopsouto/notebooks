{
  "nbformat": 4,
  "nbformat_minor": 0,
  "metadata": {
    "kernelspec": {
      "display_name": "C++17",
      "language": "C++17",
      "name": "xcpp17"
    },
    "language_info": {
      "codemirror_mode": "text/x-c++src",
      "file_extension": ".cpp",
      "mimetype": "text/x-c++src",
      "name": "c++",
      "version": "17"
    },
    "colab": {
      "name": "lomuto.ipynb",
      "provenance": [],
      "include_colab_link": true
    }
  },
  "cells": [
    {
      "cell_type": "markdown",
      "metadata": {
        "id": "view-in-github",
        "colab_type": "text"
      },
      "source": [
        "<a href=\"https://colab.research.google.com/github/robertopsouto/notebooks/blob/ga-026_2021-4/topicos/Quicksort/cpp/lomuto_magic.ipynb\" target=\"_parent\"><img src=\"https://colab.research.google.com/assets/colab-badge.svg\" alt=\"Open In Colab\"/></a>"
      ]
    },
    {
      "cell_type": "code",
      "metadata": {
        "id": "gb6HkjRLMQ8-"
      },
      "source": [
        "#include <cassert>\n",
        "#include <ctime>\n",
        "#include <cstdio>\n",
        "#include <cstdlib>\n",
        "#include <cstddef>\n",
        "#include <vector>\n",
        "#include <random>\n",
        "#include <algorithm>\n",
        "\n",
        "using std::swap;\n",
        "\n",
        "using TYPE = long;\n",
        "static const size_t SORT_THRESHOLD = 16;"
      ],
      "execution_count": null,
      "outputs": []
    },
    {
      "cell_type": "code",
      "metadata": {
        "id": "AUxdTxzUMQ9B"
      },
      "source": [
        "/**\n",
        "Partitions the range [first, last) around a pivot chosen as the minimum of\n",
        "first[0] and last[-1]. Uses the Hoare partition algorithm.\n",
        "Returns: a pointer to the new position of the pivot.\n",
        "*/\n",
        "long* hoare_partition(long* first, long* last) {\n",
        "    assert(first <= last);\n",
        "    if (last - first < 2)\n",
        "        return first; // nothing interesting to do\n",
        "    --last;\n",
        "    if (*first > *last)\n",
        "        swap(*first, *last);\n",
        "    auto pivot_pos = first;\n",
        "    auto pivot = *pivot_pos;\n",
        "    for (;;) {\n",
        "        ++first;\n",
        "        auto f = *first;\n",
        "        while (f < pivot)\n",
        "            f = *++first;\n",
        "        auto l = *last;\n",
        "        while (pivot < l)\n",
        "            l = *--last;\n",
        "        if (first >= last)\n",
        "            break;\n",
        "        *first = l;\n",
        "        *last = f;\n",
        "        --last;\n",
        "    }\n",
        "    --first;\n",
        "    swap(*first, *pivot_pos);\n",
        "    return first;\n",
        "}"
      ],
      "execution_count": null,
      "outputs": []
    },
    {
      "cell_type": "code",
      "metadata": {
        "id": "LJzL80b1MQ9C"
      },
      "source": [
        "/**\n",
        "Partitions the range [first, last) around a pivot chosen as the minimum of\n",
        "first[0] and last[-1]. Uses the Lomuto partition algorithm.\n",
        "Returns: a pointer to the new position of the pivot.\n",
        "*/\n",
        "long* lomuto_partition(long* first, long* last) {\n",
        "    assert(first <= last);\n",
        "    if (last - first < 2)\n",
        "        return first; // nothing interesting to do\n",
        "    // Choose pivot.\n",
        "    --last;\n",
        "    if (*first > *last)\n",
        "        swap(*first, *last);\n",
        "    auto pivot_pos = first;\n",
        "    auto pivot = *first;\n",
        "    // Prelude: position first (aka the write head) right on the first larger element.\n",
        "    do {\n",
        "        ++first;\n",
        "    } while (*first < pivot);\n",
        "    assert(first <= last);\n",
        "    // Main loop.\n",
        "    for (auto read = first + 1; read < last; ++read) {\n",
        "        auto x = *read;\n",
        "        if (x < pivot) {\n",
        "            *read = *first;\n",
        "            *first = x;\n",
        "            ++first;\n",
        "        }\n",
        "    }\n",
        "    // Move the pivot to its final slot.\n",
        "    assert(*first >= pivot);\n",
        "    --first;\n",
        "    *pivot_pos = *first;\n",
        "    *first = pivot;\n",
        "    return first;\n",
        "}"
      ],
      "execution_count": null,
      "outputs": []
    },
    {
      "cell_type": "code",
      "metadata": {
        "id": "fQLEtF81MQ9C"
      },
      "source": [
        "/**\n",
        "Partitions the range [first, last) around a pivot chosen as the minimum of\n",
        "first[0] and last[-1]. Uses the Lomuto partition algorithm, branch-free.\n",
        "Returns: a pointer to the new position of the pivot.\n",
        "*/\n",
        "long* lomuto_partition_branchfree(long* first, long* last) {\n",
        "    assert(first <= last);\n",
        "    if (last - first < 2)\n",
        "        return first; // nothing interesting to do\n",
        "    // Choose pivot.\n",
        "    --last;\n",
        "    if (*first > *last)\n",
        "        swap(*first, *last);\n",
        "    auto pivot_pos = first;\n",
        "    auto pivot = *first;\n",
        "    // Prelude.\n",
        "    do {\n",
        "        ++first;\n",
        "        assert(first <= last);\n",
        "    } while (*first < pivot);\n",
        "    // Main loop.\n",
        "    for (auto read = first + 1; read < last; ++read) {\n",
        "        auto x = *read;\n",
        "        auto less = -int(x < pivot);\n",
        "        auto delta = less & (read - first);\n",
        "        first[delta] = *first;\n",
        "        read[-delta] = x;\n",
        "        first -= less;\n",
        "    }\n",
        "    // Move the pivot to its final slot.\n",
        "    assert(*first >= pivot);\n",
        "    --first;\n",
        "    *pivot_pos = *first;\n",
        "    *first = pivot;\n",
        "    return first;\n",
        "}"
      ],
      "execution_count": null,
      "outputs": []
    },
    {
      "cell_type": "code",
      "metadata": {
        "id": "umRj1LzdMQ9D"
      },
      "source": [
        "/**\n",
        "Inserts *last into the range to its left, assumed to be sorted and have at\n",
        "least one element smaller than *last.\n",
        "*/\n",
        "template<typename It>\n",
        "void unguarded_linear_insert(It last) {\n",
        "    auto val = *last;\n",
        "    --last;\n",
        "    auto x = *last;\n",
        "    if (val >= x)\n",
        "        return;\n",
        "    for (;;) {\n",
        "        last[1] = x;\n",
        "        --last;\n",
        "        x = *last;\n",
        "        if (val >= x)\n",
        "            break;\n",
        "    }\n",
        "    last[1] = val;\n",
        "}"
      ],
      "execution_count": null,
      "outputs": []
    },
    {
      "cell_type": "code",
      "metadata": {
        "id": "YyBR_ivVMQ9E"
      },
      "source": [
        "/**\n",
        "Sorts [first, last) using insertion sort.\n",
        "*/\n",
        "template<typename It>\n",
        "void insertion_sort(It first, It last) {\n",
        "    assert(first <= last);\n",
        "    for (auto i = first + 1; i < last; ++i) {\n",
        "        auto val = *i;\n",
        "            if (val < *first) {\n",
        "            size_t n = i - first - 1;\n",
        "            do {\n",
        "                first[n + 1] = first[n];\n",
        "            }\n",
        "            while (n--);\n",
        "                *first = val;\n",
        "            }\n",
        "            else\n",
        "                unguarded_linear_insert(i);\n",
        "        }\n",
        "}"
      ],
      "execution_count": null,
      "outputs": []
    },
    {
      "cell_type": "code",
      "metadata": {
        "id": "B3c1c03hMQ9E"
      },
      "source": [
        "/**\n",
        "Sorts [first, last) using quicksort and insertion sort for short subarrays.\n",
        "*/\n",
        "template <class It>\n",
        "void sort(It first, It last) {\n",
        "    while (last - first > size_t(SORT_THRESHOLD)) {\n",
        "#if defined(LOMUTO_BRANCHY)\n",
        "            auto cut = lomuto_partition(first, last);\n",
        "#elif defined(LOMUTO)\n",
        "            auto cut = lomuto_partition_branchfree(first, last);\n",
        "#else\n",
        "            auto cut = hoare_partition(first, last);\n",
        "#endif\n",
        "        assert(cut >= first);\n",
        "        assert(cut < last);\n",
        "            sort(cut + 1, last);\n",
        "            last = cut;\n",
        "        }\n",
        "    insertion_sort(first, last);\n",
        "}"
      ],
      "execution_count": null,
      "outputs": []
    },
    {
      "cell_type": "code",
      "metadata": {
        "id": "qXm8qSp1MQ9F"
      },
      "source": [
        "/**\n",
        "Returns the difference between two timespecs, in milliseconds.\n",
        "*/\n",
        "double timediff(const timespec& start, const timespec& end) {\n",
        "    return (end.tv_nsec - start.tv_nsec) / double(1e6)\n",
        "        + (end.tv_sec - start.tv_sec) * double(1e3);\n",
        "}"
      ],
      "execution_count": null,
      "outputs": []
    },
    {
      "cell_type": "code",
      "metadata": {
        "id": "ZdFN2y2lMQ9F"
      },
      "source": [
        "/**\n",
        "Verifies that an array has v[i]==i for all i.\n",
        "*/\n",
        "void checkData(std::vector<TYPE>& v) {\n",
        "    for (size_t i = 0; i < v.size(); ++i) {\n",
        "        if (v[i] == i) continue;\n",
        "        fprintf(stderr, \"Array has been corrupted at position %zu.\\n\", i);\n",
        "        abort();\n",
        "    }\n",
        "}"
      ],
      "execution_count": null,
      "outputs": []
    },
    {
      "cell_type": "code",
      "metadata": {
        "id": "NksAnc_-MQ9G"
      },
      "source": [
        "    size_t length =  500;\n",
        "    size_t repeats = 5000 / length;\n",
        "    std::vector<double> times(repeats);\n",
        "    timespec start, end;\n",
        "    double totalTime = 0, minTime = std::numeric_limits<double>::max();\n",
        "    std::mt19937 g(1942);\n",
        "    std::vector<TYPE> v(length);"
      ],
      "execution_count": null,
      "outputs": []
    },
    {
      "cell_type": "code",
      "metadata": {
        "id": "uScgE7CLMQ9G"
      },
      "source": [
        "    length =  500;\n",
        "    repeats = 50000 / length;"
      ],
      "execution_count": null,
      "outputs": []
    },
    {
      "cell_type": "code",
      "metadata": {
        "id": "qdKrXv0gMQ9H"
      },
      "source": [
        "    for (size_t i = 0; i < v.size(); ++i) v[i] = i;\n",
        "\n",
        "    for (size_t i = 0; i < repeats; ++i) {\n",
        "        std::shuffle(v.begin(), v.end(), g);\n",
        "        clock_gettime(CLOCK_PROCESS_CPUTIME_ID, &start);\n",
        "#if defined(STDSORT)\n",
        "        std::sort(&v.front(), 1 + &v.back());\n",
        "#else\n",
        "        sort(&v.front(), 1 + &v.back());\n",
        "#endif\n",
        "        clock_gettime(CLOCK_PROCESS_CPUTIME_ID, &end);\n",
        "        // Make sure everything is correct\n",
        "        checkData(v);\n",
        "        // Bookkeeping\n",
        "        auto t = timediff(start, end);\n",
        "        times[i] = t;\n",
        "        if (t < minTime) {\n",
        "            minTime = t;\n",
        "        }\n",
        "        totalTime += t;\n",
        "    }\n",
        "    std::sort(times.begin(), times.end());\n",
        "    printf(\"min_milliseconds=%.4f\\n\", minTime);\n",
        "    printf(\"median_milliseconds=%.4f\\n\", times[times.size() / 2]);\n"
      ],
      "execution_count": null,
      "outputs": []
    },
    {
      "cell_type": "markdown",
      "metadata": {
        "id": "JNYzpkgcMQ9H"
      },
      "source": [
        "### std::sort baseline"
      ]
    },
    {
      "cell_type": "code",
      "metadata": {
        "id": "6rbwf-wlMQ9I"
      },
      "source": [
        "!g++ -std=c++17 -O3 -DNDEBUG -DSTDSORT lomuto.cpp -o qsort_std"
      ],
      "execution_count": null,
      "outputs": []
    },
    {
      "cell_type": "code",
      "metadata": {
        "id": "vMnR88Q0MQ9I",
        "outputId": "63483637-71c0-4aa8-d0fe-2278f5b1ede3"
      },
      "source": [
        "!./qsort_std 10000"
      ],
      "execution_count": null,
      "outputs": [
        {
          "name": "stdout",
          "output_type": "stream",
          "text": [
            "min_milliseconds=0.4239\n",
            "median_milliseconds=0.4602\n"
          ]
        }
      ]
    },
    {
      "cell_type": "markdown",
      "metadata": {
        "id": "pnW0O7NKMQ9J"
      },
      "source": [
        "### Hoare partition"
      ]
    },
    {
      "cell_type": "code",
      "metadata": {
        "id": "K3t8NajMMQ9K"
      },
      "source": [
        "!g++ -std=c++17 -O3 -DNDEBUG lomuto.cpp -o qsort_hoare"
      ],
      "execution_count": null,
      "outputs": []
    },
    {
      "cell_type": "code",
      "metadata": {
        "id": "X36-Xy5mMQ9K",
        "outputId": "fdd1e365-faa8-4797-e662-470750279c63"
      },
      "source": [
        "!./qsort_hoare 10000"
      ],
      "execution_count": null,
      "outputs": [
        {
          "name": "stdout",
          "output_type": "stream",
          "text": [
            "min_milliseconds=0.3676\n",
            "median_milliseconds=0.3907\n"
          ]
        }
      ]
    },
    {
      "cell_type": "markdown",
      "metadata": {
        "id": "ocGjEzh-MQ9K"
      },
      "source": [
        "### Lomuto partition, traditional implementation"
      ]
    },
    {
      "cell_type": "code",
      "metadata": {
        "id": "76pCVRsVMQ9K"
      },
      "source": [
        "!g++ -std=c++17 -O3 -DNDEBUG -DLOMUTO_BRANCHY lomuto.cpp -o qsort_lomuto"
      ],
      "execution_count": null,
      "outputs": []
    },
    {
      "cell_type": "code",
      "metadata": {
        "id": "3sbYRnIdMQ9L",
        "outputId": "6769ae5c-4b3e-4305-94d6-f71529b13e93"
      },
      "source": [
        "!./qsort_lomuto 10000"
      ],
      "execution_count": null,
      "outputs": [
        {
          "name": "stdout",
          "output_type": "stream",
          "text": [
            "min_milliseconds=0.3835\n",
            "median_milliseconds=0.4173\n"
          ]
        }
      ]
    },
    {
      "cell_type": "markdown",
      "metadata": {
        "id": "W-JPBtW5MQ9L"
      },
      "source": [
        "### Lomuto partition, branch-free implementation"
      ]
    },
    {
      "cell_type": "code",
      "metadata": {
        "id": "Ok6j6hIeMQ9L"
      },
      "source": [
        "!g++ -std=c++17 -O3 -DNDEBUG -DLOMUTO lomuto.cpp -o qsort_lomuto_branchfree"
      ],
      "execution_count": null,
      "outputs": []
    },
    {
      "cell_type": "code",
      "metadata": {
        "id": "kULDmF2tMQ9L",
        "outputId": "50005ee7-d5ee-4e3f-8b08-bfb09e6523dc"
      },
      "source": [
        "!./qsort_lomuto_branchfree 10000"
      ],
      "execution_count": null,
      "outputs": [
        {
          "name": "stdout",
          "output_type": "stream",
          "text": [
            "min_milliseconds=0.2272\n",
            "median_milliseconds=0.2545\n"
          ]
        }
      ]
    },
    {
      "cell_type": "code",
      "metadata": {
        "id": "rrz57apGMQ9L"
      },
      "source": [
        ""
      ],
      "execution_count": null,
      "outputs": []
    }
  ]
}