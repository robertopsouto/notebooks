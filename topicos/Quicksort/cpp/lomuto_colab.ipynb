{
  "nbformat": 4,
  "nbformat_minor": 0,
  "metadata": {
    "kernelspec": {
      "display_name": "C++17",
      "language": "C++17",
      "name": "xcpp17"
    },
    "language_info": {
      "codemirror_mode": "text/x-c++src",
      "file_extension": ".cpp",
      "mimetype": "text/x-c++src",
      "name": "c++",
      "version": "17"
    },
    "colab": {
      "name": "lomuto.ipynb",
      "provenance": [],
      "include_colab_link": true
    }
  },
  "cells": [
    {
      "cell_type": "markdown",
      "metadata": {
        "id": "view-in-github",
        "colab_type": "text"
      },
      "source": [
        "<a href=\"https://colab.research.google.com/github/robertopsouto/notebooks/blob/ga-026_2021-4/topicos/Quicksort/cpp/lomuto_colab.ipynb\" target=\"_parent\"><img src=\"https://colab.research.google.com/assets/colab-badge.svg\" alt=\"Open In Colab\"/></a>"
      ]
    },
    {
      "cell_type": "code",
      "metadata": {
        "id": "YN4pGF2pczo9",
        "outputId": "ca79ac93-41e1-4a12-e752-7c8a0e9df265",
        "colab": {
          "base_uri": "https://localhost:8080/"
        }
      },
      "source": [
        "!pip install git+git://github.com/canesche/nvcc4jupyter.git\n",
        "!git clone https://github.com/canesche/nvcc4jupyter\n",
        "%load_ext nvcc_plugin"
      ],
      "execution_count": 1,
      "outputs": [
        {
          "output_type": "stream",
          "name": "stdout",
          "text": [
            "Collecting git+git://github.com/canesche/nvcc4jupyter.git\n",
            "  Cloning git://github.com/canesche/nvcc4jupyter.git to /tmp/pip-req-build-33b5fkz6\n",
            "  Running command git clone -q git://github.com/canesche/nvcc4jupyter.git /tmp/pip-req-build-33b5fkz6\n",
            "Building wheels for collected packages: ColabPlugin\n",
            "  Building wheel for ColabPlugin (setup.py) ... \u001b[?25l\u001b[?25hdone\n",
            "  Created wheel for ColabPlugin: filename=ColabPlugin-blind-py3-none-any.whl size=12725 sha256=0e08e2b4b736cd9ff614587bb6ab5d002d324707c602a4fb9afad2ae560b1b78\n",
            "  Stored in directory: /tmp/pip-ephem-wheel-cache-d8982lr4/wheels/97/a0/61/b9e5e1f61c5cfd624df291d57f6731a0f5832606b9ced448ef\n",
            "\u001b[33m  WARNING: Built wheel for ColabPlugin is invalid: Metadata 1.2 mandates PEP 440 version, but 'blind' is not\u001b[0m\n",
            "Failed to build ColabPlugin\n",
            "Installing collected packages: ColabPlugin\n",
            "    Running setup.py install for ColabPlugin ... \u001b[?25l\u001b[?25hdone\n",
            "\u001b[33m  DEPRECATION: ColabPlugin was installed using the legacy 'setup.py install' method, because a wheel could not be built for it. A possible replacement is to fix the wheel build issue reported above. You can find discussion regarding this at https://github.com/pypa/pip/issues/8368.\u001b[0m\n",
            "Successfully installed ColabPlugin-blind\n",
            "Cloning into 'nvcc4jupyter'...\n",
            "remote: Enumerating objects: 1147, done.\u001b[K\n",
            "remote: Counting objects: 100% (362/362), done.\u001b[K\n",
            "remote: Compressing objects: 100% (271/271), done.\u001b[K\n",
            "remote: Total 1147 (delta 100), reused 328 (delta 74), pack-reused 785\u001b[K\n",
            "Receiving objects: 100% (1147/1147), 35.71 MiB | 20.35 MiB/s, done.\n",
            "Resolving deltas: 100% (554/554), done.\n"
          ]
        }
      ]
    },
    {
      "cell_type": "code",
      "metadata": {
        "id": "2nJuR_Kvd4rE",
        "outputId": "62bc60f5-c740-4d9c-f763-c51579d560bc",
        "colab": {
          "base_uri": "https://localhost:8080/",
          "height": 157
        }
      },
      "source": [
        "%lsmagic"
      ],
      "execution_count": 2,
      "outputs": [
        {
          "output_type": "execute_result",
          "data": {
            "application/json": {
              "cell": {
                "ptx": "NVCCPlugin",
                "datacache": "ValgrindPlugin",
                "prun": "ExecutionMagics",
                "file": "Other",
                "nvprof_all": "NVCCPlugin",
                "print_verilog": "VERILOGPlugin",
                "cu": "NVCCPlugin",
                "!": "OSMagics",
                "capture": "ExecutionMagics",
                "timeit": "ExecutionMagics",
                "java": "JavaPlugin",
                "script": "ScriptMagics",
                "pypy": "Other",
                "system": "OSMagics",
                "perl": "Other",
                "waveform": "VERILOGPlugin",
                "html": "DisplayMagics",
                "bash": "Other",
                "rangecachegrind": "ValgrindPlugin",
                "gpu": "NVCCPlugin",
                "nvprof": "NVCCPlugin",
                "verilog": "VERILOGPlugin",
                "shell": "Other",
                "HTML": "Other",
                "python": "Other",
                "SVG": "Other",
                "cachegrind": "ValgrindPlugin",
                "javascript": "DisplayMagics",
                "gcc": "CPlugin",
                "bigquery": "Other",
                "js": "DisplayMagics",
                "cpp": "CPPPlugin",
                "writefile": "OSMagics",
                "gem5_visual_cache": "Gem5Plugin",
                "gem5_visual_simple": "Gem5Plugin",
                "ruby": "Other",
                "python3": "Other",
                "python2": "Other",
                "latex": "DisplayMagics",
                "sx": "OSMagics",
                "instructioncache": "ValgrindPlugin",
                "gem5": "Gem5Plugin",
                "svg": "DisplayMagics",
                "sh": "Other",
                "time": "ExecutionMagics",
                "debug": "ExecutionMagics"
              },
              "line": {
                "psource": "NamespaceMagics",
                "logstart": "LoggingMagics",
                "popd": "OSMagics",
                "tensorflow_version": "Other",
                "loadpy": "CodeMagics",
                "colors": "BasicMagics",
                "who_ls": "NamespaceMagics",
                "lf": "Other",
                "ll": "Other",
                "pprint": "BasicMagics",
                "lk": "Other",
                "ls": "Other",
                "save": "CodeMagics",
                "tb": "ExecutionMagics",
                "lx": "Other",
                "pylab": "PylabMagics",
                "killbgscripts": "ScriptMagics",
                "quickref": "BasicMagics",
                "magic": "BasicMagics",
                "dhist": "OSMagics",
                "edit": "KernelMagics",
                "logstop": "LoggingMagics",
                "gui": "BasicMagics",
                "prun": "ExecutionMagics",
                "debug": "ExecutionMagics",
                "page": "BasicMagics",
                "logstate": "LoggingMagics",
                "ed": "Other",
                "pushd": "OSMagics",
                "timeit": "ExecutionMagics",
                "set_env": "OSMagics",
                "rehashx": "OSMagics",
                "hist": "Other",
                "qtconsole": "KernelMagics",
                "rm": "Other",
                "dirs": "OSMagics",
                "run": "ExecutionMagics",
                "reset_selective": "NamespaceMagics",
                "pinfo2": "NamespaceMagics",
                "matplotlib": "PylabMagics",
                "unload_ext": "ExtensionMagics",
                "doctest_mode": "BasicMagics",
                "logoff": "LoggingMagics",
                "reload_ext": "ExtensionMagics",
                "pdb": "ExecutionMagics",
                "load": "CodeMagics",
                "lsmagic": "BasicMagics",
                "autosave": "KernelMagics",
                "cd": "OSMagics",
                "pastebin": "CodeMagics",
                "alias_magic": "BasicMagics",
                "cp": "Other",
                "autocall": "AutoMagics",
                "ldir": "Other",
                "bookmark": "OSMagics",
                "connect_info": "KernelMagics",
                "mkdir": "Other",
                "system": "OSMagics",
                "whos": "NamespaceMagics",
                "rmdir": "Other",
                "automagic": "AutoMagics",
                "store": "StoreMagics",
                "more": "KernelMagics",
                "shell": "Other",
                "pdef": "NamespaceMagics",
                "precision": "BasicMagics",
                "pinfo": "NamespaceMagics",
                "pwd": "OSMagics",
                "psearch": "NamespaceMagics",
                "reset": "NamespaceMagics",
                "recall": "HistoryMagics",
                "xdel": "NamespaceMagics",
                "xmode": "BasicMagics",
                "cat": "Other",
                "mv": "Other",
                "rerun": "HistoryMagics",
                "logon": "LoggingMagics",
                "history": "HistoryMagics",
                "pycat": "OSMagics",
                "pip": "Other",
                "unalias": "OSMagics",
                "env": "OSMagics",
                "load_ext": "ExtensionMagics",
                "config": "ConfigMagics",
                "profile": "BasicMagics",
                "pfile": "NamespaceMagics",
                "less": "KernelMagics",
                "who": "NamespaceMagics",
                "notebook": "BasicMagics",
                "man": "KernelMagics",
                "sx": "OSMagics",
                "macro": "ExecutionMagics",
                "clear": "KernelMagics",
                "alias": "OSMagics",
                "time": "ExecutionMagics",
                "sc": "OSMagics",
                "rep": "Other",
                "pdoc": "NamespaceMagics"
              }
            },
            "text/plain": [
              "Available line magics:\n",
              "%alias  %alias_magic  %autocall  %automagic  %autosave  %bookmark  %cat  %cd  %clear  %colors  %config  %connect_info  %cp  %debug  %dhist  %dirs  %doctest_mode  %ed  %edit  %env  %gui  %hist  %history  %killbgscripts  %ldir  %less  %lf  %lk  %ll  %load  %load_ext  %loadpy  %logoff  %logon  %logstart  %logstate  %logstop  %ls  %lsmagic  %lx  %macro  %magic  %man  %matplotlib  %mkdir  %more  %mv  %notebook  %page  %pastebin  %pdb  %pdef  %pdoc  %pfile  %pinfo  %pinfo2  %pip  %popd  %pprint  %precision  %profile  %prun  %psearch  %psource  %pushd  %pwd  %pycat  %pylab  %qtconsole  %quickref  %recall  %rehashx  %reload_ext  %rep  %rerun  %reset  %reset_selective  %rm  %rmdir  %run  %save  %sc  %set_env  %shell  %store  %sx  %system  %tb  %tensorflow_version  %time  %timeit  %unalias  %unload_ext  %who  %who_ls  %whos  %xdel  %xmode\n",
              "\n",
              "Available cell magics:\n",
              "%%!  %%HTML  %%SVG  %%bash  %%bigquery  %%cachegrind  %%capture  %%cpp  %%cu  %%datacache  %%debug  %%file  %%gcc  %%gem5  %%gem5_visual_cache  %%gem5_visual_simple  %%gpu  %%html  %%instructioncache  %%java  %%javascript  %%js  %%latex  %%nvprof  %%nvprof_all  %%perl  %%print_verilog  %%prun  %%ptx  %%pypy  %%python  %%python2  %%python3  %%rangecachegrind  %%ruby  %%script  %%sh  %%shell  %%svg  %%sx  %%system  %%time  %%timeit  %%verilog  %%waveform  %%writefile\n",
              "\n",
              "Automagic is ON, % prefix IS NOT needed for line magics."
            ]
          },
          "metadata": {},
          "execution_count": 2
        }
      ]
    },
    {
      "cell_type": "code",
      "metadata": {
        "id": "TC64z1-VrYuo",
        "outputId": "47a3b24b-39ac-4579-e802-abefc5b469f6",
        "colab": {
          "base_uri": "https://localhost:8080/"
        }
      },
      "source": [
        "%%cpp\n",
        "#include <cassert>\n",
        "#include <ctime>\n",
        "#include <cstdio>\n",
        "#include <cstdlib>\n",
        "#include <cstddef>\n",
        "#include <vector>\n",
        "#include <random>\n",
        "#include <algorithm>\n",
        "\n",
        "using std::swap;\n",
        "\n",
        "using TYPE = long;\n",
        "static const size_t SORT_THRESHOLD = 16;\n",
        "\n",
        "/**\n",
        "Partitions the range [first, last) around a pivot chosen as the minimum of\n",
        "first[0] and last[-1]. Uses the Hoare partition algorithm.\n",
        "Returns: a pointer to the new position of the pivot.\n",
        "*/\n",
        "long* hoare_partition(long* first, long* last) {\n",
        "    assert(first <= last);\n",
        "    if (last - first < 2)\n",
        "        return first; // nothing interesting to do\n",
        "    --last;\n",
        "    if (*first > *last)\n",
        "        swap(*first, *last);\n",
        "    auto pivot_pos = first;\n",
        "    auto pivot = *pivot_pos;\n",
        "    for (;;) {\n",
        "        ++first;\n",
        "        auto f = *first;\n",
        "        while (f < pivot)\n",
        "            f = *++first;\n",
        "        auto l = *last;\n",
        "        while (pivot < l)\n",
        "            l = *--last;\n",
        "        if (first >= last)\n",
        "            break;\n",
        "        *first = l;\n",
        "        *last = f;\n",
        "        --last;\n",
        "    }\n",
        "    --first;\n",
        "    swap(*first, *pivot_pos);\n",
        "    return first;\n",
        "}\n",
        "\n",
        "/**\n",
        "Partitions the range [first, last) around a pivot chosen as the minimum of\n",
        "first[0] and last[-1]. Uses the Lomuto partition algorithm.\n",
        "Returns: a pointer to the new position of the pivot.\n",
        "*/\n",
        "long* lomuto_partition(long* first, long* last) {\n",
        "    assert(first <= last);\n",
        "    if (last - first < 2)\n",
        "        return first; // nothing interesting to do\n",
        "    // Choose pivot.\n",
        "    --last;\n",
        "    if (*first > *last)\n",
        "        swap(*first, *last);\n",
        "    auto pivot_pos = first;\n",
        "    auto pivot = *first;\n",
        "    // Prelude: position first (aka the write head) right on the first larger element.\n",
        "    do {\n",
        "        ++first;\n",
        "    } while (*first < pivot);\n",
        "    assert(first <= last);\n",
        "    // Main loop.\n",
        "    for (auto read = first + 1; read < last; ++read) {\n",
        "        auto x = *read;\n",
        "        if (x < pivot) {\n",
        "            *read = *first;\n",
        "            *first = x;\n",
        "            ++first;\n",
        "        }\n",
        "    }\n",
        "    // Move the pivot to its final slot.\n",
        "    assert(*first >= pivot);\n",
        "    --first;\n",
        "    *pivot_pos = *first;\n",
        "    *first = pivot;\n",
        "    return first;\n",
        "}\n",
        "\n",
        "/**\n",
        "Partitions the range [first, last) around a pivot chosen as the minimum of\n",
        "first[0] and last[-1]. Uses the Lomuto partition algorithm, branch-free.\n",
        "Returns: a pointer to the new position of the pivot.\n",
        "*/\n",
        "long* lomuto_partition_branchfree(long* first, long* last) {\n",
        "    assert(first <= last);\n",
        "    if (last - first < 2)\n",
        "        return first; // nothing interesting to do\n",
        "    // Choose pivot.\n",
        "    --last;\n",
        "    if (*first > *last)\n",
        "        swap(*first, *last);\n",
        "    auto pivot_pos = first;\n",
        "    auto pivot = *first;\n",
        "    // Prelude.\n",
        "    do {\n",
        "        ++first;\n",
        "        assert(first <= last);\n",
        "    } while (*first < pivot);\n",
        "    // Main loop.\n",
        "    for (auto read = first + 1; read < last; ++read) {\n",
        "        auto x = *read;\n",
        "        auto less = -int(x < pivot);\n",
        "        auto delta = less & (read - first);\n",
        "        first[delta] = *first;\n",
        "        read[-delta] = x;\n",
        "        first -= less;\n",
        "    }\n",
        "    // Move the pivot to its final slot.\n",
        "    assert(*first >= pivot);\n",
        "    --first;\n",
        "    *pivot_pos = *first;\n",
        "    *first = pivot;\n",
        "    return first;\n",
        "}\n",
        "\n",
        "/**\n",
        "Inserts *last into the range to its left, assumed to be sorted and have at\n",
        "least one element smaller than *last.\n",
        "*/\n",
        "template<typename It>\n",
        "void unguarded_linear_insert(It last) {\n",
        "    auto val = *last;\n",
        "    --last;\n",
        "    auto x = *last;\n",
        "    if (val >= x)\n",
        "        return;\n",
        "    for (;;) {\n",
        "        last[1] = x;\n",
        "        --last;\n",
        "        x = *last;\n",
        "        if (val >= x)\n",
        "            break;\n",
        "    }\n",
        "    last[1] = val;\n",
        "}\n",
        "\n",
        "/**\n",
        "Sorts [first, last) using insertion sort.\n",
        "*/\n",
        "template<typename It>\n",
        "void insertion_sort(It first, It last) {\n",
        "    assert(first <= last);\n",
        "    for (auto i = first + 1; i < last; ++i) {\n",
        "        auto val = *i;\n",
        "\t    if (val < *first) {\n",
        "            size_t n = i - first - 1;\n",
        "            do {\n",
        "                first[n + 1] = first[n];\n",
        "            }\n",
        "            while (n--);\n",
        "\t        *first = val;\n",
        "\t    }\n",
        "\t    else\n",
        "\t        unguarded_linear_insert(i);\n",
        "\t}\n",
        "}\n",
        "\n",
        "/**\n",
        "Sorts [first, last) using quicksort and insertion sort for short subarrays.\n",
        "*/\n",
        "template <class It>\n",
        "void sort(It first, It last) {\n",
        "    while (last - first > size_t(SORT_THRESHOLD)) {\n",
        "#if defined(LOMUTO_BRANCHY)\n",
        "\t    auto cut = lomuto_partition(first, last);\n",
        "#elif defined(LOMUTO)\n",
        "\t    auto cut = lomuto_partition_branchfree(first, last);\n",
        "#else\n",
        "\t    auto cut = hoare_partition(first, last);\n",
        "#endif\n",
        "        assert(cut >= first);\n",
        "        assert(cut < last);\n",
        "\t    sort(cut + 1, last);\n",
        "\t    last = cut;\n",
        "\t}\n",
        "    insertion_sort(first, last);\n",
        "}\n",
        "\n",
        "/**\n",
        "Returns the difference between two timespecs, in milliseconds.\n",
        "*/\n",
        "double timediff(const timespec& start, const timespec& end) {\n",
        "    return (end.tv_nsec - start.tv_nsec) / double(1e6)\n",
        "        + (end.tv_sec - start.tv_sec) * double(1e3);\n",
        "}\n",
        "\n",
        "/**\n",
        "Verifies that an array has v[i]==i for all i.\n",
        "*/\n",
        "void checkData(std::vector<TYPE>& v) {\n",
        "    for (size_t i = 0; i < v.size(); ++i) {\n",
        "        if (v[i] == i) continue;\n",
        "        fprintf(stderr, \"Array has been corrupted at position %zu.\\n\", i);\n",
        "        abort();\n",
        "    }\n",
        "}\n",
        "\n",
        "int main(int argc, char** argv) {\n",
        "    if (argc < 2) return 1;\n",
        "    const size_t length = atol(argv[1]);\n",
        "    if (length == 0) return 2;\n",
        "    const size_t repeats = 50000000 / length;\n",
        "    std::vector<double> times(repeats);\n",
        "    timespec start, end;\n",
        "    double totalTime = 0, minTime = std::numeric_limits<double>::max();\n",
        "    std::mt19937 g(1942);\n",
        "    std::vector<TYPE> v(length);\n",
        "    \n",
        "    for (size_t i = 0; i < v.size(); ++i) v[i] = i;\n",
        "\n",
        "    for (size_t i = 0; i < repeats; ++i) {\n",
        "        std::shuffle(v.begin(), v.end(), g);\n",
        "        clock_gettime(CLOCK_PROCESS_CPUTIME_ID, &start);\n",
        "#if defined(STDSORT)\n",
        "        std::sort(&v.front(), 1 + &v.back());\n",
        "#else\n",
        "        sort(&v.front(), 1 + &v.back());\n",
        "#endif\n",
        "        clock_gettime(CLOCK_PROCESS_CPUTIME_ID, &end);\n",
        "        // Make sure everything is correct\n",
        "        checkData(v);\n",
        "        // Bookkeeping\n",
        "        auto t = timediff(start, end);\n",
        "        times[i] = t;\n",
        "        if (t < minTime) {\n",
        "            minTime = t;\n",
        "        }\n",
        "        totalTime += t;\n",
        "    }\n",
        "\n",
        "    std::sort(times.begin(), times.end());\n",
        "    printf(\"min_milliseconds=%.4f\\n\", minTime);\n",
        "    printf(\"median_milliseconds=%.4f\\n\", times[times.size() / 2]);\n",
        "}"
      ],
      "execution_count": 5,
      "outputs": [
        {
          "output_type": "stream",
          "name": "stdout",
          "text": [
            "\n"
          ]
        }
      ]
    },
    {
      "cell_type": "code",
      "metadata": {
        "id": "oc0vB_s8caJo",
        "outputId": "79d90f0e-9838-4b54-fdf9-2d0a85b2e8f6",
        "colab": {
          "base_uri": "https://localhost:8080/"
        }
      },
      "source": [
        "%%cpp\n",
        "#include <cassert>\n",
        "#include <ctime>\n",
        "#include <cstdio>\n",
        "#include <cstdlib>\n",
        "#include <cstddef>\n",
        "#include <vector>\n",
        "#include <random>\n",
        "#include <algorithm>\n",
        "\n",
        "using std::swap;\n",
        "\n",
        "using TYPE = long;\n",
        "static const size_t SORT_THRESHOLD = 16;"
      ],
      "execution_count": 3,
      "outputs": [
        {
          "output_type": "stream",
          "name": "stdout",
          "text": [
            "/usr/lib/gcc/x86_64-linux-gnu/7/../../../x86_64-linux-gnu/Scrt1.o: In function `_start':\n",
            "(.text+0x20): undefined reference to `main'\n",
            "collect2: error: ld returned 1 exit status\n",
            "\n"
          ]
        }
      ]
    },
    {
      "cell_type": "code",
      "metadata": {
        "id": "q2cmibXPcaJs"
      },
      "source": [
        "/**\n",
        "Partitions the range [first, last) around a pivot chosen as the minimum of\n",
        "first[0] and last[-1]. Uses the Hoare partition algorithm.\n",
        "Returns: a pointer to the new position of the pivot.\n",
        "*/\n",
        "long* hoare_partition(long* first, long* last) {\n",
        "    assert(first <= last);\n",
        "    if (last - first < 2)\n",
        "        return first; // nothing interesting to do\n",
        "    --last;\n",
        "    if (*first > *last)\n",
        "        swap(*first, *last);\n",
        "    auto pivot_pos = first;\n",
        "    auto pivot = *pivot_pos;\n",
        "    for (;;) {\n",
        "        ++first;\n",
        "        auto f = *first;\n",
        "        while (f < pivot)\n",
        "            f = *++first;\n",
        "        auto l = *last;\n",
        "        while (pivot < l)\n",
        "            l = *--last;\n",
        "        if (first >= last)\n",
        "            break;\n",
        "        *first = l;\n",
        "        *last = f;\n",
        "        --last;\n",
        "    }\n",
        "    --first;\n",
        "    swap(*first, *pivot_pos);\n",
        "    return first;\n",
        "}"
      ],
      "execution_count": null,
      "outputs": []
    },
    {
      "cell_type": "code",
      "metadata": {
        "id": "Crk_X4RncaJt"
      },
      "source": [
        "/**\n",
        "Partitions the range [first, last) around a pivot chosen as the minimum of\n",
        "first[0] and last[-1]. Uses the Lomuto partition algorithm.\n",
        "Returns: a pointer to the new position of the pivot.\n",
        "*/\n",
        "long* lomuto_partition(long* first, long* last) {\n",
        "    assert(first <= last);\n",
        "    if (last - first < 2)\n",
        "        return first; // nothing interesting to do\n",
        "    // Choose pivot.\n",
        "    --last;\n",
        "    if (*first > *last)\n",
        "        swap(*first, *last);\n",
        "    auto pivot_pos = first;\n",
        "    auto pivot = *first;\n",
        "    // Prelude: position first (aka the write head) right on the first larger element.\n",
        "    do {\n",
        "        ++first;\n",
        "    } while (*first < pivot);\n",
        "    assert(first <= last);\n",
        "    // Main loop.\n",
        "    for (auto read = first + 1; read < last; ++read) {\n",
        "        auto x = *read;\n",
        "        if (x < pivot) {\n",
        "            *read = *first;\n",
        "            *first = x;\n",
        "            ++first;\n",
        "        }\n",
        "    }\n",
        "    // Move the pivot to its final slot.\n",
        "    assert(*first >= pivot);\n",
        "    --first;\n",
        "    *pivot_pos = *first;\n",
        "    *first = pivot;\n",
        "    return first;\n",
        "}"
      ],
      "execution_count": null,
      "outputs": []
    },
    {
      "cell_type": "code",
      "metadata": {
        "id": "bJfkUP6mcaJt"
      },
      "source": [
        "/**\n",
        "Partitions the range [first, last) around a pivot chosen as the minimum of\n",
        "first[0] and last[-1]. Uses the Lomuto partition algorithm, branch-free.\n",
        "Returns: a pointer to the new position of the pivot.\n",
        "*/\n",
        "long* lomuto_partition_branchfree(long* first, long* last) {\n",
        "    assert(first <= last);\n",
        "    if (last - first < 2)\n",
        "        return first; // nothing interesting to do\n",
        "    // Choose pivot.\n",
        "    --last;\n",
        "    if (*first > *last)\n",
        "        swap(*first, *last);\n",
        "    auto pivot_pos = first;\n",
        "    auto pivot = *first;\n",
        "    // Prelude.\n",
        "    do {\n",
        "        ++first;\n",
        "        assert(first <= last);\n",
        "    } while (*first < pivot);\n",
        "    // Main loop.\n",
        "    for (auto read = first + 1; read < last; ++read) {\n",
        "        auto x = *read;\n",
        "        auto less = -int(x < pivot);\n",
        "        auto delta = less & (read - first);\n",
        "        first[delta] = *first;\n",
        "        read[-delta] = x;\n",
        "        first -= less;\n",
        "    }\n",
        "    // Move the pivot to its final slot.\n",
        "    assert(*first >= pivot);\n",
        "    --first;\n",
        "    *pivot_pos = *first;\n",
        "    *first = pivot;\n",
        "    return first;\n",
        "}"
      ],
      "execution_count": null,
      "outputs": []
    },
    {
      "cell_type": "code",
      "metadata": {
        "id": "K2x-M5gdcaJu"
      },
      "source": [
        "/**\n",
        "Inserts *last into the range to its left, assumed to be sorted and have at\n",
        "least one element smaller than *last.\n",
        "*/\n",
        "template<typename It>\n",
        "void unguarded_linear_insert(It last) {\n",
        "    auto val = *last;\n",
        "    --last;\n",
        "    auto x = *last;\n",
        "    if (val >= x)\n",
        "        return;\n",
        "    for (;;) {\n",
        "        last[1] = x;\n",
        "        --last;\n",
        "        x = *last;\n",
        "        if (val >= x)\n",
        "            break;\n",
        "    }\n",
        "    last[1] = val;\n",
        "}"
      ],
      "execution_count": null,
      "outputs": []
    },
    {
      "cell_type": "code",
      "metadata": {
        "id": "-FZXJuCHcaJv"
      },
      "source": [
        "/**\n",
        "Sorts [first, last) using insertion sort.\n",
        "*/\n",
        "template<typename It>\n",
        "void insertion_sort(It first, It last) {\n",
        "    assert(first <= last);\n",
        "    for (auto i = first + 1; i < last; ++i) {\n",
        "        auto val = *i;\n",
        "            if (val < *first) {\n",
        "            size_t n = i - first - 1;\n",
        "            do {\n",
        "                first[n + 1] = first[n];\n",
        "            }\n",
        "            while (n--);\n",
        "                *first = val;\n",
        "            }\n",
        "            else\n",
        "                unguarded_linear_insert(i);\n",
        "        }\n",
        "}"
      ],
      "execution_count": null,
      "outputs": []
    },
    {
      "cell_type": "code",
      "metadata": {
        "id": "NsU-HV6BcaJv"
      },
      "source": [
        "/**\n",
        "Sorts [first, last) using quicksort and insertion sort for short subarrays.\n",
        "*/\n",
        "template <class It>\n",
        "void sort(It first, It last) {\n",
        "    while (last - first > size_t(SORT_THRESHOLD)) {\n",
        "#if defined(LOMUTO_BRANCHY)\n",
        "            auto cut = lomuto_partition(first, last);\n",
        "#elif defined(LOMUTO)\n",
        "            auto cut = lomuto_partition_branchfree(first, last);\n",
        "#else\n",
        "            auto cut = hoare_partition(first, last);\n",
        "#endif\n",
        "        assert(cut >= first);\n",
        "        assert(cut < last);\n",
        "            sort(cut + 1, last);\n",
        "            last = cut;\n",
        "        }\n",
        "    insertion_sort(first, last);\n",
        "}"
      ],
      "execution_count": null,
      "outputs": []
    },
    {
      "cell_type": "code",
      "metadata": {
        "id": "_X2aMzUxcaJw"
      },
      "source": [
        "/**\n",
        "Returns the difference between two timespecs, in milliseconds.\n",
        "*/\n",
        "double timediff(const timespec& start, const timespec& end) {\n",
        "    return (end.tv_nsec - start.tv_nsec) / double(1e6)\n",
        "        + (end.tv_sec - start.tv_sec) * double(1e3);\n",
        "}"
      ],
      "execution_count": null,
      "outputs": []
    },
    {
      "cell_type": "code",
      "metadata": {
        "id": "5CqfTIiqcaJx"
      },
      "source": [
        "/**\n",
        "Verifies that an array has v[i]==i for all i.\n",
        "*/\n",
        "void checkData(std::vector<TYPE>& v) {\n",
        "    for (size_t i = 0; i < v.size(); ++i) {\n",
        "        if (v[i] == i) continue;\n",
        "        fprintf(stderr, \"Array has been corrupted at position %zu.\\n\", i);\n",
        "        abort();\n",
        "    }\n",
        "}"
      ],
      "execution_count": null,
      "outputs": []
    },
    {
      "cell_type": "code",
      "metadata": {
        "id": "9Eb6PPmycaJx"
      },
      "source": [
        "    size_t length =  500;\n",
        "    size_t repeats = 5000 / length;\n",
        "    std::vector<double> times(repeats);\n",
        "    timespec start, end;\n",
        "    double totalTime = 0, minTime = std::numeric_limits<double>::max();\n",
        "    std::mt19937 g(1942);\n",
        "    std::vector<TYPE> v(length);"
      ],
      "execution_count": null,
      "outputs": []
    },
    {
      "cell_type": "code",
      "metadata": {
        "id": "5FojkZM8caJx"
      },
      "source": [
        "    length =  500;\n",
        "    repeats = 50000 / length;"
      ],
      "execution_count": null,
      "outputs": []
    },
    {
      "cell_type": "code",
      "metadata": {
        "id": "STGL5mR_caJy"
      },
      "source": [
        "    for (size_t i = 0; i < v.size(); ++i) v[i] = i;\n",
        "\n",
        "    for (size_t i = 0; i < repeats; ++i) {\n",
        "        std::shuffle(v.begin(), v.end(), g);\n",
        "        clock_gettime(CLOCK_PROCESS_CPUTIME_ID, &start);\n",
        "#if defined(STDSORT)\n",
        "        std::sort(&v.front(), 1 + &v.back());\n",
        "#else\n",
        "        sort(&v.front(), 1 + &v.back());\n",
        "#endif\n",
        "        clock_gettime(CLOCK_PROCESS_CPUTIME_ID, &end);\n",
        "        // Make sure everything is correct\n",
        "        checkData(v);\n",
        "        // Bookkeeping\n",
        "        auto t = timediff(start, end);\n",
        "        times[i] = t;\n",
        "        if (t < minTime) {\n",
        "            minTime = t;\n",
        "        }\n",
        "        totalTime += t;\n",
        "    }\n",
        "    std::sort(times.begin(), times.end());\n",
        "    printf(\"min_milliseconds=%.4f\\n\", minTime);\n",
        "    printf(\"median_milliseconds=%.4f\\n\", times[times.size() / 2]);\n"
      ],
      "execution_count": null,
      "outputs": []
    },
    {
      "cell_type": "markdown",
      "metadata": {
        "id": "AJD1lL7tcaJy"
      },
      "source": [
        "### std::sort baseline"
      ]
    },
    {
      "cell_type": "code",
      "metadata": {
        "id": "CXp9Up1wcaJz"
      },
      "source": [
        "!g++ -std=c++17 -O3 -DNDEBUG -DSTDSORT lomuto.cpp -o qsort_std"
      ],
      "execution_count": null,
      "outputs": []
    },
    {
      "cell_type": "code",
      "metadata": {
        "id": "p1zQXyDJcaJ0",
        "outputId": "2284e645-0827-4ba7-9945-28684aabab81"
      },
      "source": [
        "!./qsort_std 10000"
      ],
      "execution_count": null,
      "outputs": [
        {
          "name": "stdout",
          "output_type": "stream",
          "text": [
            "min_milliseconds=0.4239\n",
            "median_milliseconds=0.4602\n"
          ]
        }
      ]
    },
    {
      "cell_type": "markdown",
      "metadata": {
        "id": "0zobHRKacaJ1"
      },
      "source": [
        "### Hoare partition"
      ]
    },
    {
      "cell_type": "code",
      "metadata": {
        "id": "cFR6aKX8caJ1"
      },
      "source": [
        "!g++ -std=c++17 -O3 -DNDEBUG lomuto.cpp -o qsort_hoare"
      ],
      "execution_count": null,
      "outputs": []
    },
    {
      "cell_type": "code",
      "metadata": {
        "id": "UeZdeMDFcaJ1",
        "outputId": "e25b1595-8059-42f6-8564-bb36f3a09d2c"
      },
      "source": [
        "!./qsort_hoare 10000"
      ],
      "execution_count": null,
      "outputs": [
        {
          "name": "stdout",
          "output_type": "stream",
          "text": [
            "min_milliseconds=0.3676\n",
            "median_milliseconds=0.3907\n"
          ]
        }
      ]
    },
    {
      "cell_type": "markdown",
      "metadata": {
        "id": "hl2VgUtgcaJ2"
      },
      "source": [
        "### Lomuto partition, traditional implementation"
      ]
    },
    {
      "cell_type": "code",
      "metadata": {
        "id": "3O_TpMGYcaJ2"
      },
      "source": [
        "!g++ -std=c++17 -O3 -DNDEBUG -DLOMUTO_BRANCHY lomuto.cpp -o qsort_lomuto"
      ],
      "execution_count": null,
      "outputs": []
    },
    {
      "cell_type": "code",
      "metadata": {
        "id": "ODMtX_UYcaJ2",
        "outputId": "54e1ff79-e615-4fe9-dc13-eb5582bf581d"
      },
      "source": [
        "!./qsort_lomuto 10000"
      ],
      "execution_count": null,
      "outputs": [
        {
          "name": "stdout",
          "output_type": "stream",
          "text": [
            "min_milliseconds=0.3835\n",
            "median_milliseconds=0.4173\n"
          ]
        }
      ]
    },
    {
      "cell_type": "markdown",
      "metadata": {
        "id": "1Sq4D9w8caJ5"
      },
      "source": [
        "### Lomuto partition, branch-free implementation"
      ]
    },
    {
      "cell_type": "code",
      "metadata": {
        "id": "5uc4FohtcaJ5"
      },
      "source": [
        "!g++ -std=c++17 -O3 -DNDEBUG -DLOMUTO lomuto.cpp -o qsort_lomuto_branchfree"
      ],
      "execution_count": null,
      "outputs": []
    },
    {
      "cell_type": "code",
      "metadata": {
        "id": "wBZnhVPgcaJ5",
        "outputId": "8c0f8d82-2b19-413c-eb5d-591ba3232708"
      },
      "source": [
        "!./qsort_lomuto_branchfree 10000"
      ],
      "execution_count": null,
      "outputs": [
        {
          "name": "stdout",
          "output_type": "stream",
          "text": [
            "min_milliseconds=0.2272\n",
            "median_milliseconds=0.2545\n"
          ]
        }
      ]
    },
    {
      "cell_type": "code",
      "metadata": {
        "id": "PiIfOCf6caJ6"
      },
      "source": [
        ""
      ],
      "execution_count": null,
      "outputs": []
    }
  ]
}