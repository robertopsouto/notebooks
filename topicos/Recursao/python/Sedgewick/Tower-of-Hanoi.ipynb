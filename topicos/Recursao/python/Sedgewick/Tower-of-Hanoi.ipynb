{
 "cells": [
  {
   "cell_type": "markdown",
   "metadata": {},
   "source": [
    "# GA-026 Algoritmos"
   ]
  },
  {
   "cell_type": "markdown",
   "metadata": {},
   "source": [
    "## Torre de Hanoi"
   ]
  },
  {
   "cell_type": "code",
   "execution_count": null,
   "metadata": {},
   "outputs": [],
   "source": [
    "#-----------------------------------------------------------------------\n",
    "# towersofhanoi.py\n",
    "#-----------------------------------------------------------------------\n"
   ]
  },
  {
   "cell_type": "code",
   "execution_count": 1,
   "metadata": {},
   "outputs": [],
   "source": [
    "#-----------------------------------------------------------------------\n",
    "\n",
    "# Write to standard output instructions to move n Towers of Hanoi\n",
    "# disks to the left (if parameter left is True) or to the right (if\n",
    "# parameter left is False).\n",
    "\n",
    "def moves(n, left):\n",
    "    if n == 0:\n",
    "        return\n",
    "    moves(n-1, not left)\n",
    "    if left:\n",
    "        print(str(n) + ' left')\n",
    "    else:\n",
    "        print(str(n) + ' right')\n",
    "    moves(n-1, not left)\n"
   ]
  },
  {
   "cell_type": "code",
   "execution_count": 2,
   "metadata": {
    "tags": []
   },
   "outputs": [
    {
     "name": "stdout",
     "output_type": "stream",
     "text": [
      "1 left\n"
     ]
    }
   ],
   "source": [
    "moves(1, True)"
   ]
  },
  {
   "cell_type": "code",
   "execution_count": 3,
   "metadata": {},
   "outputs": [
    {
     "name": "stdout",
     "output_type": "stream",
     "text": [
      "1 right\n",
      "2 left\n",
      "1 right\n"
     ]
    }
   ],
   "source": [
    "moves(2,True)"
   ]
  },
  {
   "cell_type": "code",
   "execution_count": 4,
   "metadata": {},
   "outputs": [
    {
     "name": "stdout",
     "output_type": "stream",
     "text": [
      "1 left\n",
      "2 right\n",
      "1 left\n",
      "3 left\n",
      "1 left\n",
      "2 right\n",
      "1 left\n"
     ]
    }
   ],
   "source": [
    "moves(3,True)"
   ]
  },
  {
   "cell_type": "code",
   "execution_count": 5,
   "metadata": {},
   "outputs": [
    {
     "name": "stdout",
     "output_type": "stream",
     "text": [
      "1 right\n",
      "2 left\n",
      "1 right\n",
      "3 right\n",
      "1 right\n",
      "2 left\n",
      "1 right\n",
      "4 left\n",
      "1 right\n",
      "2 left\n",
      "1 right\n",
      "3 right\n",
      "1 right\n",
      "2 left\n",
      "1 right\n"
     ]
    }
   ],
   "source": [
    "moves(4,True)"
   ]
  },
  {
   "cell_type": "code",
   "execution_count": null,
   "metadata": {},
   "outputs": [],
   "source": []
  }
 ],
 "metadata": {
  "kernelspec": {
   "display_name": "Python 3.6.9 64-bit",
   "language": "python",
   "name": "python36964bite8f75ea5a19b4248a7d4919dacf1e4af"
  },
  "language_info": {
   "codemirror_mode": {
    "name": "ipython",
    "version": 3
   },
   "file_extension": ".py",
   "mimetype": "text/x-python",
   "name": "python",
   "nbconvert_exporter": "python",
   "pygments_lexer": "ipython3",
   "version": "3.6.9"
  }
 },
 "nbformat": 4,
 "nbformat_minor": 2
}
