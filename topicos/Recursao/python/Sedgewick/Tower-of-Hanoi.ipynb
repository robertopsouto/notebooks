{
  "nbformat": 4,
  "nbformat_minor": 0,
  "metadata": {
    "kernelspec": {
      "display_name": "Python 3.6.9 64-bit",
      "language": "python",
      "name": "python36964bite8f75ea5a19b4248a7d4919dacf1e4af"
    },
    "language_info": {
      "codemirror_mode": {
        "name": "ipython",
        "version": 3
      },
      "file_extension": ".py",
      "mimetype": "text/x-python",
      "name": "python",
      "nbconvert_exporter": "python",
      "pygments_lexer": "ipython3",
      "version": "3.6.9"
    },
    "colab": {
      "name": "Tower-of-Hanoi.ipynb",
      "provenance": [],
      "include_colab_link": true
    }
  },
  "cells": [
    {
      "cell_type": "markdown",
      "metadata": {
        "id": "view-in-github",
        "colab_type": "text"
      },
      "source": [
        "<a href=\"https://colab.research.google.com/github/robertopsouto/notebooks/blob/ga-026_2021-4/topicos/Recursao/python/Sedgewick/Tower-of-Hanoi.ipynb\" target=\"_parent\"><img src=\"https://colab.research.google.com/assets/colab-badge.svg\" alt=\"Open In Colab\"/></a>"
      ]
    },
    {
      "cell_type": "markdown",
      "metadata": {
        "id": "piDWzAWM3NHv"
      },
      "source": [
        "# GA-026 Algoritmos"
      ]
    },
    {
      "cell_type": "markdown",
      "metadata": {
        "id": "iP9mYMDf3NH0"
      },
      "source": [
        "## Torre de Hanoi"
      ]
    },
    {
      "cell_type": "code",
      "metadata": {
        "id": "XzCdpMLS3NH1"
      },
      "source": [
        "#-----------------------------------------------------------------------\n",
        "# towersofhanoi.py\n",
        "#-----------------------------------------------------------------------\n"
      ],
      "execution_count": null,
      "outputs": []
    },
    {
      "cell_type": "code",
      "metadata": {
        "id": "Gin3wahk3NH2"
      },
      "source": [
        "#-----------------------------------------------------------------------\n",
        "\n",
        "# Write to standard output instructions to move n Towers of Hanoi\n",
        "# disks to the left (if parameter left is True) or to the right (if\n",
        "# parameter left is False).\n",
        "\n",
        "def moves(n, left):\n",
        "    if n == 0:\n",
        "        return\n",
        "    moves(n-1, not left)\n",
        "    if left:\n",
        "        print(str(n) + ' left')\n",
        "    else:\n",
        "        print(str(n) + ' right')\n",
        "    moves(n-1, not left)\n"
      ],
      "execution_count": null,
      "outputs": []
    },
    {
      "cell_type": "code",
      "metadata": {
        "tags": [],
        "id": "5Ga2mJeR3NH2",
        "outputId": "98e5f1d4-4e46-4359-f2db-1ca8cda6a1f9"
      },
      "source": [
        "moves(1, True)"
      ],
      "execution_count": null,
      "outputs": [
        {
          "name": "stdout",
          "output_type": "stream",
          "text": [
            "1 left\n"
          ]
        }
      ]
    },
    {
      "cell_type": "code",
      "metadata": {
        "id": "iExTkY3T3NH3",
        "outputId": "f718c9c1-9102-4560-d16b-d59164aaa52c"
      },
      "source": [
        "moves(2,True)"
      ],
      "execution_count": null,
      "outputs": [
        {
          "name": "stdout",
          "output_type": "stream",
          "text": [
            "1 right\n",
            "2 left\n",
            "1 right\n"
          ]
        }
      ]
    },
    {
      "cell_type": "code",
      "metadata": {
        "id": "WiJSJRDW3NH4",
        "outputId": "5fe06ceb-5c84-450f-d555-3c60247636ea"
      },
      "source": [
        "moves(3,True)"
      ],
      "execution_count": null,
      "outputs": [
        {
          "name": "stdout",
          "output_type": "stream",
          "text": [
            "1 left\n",
            "2 right\n",
            "1 left\n",
            "3 left\n",
            "1 left\n",
            "2 right\n",
            "1 left\n"
          ]
        }
      ]
    },
    {
      "cell_type": "code",
      "metadata": {
        "id": "0o3Md3az3NH4",
        "outputId": "00e5e30c-6c73-482c-a903-f398de9f9b27"
      },
      "source": [
        "moves(4,True)"
      ],
      "execution_count": null,
      "outputs": [
        {
          "name": "stdout",
          "output_type": "stream",
          "text": [
            "1 right\n",
            "2 left\n",
            "1 right\n",
            "3 right\n",
            "1 right\n",
            "2 left\n",
            "1 right\n",
            "4 left\n",
            "1 right\n",
            "2 left\n",
            "1 right\n",
            "3 right\n",
            "1 right\n",
            "2 left\n",
            "1 right\n"
          ]
        }
      ]
    },
    {
      "cell_type": "code",
      "metadata": {
        "id": "uaqQ0nYV3NH5"
      },
      "source": [
        ""
      ],
      "execution_count": null,
      "outputs": []
    }
  ]
}