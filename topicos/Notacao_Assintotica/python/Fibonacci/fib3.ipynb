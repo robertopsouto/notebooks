{
  "nbformat": 4,
  "nbformat_minor": 0,
  "metadata": {
    "kernelspec": {
      "display_name": "Python 3",
      "language": "python",
      "name": "python3"
    },
    "language_info": {
      "codemirror_mode": {
        "name": "ipython",
        "version": 3
      },
      "file_extension": ".py",
      "mimetype": "text/x-python",
      "name": "python",
      "nbconvert_exporter": "python",
      "pygments_lexer": "ipython3",
      "version": "3.7.9"
    },
    "colab": {
      "name": "fib3.ipynb",
      "provenance": [],
      "include_colab_link": true
    }
  },
  "cells": [
    {
      "cell_type": "markdown",
      "metadata": {
        "id": "view-in-github",
        "colab_type": "text"
      },
      "source": [
        "<a href=\"https://colab.research.google.com/github/robertopsouto/notebooks/blob/ga-026_2021-4/topicos/Notacao_Assintotica/python/Fibonacci/fib3.ipynb\" target=\"_parent\"><img src=\"https://colab.research.google.com/assets/colab-badge.svg\" alt=\"Open In Colab\"/></a>"
      ]
    },
    {
      "cell_type": "markdown",
      "metadata": {
        "id": "4KChJZiaw0Vs"
      },
      "source": [
        "# GA-026: Algoritmos"
      ]
    },
    {
      "cell_type": "markdown",
      "metadata": {
        "id": "kqYO2Zzww0Vw"
      },
      "source": [
        "## Fibonacci - versão iterativa matricial"
      ]
    },
    {
      "cell_type": "code",
      "metadata": {
        "tags": [],
        "id": "6Yxt8rwLw0Vw"
      },
      "source": [
        "# Program to display the Fibonacci sequence up to n-th term where n is provided by the user\n",
        "# https://www.programiz.com/python-programming/examples/fibonacci-sequence\n",
        "\n",
        "import numpy as np\n",
        "\n",
        "X=[[0,1],[1,1]]\n",
        "Xn=[[0,1],[1,1]]\n",
        "F0F1=[[0],[1]]\n",
        "\n",
        "# change this value for a different result\n",
        "nterms = 10 \n",
        "\n",
        "# uncomment to take input from the user\n",
        "#nterms = int(input(\"How many terms? \"))\n",
        "Fn=F0F1\n",
        "\n",
        "n=1\n",
        "\n",
        "print(\"Fibonacci sequence upto\",nterms,\":\")\n",
        "while n <= nterms:\n",
        "    print(Fn[0][0])\n",
        "    Fn=np.dot(Xn,F0F1)\n",
        "    Xn=np.dot(Xn,X)\n",
        "    n += 1"
      ],
      "execution_count": null,
      "outputs": []
    },
    {
      "cell_type": "code",
      "metadata": {
        "id": "g5X1EXOPw0Vy"
      },
      "source": [
        ""
      ],
      "execution_count": null,
      "outputs": []
    }
  ]
}