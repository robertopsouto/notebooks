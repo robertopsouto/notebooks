{
  "nbformat": 4,
  "nbformat_minor": 0,
  "metadata": {
    "kernelspec": {
      "display_name": "Python 3",
      "language": "python",
      "name": "python3"
    },
    "language_info": {
      "codemirror_mode": {
        "name": "ipython",
        "version": 3
      },
      "file_extension": ".py",
      "mimetype": "text/x-python",
      "name": "python",
      "nbconvert_exporter": "python",
      "pygments_lexer": "ipython3",
      "version": "3.7.7"
    },
    "colab": {
      "name": "Notacao-Assintotica-Theta.ipynb",
      "provenance": [],
      "include_colab_link": true
    }
  },
  "cells": [
    {
      "cell_type": "markdown",
      "metadata": {
        "id": "view-in-github",
        "colab_type": "text"
      },
      "source": [
        "<a href=\"https://colab.research.google.com/github/robertopsouto/notebooks/blob/ga-026_2021-4/topicos/Notacao_Assintotica/python/Notacao-Assintotica-Theta.ipynb\" target=\"_parent\"><img src=\"https://colab.research.google.com/assets/colab-badge.svg\" alt=\"Open In Colab\"/></a>"
      ]
    },
    {
      "cell_type": "markdown",
      "metadata": {
        "id": "MyUoqCv2jOsx"
      },
      "source": [
        "# GA-026: Algoritmos"
      ]
    },
    {
      "cell_type": "markdown",
      "metadata": {
        "id": "4kOBVzenjOs3"
      },
      "source": [
        "## Notação Assintótica - $\\Theta$"
      ]
    },
    {
      "cell_type": "code",
      "metadata": {
        "id": "QumRz4uc5eKY"
      },
      "source": [
        "from sympy import *\n",
        "from sympy.plotting import plot\n",
        "n = symbols('n')"
      ],
      "execution_count": null,
      "outputs": []
    },
    {
      "cell_type": "code",
      "metadata": {
        "id": "NtEKfjQyjOs4"
      },
      "source": [
        "f = n*n/2-2*n\n",
        "g = n*n\n",
        "g1 = n*n/4\n",
        "g2 = n*n/2\n",
        "\n",
        "p = plot(f, g1, g2, (n, 0, 9), show=False)\n",
        "#change the color of p2\n",
        "p[0].line_color = 'k'\n",
        "p[1].line_color = 'r'\n",
        "p[2].line_color = 'b'\n",
        "p.show()\n"
      ],
      "execution_count": null,
      "outputs": []
    }
  ]
}