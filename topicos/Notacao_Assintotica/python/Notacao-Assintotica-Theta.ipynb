{
  "nbformat": 4,
  "nbformat_minor": 0,
  "metadata": {
    "kernelspec": {
      "display_name": "Python 3",
      "language": "python",
      "name": "python3"
    },
    "language_info": {
      "codemirror_mode": {
        "name": "ipython",
        "version": 3
      },
      "file_extension": ".py",
      "mimetype": "text/x-python",
      "name": "python",
      "nbconvert_exporter": "python",
      "pygments_lexer": "ipython3",
      "version": "3.7.7"
    },
    "colab": {
      "name": "Notacao-Assintotica-Theta.ipynb",
      "provenance": [],
      "include_colab_link": true
    }
  },
  "cells": [
    {
      "cell_type": "markdown",
      "metadata": {
        "id": "view-in-github",
        "colab_type": "text"
      },
      "source": [
        "<a href=\"https://colab.research.google.com/github/robertopsouto/notebooks/blob/ga-026_2021-4/topicos/Notacao_Assintotica/python/Notacao-Assintotica-Theta.ipynb\" target=\"_parent\"><img src=\"https://colab.research.google.com/assets/colab-badge.svg\" alt=\"Open In Colab\"/></a>"
      ]
    },
    {
      "cell_type": "markdown",
      "metadata": {
        "id": "MyUoqCv2jOsx"
      },
      "source": [
        "# GA-026: Algoritmos"
      ]
    },
    {
      "cell_type": "markdown",
      "metadata": {
        "id": "4kOBVzenjOs3"
      },
      "source": [
        "## Notação Assintótica - $\\Theta$"
      ]
    },
    {
      "cell_type": "code",
      "metadata": {
        "id": "NtEKfjQyjOs4"
      },
      "source": [
        "from sympy import *\n",
        "from sympy.plotting import plot\n",
        "n = symbols('n')\n",
        "\n",
        "f = n*n/2-2*n\n",
        "g = n*n\n",
        "g1 = n*n/4\n",
        "g2 = n*n/2\n",
        "\n",
        "p = plot(f, g1, g2, (n, 0, 9), show=False)\n",
        "#change the color of p2\n",
        "p[0].line_color = 'k'\n",
        "p[1].line_color = 'r'\n",
        "p[2].line_color = 'b'\n",
        "p.show()\n"
      ],
      "execution_count": null,
      "outputs": []
    },
    {
      "cell_type": "code",
      "metadata": {
        "id": "F4BdHIpPjOs6"
      },
      "source": [
        "from sympy import *\n",
        "from sympy.plotting import plot\n",
        "n = symbols('n')\n",
        "\n",
        "f = pow(2,n)\n",
        "g = pow(2,n+1)\n",
        "g1 = 0.3*g\n",
        "g2 = 0.7*g\n",
        "\n",
        "p = plot(f, g1, g2, (n, 0, 10), show=False)\n",
        "#change the color of p2\n",
        "p[0].line_color = 'k'\n",
        "p[1].line_color = 'r'\n",
        "p[2].line_color = 'b'\n",
        "p.show()"
      ],
      "execution_count": null,
      "outputs": []
    },
    {
      "cell_type": "markdown",
      "metadata": {
        "id": "WmxQctMUjOs7"
      },
      "source": [
        "Para responder a isso, precisamos pensar sobre a função, como ela cresce e quais funções vinculam seu crescimento.\n",
        "$ n ^ {k} $ é uma função polinomial e $ c ^ {n} $ é uma função exponencial. Sabemos que os polinômios sempre crescem mais lentamente que os exponenciais. Poderíamos provar isso com um gráfico, mas temos que garantir que analisemos grandes valores de $ n $, porque o comportamento inicial pode ser enganoso. Aqui está um gráfico que compara as duas funções (com $ k = 2 $ e $ c = 2 $), onde podemos ver claramente a diferença de crescimento:"
      ]
    },
    {
      "cell_type": "code",
      "metadata": {
        "id": "MJQDxbbCjOs7"
      },
      "source": [
        "f = pow(2,n)\n",
        "g = pow(2,n+1)\n",
        "g1 = 0.3*g\n",
        "g2 = 0.7*g\n",
        "\n",
        "p = plot(f, g1, g2, (n, 0, 10), show=False)\n",
        "#change the color of p2\n",
        "p[0].line_color = 'k'\n",
        "p[1].line_color = 'r'\n",
        "p[2].line_color = 'b'\n",
        "p.show()"
      ],
      "execution_count": null,
      "outputs": []
    }
  ]
}