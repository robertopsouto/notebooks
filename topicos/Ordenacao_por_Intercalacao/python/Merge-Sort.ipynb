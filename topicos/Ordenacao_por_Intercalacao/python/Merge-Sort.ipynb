{
 "cells": [
  {
   "cell_type": "markdown",
   "metadata": {
    "colab_type": "text",
    "id": "pvPJsE8cTaG5"
   },
   "source": [
    " # GA-026: Algoritmos"
   ]
  },
  {
   "cell_type": "markdown",
   "metadata": {
    "colab_type": "text",
    "id": "ZVxUN2riuj35"
   },
   "source": [
    "## Ordenação por Intercalação (Merge Sort)"
   ]
  },
  {
   "cell_type": "code",
   "execution_count": 1,
   "metadata": {
    "colab": {},
    "colab_type": "code",
    "id": "RNZ3nlkBSPcC"
   },
   "outputs": [],
   "source": [
    "# Function to do merge sort \n",
    "# Baseado no código original de https://www.geeksforgeeks.org/merge-sort/\n",
    "def mergeSort(arr): \n",
    "    if len(arr) >1: \n",
    "        mid = len(arr)//2 # Finding the mid of the array \n",
    "        L = arr[:mid] # Dividing the array elements  \n",
    "        R = arr[mid:] # into 2 halves \n",
    "  \n",
    "        mergeSort(L) # Sorting the first half \n",
    "        mergeSort(R) # Sorting the second half \n",
    "  \n",
    "        i = j = k = 0\n",
    "          \n",
    "        # Copy data to temp arrays L[] and R[] \n",
    "        while i < len(L) and j < len(R): \n",
    "            if L[i] < R[j]: \n",
    "                arr[k] = L[i] \n",
    "                i+= 1\n",
    "            else: \n",
    "                arr[k] = R[j] \n",
    "                j+= 1\n",
    "            k+= 1\n",
    "          \n",
    "        # Checking if any element was left \n",
    "        while i < len(L): \n",
    "            arr[k] = L[i] \n",
    "            i+= 1\n",
    "            k+= 1\n",
    "          \n",
    "        while j < len(R): \n",
    "            arr[k] = R[j] \n",
    "            j+= 1\n",
    "            k+= 1"
   ]
  },
  {
   "cell_type": "code",
   "execution_count": 2,
   "metadata": {
    "tags": []
   },
   "outputs": [
    {
     "name": "stdout",
     "output_type": "stream",
     "text": [
      "[89, 38, 74, 3, 91, 71, 25, 22, 47, 98, 4, 53, 62, 97, 36, 84, 83, 35, 85, 26]\n"
     ]
    }
   ],
   "source": [
    "import random\n",
    "#Generate n random numbers between 1 and p\n",
    "p=100\n",
    "n=20\n",
    "randomlist = random.sample(range(1, p), n)\n",
    "print(randomlist) "
   ]
  },
  {
   "cell_type": "code",
   "execution_count": 3,
   "metadata": {
    "tags": []
   },
   "outputs": [
    {
     "data": {
      "image/png": "[encoded data removed]",
      "text/plain": [
       "<Figure size 432x288 with 1 Axes>"
      ]
     },
     "metadata": {},
     "output_type": "display_data"
    }
   ],
   "source": [
    "import matplotlib.pyplot as plt\n",
    "randomliststr = []\n",
    "for j in range(0,n):\n",
    "   value_str = str(randomlist[j])\n",
    "   randomliststr.append(value_str)\n",
    "\n",
    "plt.bar(randomliststr,randomlist)\n",
    "plt.xticks([])\n",
    "plt.yticks([])\n",
    "plt.show()"
   ]
  },
  {
   "cell_type": "code",
   "execution_count": 4,
   "metadata": {
    "tags": []
   },
   "outputs": [
    {
     "name": "stdout",
     "output_type": "stream",
     "text": [
      "[3, 4, 22, 25, 26, 35, 36, 38, 47, 53, 62, 71, 74, 83, 84, 85, 89, 91, 97, 98]\n"
     ]
    }
   ],
   "source": [
    "# Driver code to test above  \n",
    "mergeSort(randomlist)\n",
    "print(randomlist)"
   ]
  },
  {
   "cell_type": "code",
   "execution_count": 5,
   "metadata": {
    "tags": []
   },
   "outputs": [
    {
     "data": {
      "image/png": "[encoded data removed]",
      "text/plain": [
       "<Figure size 432x288 with 1 Axes>"
      ]
     },
     "metadata": {},
     "output_type": "display_data"
    }
   ],
   "source": [
    "import matplotlib.pyplot as plt\n",
    "randomliststr = []\n",
    "for j in range(0,n):\n",
    "   value_str = str(randomlist[j])\n",
    "   randomliststr.append(value_str)\n",
    "\n",
    "plt.bar(randomliststr,randomlist)\n",
    "plt.xticks([])\n",
    "plt.yticks([])\n",
    "plt.show()"
   ]
  },
  {
   "cell_type": "markdown",
   "metadata": {},
   "source": [
    "## Medindo tempo de execução"
   ]
  },
  {
   "cell_type": "code",
   "execution_count": 6,
   "metadata": {},
   "outputs": [],
   "source": [
    "import random\n",
    "#Generate random numbers between 1 and p\n",
    "p=10\n",
    "randomlist = random.sample(range(1, p),p-1)"
   ]
  },
  {
   "cell_type": "code",
   "execution_count": 7,
   "metadata": {
    "tags": []
   },
   "outputs": [
    {
     "name": "stdout",
     "output_type": "stream",
     "text": [
      "--- 0.0 seconds ---\n"
     ]
    }
   ],
   "source": [
    "# Driver code to test above  \n",
    "import time\n",
    "start_time = time.time()\n",
    "\n",
    "mergeSort(randomlist)\n",
    "\n",
    "print(\"--- %s seconds ---\" % (time.time() - start_time))"
   ]
  },
  {
   "cell_type": "code",
   "execution_count": 8,
   "metadata": {
    "tags": []
   },
   "outputs": [
    {
     "data": {
      "image/png": "[encoded data removed]",
      "text/plain": [
       "<Figure size 432x288 with 1 Axes>"
      ]
     },
     "metadata": {
      "needs_background": "light"
     },
     "output_type": "display_data"
    }
   ],
   "source": [
    "import matplotlib.pyplot as plt\n",
    "import random\n",
    "import time\n",
    "p = [10000, 20000, 30000, 40000, 50000, 60000, 70000, 80000, 90000, 100000]\n",
    "t = []\n",
    "for i in p:\n",
    "    randomlist = random.sample(range(1, i),i-1)\n",
    "    start_time = time.time()\n",
    "    mergeSort(randomlist)\n",
    "    end_time = time.time() - start_time\n",
    "    t.append(end_time)\n",
    "plt.plot(p,t,'ro')\n",
    "plt.show()"
   ]
  },
  {
   "cell_type": "code",
   "execution_count": 9,
   "metadata": {
    "tags": []
   },
   "outputs": [
    {
     "name": "stdout",
     "output_type": "stream",
     "text": [
      "[[0.07295847]\n",
      " [0.16099739]\n",
      " [0.20599985]\n",
      " [0.32400417]\n",
      " [0.41600871]\n",
      " [0.47399735]\n",
      " [0.57704258]\n",
      " [0.58699846]\n",
      " [0.61095858]\n",
      " [0.68304133]]\n"
     ]
    }
   ],
   "source": [
    "import numpy as np \n",
    "matrix = np.array(t) \n",
    "t_tr=matrix.reshape(matrix.size,1)\n",
    "print(t_tr) "
   ]
  },
  {
   "cell_type": "code",
   "execution_count": null,
   "metadata": {},
   "outputs": [],
   "source": []
  }
 ],
 "metadata": {
  "colab": {
   "include_colab_link": true,
   "name": "Merge-Sort.ipynb",
   "provenance": [],
   "toc_visible": true
  },
  "kernelspec": {
   "display_name": "Python 3",
   "language": "python",
   "name": "python3"
  },
  "language_info": {
   "codemirror_mode": {
    "name": "ipython",
    "version": 3
   },
   "file_extension": ".py",
   "mimetype": "text/x-python",
   "name": "python",
   "nbconvert_exporter": "python",
   "pygments_lexer": "ipython3",
   "version": "3.7.7"
  }
 },
 "nbformat": 4,
 "nbformat_minor": 1
}
