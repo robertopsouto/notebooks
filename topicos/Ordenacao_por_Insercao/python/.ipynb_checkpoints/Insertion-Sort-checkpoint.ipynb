{
 "cells": [
  {
   "cell_type": "markdown",
   "metadata": {
    "colab_type": "text",
    "id": "pvPJsE8cTaG5"
   },
   "source": [
    "# GA-026: Algoritmos"
   ]
  },
  {
   "cell_type": "markdown",
   "metadata": {
    "colab_type": "text",
    "id": "ZVxUN2riuj35"
   },
   "source": [
    "## Ordenação por Inserção (Insertion Sort)"
   ]
  },
  {
   "cell_type": "code",
   "execution_count": null,
   "metadata": {
    "colab": {},
    "colab_type": "code",
    "id": "RNZ3nlkBSPcC"
   },
   "outputs": [],
   "source": [
    "# Function to do insertion sort \n",
    "# Baseado no código original de https://www.geeksforgeeks.org/insertion-sort/\n",
    "def insertionSort(arr): \n",
    "  \n",
    "    # Traverse through 1 to len(arr) \n",
    "    for j in range(1, len(arr)): \n",
    "  \n",
    "        key = arr[j] \n",
    "  \n",
    "        # Move elements of arr[0..j-1], that are \n",
    "\n",
    "        # greater than key, to one position ahead \n",
    "        # of their current position \n",
    "        i = j-1\n",
    "        while i >= 0 and key < arr[i] : \n",
    "                arr[i + 1] = arr[i] \n",
    "                i -= 1\n",
    "        arr[i + 1] = key "
   ]
  },
  {
   "cell_type": "code",
   "execution_count": null,
   "metadata": {
    "tags": []
   },
   "outputs": [],
   "source": [
    "import random\n",
    "#Generate n random numbers between 1 and p\n",
    "p=100\n",
    "n=20\n",
    "randomlist = random.sample(range(1, p), n)\n",
    "print(randomlist) "
   ]
  },
  {
   "cell_type": "code",
   "execution_count": null,
   "metadata": {
    "scrolled": true,
    "tags": []
   },
   "outputs": [],
   "source": [
    "import matplotlib.pyplot as plt\n",
    "randomliststr = []\n",
    "for j in range(0,n):\n",
    "   value_str = str(randomlist[j])\n",
    "   randomliststr.append(value_str)\n",
    "\n",
    "plt.bar(randomliststr,randomlist)\n",
    "plt.xticks([])\n",
    "plt.yticks([])\n",
    "plt.show()"
   ]
  },
  {
   "cell_type": "code",
   "execution_count": null,
   "metadata": {
    "tags": []
   },
   "outputs": [],
   "source": [
    "# Driver code to test above  \n",
    "insertionSort(randomlist)\n",
    "print(randomlist)"
   ]
  },
  {
   "cell_type": "code",
   "execution_count": null,
   "metadata": {
    "tags": []
   },
   "outputs": [],
   "source": [
    "import matplotlib.pyplot as plt\n",
    "randomliststr = []\n",
    "for j in range(0,n):\n",
    "   value_str = str(randomlist[j])\n",
    "   randomliststr.append(value_str)\n",
    "\n",
    "plt.bar(randomliststr,randomlist)\n",
    "plt.xticks([])\n",
    "plt.yticks([])\n",
    "plt.show()"
   ]
  },
  {
   "cell_type": "markdown",
   "metadata": {},
   "source": [
    "## Medindo tempo de execução"
   ]
  },
  {
   "cell_type": "code",
   "execution_count": null,
   "metadata": {},
   "outputs": [],
   "source": [
    "import random\n",
    "#Generate random numbers between 1 and p\n",
    "p=10\n",
    "randomlist = random.sample(range(1, p),p-1)"
   ]
  },
  {
   "cell_type": "code",
   "execution_count": null,
   "metadata": {
    "tags": []
   },
   "outputs": [],
   "source": [
    "# Driver code to test above  \n",
    "import time\n",
    "start_time = time.time()\n",
    "\n",
    "insertionSort(randomlist)\n",
    "\n",
    "print(\"--- %s seconds ---\" % (time.time() - start_time))"
   ]
  },
  {
   "cell_type": "code",
   "execution_count": null,
   "metadata": {
    "tags": []
   },
   "outputs": [],
   "source": [
    "import matplotlib.pyplot as plt\n",
    "import random\n",
    "import time\n",
    "p = [1000, 2000, 3000, 4000, 5000, 6000, 7000, 8000, 9000, 10000]\n",
    "t = []\n",
    "for i in p:\n",
    "    randomlist = random.sample(range(1, i),i-1)\n",
    "    start_time = time.time()\n",
    "    insertionSort(randomlist)\n",
    "    end_time = time.time() - start_time\n",
    "    t.append(end_time)\n",
    "plt.plot(p,t,'ro')\n",
    "plt.show()"
   ]
  },
  {
   "cell_type": "code",
   "execution_count": null,
   "metadata": {
    "tags": []
   },
   "outputs": [],
   "source": [
    "import numpy as np \n",
    "matrix = np.array(t) \n",
    "t_tr=matrix.reshape(matrix.size,1)\n",
    "print(t_tr) "
   ]
  }
 ],
 "metadata": {
  "colab": {
   "include_colab_link": true,
   "name": "Insertion-Sort.ipynb",
   "provenance": [],
   "toc_visible": true
  },
  "kernelspec": {
   "display_name": "Python 3",
   "language": "python",
   "name": "python3"
  },
  "language_info": {
   "codemirror_mode": {
    "name": "ipython",
    "version": 3
   },
   "file_extension": ".py",
   "mimetype": "text/x-python",
   "name": "python",
   "nbconvert_exporter": "python",
   "pygments_lexer": "ipython3",
   "version": "3.7.7"
  }
 },
 "nbformat": 4,
 "nbformat_minor": 1
}
