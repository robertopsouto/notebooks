{
  "nbformat": 4,
  "nbformat_minor": 0,
  "metadata": {
    "anaconda-cloud": {},
    "kernelspec": {
      "display_name": "Python 3",
      "language": "python",
      "name": "python3"
    },
    "language_info": {
      "codemirror_mode": {
        "name": "ipython",
        "version": 3
      },
      "file_extension": ".py",
      "mimetype": "text/x-python",
      "name": "python",
      "nbconvert_exporter": "python",
      "pygments_lexer": "ipython3",
      "version": "3.7.7"
    },
    "colab": {
      "name": "heaps.ipynb",
      "provenance": [],
      "toc_visible": true,
      "include_colab_link": true
    }
  },
  "cells": [
    {
      "cell_type": "markdown",
      "metadata": {
        "id": "view-in-github",
        "colab_type": "text"
      },
      "source": [
        "<a href=\"https://colab.research.google.com/github/robertopsouto/notebooks/blob/ga-026_2021-4/topicos/Ordenacao_por_Heap/python/heaps.ipynb\" target=\"_parent\"><img src=\"https://colab.research.google.com/assets/colab-badge.svg\" alt=\"Open In Colab\"/></a>"
      ]
    },
    {
      "cell_type": "markdown",
      "metadata": {
        "id": "pvPJsE8cTaG5"
      },
      "source": [
        "# GA-026: Algoritmos"
      ]
    },
    {
      "cell_type": "code",
      "metadata": {
        "id": "1a7S37BOl_HI"
      },
      "source": [
        "# To avoid issues about heap vs array size, we will simply use a Python list, and resize it as needed\n",
        "\n",
        "A = []\n",
        "def heap_size(A): return len(A)\n",
        "\n",
        "def Left(i): return 2*i+1 \n",
        "def Right(i): return 2*i+2\n",
        "def parent(i): return (i-1)//2\n",
        "\n",
        "def maximum(A):\n",
        "    if heap_size(A) < 1: raise Exception('Heap is empty.')\n",
        "    else: return A[0]\n",
        "\n",
        "def Heap_Extract_Max(A):\n",
        "    if heap_size(A) < 1: raise Exception('Heap is empty.')\n",
        "    max = A[0]\n",
        "    if heap_size(A) == 1: A = []\n",
        "    else: \n",
        "        A[0] = A.pop()\n",
        "        Max_Heapify(A,0)\n",
        "    return max\n",
        "\n",
        "def Max_Heapify(A,i,heapsize=None):\n",
        "    if heapsize==None: heapsize= heap_size(A)\n",
        "    if Left(i) < heapsize and A[Left(i)] > A[i]: largest = Left(i)\n",
        "    else: largest = i\n",
        "    \n",
        "    if Right(i) < heapsize and A[Right(i)] > A[largest]: largest = Right(i)\n",
        "    if largest != i: \n",
        "        A[i], A[largest] = A[largest], A[i]\n",
        "        Max_Heapify(A, largest, heapsize)\n",
        "        \n",
        "import math\n",
        "\n",
        "def Insert (A, key):\n",
        "    A.append(-math.inf)\n",
        "    Increase_Key(A, heap_size(A)-1, key)\n",
        "\n",
        "def Increase_Key(A, i, key):\n",
        "    if key < A[i]: raise Exception('key < A[i]')\n",
        "    A[i] = key\n",
        "    while i > 0  and A[parent(i)] < A[i]:\n",
        "        A[parent(i)], A[i] = A[i], A[parent(i)]\n",
        "        i = parent(i)\n",
        "        \n",
        "def Build_Max_Heap(A):\n",
        "    for i in reversed(range(heap_size(A))): Max_Heapify(A,i)\n",
        "\n",
        "def HeapSort(A):\n",
        "    Build_Max_Heap(A)\n",
        "    heapsize = heap_size(A)\n",
        "    for i in reversed(range(1,heap_size(A))):\n",
        "        A[0], A[i] = A[i], A[0]\n",
        "        heapsize -= 1\n",
        "        Max_Heapify(A, 0, heapsize)"
      ],
      "execution_count": null,
      "outputs": []
    },
    {
      "cell_type": "code",
      "metadata": {
        "id": "w7gx1MYcl_HL"
      },
      "source": [
        "A = [0,2,1,3]\n",
        "HeapSort(A)\n",
        "print(A)"
      ],
      "execution_count": null,
      "outputs": []
    },
    {
      "cell_type": "code",
      "metadata": {
        "id": "9cS4ydTBl_HM",
        "outputId": "660750f0-b34d-4896-934f-2f888066b8a1"
      },
      "source": [
        "import random\n",
        "\n",
        "A = list(range(1,30))\n",
        "random.shuffle(A)\n",
        "A.insert(0,0)\n",
        "print(A)"
      ],
      "execution_count": null,
      "outputs": [
        {
          "name": "stdout",
          "output_type": "stream",
          "text": [
            "[0, 21, 20, 17, 1, 2, 10, 8, 18, 16, 19, 5, 3, 24, 12, 9, 27, 22, 15, 13, 23, 25, 11, 26, 28, 6, 7, 4, 14, 29]\n"
          ]
        }
      ]
    },
    {
      "cell_type": "code",
      "metadata": {
        "id": "ZS8AE-s5l_HN",
        "outputId": "9dcf084b-b355-4103-ed9a-af062b092313"
      },
      "source": [
        "import random\n",
        "\n",
        "A = list(range(1,30))\n",
        "random.shuffle(A)\n",
        "print(A)"
      ],
      "execution_count": null,
      "outputs": [
        {
          "name": "stdout",
          "output_type": "stream",
          "text": [
            "[12, 16, 6, 17, 13, 11, 2, 22, 15, 25, 1, 7, 4, 9, 24, 3, 8, 19, 29, 5, 18, 20, 10, 26, 14, 21, 27, 23, 28]\n"
          ]
        }
      ]
    },
    {
      "cell_type": "code",
      "metadata": {
        "id": "nw6HhnD7l_HN"
      },
      "source": [
        "Build_Max_Heap(A)"
      ],
      "execution_count": null,
      "outputs": []
    },
    {
      "cell_type": "code",
      "metadata": {
        "id": "GsLso-x9l_HO",
        "outputId": "512cc7d2-cf60-4320-c4dc-366ff662b6a4"
      },
      "source": [
        "print(A)"
      ],
      "execution_count": null,
      "outputs": [
        {
          "name": "stdout",
          "output_type": "stream",
          "text": [
            "[29, 27, 28, 22, 25, 26, 24, 17, 21, 23, 19, 5, 7, 20, 12, 9, 8, 18, 15, 13, 16, 1, 11, 2, 0, 6, 3, 4, 14, 10]\n"
          ]
        }
      ]
    },
    {
      "cell_type": "code",
      "metadata": {
        "id": "_lL6L0Sal_HO"
      },
      "source": [
        " from heapq import *"
      ],
      "execution_count": null,
      "outputs": []
    },
    {
      "cell_type": "code",
      "metadata": {
        "id": "ba9hUQbel_HP"
      },
      "source": [
        "heap = []\n",
        "for item in A:\n",
        "    heappush(heap, item)"
      ],
      "execution_count": null,
      "outputs": []
    },
    {
      "cell_type": "code",
      "metadata": {
        "id": "8V-xlsofl_HP"
      },
      "source": [
        "heapify(A)"
      ],
      "execution_count": null,
      "outputs": []
    },
    {
      "cell_type": "code",
      "metadata": {
        "id": "nNrw0hAJl_HQ",
        "outputId": "2e2048bd-4ded-4efe-d1c0-5b814defc19b"
      },
      "source": [
        "print(A)"
      ],
      "execution_count": null,
      "outputs": [
        {
          "name": "stdout",
          "output_type": "stream",
          "text": [
            "[1, 3, 2, 6, 4, 9, 5, 10, 17, 20, 7, 11, 16, 12, 29, 14, 15, 21, 28, 24, 27, 8, 25, 13, 22, 18, 19, 23, 26]\n"
          ]
        }
      ]
    },
    {
      "cell_type": "code",
      "metadata": {
        "id": "s5bVuXWjl_HQ",
        "outputId": "763c0246-9a10-4418-c730-2cb740107291"
      },
      "source": [
        "HeapSort(A)\n",
        "print(A)"
      ],
      "execution_count": null,
      "outputs": [
        {
          "name": "stdout",
          "output_type": "stream",
          "text": [
            "[1, 2, 3, 4, 5, 6, 7, 8, 9, 10, 11, 12, 13, 14, 15, 16, 17, 18, 19, 20, 21, 22, 23, 24, 25, 26, 27, 28, 29]\n"
          ]
        }
      ]
    },
    {
      "cell_type": "code",
      "metadata": {
        "id": "cWvvV1NZl_HQ"
      },
      "source": [
        "# For completeness below is a version with the index of the heap starting at index 1 (as e.g. in the Cormen et al. book)\n",
        "# To avoid issues about heap vs array size, we will simply use a Python list, and resize it as needed\n",
        "# The code is kept as close to the slides as possible. To avoid an index shift, we will place a dummy element (0) at the beginning of the list.\n",
        "A = [0]\n",
        "def heap_size(A): return len(A)-1\n",
        "\n",
        "def Left(i): return 2*i \n",
        "def Right(i): return 2*i+1\n",
        "def parent(i): return i//2\n",
        "\n",
        "def maximum(A):\n",
        "    if heap_size(A) < 1: raise Exception('Heap is empty.')\n",
        "    else: return A[1]\n",
        "\n",
        "def Heap_Extract_Max(A):\n",
        "    if heap_size(A) < 1: raise Exception('Heap is empty.')\n",
        "    max = A[1]\n",
        "    if heap_size(A) == 1: A = [0]\n",
        "    else: \n",
        "        A[1] = A.pop()\n",
        "        Max_Heapify(A,1)\n",
        "    return max\n",
        "\n",
        "def Max_Heapify(A,i,heapsize=None):\n",
        "    if heapsize==None: heapsize= heap_size(A)\n",
        "    if Left(i) <= heapsize and A[Left(i)] > A[i]: largest = Left(i)\n",
        "    else: largest = i\n",
        "    \n",
        "    if Right(i) <= heapsize and A[Right(i)] > A[largest]: largest = Right(i)\n",
        "    if largest != i: \n",
        "        A[i], A[largest] = A[largest], A[i]\n",
        "        Max_Heapify(A, largest, heapsize)\n",
        "        \n",
        "import math\n",
        "\n",
        "def Insert (A, key):\n",
        "    A.append(-math.inf)\n",
        "    Increase_Key(A, heap_size(A), key)\n",
        "\n",
        "def Increase_Key(A, i, key):\n",
        "    if key < A[i]: raise Exception('key < A[i]')\n",
        "    A[i] = key\n",
        "    while i>1  and A[parent(i)] < A[i]:\n",
        "        A[parent(i)], A[i] = A[i], A[parent(i)]\n",
        "        i = parent(i)\n",
        "        \n",
        "def Build_Max_Heap(A): # We will assume that A has a dummy element at the beginning\n",
        "    for i in reversed(range(1,heap_size(A)+1)): Max_Heapify(A,i)\n",
        "\n",
        "def HeapSort(A):\n",
        "    Build_Max_Heap(A)\n",
        "    heapsize = heap_size(A)\n",
        "    for i in reversed(range(2,heap_size(A)+1)):\n",
        "        A[1], A[i] = A[i], A[1]\n",
        "        heapsize -= 1\n",
        "        Max_Heapify(A,1, heapsize)"
      ],
      "execution_count": null,
      "outputs": []
    },
    {
      "cell_type": "code",
      "metadata": {
        "id": "DWGhCPuSl_HR"
      },
      "source": [
        "A = [0,2,1,3]\n",
        "HeapSort(A)\n",
        "print(A)"
      ],
      "execution_count": null,
      "outputs": []
    },
    {
      "cell_type": "code",
      "metadata": {
        "id": "y_MwYiYol_HR"
      },
      "source": [
        "import random\n",
        "\n",
        "A = list(range(1,30))\n",
        "random.shuffle(A)\n",
        "A.insert(0,0)\n",
        "print(A)"
      ],
      "execution_count": null,
      "outputs": []
    },
    {
      "cell_type": "code",
      "metadata": {
        "id": "hfppD9C3l_HR"
      },
      "source": [
        "HeapSort(A)\n",
        "print(A)"
      ],
      "execution_count": null,
      "outputs": []
    },
    {
      "cell_type": "code",
      "metadata": {
        "id": "M_Lk6HYdl_HS"
      },
      "source": [
        "print(A)"
      ],
      "execution_count": null,
      "outputs": []
    },
    {
      "cell_type": "code",
      "metadata": {
        "id": "6jDsFG8Ll_HS"
      },
      "source": [
        "Max_Heapify(A, 1, heap_size(A)-1)"
      ],
      "execution_count": null,
      "outputs": []
    },
    {
      "cell_type": "code",
      "metadata": {
        "id": "GIalWgSLl_HS"
      },
      "source": [
        "print(A)"
      ],
      "execution_count": null,
      "outputs": []
    },
    {
      "cell_type": "code",
      "metadata": {
        "id": "kG11yiWDl_HS"
      },
      "source": [
        ""
      ],
      "execution_count": null,
      "outputs": []
    },
    {
      "cell_type": "code",
      "metadata": {
        "id": "ttxzWaszl_HS"
      },
      "source": [
        ""
      ],
      "execution_count": null,
      "outputs": []
    }
  ]
}