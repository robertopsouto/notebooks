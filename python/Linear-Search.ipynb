{
 "cells": [
  {
   "cell_type": "markdown",
   "metadata": {},
   "source": [
    "# GA-026: Algoritmos"
   ]
  },
  {
   "cell_type": "markdown",
   "metadata": {},
   "source": [
    "## Busca Linear (Linear Search)"
   ]
  },
  {
   "cell_type": "code",
   "execution_count": 1,
   "metadata": {},
   "outputs": [],
   "source": [
    "# Python3 code to linearly search x in arr[].  \n",
    "# If x is present then return its location, \n",
    "# otherwise return -1 \n",
    "  \n",
    "def search(arr, n, x): \n",
    "  \n",
    "    for i in range (0, n): \n",
    "        if (arr[i] == x): \n",
    "            return i; \n",
    "    return -1; "
   ]
  },
  {
   "cell_type": "code",
   "execution_count": null,
   "metadata": {
    "tags": []
   },
   "outputs": [],
   "source": [
    "import random\n",
    "#Generate n random numbers between 1 and p\n",
    "p=40\n",
    "n=20\n",
    "arr = random.sample(range(1, p), n)\n",
    "print(arr)\n",
    "x = 10; \n",
    "result = search(arr, n, x) \n",
    "if(result == -1): \n",
    "    print(\"Element is not present in array\") \n",
    "else: \n",
    "    print(\"Element is present at index\", result); "
   ]
  },
  {
   "cell_type": "markdown",
   "metadata": {},
   "source": [
    "## Medindo tempo de execução (completar abaixo)\n",
    "A ordem de crescimento é $\\Theta(n)$"
   ]
  },
  {
   "cell_type": "code",
   "execution_count": null,
   "metadata": {},
   "outputs": [],
   "source": [
    "import matplotlib.pyplot as plt\n",
    "import random\n",
    "import time\n",
    "p = [1000, 2000, 3000, 4000, 5000, 6000, 7000, 8000, 9000, 10000]\n",
    "t = []\n",
    "for i in p:\n",
    "    # completar\n",
    "    start_time = time.time()\n",
    "    # completar\n",
    "    end_time = time.time() - start_time\n",
    "    t.append(end_time)\n",
    "plt.plot(p,t,'ro')\n",
    "plt.show()"
   ]
  }
 ],
 "metadata": {
  "language_info": {
   "codemirror_mode": {
    "name": "ipython",
    "version": 3
   },
   "file_extension": ".py",
   "mimetype": "text/x-python",
   "name": "python",
   "nbconvert_exporter": "python",
   "pygments_lexer": "ipython3",
   "version": "3.7.7-final"
  },
  "orig_nbformat": 2,
  "kernelspec": {
   "name": "python3",
   "display_name": "Python 3"
  }
 },
 "nbformat": 4,
 "nbformat_minor": 2
}