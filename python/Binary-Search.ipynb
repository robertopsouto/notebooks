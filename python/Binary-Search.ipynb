{
 "cells": [
  {
   "cell_type": "markdown",
   "metadata": {},
   "source": [
    "# GA-026: Algoritmos"
   ]
  },
  {
   "cell_type": "markdown",
   "metadata": {},
   "source": [
    "## Busca Binária (Binary Search)\n",
    "### Versão iterativa"
   ]
  },
  {
   "cell_type": "code",
   "execution_count": null,
   "metadata": {},
   "outputs": [],
   "source": [
    "# Python3 code to implement iterative Binary  \n",
    "# Search. \n",
    "  \n",
    "# It returns location of x in given array arr  \n",
    "# if present, else returns -1 \n",
    "def binarySearch(arr, l, r, x): \n",
    "  \n",
    "    while l <= r: \n",
    "  \n",
    "        mid = l + (r - l) // 2; \n",
    "          \n",
    "        # Check if x is present at mid \n",
    "        if arr[mid] == x: \n",
    "            return mid \n",
    "  \n",
    "        # If x is greater, ignore left half \n",
    "        elif arr[mid] < x: \n",
    "            l = mid + 1\n",
    "  \n",
    "        # If x is smaller, ignore right half \n",
    "        else: \n",
    "            r = mid - 1\n",
    "      \n",
    "    # If we reach here, then the element \n",
    "    # was not present \n",
    "    return -1 "
   ]
  },
  {
   "cell_type": "code",
   "execution_count": null,
   "metadata": {
    "tags": []
   },
   "outputs": [],
   "source": [
    "import random\n",
    "#Generate n random numbers between 1 and p\n",
    "p=20\n",
    "n=10\n",
    "arr = random.sample(range(1, p), n)\n",
    "arr.sort()\n",
    "print(arr)\n",
    "x = 10; \n",
    "result = binarySearch(arr, 0, n-1, x) \n",
    "if result != -1: \n",
    "    print (\"Element is present at index % d\" % result) \n",
    "else: \n",
    "    print (\"Element is not present in array\") "
   ]
  },
  {
   "cell_type": "markdown",
   "metadata": {},
   "source": [
    "## Medindo tempo de execução (completar o código abaixo)\n",
    "A ordem de crescimento é $\\Theta(\\lg n)$"
   ]
  },
  {
   "cell_type": "code",
   "execution_count": null,
   "metadata": {},
   "outputs": [],
   "source": [
    "import matplotlib.pyplot as plt\n",
    "import random\n",
    "import time\n",
    "p = [1000, 2000, 3000, 4000, 5000, 6000, 7000, 8000, 9000, 10000]\n",
    "t = []\n",
    "for i in p:\n",
    "    # completar\n",
    "    start_time = time.time()\n",
    "    # completar\n",
    "    end_time = time.time() - start_time\n",
    "    t.append(end_time)\n",
    "plt.plot(p,t,'ro')\n",
    "plt.show()"
   ]
  }
 ],
 "metadata": {
  "kernelspec": {
   "display_name": "Python 3.6.9 64-bit",
   "language": "python",
   "name": "python36964bite8f75ea5a19b4248a7d4919dacf1e4af"
  },
  "language_info": {
   "codemirror_mode": {
    "name": "ipython",
    "version": 3
   },
   "file_extension": ".py",
   "mimetype": "text/x-python",
   "name": "python",
   "nbconvert_exporter": "python",
   "pygments_lexer": "ipython3",
   "version": "3.6.9"
  }
 },
 "nbformat": 4,
 "nbformat_minor": 2
}
