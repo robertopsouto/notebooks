{
  "nbformat": 4,
  "nbformat_minor": 0,
  "metadata": {
    "colab": {
      "name": "Insertion-Sort.ipynb",
      "provenance": [],
      "toc_visible": true,
      "include_colab_link": true
    },
    "kernelspec": {
      "display_name": "Python 3",
      "language": "python",
      "name": "python3"
    },
    "language_info": {
      "codemirror_mode": {
        "name": "ipython",
        "version": 3
      },
      "file_extension": ".py",
      "mimetype": "text/x-python",
      "name": "python",
      "nbconvert_exporter": "python",
      "pygments_lexer": "ipython3",
      "version": "3.7.7-final"
    }
  },
  "cells": [
    {
      "cell_type": "markdown",
      "metadata": {
        "id": "view-in-github",
        "colab_type": "text"
      },
      "source": [
        "<a href=\"https://colab.research.google.com/github/robertopsouto/notebooks/blob/ga-026/python/Insertion-Sort.ipynb\" target=\"_parent\"><img src=\"https://colab.research.google.com/assets/colab-badge.svg\" alt=\"Open In Colab\"/></a>"
      ]
    },
    {
      "cell_type": "markdown",
      "metadata": {
        "id": "pvPJsE8cTaG5"
      },
      "source": [
        "# GA-026: Algoritmos"
      ]
    },
    {
      "cell_type": "markdown",
      "metadata": {
        "id": "ZVxUN2riuj35"
      },
      "source": [
        "## Ordenação por Inserção (Insertion Sort)"
      ]
    },
    {
      "cell_type": "code",
      "metadata": {
        "id": "RNZ3nlkBSPcC"
      },
      "source": [
        "# Function to do insertion sort \n",
        "# Baseado no código original de https://www.geeksforgeeks.org/insertion-sort/\n",
        "def insertionSort(arr): \n",
        "  \n",
        "    # Traverse through 1 to len(arr) \n",
        "    for j in range(1, len(arr)):\n",
        "  \n",
        "        key = arr[j] \n",
        "  \n",
        "        # Move elements of arr[0..j-1], that are \n",
        "\n",
        "        # greater than key, to one position ahead \n",
        "        # of their current position \n",
        "        i = j-1\n",
        "        while i >= 0 and key < arr[i] : \n",
        "                arr[i + 1] = arr[i] \n",
        "                i -= 1\n",
        "        arr[i + 1] = key "
      ],
      "execution_count": null,
      "outputs": []
    },
    {
      "cell_type": "code",
      "metadata": {
        "tags": [],
        "id": "JxAnw-zNNyZl"
      },
      "source": [
        "import random\n",
        "#Generate n random numbers between 1 and p\n",
        "p=100\n",
        "n=20\n",
        "randomlist = random.sample(range(1, p), n)\n",
        "print(randomlist) "
      ],
      "execution_count": null,
      "outputs": []
    },
    {
      "cell_type": "code",
      "metadata": {
        "scrolled": true,
        "tags": [],
        "id": "Izjgg2ACNyZm"
      },
      "source": [
        "import matplotlib.pyplot as plt\n",
        "randomliststr = []\n",
        "for j in range(0,n):\n",
        "   value_str = str(randomlist[j])\n",
        "   randomliststr.append(value_str)\n",
        "\n",
        "plt.bar(randomliststr,randomlist)\n",
        "plt.xticks([])\n",
        "plt.yticks([])\n",
        "plt.show()"
      ],
      "execution_count": null,
      "outputs": []
    },
    {
      "cell_type": "code",
      "metadata": {
        "tags": [],
        "id": "o_iYjmWrNyZm"
      },
      "source": [
        "# Driver code to test above  \n",
        "insertionSort(randomlist)\n",
        "print(randomlist)"
      ],
      "execution_count": null,
      "outputs": []
    },
    {
      "cell_type": "code",
      "metadata": {
        "tags": [],
        "id": "O6UX9E8pNyZm"
      },
      "source": [
        "import matplotlib.pyplot as plt\n",
        "randomliststr = []\n",
        "for j in range(0,n):\n",
        "   value_str = str(randomlist[j])\n",
        "   randomliststr.append(value_str)\n",
        "\n",
        "plt.bar(randomliststr,randomlist)\n",
        "plt.xticks([])\n",
        "plt.yticks([])\n",
        "plt.show()"
      ],
      "execution_count": null,
      "outputs": []
    },
    {
      "cell_type": "markdown",
      "metadata": {
        "id": "hrfOtgH2NyZm"
      },
      "source": [
        "## Medindo tempo de execução"
      ]
    },
    {
      "cell_type": "code",
      "metadata": {
        "id": "3i6Xmwh9NyZn"
      },
      "source": [
        "import random\n",
        "#Generate random numbers between 1 and p\n",
        "p=10\n",
        "randomlist = random.sample(range(1, p),p-1)"
      ],
      "execution_count": null,
      "outputs": []
    },
    {
      "cell_type": "code",
      "metadata": {
        "tags": [],
        "id": "0FRycddGNyZn"
      },
      "source": [
        "# Driver code to test above  \n",
        "import time\n",
        "start_time = time.time()\n",
        "\n",
        "insertionSort(randomlist)\n",
        "\n",
        "print(\"--- %s seconds ---\" % (time.time() - start_time))"
      ],
      "execution_count": null,
      "outputs": []
    },
    {
      "cell_type": "code",
      "metadata": {
        "tags": [],
        "id": "2E4ZC4QnNyZn"
      },
      "source": [
        "import matplotlib.pyplot as plt\n",
        "import random\n",
        "import time\n",
        "p = [1000, 2000, 3000, 4000, 5000, 6000, 7000, 8000, 9000, 10000]\n",
        "t = []\n",
        "for i in p:\n",
        "    randomlist = random.sample(range(1, i),i-1)\n",
        "    start_time = time.time()\n",
        "    insertionSort(randomlist)\n",
        "    end_time = time.time() - start_time\n",
        "    t.append(end_time)\n",
        "plt.plot(p,t,'ro')\n",
        "plt.show()"
      ],
      "execution_count": null,
      "outputs": []
    },
    {
      "cell_type": "code",
      "metadata": {
        "tags": [],
        "id": "GfDHVkylNyZn"
      },
      "source": [
        "import numpy as np \n",
        "matrix = np.array(t) \n",
        "t_tr=matrix.reshape(matrix.size,1)\n",
        "print(t_tr) "
      ],
      "execution_count": null,
      "outputs": []
    }
  ]
}